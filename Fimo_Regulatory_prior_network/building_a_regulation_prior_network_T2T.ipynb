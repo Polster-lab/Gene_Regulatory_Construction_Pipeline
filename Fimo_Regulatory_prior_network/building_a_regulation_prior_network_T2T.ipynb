{
 "cells": [
  {
   "cell_type": "code",
   "execution_count": 33,
   "id": "84039124",
   "metadata": {},
   "outputs": [],
   "source": [
    "from tqdm import tqdm\n",
    "import matplotlib.pyplot as plt \n",
    "import numpy as np  \n",
    "import os\n",
    "from Bio import SeqIO        \n",
    "import pandas as pd           \n",
    "import multiprocessing        \n",
    "from functools import partial \n",
    "import pandas as pd\n",
    "from tqdm import tqdm\n",
    "import numpy as np\n",
    "import seaborn as sns\n",
    "from IPython.display import Image\n",
    "import matplotlib.pyplot as plt\n",
    "import os\n",
    "import pickle as pkl\n",
    "\n",
    "# Libraries from differential Expression Analysis\n",
    "from pydeseq2.dds import DeseqDataSet\n",
    "from pydeseq2.ds import DeseqStats\n",
    "from pydeseq2.utils import load_example_data\n",
    "\n",
    "import plotly.express as px\n",
    "import plotly.offline as pyo"
   ]
  },
  {
   "cell_type": "markdown",
   "id": "ec4d8fbc",
   "metadata": {},
   "source": [
    "<pre>\n",
    "1. Getting TF_Genes.txt (motif data)\n",
    "2. Getting PPI data of each TF in TF_Genes\n",
    "3. Mapping TF ids to Ensemble ID\n",
    "</pre>"
   ]
  },
  {
   "cell_type": "markdown",
   "id": "6ca40f0d",
   "metadata": {},
   "source": [
    "# 1. Constructing Intial Network Construction"
   ]
  },
  {
   "cell_type": "code",
   "execution_count": 34,
   "id": "2c12e452",
   "metadata": {},
   "outputs": [],
   "source": [
    "iterlimit= -1"
   ]
  },
  {
   "cell_type": "code",
   "execution_count": 35,
   "id": "0afcddaf",
   "metadata": {},
   "outputs": [
    {
     "data": {
      "text/plain": [
       "'/Users/anwer/Desktop/Gene_Regulatory_Network_ROSMAP/code'"
      ]
     },
     "execution_count": 35,
     "metadata": {},
     "output_type": "execute_result"
    }
   ],
   "source": [
    "precomputed = 0\n",
    "pathos=os.getcwd()\n",
    "pathos"
   ]
  },
  {
   "cell_type": "code",
   "execution_count": 36,
   "id": "7eeaa219",
   "metadata": {},
   "outputs": [],
   "source": [
    "def reduceSequence(sequence):\n",
    "    seq=sequence[:1250]#since start is tss-1000, then we take the 2000bp upstream \n",
    "    return seq"
   ]
  },
  {
   "cell_type": "code",
   "execution_count": 37,
   "id": "5b23322f",
   "metadata": {},
   "outputs": [],
   "source": [
    "def return_final_seq(fasta_sequences,geneCorr, start_index):\n",
    "    finalSeq = ''\n",
    "    namelist = []\n",
    "    for fasta in tqdm(fasta_sequences):\n",
    "        name, sequence = fasta.id, str(fasta.seq)\n",
    "        try:\n",
    "            new_sequence = reduceSequence(sequence)\n",
    "        except:\n",
    "            new_sequence = sequence\n",
    "        name = name[start_index:]\n",
    "        \n",
    "        boolInd = np.in1d(geneCorr.iloc[:,3],name)\n",
    "        name = geneCorr.iloc[boolInd,20].values[0] # 0 for other genes and 1 for curated_predicted\n",
    "        interName = np.intersect1d(name, namelist)\n",
    "        if interName.size == 0 and isinstance(name, str):\n",
    "            namelist.append(name)\n",
    "\n",
    "        else:\n",
    "            continue\n",
    "        try:\n",
    "            name = '>' + name.split('.')[0]\n",
    "        except:\n",
    "            print(name)\n",
    "        finalSeq = finalSeq + name + '\\n' + new_sequence + '\\n'\n",
    "    \n",
    "    return finalSeq,namelist"
   ]
  },
  {
   "cell_type": "code",
   "execution_count": 38,
   "id": "025a1b80",
   "metadata": {},
   "outputs": [
    {
     "name": "stderr",
     "output_type": "stream",
     "text": [
      "/var/folders/ld/fhtyx4qs4mg6bw9chm___tsh0000gn/T/ipykernel_1500/2477752569.py:3: DtypeWarning:\n",
      "\n",
      "Columns (23,36) have mixed types. Specify dtype option on import or set low_memory=False.\n",
      "\n"
     ]
    }
   ],
   "source": [
    "input_file ='./t2t_assembly/cat_gene_sequence.fasta'\n",
    "output_file='./t2t_assembly/output/t2t_TSS1000_TSS1000_cat.fasta'\n",
    "geneCorr = pd.read_csv('./t2t_assembly/cat_gene_info.csv', sep = '\\t')\n",
    "\n",
    "fasta_sequences = SeqIO.parse(open(input_file),'fasta')"
   ]
  },
  {
   "cell_type": "code",
   "execution_count": 11,
   "id": "a8414728",
   "metadata": {},
   "outputs": [],
   "source": [
    "geneCorr.iloc[:,20]"
   ]
  },
  {
   "cell_type": "code",
   "execution_count": 14,
   "id": "9d36f7be",
   "metadata": {},
   "outputs": [
    {
     "name": "stderr",
     "output_type": "stream",
     "text": [
      "234903it [1:02:34, 62.56it/s]\n"
     ]
    }
   ],
   "source": [
    "\n",
    "\n",
    "finalSeq,namelist = return_final_seq(fasta_sequences,geneCorr,start_index = 44)\n",
    "\n",
    "if precomputed==0:\n",
    "    # save file\n",
    "    with open(output_file, 'w') as file:\n",
    "        file.write(finalSeq)"
   ]
  },
  {
   "cell_type": "code",
   "execution_count": 39,
   "id": "e598e424",
   "metadata": {},
   "outputs": [
    {
     "name": "stderr",
     "output_type": "stream",
     "text": [
      "60340it [00:00, 192437.60it/s]\n"
     ]
    }
   ],
   "source": [
    "output_file ='./t2t_assembly/output/t2t_TSS1000_TSS1000_cat.fasta'\n",
    "fasta_sequences = SeqIO.parse(open(output_file),'fasta')\n",
    "l = []\n",
    "for fasta in tqdm(fasta_sequences):\n",
    "    l.append(fasta.id)\n",
    "    x = 1\n",
    "   \n",
    "    "
   ]
  },
  {
   "cell_type": "markdown",
   "id": "af987687",
   "metadata": {},
   "source": [
    "# 2. Checking overlapping of Genes between sequences and count matrix"
   ]
  },
  {
   "cell_type": "code",
   "execution_count": 40,
   "id": "1777a2a3",
   "metadata": {},
   "outputs": [],
   "source": [
    "count_matrix = pd.read_csv('../ROSMAP_DATA/ROSMAP_all_counts_matrix.txt', sep = '\\t')"
   ]
  },
  {
   "cell_type": "code",
   "execution_count": null,
   "id": "a865587f",
   "metadata": {},
   "outputs": [],
   "source": [
    "count_matrix.drop(index = count_matrix.index[:4], inplace=True)\n",
    "\n",
    "count_matrix"
   ]
  },
  {
   "cell_type": "code",
   "execution_count": 42,
   "id": "6b9bac47",
   "metadata": {},
   "outputs": [],
   "source": [
    "m = []\n",
    "for i in l:\n",
    "    try:\n",
    "        m.append(i.split('.')[0])\n",
    "    except:\n",
    "        m.append(i)"
   ]
  },
  {
   "cell_type": "code",
   "execution_count": 43,
   "id": "d940e998",
   "metadata": {},
   "outputs": [
    {
     "data": {
      "text/plain": [
       "['ENSG00000239945',\n",
       " 'ENSG00000286448',\n",
       " 'ENSG00000235146',\n",
       " 'ENSG00000234986',\n",
       " 'ENSG00000268663']"
      ]
     },
     "execution_count": 43,
     "metadata": {},
     "output_type": "execute_result"
    }
   ],
   "source": [
    "m[0:5]"
   ]
  },
  {
   "cell_type": "code",
   "execution_count": 44,
   "id": "297d6408",
   "metadata": {},
   "outputs": [],
   "source": [
    "k = []\n",
    "for i in count_matrix.feature:\n",
    "    try:\n",
    "        k.append(i.split('.')[0])\n",
    "    except:\n",
    "        k.append(i)"
   ]
  },
  {
   "cell_type": "code",
   "execution_count": 45,
   "id": "2d0b5a74",
   "metadata": {},
   "outputs": [
    {
     "data": {
      "text/plain": [
       "56461"
      ]
     },
     "execution_count": 45,
     "metadata": {},
     "output_type": "execute_result"
    }
   ],
   "source": [
    "os.chdir(pathos)\n",
    "len(set(k).intersection(set(m)))"
   ]
  },
  {
   "cell_type": "markdown",
   "id": "665183c9",
   "metadata": {},
   "source": [
    "# 3. FIMO "
   ]
  },
  {
   "cell_type": "code",
   "execution_count": 15,
   "id": "729e05cc",
   "metadata": {},
   "outputs": [
    {
     "name": "stdout",
     "output_type": "stream",
     "text": [
      "/Users/anwer/Desktop/Gene_Regulatory_Network_ROSMAP/code\n"
     ]
    },
    {
     "name": "stderr",
     "output_type": "stream",
     "text": [
      "100%|█████████████████████████████████████████████████████████████████████████████████████████████████████████████████████████████████████████████████████████████████████████████████████████████████████████████████████| 5597/5597 [00:26<00:00, 215.03it/s]\n"
     ]
    }
   ],
   "source": [
    "os.chdir(pathos)\n",
    "print(pathos)\n",
    "os.chdir('./Regulatory_Prior_Network_Data/PWMs')\n",
    "for file in tqdm(os.listdir()):\n",
    "    df=pd.read_csv(file,sep='\\t')\n",
    "    df=df.iloc[:,1:]\n",
    "    os.chdir(pathos)\n",
    "    os.chdir('./t2t_assembly/output/convPWMs')\n",
    "    df.to_csv(file, header=False, index=False, sep='\\t')\n",
    "    os.chdir(pathos)\n",
    "\n",
    "    os.chdir('./t2t_assembly/PWMs')\n",
    "os.chdir(pathos)\n"
   ]
  },
  {
   "cell_type": "code",
   "execution_count": 18,
   "id": "6ba166a5",
   "metadata": {},
   "outputs": [
    {
     "name": "stderr",
     "output_type": "stream",
     "text": [
      "  0%|                                                                                                                                                                                                                         | 2/5601 [00:00<07:39, 12.19it/s]Error: Motif position 17 summed to zero.\n",
      "  0%|▏                                                                                                                                                                                                                        | 4/5601 [00:00<06:57, 13.41it/s]Died at /Users/anwer/meme/libexec/meme-5.5.2/matrix2meme line 117, <STDIN> line 26.\n",
      "  0%|▏                                                                                                                                                                                                                        | 6/5601 [00:00<06:57, 13.39it/s]"
     ]
    },
    {
     "name": "stdout",
     "output_type": "stream",
     "text": [
      "M10303_1.94d.txt\n"
     ]
    },
    {
     "name": "stderr",
     "output_type": "stream",
     "text": [
      " 15%|████████████████████████████████                                                                                                                                                                                       | 834/5601 [00:56<05:04, 15.64it/s]Error: Expected 2 elements on line 1 but got 9.\n",
      "Died at /Users/anwer/meme/libexec/meme-5.5.2/matrix2meme line 117, <STDIN> line 3.\n",
      " 15%|████████████████████████████████                                                                                                                                                                                       | 836/5601 [00:56<05:13, 15.18it/s]"
     ]
    },
    {
     "name": "stdout",
     "output_type": "stream",
     "text": [
      ".DS_Store\n"
     ]
    },
    {
     "name": "stderr",
     "output_type": "stream",
     "text": [
      " 18%|██████████████████████████████████████▏                                                                                                                                                                               | 1000/5601 [01:07<05:30, 13.94it/s]Error: Motif position 8 summed to zero.\n",
      "Died at /Users/anwer/meme/libexec/meme-5.5.2/matrix2meme line 117, <STDIN> line 19.\n",
      " 18%|██████████████████████████████████████▎                                                                                                                                                                               | 1002/5601 [01:08<05:24, 14.17it/s]"
     ]
    },
    {
     "name": "stdout",
     "output_type": "stream",
     "text": [
      "M10257_1.94d.txt\n"
     ]
    },
    {
     "name": "stderr",
     "output_type": "stream",
     "text": [
      " 19%|█████████████████████████████████████████▋                                                                                                                                                                            | 1090/5601 [01:14<05:21, 14.02it/s]Error: Motif position 7 summed to zero.\n",
      "Died at /Users/anwer/meme/libexec/meme-5.5.2/matrix2meme line 117, <STDIN> line 23.\n",
      " 19%|█████████████████████████████████████████▋                                                                                                                                                                            | 1092/5601 [01:14<05:20, 14.05it/s]"
     ]
    },
    {
     "name": "stdout",
     "output_type": "stream",
     "text": [
      "M07141_1.94d.txt\n"
     ]
    },
    {
     "name": "stderr",
     "output_type": "stream",
     "text": [
      " 21%|█████████████████████████████████████████████                                                                                                                                                                         | 1180/5601 [01:20<05:04, 14.54it/s]Error: Motif position 11 summed to zero.\n",
      "Died at /Users/anwer/meme/libexec/meme-5.5.2/matrix2meme line 117, <STDIN> line 22.\n",
      " 21%|█████████████████████████████████████████████▏                                                                                                                                                                        | 1182/5601 [01:20<05:11, 14.20it/s]"
     ]
    },
    {
     "name": "stdout",
     "output_type": "stream",
     "text": [
      "M06403_1.94d.txt\n"
     ]
    },
    {
     "name": "stderr",
     "output_type": "stream",
     "text": [
      " 39%|███████████████████████████████████████████████████████████████████████████████████▋                                                                                                                                  | 2191/5601 [02:33<04:13, 13.47it/s]Error: Motif position 15 summed to zero.\n",
      "Died at /Users/anwer/meme/libexec/meme-5.5.2/matrix2meme line 117, <STDIN> line 41.\n",
      " 39%|███████████████████████████████████████████████████████████████████████████████████▊                                                                                                                                  | 2195/5601 [02:34<04:13, 13.42it/s]"
     ]
    },
    {
     "name": "stdout",
     "output_type": "stream",
     "text": [
      "M10277_1.94d.txt\n"
     ]
    },
    {
     "name": "stderr",
     "output_type": "stream",
     "text": [
      " 59%|██████████████████████████████████████████████████████████████████████████████████████████████████████████████████████████████▊                                                                                       | 3318/5601 [03:55<02:54, 13.09it/s]Error: Motif position 7 summed to zero.\n",
      "Died at /Users/anwer/meme/libexec/meme-5.5.2/matrix2meme line 117, <STDIN> line 45.\n",
      " 59%|██████████████████████████████████████████████████████████████████████████████████████████████████████████████████████████████▉                                                                                       | 3322/5601 [03:55<03:07, 12.14it/s]"
     ]
    },
    {
     "name": "stdout",
     "output_type": "stream",
     "text": [
      "M10283_1.94d.txt\n"
     ]
    },
    {
     "name": "stderr",
     "output_type": "stream",
     "text": [
      " 76%|█████████████████████████████████████████████████████████████████████████████████████████████████████████████████████████████████████████████████████████████████▊                                                    | 4234/5601 [04:59<01:33, 14.61it/s]Error: Motif position 15 summed to zero.\n",
      "Died at /Users/anwer/meme/libexec/meme-5.5.2/matrix2meme line 117, <STDIN> line 50.\n",
      " 76%|█████████████████████████████████████████████████████████████████████████████████████████████████████████████████████████████████████████████████████████████████▊                                                    | 4236/5601 [04:59<01:35, 14.26it/s]"
     ]
    },
    {
     "name": "stdout",
     "output_type": "stream",
     "text": [
      "M07127_1.94d.txt\n"
     ]
    },
    {
     "name": "stderr",
     "output_type": "stream",
     "text": [
      " 79%|█████████████████████████████████████████████████████████████████████████████████████████████████████████████████████████████████████████████████████████████████████████▍                                            | 4436/5601 [05:13<01:19, 14.63it/s]Warning: Element 0 is not a number.\n",
      "Warning: Element 1 is not a number.\n",
      "Warning: Element 2 is not a number.\n",
      "Warning: Element 3 is not a number.\n",
      "Warning: Element 4 is not a number.\n",
      "Warning: Element 6 is not a number.\n",
      "Warning: Element 8 is not a number.\n",
      "Error: Expected either the row or column count to be the alphabet size 4 but got 9 by 1.\n",
      "Died at /Users/anwer/meme/libexec/meme-5.5.2/matrix2meme line 117, <STDIN> line 2.\n",
      " 79%|█████████████████████████████████████████████████████████████████████████████████████████████████████████████████████████████████████████████████████████████████████████▌                                            | 4438/5601 [05:13<01:23, 13.87it/s]"
     ]
    },
    {
     "name": "stdout",
     "output_type": "stream",
     "text": [
      "M07333_1.94d.txt.meme\n"
     ]
    },
    {
     "name": "stderr",
     "output_type": "stream",
     "text": [
      " 86%|███████████████████████████████████████████████████████████████████████████████████████████████████████████████████████████████████████████████████████████████████████████████████████▌                              | 4804/5601 [05:41<01:01, 13.03it/s]Error: Motif position 10 summed to zero.\n",
      "Died at /Users/anwer/meme/libexec/meme-5.5.2/matrix2meme line 117, <STDIN> line 32.\n",
      " 86%|███████████████████████████████████████████████████████████████████████████████████████████████████████████████████████████████████████████████████████████████████████████████████████▋                              | 4806/5601 [05:41<01:00, 13.14it/s]"
     ]
    },
    {
     "name": "stdout",
     "output_type": "stream",
     "text": [
      "M07090_1.94d.txt\n"
     ]
    },
    {
     "name": "stderr",
     "output_type": "stream",
     "text": [
      " 86%|█████████████████████████████████████████████████████████████████████████████████████████████████████████████████████████████████████████████████████████████████████████████████████████                             | 4842/5601 [05:44<00:55, 13.60it/s]Error: Motif position 12 summed to zero.\n",
      "Died at /Users/anwer/meme/libexec/meme-5.5.2/matrix2meme line 117, <STDIN> line 28.\n",
      " 86%|█████████████████████████████████████████████████████████████████████████████████████████████████████████████████████████████████████████████████████████████████████████████████████████                             | 4844/5601 [05:44<00:56, 13.36it/s]"
     ]
    },
    {
     "name": "stdout",
     "output_type": "stream",
     "text": [
      "M10282_1.94d.txt\n"
     ]
    },
    {
     "name": "stderr",
     "output_type": "stream",
     "text": [
      " 99%|████████████████████████████████████████████████████████████████████████████████████████████████████████████████████████████████████████████████████████████████████████████████████████████████████████████████████  | 5549/5601 [06:39<00:03, 14.39it/s]Error: Motif position 15 summed to zero.\n",
      "Died at /Users/anwer/meme/libexec/meme-5.5.2/matrix2meme line 117, <STDIN> line 25.\n",
      " 99%|████████████████████████████████████████████████████████████████████████████████████████████████████████████████████████████████████████████████████████████████████████████████████████████████████████████████████  | 5551/5601 [06:39<00:03, 14.45it/s]"
     ]
    },
    {
     "name": "stdout",
     "output_type": "stream",
     "text": [
      "M10278_1.94d.txt\n"
     ]
    },
    {
     "name": "stderr",
     "output_type": "stream",
     "text": [
      "100%|██████████████████████████████████████████████████████████████████████████████████████████████████████████████████████████████████████████████████████████████████████████████████████████████████████████████████████| 5601/5601 [06:43<00:00, 13.89it/s]\n"
     ]
    }
   ],
   "source": [
    "os.chdir(pathos)\n",
    "os.chdir('./t2t_assembly/output/convPWMs')\n",
    "finalTfList = []\n",
    "\n",
    "\n",
    "for file in tqdm(os.listdir()):\n",
    "    bashCommand = \"/Users/anwer/meme/libexec/meme-5.5.2/matrix2meme <\" + file + \"> \" + file + \".meme\"\n",
    "    res=os.system(bashCommand)\n",
    "    if res != 0:\n",
    "        print(file)\n",
    "    else:\n",
    "        finalTfList.append(file[:-4])"
   ]
  },
  {
   "cell_type": "code",
   "execution_count": 21,
   "id": "1bdd4b33",
   "metadata": {},
   "outputs": [
    {
     "data": {
      "text/plain": [
       "['M07333_1.94d',\n",
       " 'M09604_1.94d',\n",
       " 'M02720_1.94d',\n",
       " 'M05336_1.94d',\n",
       " 'M09432_1.94d']"
      ]
     },
     "execution_count": 21,
     "metadata": {},
     "output_type": "execute_result"
    }
   ],
   "source": [
    "finalTfList[0:5]"
   ]
  },
  {
   "cell_type": "code",
   "execution_count": 22,
   "id": "87e07989",
   "metadata": {},
   "outputs": [],
   "source": [
    "os.chdir(pathos)"
   ]
  },
  {
   "cell_type": "code",
   "execution_count": null,
   "id": "a3bcdb38",
   "metadata": {},
   "outputs": [],
   "source": [
    "import pandas as pd\n",
    "tf = pd.read_csv('./Regulatory_Prior_Network//Regulatory_Prior_Network_Data/Human_TF_MotifList_v_1.01.csv',dtype = str)\n",
    "tf"
   ]
  },
  {
   "cell_type": "code",
   "execution_count": 10,
   "id": "1cf2dd83",
   "metadata": {},
   "outputs": [],
   "source": [
    "tf[tf['Best Motif(s)? (Figure 2A)'] == 'TRUE' ]"
   ]
  },
  {
   "cell_type": "code",
   "execution_count": 94,
   "id": "1daf4923",
   "metadata": {},
   "outputs": [
    {
     "data": {
      "text/plain": [
       "True"
      ]
     },
     "execution_count": 94,
     "metadata": {},
     "output_type": "execute_result"
    }
   ],
   "source": [
    "#tf = pd.read_csv('./Regulatory_Prior_Network_Data/TF_Information_all_motifs_plus.txt',sep='\\t')\n",
    "#tf\n",
    "'AHR' in tf['HGNC symbol'].tolist()"
   ]
  },
  {
   "cell_type": "code",
   "execution_count": 72,
   "id": "7cc8fd7e",
   "metadata": {},
   "outputs": [
    {
     "data": {
      "text/plain": [
       "Index(['Ensembl ID', 'HGNC symbol', 'Motif evidence', 'Motif ID', 'Motif type',\n",
       "       'Motif source', 'CIS-BP ID', 'Best Motif(s)? (Figure 2A)'],\n",
       "      dtype='object')"
      ]
     },
     "execution_count": 72,
     "metadata": {},
     "output_type": "execute_result"
    }
   ],
   "source": [
    "tf.columns"
   ]
  },
  {
   "cell_type": "code",
   "execution_count": 81,
   "id": "7d7f4345",
   "metadata": {},
   "outputs": [],
   "source": [
    "precomputed = 0\n",
    "if precomputed==0:\n",
    "    # read TF motif table to select the \"best\" motif per TF\n",
    "    indTF  =np.in1d(tf.iloc[:,6],finalTfList)\n",
    "    tff    =tf\n",
    "    tf     =tf.iloc[indTF,:]\n",
    "    initTF =tf.iloc[0,1]\n",
    "    tflist, tfflist =[],[]\n",
    "    tflist.append(tf.iloc[0,6])\n",
    "    tfflist.append(initTF)\n",
    "    tfFound=0\n",
    "    for i in range(tf.shape[0]):\n",
    "        newTF = tf.iloc[i, 1]\n",
    "        if tfFound==1 and initTF==newTF:\n",
    "            continue\n",
    "        else:\n",
    "            if initTF!=newTF:\n",
    "                if initTF != newTF and tfFound==0:\n",
    "                    tflist.append(tf.iloc[i, 6])\n",
    "                    tfflist.append(tf.iloc[i, 1])\n",
    "                tfFound=0\n",
    "                initTF =newTF\n",
    "            if tf.iloc[i,7]==True:\n",
    "                tflist.append(tf.iloc[i,6])\n",
    "                tfflist.append(tf.iloc[i, 1])\n",
    "                tfFound=1"
   ]
  },
  {
   "cell_type": "code",
   "execution_count": 82,
   "id": "d013cf37",
   "metadata": {},
   "outputs": [
    {
     "name": "stdout",
     "output_type": "stream",
     "text": [
      "['M08490_1.94d', 'M09315_1.94d', 'M06439_1.94d', 'M06439_1.94d', 'M06440_1.94d', 'M08464_1.94d', 'M05559_1.94d', 'M05562_1.94d', 'M01298_1.94d', 'M06442_1.94d']\n",
      "['ENSG00000267281', 'ENSG00000264668', 'ENSG00000106546', 'ENSG00000063438', 'ENSG00000160224', 'ENSG00000180318', 'ENSG00000156150', 'ENSG00000052850', 'ENSG00000227059', 'ENSG00000169083']\n"
     ]
    }
   ],
   "source": [
    "print(tflist[0:10])\n",
    "print(tfflist[0:10])"
   ]
  },
  {
   "cell_type": "code",
   "execution_count": 83,
   "id": "d9c8946c",
   "metadata": {},
   "outputs": [
    {
     "data": {
      "text/plain": [
       "False"
      ]
     },
     "execution_count": 83,
     "metadata": {},
     "output_type": "execute_result"
    }
   ],
   "source": [
    "'T' in tfflist"
   ]
  },
  {
   "cell_type": "code",
   "execution_count": 84,
   "id": "8b7a5ee4",
   "metadata": {},
   "outputs": [
    {
     "data": {
      "text/plain": [
       "1149"
      ]
     },
     "execution_count": 84,
     "metadata": {},
     "output_type": "execute_result"
    }
   ],
   "source": [
    "len(tfflist)"
   ]
  },
  {
   "cell_type": "code",
   "execution_count": 29,
   "id": "fc3df4d4",
   "metadata": {},
   "outputs": [
    {
     "name": "stdout",
     "output_type": "stream",
     "text": [
      "/Users/anwer/Desktop/Gene_Regulatory_Network_ROSMAP/code\r\n"
     ]
    }
   ],
   "source": [
    "!pwd"
   ]
  },
  {
   "cell_type": "code",
   "execution_count": null,
   "id": "6c0e31bc",
   "metadata": {},
   "outputs": [
    {
     "name": "stderr",
     "output_type": "stream",
     "text": [
      "1149it [00:05, 209.77it/s]"
     ]
    }
   ],
   "source": [
    "os.chdir(pathos)\n",
    "import re\n",
    "if precomputed==0:\n",
    "    # put pwms in the same file\n",
    "    os.chdir('./t2t_assembly/output/convPWMs')\n",
    "    finalMeme = 'MEME version 5.5.2\\n\\nALPHABET= ACGT\\n\\nstrands: + -\\n\\nBackground letter frequencies (from uniform background):\\nA 0.25000 C 0.25000 G 0.25000 T 0.25000 \\n\\n'\n",
    "    k=0\n",
    "    finalTFName=[]\n",
    "    for i,j in tqdm(enumerate(range(len(tflist)))):\n",
    "        try:\n",
    "            file = open(tflist[i] + '.txt.meme', 'r')\n",
    "            k    = k+1\n",
    "            finalTFName.append(tfflist[i])\n",
    "            data = file.read()\n",
    "            start = re.search(\"letter-probability\", data).start()\n",
    "            finalMeme = finalMeme +'MOTIF ' + tfflist[i] + data[start-1:]\n",
    "            \n",
    "            file.close()\n",
    "            \n",
    "        except:\n",
    "            print(\"TF not found\")\n",
    "    print(finalMeme)\n",
    "    # save file\n",
    "    os.chdir(pathos)\n",
    "    os.chdir('./t2t_assembly/output/convPWMs')\n",
    "    with open('allTFs.meme', 'w') as file:\n",
    "        file.write(finalMeme)\n",
    "\n",
    "    # save TFs\n",
    "    with open(\"tfNames.txt\", \"w\") as f:\n",
    "        for s in finalTFName:\n",
    "            f.write(str(s) +\"\\n\")\n"
   ]
  },
  {
   "cell_type": "code",
   "execution_count": 310,
   "id": "28fbb990",
   "metadata": {},
   "outputs": [
    {
     "data": {
      "text/plain": [
       "'AC023509.3'"
      ]
     },
     "execution_count": 310,
     "metadata": {},
     "output_type": "execute_result"
    }
   ],
   "source": [
    "# Run through python py file  (python main.py)\n",
    "'''\n",
    "\n",
    "os.chdir(pathos)\n",
    "os.chdir('./Regulatory_Prior_Network_Data/output/convPWMs')\n",
    "tfNames=[]\n",
    "\n",
    "with open(\"tfNames.txt\", \"r\") as f:\n",
    "  for line in f:\n",
    "    tfNames.append(str(line.strip()\n",
    "                       \n",
    "os.chdir(pathos)\n",
    "geneNames  = []\n",
    "fasta_sequences = SeqIO.parse(open('/Users/anwer/Desktop/github_repo/Gene_Regulatory_Network_ROSMAP/Regulatory_prior_network/data/t2t_TSS1000_TSS1000_cat.fasta'),'fasta')\n",
    "for fasta in tqdm(fasta_sequences):\n",
    "        name, sequence = fasta.id, str(fasta.seq)\n",
    "        geneNames.append(name)\n",
    "\n",
    "nTFs       = len(tfNames)\n",
    "print(len(geneNames))\n",
    "os.chdir(pathos)\n",
    "'''"
   ]
  },
  {
   "cell_type": "code",
   "execution_count": 266,
   "id": "d0f901a3",
   "metadata": {},
   "outputs": [],
   "source": [
    "regmatpval=pd.read_csv('/Users/anwer/Desktop/Gene_Regulatory_Network_ROSMAP/code/Regulatory_prior_Network/Regulatory_prior_Network_Data/fimo_output/regMatpval0.000005.csv',header=0,index_col=0)\n",
    "tresh=1e-5"
   ]
  },
  {
   "cell_type": "code",
   "execution_count": 267,
   "id": "353ddead",
   "metadata": {},
   "outputs": [],
   "source": [
    "regmatpval[(regmatpval>0) & (regmatpval <= tresh)]=1\n",
    "regmatpval[(regmatpval > tresh) & (regmatpval < 1)] =0\n"
   ]
  },
  {
   "cell_type": "code",
   "execution_count": 9,
   "id": "84eb7730",
   "metadata": {},
   "outputs": [],
   "source": [
    "regmatpval"
   ]
  },
  {
   "cell_type": "code",
   "execution_count": 269,
   "id": "ccc1dcb1",
   "metadata": {},
   "outputs": [
    {
     "data": {
      "text/plain": [
       "(1, 60000000)"
      ]
     },
     "execution_count": 269,
     "metadata": {},
     "output_type": "execute_result"
    },
    {
     "data": {
      "image/png": "[encoded data removed]",
      "text/plain": [
       "<Figure size 640x480 with 1 Axes>"
      ]
     },
     "metadata": {},
     "output_type": "display_data"
    }
   ],
   "source": [
    "plt.hist(regmatpval.values.flatten())\n",
    "plt.yscale('log', nonpositive='clip')\n",
    "plt.ylabel('Frequency')\n",
    "plt.xlabel('Edge weight')\n",
    "plt.ylim([1,6*10**7])"
   ]
  },
  {
   "cell_type": "code",
   "execution_count": 270,
   "id": "bf394a00",
   "metadata": {},
   "outputs": [
    {
     "data": {
      "text/plain": [
       "False"
      ]
     },
     "execution_count": 270,
     "metadata": {},
     "output_type": "execute_result"
    }
   ],
   "source": [
    "density=((regmatpval == 1).sum(axis=1).sum())/(regmatpval.shape[0]*regmatpval.shape[1])\n",
    "regmatpval.isnull().values.any()"
   ]
  },
  {
   "cell_type": "code",
   "execution_count": 271,
   "id": "2b906040",
   "metadata": {},
   "outputs": [
    {
     "data": {
      "text/plain": [
       "0.03146638154028824"
      ]
     },
     "execution_count": 271,
     "metadata": {},
     "output_type": "execute_result"
    }
   ],
   "source": [
    "density"
   ]
  },
  {
   "cell_type": "code",
   "execution_count": null,
   "id": "ecbe3765",
   "metadata": {},
   "outputs": [],
   "source": [
    "regmatpval"
   ]
  },
  {
   "cell_type": "code",
   "execution_count": 273,
   "id": "4a70f180",
   "metadata": {},
   "outputs": [
    {
     "data": {
      "text/plain": [
       "Index(['AC023509.3', 'AC138696.1', 'AHR', 'AHRR', 'AIRE', 'ALX1', 'ALX3',\n",
       "       'ALX4', 'ANHX', 'AR',\n",
       "       ...\n",
       "       'ZSCAN22', 'ZSCAN23', 'ZSCAN26', 'ZSCAN29', 'ZSCAN30', 'ZSCAN31',\n",
       "       'ZSCAN4', 'ZSCAN5A', 'ZSCAN5C', 'ZSCAN9'],\n",
       "      dtype='object', length=1149)"
      ]
     },
     "execution_count": 273,
     "metadata": {},
     "output_type": "execute_result"
    }
   ],
   "source": [
    "regmatpval.index"
   ]
  },
  {
   "cell_type": "code",
   "execution_count": null,
   "id": "bdf7889e",
   "metadata": {},
   "outputs": [],
   "source": [
    "regmatpval.columns"
   ]
  },
  {
   "cell_type": "code",
   "execution_count": 275,
   "id": "9778e4cb",
   "metadata": {},
   "outputs": [
    {
     "name": "stderr",
     "output_type": "stream",
     "text": [
      "100%|████████████████████████████████████████████████████████████████████████████████████████████████████████████████████████████████████████████████████████████████████████| 1149/1149 [06:09<00:00,  3.11it/s]\n"
     ]
    }
   ],
   "source": [
    "x = []\n",
    "for i in tqdm(regmatpval.index):\n",
    "    for j in regmatpval.columns:\n",
    "        if regmatpval.loc[i,j] != 0:\n",
    "            x.append([i,j])       "
   ]
  },
  {
   "cell_type": "code",
   "execution_count": 279,
   "id": "2092a3b9",
   "metadata": {},
   "outputs": [
    {
     "data": {
      "text/plain": [
       "[['AC023509.3', 'ENSG00000228327'],\n",
       " ['AC023509.3', 'ENSG00000237491'],\n",
       " ['AC023509.3', 'ENSG00000188290'],\n",
       " ['AC023509.3', 'ENSG00000187608'],\n",
       " ['AC023509.3', 'ENSG00000234396'],\n",
       " ['AC023509.3', 'ENSG00000171612'],\n",
       " ['AC023509.3', 'ENSG00000285752'],\n",
       " ['AC023509.3', 'ENSG00000282872'],\n",
       " ['AC023509.3', 'ENSG00000142684'],\n",
       " ['AC023509.3', 'ENSG00000181773']]"
      ]
     },
     "execution_count": 279,
     "metadata": {},
     "output_type": "execute_result"
    }
   ],
   "source": [
    "x[0:10]"
   ]
  },
  {
   "cell_type": "code",
   "execution_count": 280,
   "id": "8879d65f",
   "metadata": {},
   "outputs": [
    {
     "data": {
      "text/plain": [
       "(1149, 60340)"
      ]
     },
     "execution_count": 280,
     "metadata": {},
     "output_type": "execute_result"
    }
   ],
   "source": [
    "regmatpval.shape"
   ]
  },
  {
   "cell_type": "code",
   "execution_count": 281,
   "id": "d05220d9",
   "metadata": {},
   "outputs": [
    {
     "data": {
      "text/plain": [
       "0.03146638154028824"
      ]
     },
     "execution_count": 281,
     "metadata": {},
     "output_type": "execute_result"
    }
   ],
   "source": [
    "len(x)/(1149*60340)"
   ]
  },
  {
   "cell_type": "code",
   "execution_count": 282,
   "id": "09e0c507",
   "metadata": {},
   "outputs": [
    {
     "name": "stderr",
     "output_type": "stream",
     "text": [
      "100%|█████████████████████████████████████████████████████████████████████████████████████████████████████████████████████████████████████████████████████████████| 2181585/2181585 [00:00<00:00, 2876254.30it/s]\n"
     ]
    }
   ],
   "source": [
    "lst_1 = []\n",
    "lst_2 = []\n",
    "lst_3 = []\n",
    "for i in tqdm(x):\n",
    "    lst_1.append(i[0])\n",
    "    lst_2.append(i[1])\n",
    "    lst_3.append(1)\n",
    "    "
   ]
  },
  {
   "cell_type": "code",
   "execution_count": 283,
   "id": "64f2245e",
   "metadata": {},
   "outputs": [],
   "source": [
    "df = pd.DataFrame(list(zip(lst_1, lst_2,lst_3)),\n",
    "               columns =['TF', 'Genes','Edge'])"
   ]
  },
  {
   "cell_type": "code",
   "execution_count": 284,
   "id": "a792b1bf",
   "metadata": {},
   "outputs": [
    {
     "data": {
      "text/html": [
       "<div>\n",
       "<style scoped>\n",
       "    .dataframe tbody tr th:only-of-type {\n",
       "        vertical-align: middle;\n",
       "    }\n",
       "\n",
       "    .dataframe tbody tr th {\n",
       "        vertical-align: top;\n",
       "    }\n",
       "\n",
       "    .dataframe thead th {\n",
       "        text-align: right;\n",
       "    }\n",
       "</style>\n",
       "<table border=\"1\" class=\"dataframe\">\n",
       "  <thead>\n",
       "    <tr style=\"text-align: right;\">\n",
       "      <th></th>\n",
       "      <th>TF</th>\n",
       "      <th>Genes</th>\n",
       "      <th>Edge</th>\n",
       "    </tr>\n",
       "  </thead>\n",
       "  <tbody>\n",
       "    <tr>\n",
       "      <th>0</th>\n",
       "      <td>AC023509.3</td>\n",
       "      <td>ENSG00000228327</td>\n",
       "      <td>1</td>\n",
       "    </tr>\n",
       "    <tr>\n",
       "      <th>1</th>\n",
       "      <td>AC023509.3</td>\n",
       "      <td>ENSG00000237491</td>\n",
       "      <td>1</td>\n",
       "    </tr>\n",
       "    <tr>\n",
       "      <th>2</th>\n",
       "      <td>AC023509.3</td>\n",
       "      <td>ENSG00000188290</td>\n",
       "      <td>1</td>\n",
       "    </tr>\n",
       "    <tr>\n",
       "      <th>3</th>\n",
       "      <td>AC023509.3</td>\n",
       "      <td>ENSG00000187608</td>\n",
       "      <td>1</td>\n",
       "    </tr>\n",
       "    <tr>\n",
       "      <th>4</th>\n",
       "      <td>AC023509.3</td>\n",
       "      <td>ENSG00000234396</td>\n",
       "      <td>1</td>\n",
       "    </tr>\n",
       "  </tbody>\n",
       "</table>\n",
       "</div>"
      ],
      "text/plain": [
       "           TF            Genes  Edge\n",
       "0  AC023509.3  ENSG00000228327     1\n",
       "1  AC023509.3  ENSG00000237491     1\n",
       "2  AC023509.3  ENSG00000188290     1\n",
       "3  AC023509.3  ENSG00000187608     1\n",
       "4  AC023509.3  ENSG00000234396     1"
      ]
     },
     "execution_count": 284,
     "metadata": {},
     "output_type": "execute_result"
    }
   ],
   "source": [
    "df.head()"
   ]
  },
  {
   "cell_type": "code",
   "execution_count": 285,
   "id": "31a5296f",
   "metadata": {},
   "outputs": [
    {
     "data": {
      "text/plain": [
       "993"
      ]
     },
     "execution_count": 285,
     "metadata": {},
     "output_type": "execute_result"
    }
   ],
   "source": [
    "len(set(df.TF))"
   ]
  },
  {
   "cell_type": "code",
   "execution_count": null,
   "id": "3dff3ecc",
   "metadata": {},
   "outputs": [],
   "source": [
    "df[df.TF == 'T']"
   ]
  },
  {
   "cell_type": "code",
   "execution_count": 287,
   "id": "ebefb772",
   "metadata": {},
   "outputs": [],
   "source": [
    "df = df[['TF','Genes','Edge']]"
   ]
  },
  {
   "cell_type": "code",
   "execution_count": 288,
   "id": "ae716f6e",
   "metadata": {},
   "outputs": [
    {
     "name": "stdout",
     "output_type": "stream",
     "text": [
      "/Users/anwer/Desktop/Gene_Regulatory_Network_ROSMAP/code\r\n"
     ]
    }
   ],
   "source": [
    "\n",
    "os.chdir('/Users/anwer/Desktop/Gene_Regulatory_Network_ROSMAP/code/')\n",
    "!pwd"
   ]
  },
  {
   "cell_type": "code",
   "execution_count": 290,
   "id": "220b838f",
   "metadata": {},
   "outputs": [],
   "source": [
    "df = df.replace({'AC023509.3': 'ATF7-NPFF','AC138696.1':'ZFP41-2','HKR1':'ZNF875','VDR':'CYP27B1','T':'TBXT'})\n",
    "df.to_csv('./t2t_assembly/T2T_assembly_GRN_input_Data/TF_Genes.txt', sep = '\\t', index = False)"
   ]
  },
  {
   "cell_type": "code",
   "execution_count": 291,
   "id": "afa3b3d0",
   "metadata": {},
   "outputs": [
    {
     "data": {
      "text/html": [
       "<div>\n",
       "<style scoped>\n",
       "    .dataframe tbody tr th:only-of-type {\n",
       "        vertical-align: middle;\n",
       "    }\n",
       "\n",
       "    .dataframe tbody tr th {\n",
       "        vertical-align: top;\n",
       "    }\n",
       "\n",
       "    .dataframe thead th {\n",
       "        text-align: right;\n",
       "    }\n",
       "</style>\n",
       "<table border=\"1\" class=\"dataframe\">\n",
       "  <thead>\n",
       "    <tr style=\"text-align: right;\">\n",
       "      <th></th>\n",
       "      <th>TF</th>\n",
       "      <th>Genes</th>\n",
       "      <th>Edge</th>\n",
       "    </tr>\n",
       "  </thead>\n",
       "  <tbody>\n",
       "    <tr>\n",
       "      <th>0</th>\n",
       "      <td>ATF7-NPFF</td>\n",
       "      <td>ENSG00000228327</td>\n",
       "      <td>1</td>\n",
       "    </tr>\n",
       "    <tr>\n",
       "      <th>1</th>\n",
       "      <td>ATF7-NPFF</td>\n",
       "      <td>ENSG00000237491</td>\n",
       "      <td>1</td>\n",
       "    </tr>\n",
       "    <tr>\n",
       "      <th>2</th>\n",
       "      <td>ATF7-NPFF</td>\n",
       "      <td>ENSG00000188290</td>\n",
       "      <td>1</td>\n",
       "    </tr>\n",
       "    <tr>\n",
       "      <th>3</th>\n",
       "      <td>ATF7-NPFF</td>\n",
       "      <td>ENSG00000187608</td>\n",
       "      <td>1</td>\n",
       "    </tr>\n",
       "    <tr>\n",
       "      <th>4</th>\n",
       "      <td>ATF7-NPFF</td>\n",
       "      <td>ENSG00000234396</td>\n",
       "      <td>1</td>\n",
       "    </tr>\n",
       "  </tbody>\n",
       "</table>\n",
       "</div>"
      ],
      "text/plain": [
       "          TF            Genes  Edge\n",
       "0  ATF7-NPFF  ENSG00000228327     1\n",
       "1  ATF7-NPFF  ENSG00000237491     1\n",
       "2  ATF7-NPFF  ENSG00000188290     1\n",
       "3  ATF7-NPFF  ENSG00000187608     1\n",
       "4  ATF7-NPFF  ENSG00000234396     1"
      ]
     },
     "execution_count": 291,
     "metadata": {},
     "output_type": "execute_result"
    }
   ],
   "source": [
    "df = pd.read_csv('./t2t_assembly/T2T_assembly_GRN_input_Data/TF_Genes.txt', sep = '\\t')\n",
    "df.head()"
   ]
  },
  {
   "cell_type": "markdown",
   "id": "8dedfe4a",
   "metadata": {},
   "source": [
    "## 4.1 Mapping FIMO output TFs' symbol to ensemble ID "
   ]
  },
  {
   "cell_type": "code",
   "execution_count": 292,
   "id": "08d6f09d",
   "metadata": {},
   "outputs": [
    {
     "data": {
      "text/plain": [
       "993"
      ]
     },
     "execution_count": 292,
     "metadata": {},
     "output_type": "execute_result"
    }
   ],
   "source": [
    "l = list(set(df.TF.values))\n",
    "len(l)"
   ]
  },
  {
   "cell_type": "code",
   "execution_count": 293,
   "id": "4dd05b3f",
   "metadata": {},
   "outputs": [],
   "source": [
    "from gprofiler import GProfiler\n",
    "\n",
    "gp = GProfiler(return_dataframe=True)\n",
    "df_ensemble = gp.orth(organism='hsapiens',\n",
    "            query=l,\n",
    "            target='mmusculus')"
   ]
  },
  {
   "cell_type": "code",
   "execution_count": 294,
   "id": "2fa177f9",
   "metadata": {},
   "outputs": [
    {
     "data": {
      "text/html": [
       "<div>\n",
       "<style scoped>\n",
       "    .dataframe tbody tr th:only-of-type {\n",
       "        vertical-align: middle;\n",
       "    }\n",
       "\n",
       "    .dataframe tbody tr th {\n",
       "        vertical-align: top;\n",
       "    }\n",
       "\n",
       "    .dataframe thead th {\n",
       "        text-align: right;\n",
       "    }\n",
       "</style>\n",
       "<table border=\"1\" class=\"dataframe\">\n",
       "  <thead>\n",
       "    <tr style=\"text-align: right;\">\n",
       "      <th></th>\n",
       "      <th>incoming</th>\n",
       "      <th>converted</th>\n",
       "      <th>ortholog_ensg</th>\n",
       "      <th>n_incoming</th>\n",
       "      <th>n_converted</th>\n",
       "      <th>n_result</th>\n",
       "      <th>name</th>\n",
       "      <th>description</th>\n",
       "      <th>namespaces</th>\n",
       "    </tr>\n",
       "  </thead>\n",
       "  <tbody>\n",
       "    <tr>\n",
       "      <th>0</th>\n",
       "      <td>EBF4</td>\n",
       "      <td>ENSG00000088881</td>\n",
       "      <td>ENSMUSG00000053552</td>\n",
       "      <td>1</td>\n",
       "      <td>1</td>\n",
       "      <td>1</td>\n",
       "      <td>Ebf4</td>\n",
       "      <td>early B cell factor 4 [Source:MGI Symbol;Acc:M...</td>\n",
       "      <td>ENTREZGENE,GENECARDS,HGNC,UNIPROT_GN,WIKIGENE</td>\n",
       "    </tr>\n",
       "    <tr>\n",
       "      <th>1</th>\n",
       "      <td>YBX3</td>\n",
       "      <td>ENSG00000060138</td>\n",
       "      <td>ENSMUSG00000030189</td>\n",
       "      <td>2</td>\n",
       "      <td>1</td>\n",
       "      <td>1</td>\n",
       "      <td>Ybx3</td>\n",
       "      <td>Y box protein 3 [Source:MGI Symbol;Acc:MGI:213...</td>\n",
       "      <td>ENTREZGENE,GENECARDS,HGNC,UNIPROT_GN,WIKIGENE</td>\n",
       "    </tr>\n",
       "    <tr>\n",
       "      <th>2</th>\n",
       "      <td>KLF16</td>\n",
       "      <td>ENSG00000129911</td>\n",
       "      <td>ENSMUSG00000035397</td>\n",
       "      <td>3</td>\n",
       "      <td>1</td>\n",
       "      <td>1</td>\n",
       "      <td>Klf16</td>\n",
       "      <td>Kruppel-like factor 16 [Source:MGI Symbol;Acc:...</td>\n",
       "      <td>ENTREZGENE,GENECARDS,HGNC,UNIPROT_GN,WIKIGENE</td>\n",
       "    </tr>\n",
       "    <tr>\n",
       "      <th>3</th>\n",
       "      <td>TCF4</td>\n",
       "      <td>ENSG00000196628</td>\n",
       "      <td>ENSMUSG00000053477</td>\n",
       "      <td>4</td>\n",
       "      <td>1</td>\n",
       "      <td>1</td>\n",
       "      <td>Tcf4</td>\n",
       "      <td>transcription factor 4 [Source:MGI Symbol;Acc:...</td>\n",
       "      <td>ENTREZGENE,GENECARDS,HGNC,UNIPROT_GN,WIKIGENE</td>\n",
       "    </tr>\n",
       "    <tr>\n",
       "      <th>4</th>\n",
       "      <td>ZBTB6</td>\n",
       "      <td>ENSG00000186130</td>\n",
       "      <td>ENSMUSG00000066798</td>\n",
       "      <td>5</td>\n",
       "      <td>1</td>\n",
       "      <td>1</td>\n",
       "      <td>Zbtb6</td>\n",
       "      <td>zinc finger and BTB domain containing 6 [Sourc...</td>\n",
       "      <td>ENTREZGENE,GENECARDS,HGNC,UNIPROT_GN,WIKIGENE</td>\n",
       "    </tr>\n",
       "    <tr>\n",
       "      <th>...</th>\n",
       "      <td>...</td>\n",
       "      <td>...</td>\n",
       "      <td>...</td>\n",
       "      <td>...</td>\n",
       "      <td>...</td>\n",
       "      <td>...</td>\n",
       "      <td>...</td>\n",
       "      <td>...</td>\n",
       "      <td>...</td>\n",
       "    </tr>\n",
       "    <tr>\n",
       "      <th>1075</th>\n",
       "      <td>ZNF182</td>\n",
       "      <td>ENSG00000147118</td>\n",
       "      <td>ENSMUSG00000054737</td>\n",
       "      <td>989</td>\n",
       "      <td>1</td>\n",
       "      <td>1</td>\n",
       "      <td>Zfp182</td>\n",
       "      <td>zinc finger protein 182 [Source:MGI Symbol;Acc...</td>\n",
       "      <td>ENTREZGENE,GENECARDS,HGNC,UNIPROT_GN,WIKIGENE</td>\n",
       "    </tr>\n",
       "    <tr>\n",
       "      <th>1076</th>\n",
       "      <td>ZNF81</td>\n",
       "      <td>ENSG00000197779</td>\n",
       "      <td>N/A</td>\n",
       "      <td>990</td>\n",
       "      <td>1</td>\n",
       "      <td>1</td>\n",
       "      <td>N/A</td>\n",
       "      <td>N/A</td>\n",
       "      <td>ENTREZGENE,GENECARDS,HGNC,UNIPROT_GN,WIKIGENE</td>\n",
       "    </tr>\n",
       "    <tr>\n",
       "      <th>1077</th>\n",
       "      <td>ZNF322</td>\n",
       "      <td>ENSG00000181315</td>\n",
       "      <td>ENSMUSG00000046351</td>\n",
       "      <td>991</td>\n",
       "      <td>1</td>\n",
       "      <td>1</td>\n",
       "      <td>Zfp322a</td>\n",
       "      <td>zinc finger protein 322A [Source:MGI Symbol;Ac...</td>\n",
       "      <td>ENTREZGENE,GENECARDS,HGNC,UNIPROT_GN,WIKIGENE</td>\n",
       "    </tr>\n",
       "    <tr>\n",
       "      <th>1078</th>\n",
       "      <td>STAT2</td>\n",
       "      <td>ENSG00000170581</td>\n",
       "      <td>ENSMUSG00000040033</td>\n",
       "      <td>992</td>\n",
       "      <td>1</td>\n",
       "      <td>1</td>\n",
       "      <td>Stat2</td>\n",
       "      <td>signal transducer and activator of transcripti...</td>\n",
       "      <td>ENTREZGENE,GENECARDS,HGNC,UNIPROT_GN,WIKIGENE</td>\n",
       "    </tr>\n",
       "    <tr>\n",
       "      <th>1079</th>\n",
       "      <td>ZNF135</td>\n",
       "      <td>ENSG00000176293</td>\n",
       "      <td>N/A</td>\n",
       "      <td>993</td>\n",
       "      <td>1</td>\n",
       "      <td>1</td>\n",
       "      <td>N/A</td>\n",
       "      <td>N/A</td>\n",
       "      <td>ENTREZGENE,GENECARDS,HGNC,UNIPROT_GN,WIKIGENE</td>\n",
       "    </tr>\n",
       "  </tbody>\n",
       "</table>\n",
       "<p>1080 rows × 9 columns</p>\n",
       "</div>"
      ],
      "text/plain": [
       "     incoming        converted       ortholog_ensg  n_incoming  n_converted  \\\n",
       "0        EBF4  ENSG00000088881  ENSMUSG00000053552           1            1   \n",
       "1        YBX3  ENSG00000060138  ENSMUSG00000030189           2            1   \n",
       "2       KLF16  ENSG00000129911  ENSMUSG00000035397           3            1   \n",
       "3        TCF4  ENSG00000196628  ENSMUSG00000053477           4            1   \n",
       "4       ZBTB6  ENSG00000186130  ENSMUSG00000066798           5            1   \n",
       "...       ...              ...                 ...         ...          ...   \n",
       "1075   ZNF182  ENSG00000147118  ENSMUSG00000054737         989            1   \n",
       "1076    ZNF81  ENSG00000197779                 N/A         990            1   \n",
       "1077   ZNF322  ENSG00000181315  ENSMUSG00000046351         991            1   \n",
       "1078    STAT2  ENSG00000170581  ENSMUSG00000040033         992            1   \n",
       "1079   ZNF135  ENSG00000176293                 N/A         993            1   \n",
       "\n",
       "      n_result     name                                        description  \\\n",
       "0            1     Ebf4  early B cell factor 4 [Source:MGI Symbol;Acc:M...   \n",
       "1            1     Ybx3  Y box protein 3 [Source:MGI Symbol;Acc:MGI:213...   \n",
       "2            1    Klf16  Kruppel-like factor 16 [Source:MGI Symbol;Acc:...   \n",
       "3            1     Tcf4  transcription factor 4 [Source:MGI Symbol;Acc:...   \n",
       "4            1    Zbtb6  zinc finger and BTB domain containing 6 [Sourc...   \n",
       "...        ...      ...                                                ...   \n",
       "1075         1   Zfp182  zinc finger protein 182 [Source:MGI Symbol;Acc...   \n",
       "1076         1      N/A                                                N/A   \n",
       "1077         1  Zfp322a  zinc finger protein 322A [Source:MGI Symbol;Ac...   \n",
       "1078         1    Stat2  signal transducer and activator of transcripti...   \n",
       "1079         1      N/A                                                N/A   \n",
       "\n",
       "                                         namespaces  \n",
       "0     ENTREZGENE,GENECARDS,HGNC,UNIPROT_GN,WIKIGENE  \n",
       "1     ENTREZGENE,GENECARDS,HGNC,UNIPROT_GN,WIKIGENE  \n",
       "2     ENTREZGENE,GENECARDS,HGNC,UNIPROT_GN,WIKIGENE  \n",
       "3     ENTREZGENE,GENECARDS,HGNC,UNIPROT_GN,WIKIGENE  \n",
       "4     ENTREZGENE,GENECARDS,HGNC,UNIPROT_GN,WIKIGENE  \n",
       "...                                             ...  \n",
       "1075  ENTREZGENE,GENECARDS,HGNC,UNIPROT_GN,WIKIGENE  \n",
       "1076  ENTREZGENE,GENECARDS,HGNC,UNIPROT_GN,WIKIGENE  \n",
       "1077  ENTREZGENE,GENECARDS,HGNC,UNIPROT_GN,WIKIGENE  \n",
       "1078  ENTREZGENE,GENECARDS,HGNC,UNIPROT_GN,WIKIGENE  \n",
       "1079  ENTREZGENE,GENECARDS,HGNC,UNIPROT_GN,WIKIGENE  \n",
       "\n",
       "[1080 rows x 9 columns]"
      ]
     },
     "execution_count": 294,
     "metadata": {},
     "output_type": "execute_result"
    }
   ],
   "source": [
    "df_ensemble"
   ]
  },
  {
   "cell_type": "code",
   "execution_count": null,
   "id": "b675254a",
   "metadata": {},
   "outputs": [],
   "source": [
    "df_ensemble = df_ensemble[['incoming','converted']]\n",
    "df_ensemble = df_ensemble.drop_duplicates()\n",
    "df_ensemble.reset_index(drop = True, inplace = True)\n",
    "df_ensemble\n"
   ]
  },
  {
   "cell_type": "code",
   "execution_count": 296,
   "id": "b2c32ed1",
   "metadata": {},
   "outputs": [
    {
     "data": {
      "text/html": [
       "<div>\n",
       "<style scoped>\n",
       "    .dataframe tbody tr th:only-of-type {\n",
       "        vertical-align: middle;\n",
       "    }\n",
       "\n",
       "    .dataframe tbody tr th {\n",
       "        vertical-align: top;\n",
       "    }\n",
       "\n",
       "    .dataframe thead th {\n",
       "        text-align: right;\n",
       "    }\n",
       "</style>\n",
       "<table border=\"1\" class=\"dataframe\">\n",
       "  <thead>\n",
       "    <tr style=\"text-align: right;\">\n",
       "      <th></th>\n",
       "      <th>incoming</th>\n",
       "      <th>converted</th>\n",
       "    </tr>\n",
       "  </thead>\n",
       "  <tbody>\n",
       "    <tr>\n",
       "      <th>53</th>\n",
       "      <td>DUX1</td>\n",
       "      <td>N/A</td>\n",
       "    </tr>\n",
       "    <tr>\n",
       "      <th>115</th>\n",
       "      <td>DUX3</td>\n",
       "      <td>N/A</td>\n",
       "    </tr>\n",
       "    <tr>\n",
       "      <th>681</th>\n",
       "      <td>ZFP41-2</td>\n",
       "      <td>N/A</td>\n",
       "    </tr>\n",
       "  </tbody>\n",
       "</table>\n",
       "</div>"
      ],
      "text/plain": [
       "    incoming converted\n",
       "53      DUX1       N/A\n",
       "115     DUX3       N/A\n",
       "681  ZFP41-2       N/A"
      ]
     },
     "execution_count": 296,
     "metadata": {},
     "output_type": "execute_result"
    }
   ],
   "source": [
    "df_ensemble[df_ensemble.converted == 'N/A']"
   ]
  },
  {
   "cell_type": "code",
   "execution_count": 297,
   "id": "5aa9ec94",
   "metadata": {},
   "outputs": [
    {
     "data": {
      "text/plain": [
       "incoming     ZFP41-2\n",
       "converted        N/A\n",
       "Name: 681, dtype: object"
      ]
     },
     "execution_count": 297,
     "metadata": {},
     "output_type": "execute_result"
    }
   ],
   "source": [
    "df_ensemble.loc[681,]"
   ]
  },
  {
   "cell_type": "code",
   "execution_count": 298,
   "id": "fd6efd66",
   "metadata": {},
   "outputs": [
    {
     "data": {
      "text/html": [
       "<div>\n",
       "<style scoped>\n",
       "    .dataframe tbody tr th:only-of-type {\n",
       "        vertical-align: middle;\n",
       "    }\n",
       "\n",
       "    .dataframe tbody tr th {\n",
       "        vertical-align: top;\n",
       "    }\n",
       "\n",
       "    .dataframe thead th {\n",
       "        text-align: right;\n",
       "    }\n",
       "</style>\n",
       "<table border=\"1\" class=\"dataframe\">\n",
       "  <thead>\n",
       "    <tr style=\"text-align: right;\">\n",
       "      <th></th>\n",
       "      <th>incoming</th>\n",
       "      <th>converted</th>\n",
       "    </tr>\n",
       "  </thead>\n",
       "  <tbody>\n",
       "    <tr>\n",
       "      <th>53</th>\n",
       "      <td>DUX1</td>\n",
       "      <td>N/A</td>\n",
       "    </tr>\n",
       "    <tr>\n",
       "      <th>115</th>\n",
       "      <td>DUX3</td>\n",
       "      <td>N/A</td>\n",
       "    </tr>\n",
       "  </tbody>\n",
       "</table>\n",
       "</div>"
      ],
      "text/plain": [
       "    incoming converted\n",
       "53      DUX1       N/A\n",
       "115     DUX3       N/A"
      ]
     },
     "execution_count": 298,
     "metadata": {},
     "output_type": "execute_result"
    }
   ],
   "source": [
    "df_ensemble.loc[681,'converted'] = 'ENSG00000181638'\n",
    "df_ensemble[df_ensemble.converted == 'N/A']"
   ]
  },
  {
   "cell_type": "code",
   "execution_count": 299,
   "id": "294026bc",
   "metadata": {},
   "outputs": [
    {
     "data": {
      "text/html": [
       "<div>\n",
       "<style scoped>\n",
       "    .dataframe tbody tr th:only-of-type {\n",
       "        vertical-align: middle;\n",
       "    }\n",
       "\n",
       "    .dataframe tbody tr th {\n",
       "        vertical-align: top;\n",
       "    }\n",
       "\n",
       "    .dataframe thead th {\n",
       "        text-align: right;\n",
       "    }\n",
       "</style>\n",
       "<table border=\"1\" class=\"dataframe\">\n",
       "  <thead>\n",
       "    <tr style=\"text-align: right;\">\n",
       "      <th></th>\n",
       "      <th>incoming</th>\n",
       "      <th>converted</th>\n",
       "    </tr>\n",
       "  </thead>\n",
       "  <tbody>\n",
       "    <tr>\n",
       "      <th>0</th>\n",
       "      <td>EBF4</td>\n",
       "      <td>ENSG00000088881</td>\n",
       "    </tr>\n",
       "    <tr>\n",
       "      <th>1</th>\n",
       "      <td>YBX3</td>\n",
       "      <td>ENSG00000060138</td>\n",
       "    </tr>\n",
       "    <tr>\n",
       "      <th>2</th>\n",
       "      <td>KLF16</td>\n",
       "      <td>ENSG00000129911</td>\n",
       "    </tr>\n",
       "    <tr>\n",
       "      <th>3</th>\n",
       "      <td>TCF4</td>\n",
       "      <td>ENSG00000196628</td>\n",
       "    </tr>\n",
       "    <tr>\n",
       "      <th>4</th>\n",
       "      <td>ZBTB6</td>\n",
       "      <td>ENSG00000186130</td>\n",
       "    </tr>\n",
       "    <tr>\n",
       "      <th>...</th>\n",
       "      <td>...</td>\n",
       "      <td>...</td>\n",
       "    </tr>\n",
       "    <tr>\n",
       "      <th>992</th>\n",
       "      <td>ZNF182</td>\n",
       "      <td>ENSG00000147118</td>\n",
       "    </tr>\n",
       "    <tr>\n",
       "      <th>993</th>\n",
       "      <td>ZNF81</td>\n",
       "      <td>ENSG00000197779</td>\n",
       "    </tr>\n",
       "    <tr>\n",
       "      <th>994</th>\n",
       "      <td>ZNF322</td>\n",
       "      <td>ENSG00000181315</td>\n",
       "    </tr>\n",
       "    <tr>\n",
       "      <th>995</th>\n",
       "      <td>STAT2</td>\n",
       "      <td>ENSG00000170581</td>\n",
       "    </tr>\n",
       "    <tr>\n",
       "      <th>996</th>\n",
       "      <td>ZNF135</td>\n",
       "      <td>ENSG00000176293</td>\n",
       "    </tr>\n",
       "  </tbody>\n",
       "</table>\n",
       "<p>997 rows × 2 columns</p>\n",
       "</div>"
      ],
      "text/plain": [
       "    incoming        converted\n",
       "0       EBF4  ENSG00000088881\n",
       "1       YBX3  ENSG00000060138\n",
       "2      KLF16  ENSG00000129911\n",
       "3       TCF4  ENSG00000196628\n",
       "4      ZBTB6  ENSG00000186130\n",
       "..       ...              ...\n",
       "992   ZNF182  ENSG00000147118\n",
       "993    ZNF81  ENSG00000197779\n",
       "994   ZNF322  ENSG00000181315\n",
       "995    STAT2  ENSG00000170581\n",
       "996   ZNF135  ENSG00000176293\n",
       "\n",
       "[997 rows x 2 columns]"
      ]
     },
     "execution_count": 299,
     "metadata": {},
     "output_type": "execute_result"
    }
   ],
   "source": [
    "df_ensemble = df_ensemble[df_ensemble.converted != 'N/A']\n",
    "df_ensemble.reset_index(drop = True, inplace = True)\n",
    "df_ensemble\n"
   ]
  },
  {
   "cell_type": "code",
   "execution_count": 300,
   "id": "3d54bcf5",
   "metadata": {},
   "outputs": [
    {
     "data": {
      "text/plain": [
       "incoming\n",
       "ZNF547     3\n",
       "FOXP1      2\n",
       "HSFY1      2\n",
       "ZNF263     2\n",
       "DDIT3      2\n",
       "BATF3      1\n",
       "ZNF705G    1\n",
       "SKOR2      1\n",
       "KLF13      1\n",
       "POU1F1     1\n",
       "AHRR       1\n",
       "EBF4       1\n",
       "ZNF787     1\n",
       "ZBTB7B     1\n",
       "FOXD1      1\n",
       "NR3C1      1\n",
       "SP5        1\n",
       "RORB       1\n",
       "NKX2-6     1\n",
       "ZNF680     1\n",
       "Name: count, dtype: int64"
      ]
     },
     "execution_count": 300,
     "metadata": {},
     "output_type": "execute_result"
    }
   ],
   "source": [
    "df_ensemble.incoming.value_counts()[0:20]"
   ]
  },
  {
   "cell_type": "code",
   "execution_count": 301,
   "id": "517182f0",
   "metadata": {},
   "outputs": [
    {
     "data": {
      "text/html": [
       "<div>\n",
       "<style scoped>\n",
       "    .dataframe tbody tr th:only-of-type {\n",
       "        vertical-align: middle;\n",
       "    }\n",
       "\n",
       "    .dataframe tbody tr th {\n",
       "        vertical-align: top;\n",
       "    }\n",
       "\n",
       "    .dataframe thead th {\n",
       "        text-align: right;\n",
       "    }\n",
       "</style>\n",
       "<table border=\"1\" class=\"dataframe\">\n",
       "  <thead>\n",
       "    <tr style=\"text-align: right;\">\n",
       "      <th></th>\n",
       "      <th>incoming</th>\n",
       "      <th>converted</th>\n",
       "    </tr>\n",
       "  </thead>\n",
       "  <tbody>\n",
       "    <tr>\n",
       "      <th>627</th>\n",
       "      <td>ZNF547</td>\n",
       "      <td>ENSG00000152433</td>\n",
       "    </tr>\n",
       "    <tr>\n",
       "      <th>628</th>\n",
       "      <td>ZNF547</td>\n",
       "      <td>ENSG00000196459</td>\n",
       "    </tr>\n",
       "    <tr>\n",
       "      <th>629</th>\n",
       "      <td>ZNF547</td>\n",
       "      <td>ENSG00000256060</td>\n",
       "    </tr>\n",
       "  </tbody>\n",
       "</table>\n",
       "</div>"
      ],
      "text/plain": [
       "    incoming        converted\n",
       "627   ZNF547  ENSG00000152433\n",
       "628   ZNF547  ENSG00000196459\n",
       "629   ZNF547  ENSG00000256060"
      ]
     },
     "execution_count": 301,
     "metadata": {},
     "output_type": "execute_result"
    }
   ],
   "source": [
    "df_ensemble[df_ensemble.incoming == 'ZNF547']"
   ]
  },
  {
   "cell_type": "code",
   "execution_count": 302,
   "id": "8a1c4e9d",
   "metadata": {},
   "outputs": [
    {
     "name": "stderr",
     "output_type": "stream",
     "text": [
      "/var/folders/ld/fhtyx4qs4mg6bw9chm___tsh0000gn/T/ipykernel_1500/2118634447.py:1: SettingWithCopyWarning:\n",
      "\n",
      "\n",
      "A value is trying to be set on a copy of a slice from a DataFrame\n",
      "\n",
      "See the caveats in the documentation: https://pandas.pydata.org/pandas-docs/stable/user_guide/indexing.html#returning-a-view-versus-a-copy\n",
      "\n"
     ]
    },
    {
     "data": {
      "text/html": [
       "<div>\n",
       "<style scoped>\n",
       "    .dataframe tbody tr th:only-of-type {\n",
       "        vertical-align: middle;\n",
       "    }\n",
       "\n",
       "    .dataframe tbody tr th {\n",
       "        vertical-align: top;\n",
       "    }\n",
       "\n",
       "    .dataframe thead th {\n",
       "        text-align: right;\n",
       "    }\n",
       "</style>\n",
       "<table border=\"1\" class=\"dataframe\">\n",
       "  <thead>\n",
       "    <tr style=\"text-align: right;\">\n",
       "      <th></th>\n",
       "      <th>incoming</th>\n",
       "      <th>converted</th>\n",
       "    </tr>\n",
       "  </thead>\n",
       "  <tbody>\n",
       "    <tr>\n",
       "      <th>627</th>\n",
       "      <td>ZNF547</td>\n",
       "      <td>ENSG00000152433</td>\n",
       "    </tr>\n",
       "  </tbody>\n",
       "</table>\n",
       "</div>"
      ],
      "text/plain": [
       "    incoming        converted\n",
       "627   ZNF547  ENSG00000152433"
      ]
     },
     "execution_count": 302,
     "metadata": {},
     "output_type": "execute_result"
    }
   ],
   "source": [
    "df_ensemble.drop(labels = [628,629], inplace=True,axis = 0)\n",
    "df_ensemble = df_ensemble.reset_index(drop=True)\n",
    "df_ensemble[df_ensemble.incoming == 'ZNF547']"
   ]
  },
  {
   "cell_type": "code",
   "execution_count": 303,
   "id": "0678e29d",
   "metadata": {},
   "outputs": [
    {
     "data": {
      "text/html": [
       "<div>\n",
       "<style scoped>\n",
       "    .dataframe tbody tr th:only-of-type {\n",
       "        vertical-align: middle;\n",
       "    }\n",
       "\n",
       "    .dataframe tbody tr th {\n",
       "        vertical-align: top;\n",
       "    }\n",
       "\n",
       "    .dataframe thead th {\n",
       "        text-align: right;\n",
       "    }\n",
       "</style>\n",
       "<table border=\"1\" class=\"dataframe\">\n",
       "  <thead>\n",
       "    <tr style=\"text-align: right;\">\n",
       "      <th></th>\n",
       "      <th>incoming</th>\n",
       "      <th>converted</th>\n",
       "    </tr>\n",
       "  </thead>\n",
       "  <tbody>\n",
       "    <tr>\n",
       "      <th>927</th>\n",
       "      <td>HSFY1</td>\n",
       "      <td>ENSG00000169953</td>\n",
       "    </tr>\n",
       "    <tr>\n",
       "      <th>928</th>\n",
       "      <td>HSFY1</td>\n",
       "      <td>ENSG00000172468</td>\n",
       "    </tr>\n",
       "  </tbody>\n",
       "</table>\n",
       "</div>"
      ],
      "text/plain": [
       "    incoming        converted\n",
       "927    HSFY1  ENSG00000169953\n",
       "928    HSFY1  ENSG00000172468"
      ]
     },
     "execution_count": 303,
     "metadata": {},
     "output_type": "execute_result"
    }
   ],
   "source": [
    "df_ensemble[df_ensemble.incoming == 'HSFY1']"
   ]
  },
  {
   "cell_type": "code",
   "execution_count": 304,
   "id": "4f9118d1",
   "metadata": {},
   "outputs": [
    {
     "data": {
      "text/html": [
       "<div>\n",
       "<style scoped>\n",
       "    .dataframe tbody tr th:only-of-type {\n",
       "        vertical-align: middle;\n",
       "    }\n",
       "\n",
       "    .dataframe tbody tr th {\n",
       "        vertical-align: top;\n",
       "    }\n",
       "\n",
       "    .dataframe thead th {\n",
       "        text-align: right;\n",
       "    }\n",
       "</style>\n",
       "<table border=\"1\" class=\"dataframe\">\n",
       "  <thead>\n",
       "    <tr style=\"text-align: right;\">\n",
       "      <th></th>\n",
       "      <th>incoming</th>\n",
       "      <th>converted</th>\n",
       "    </tr>\n",
       "  </thead>\n",
       "  <tbody>\n",
       "    <tr>\n",
       "      <th>927</th>\n",
       "      <td>HSFY1</td>\n",
       "      <td>ENSG00000172468</td>\n",
       "    </tr>\n",
       "  </tbody>\n",
       "</table>\n",
       "</div>"
      ],
      "text/plain": [
       "    incoming        converted\n",
       "927    HSFY1  ENSG00000172468"
      ]
     },
     "execution_count": 304,
     "metadata": {},
     "output_type": "execute_result"
    }
   ],
   "source": [
    "df_ensemble.drop(labels = 927, inplace=True,axis = 0)\n",
    "df_ensemble = df_ensemble.reset_index(drop=True)\n",
    "df_ensemble[df_ensemble.incoming == 'HSFY1']"
   ]
  },
  {
   "cell_type": "code",
   "execution_count": 305,
   "id": "545b4caf",
   "metadata": {},
   "outputs": [
    {
     "data": {
      "text/plain": [
       "incoming\n",
       "FOXP1     2\n",
       "ZNF263    2\n",
       "DDIT3     2\n",
       "ZNF787    1\n",
       "Name: count, dtype: int64"
      ]
     },
     "execution_count": 305,
     "metadata": {},
     "output_type": "execute_result"
    }
   ],
   "source": [
    "df_ensemble.incoming.value_counts()[0:4]"
   ]
  },
  {
   "cell_type": "code",
   "execution_count": 306,
   "id": "df7cea76",
   "metadata": {},
   "outputs": [
    {
     "data": {
      "text/html": [
       "<div>\n",
       "<style scoped>\n",
       "    .dataframe tbody tr th:only-of-type {\n",
       "        vertical-align: middle;\n",
       "    }\n",
       "\n",
       "    .dataframe tbody tr th {\n",
       "        vertical-align: top;\n",
       "    }\n",
       "\n",
       "    .dataframe thead th {\n",
       "        text-align: right;\n",
       "    }\n",
       "</style>\n",
       "<table border=\"1\" class=\"dataframe\">\n",
       "  <thead>\n",
       "    <tr style=\"text-align: right;\">\n",
       "      <th></th>\n",
       "      <th>incoming</th>\n",
       "      <th>converted</th>\n",
       "    </tr>\n",
       "  </thead>\n",
       "  <tbody>\n",
       "    <tr>\n",
       "      <th>430</th>\n",
       "      <td>ZNF263</td>\n",
       "      <td>ENSG00000006194</td>\n",
       "    </tr>\n",
       "    <tr>\n",
       "      <th>431</th>\n",
       "      <td>ZNF263</td>\n",
       "      <td>ENSG00000290183</td>\n",
       "    </tr>\n",
       "  </tbody>\n",
       "</table>\n",
       "</div>"
      ],
      "text/plain": [
       "    incoming        converted\n",
       "430   ZNF263  ENSG00000006194\n",
       "431   ZNF263  ENSG00000290183"
      ]
     },
     "execution_count": 306,
     "metadata": {},
     "output_type": "execute_result"
    }
   ],
   "source": [
    "df_ensemble[df_ensemble.incoming == 'ZNF263']"
   ]
  },
  {
   "cell_type": "code",
   "execution_count": 307,
   "id": "aba398c6",
   "metadata": {},
   "outputs": [
    {
     "data": {
      "text/html": [
       "<div>\n",
       "<style scoped>\n",
       "    .dataframe tbody tr th:only-of-type {\n",
       "        vertical-align: middle;\n",
       "    }\n",
       "\n",
       "    .dataframe tbody tr th {\n",
       "        vertical-align: top;\n",
       "    }\n",
       "\n",
       "    .dataframe thead th {\n",
       "        text-align: right;\n",
       "    }\n",
       "</style>\n",
       "<table border=\"1\" class=\"dataframe\">\n",
       "  <thead>\n",
       "    <tr style=\"text-align: right;\">\n",
       "      <th></th>\n",
       "      <th>incoming</th>\n",
       "      <th>converted</th>\n",
       "    </tr>\n",
       "  </thead>\n",
       "  <tbody>\n",
       "    <tr>\n",
       "      <th>430</th>\n",
       "      <td>ZNF263</td>\n",
       "      <td>ENSG00000006194</td>\n",
       "    </tr>\n",
       "  </tbody>\n",
       "</table>\n",
       "</div>"
      ],
      "text/plain": [
       "    incoming        converted\n",
       "430   ZNF263  ENSG00000006194"
      ]
     },
     "execution_count": 307,
     "metadata": {},
     "output_type": "execute_result"
    }
   ],
   "source": [
    "df_ensemble.drop(labels = 431, inplace=True,axis = 0)\n",
    "df_ensemble = df_ensemble.reset_index(drop=True)\n",
    "df_ensemble[df_ensemble.incoming == 'ZNF263']"
   ]
  },
  {
   "cell_type": "code",
   "execution_count": 308,
   "id": "5405173e",
   "metadata": {},
   "outputs": [
    {
     "data": {
      "text/html": [
       "<div>\n",
       "<style scoped>\n",
       "    .dataframe tbody tr th:only-of-type {\n",
       "        vertical-align: middle;\n",
       "    }\n",
       "\n",
       "    .dataframe tbody tr th {\n",
       "        vertical-align: top;\n",
       "    }\n",
       "\n",
       "    .dataframe thead th {\n",
       "        text-align: right;\n",
       "    }\n",
       "</style>\n",
       "<table border=\"1\" class=\"dataframe\">\n",
       "  <thead>\n",
       "    <tr style=\"text-align: right;\">\n",
       "      <th></th>\n",
       "      <th>incoming</th>\n",
       "      <th>converted</th>\n",
       "    </tr>\n",
       "  </thead>\n",
       "  <tbody>\n",
       "    <tr>\n",
       "      <th>967</th>\n",
       "      <td>DDIT3</td>\n",
       "      <td>ENSG00000175197</td>\n",
       "    </tr>\n",
       "    <tr>\n",
       "      <th>968</th>\n",
       "      <td>DDIT3</td>\n",
       "      <td>ENSG00000285133</td>\n",
       "    </tr>\n",
       "  </tbody>\n",
       "</table>\n",
       "</div>"
      ],
      "text/plain": [
       "    incoming        converted\n",
       "967    DDIT3  ENSG00000175197\n",
       "968    DDIT3  ENSG00000285133"
      ]
     },
     "execution_count": 308,
     "metadata": {},
     "output_type": "execute_result"
    }
   ],
   "source": [
    "df_ensemble[df_ensemble.incoming == 'DDIT3']"
   ]
  },
  {
   "cell_type": "code",
   "execution_count": 309,
   "id": "2899f5cc",
   "metadata": {},
   "outputs": [
    {
     "data": {
      "text/html": [
       "<div>\n",
       "<style scoped>\n",
       "    .dataframe tbody tr th:only-of-type {\n",
       "        vertical-align: middle;\n",
       "    }\n",
       "\n",
       "    .dataframe tbody tr th {\n",
       "        vertical-align: top;\n",
       "    }\n",
       "\n",
       "    .dataframe thead th {\n",
       "        text-align: right;\n",
       "    }\n",
       "</style>\n",
       "<table border=\"1\" class=\"dataframe\">\n",
       "  <thead>\n",
       "    <tr style=\"text-align: right;\">\n",
       "      <th></th>\n",
       "      <th>incoming</th>\n",
       "      <th>converted</th>\n",
       "    </tr>\n",
       "  </thead>\n",
       "  <tbody>\n",
       "    <tr>\n",
       "      <th>967</th>\n",
       "      <td>DDIT3</td>\n",
       "      <td>ENSG00000175197</td>\n",
       "    </tr>\n",
       "  </tbody>\n",
       "</table>\n",
       "</div>"
      ],
      "text/plain": [
       "    incoming        converted\n",
       "967    DDIT3  ENSG00000175197"
      ]
     },
     "execution_count": 309,
     "metadata": {},
     "output_type": "execute_result"
    }
   ],
   "source": [
    "df_ensemble.drop(labels = 968, inplace=True,axis = 0)\n",
    "df_ensemble = df_ensemble.reset_index(drop=True)\n",
    "df_ensemble[df_ensemble.incoming == 'DDIT3']"
   ]
  },
  {
   "cell_type": "code",
   "execution_count": 310,
   "id": "86371e9d",
   "metadata": {},
   "outputs": [
    {
     "data": {
      "text/html": [
       "<div>\n",
       "<style scoped>\n",
       "    .dataframe tbody tr th:only-of-type {\n",
       "        vertical-align: middle;\n",
       "    }\n",
       "\n",
       "    .dataframe tbody tr th {\n",
       "        vertical-align: top;\n",
       "    }\n",
       "\n",
       "    .dataframe thead th {\n",
       "        text-align: right;\n",
       "    }\n",
       "</style>\n",
       "<table border=\"1\" class=\"dataframe\">\n",
       "  <thead>\n",
       "    <tr style=\"text-align: right;\">\n",
       "      <th></th>\n",
       "      <th>incoming</th>\n",
       "      <th>converted</th>\n",
       "    </tr>\n",
       "  </thead>\n",
       "  <tbody>\n",
       "    <tr>\n",
       "      <th>326</th>\n",
       "      <td>FOXP1</td>\n",
       "      <td>ENSG00000114861</td>\n",
       "    </tr>\n",
       "    <tr>\n",
       "      <th>327</th>\n",
       "      <td>FOXP1</td>\n",
       "      <td>ENSG00000285708</td>\n",
       "    </tr>\n",
       "  </tbody>\n",
       "</table>\n",
       "</div>"
      ],
      "text/plain": [
       "    incoming        converted\n",
       "326    FOXP1  ENSG00000114861\n",
       "327    FOXP1  ENSG00000285708"
      ]
     },
     "execution_count": 310,
     "metadata": {},
     "output_type": "execute_result"
    }
   ],
   "source": [
    "df_ensemble[df_ensemble.incoming == 'FOXP1']"
   ]
  },
  {
   "cell_type": "code",
   "execution_count": 311,
   "id": "f791b703",
   "metadata": {},
   "outputs": [
    {
     "data": {
      "text/html": [
       "<div>\n",
       "<style scoped>\n",
       "    .dataframe tbody tr th:only-of-type {\n",
       "        vertical-align: middle;\n",
       "    }\n",
       "\n",
       "    .dataframe tbody tr th {\n",
       "        vertical-align: top;\n",
       "    }\n",
       "\n",
       "    .dataframe thead th {\n",
       "        text-align: right;\n",
       "    }\n",
       "</style>\n",
       "<table border=\"1\" class=\"dataframe\">\n",
       "  <thead>\n",
       "    <tr style=\"text-align: right;\">\n",
       "      <th></th>\n",
       "      <th>incoming</th>\n",
       "      <th>converted</th>\n",
       "    </tr>\n",
       "  </thead>\n",
       "  <tbody>\n",
       "    <tr>\n",
       "      <th>326</th>\n",
       "      <td>FOXP1</td>\n",
       "      <td>ENSG00000114861</td>\n",
       "    </tr>\n",
       "  </tbody>\n",
       "</table>\n",
       "</div>"
      ],
      "text/plain": [
       "    incoming        converted\n",
       "326    FOXP1  ENSG00000114861"
      ]
     },
     "execution_count": 311,
     "metadata": {},
     "output_type": "execute_result"
    }
   ],
   "source": [
    "df_ensemble.drop(labels = 327, inplace=True,axis = 0)\n",
    "df_ensemble = df_ensemble.reset_index(drop=True)\n",
    "df_ensemble[df_ensemble.incoming == 'FOXP1']"
   ]
  },
  {
   "cell_type": "code",
   "execution_count": 313,
   "id": "2648e61b",
   "metadata": {},
   "outputs": [
    {
     "data": {
      "text/plain": [
       "991"
      ]
     },
     "execution_count": 313,
     "metadata": {},
     "output_type": "execute_result"
    }
   ],
   "source": [
    "len(set(df_ensemble.incoming))"
   ]
  },
  {
   "cell_type": "code",
   "execution_count": 314,
   "id": "32be3c49",
   "metadata": {},
   "outputs": [
    {
     "data": {
      "text/plain": [
       "990"
      ]
     },
     "execution_count": 314,
     "metadata": {},
     "output_type": "execute_result"
    }
   ],
   "source": [
    "len(set(df_ensemble.converted))"
   ]
  },
  {
   "cell_type": "code",
   "execution_count": 315,
   "id": "551bbcff",
   "metadata": {},
   "outputs": [
    {
     "data": {
      "text/plain": [
       "converted\n",
       "ENSG00000181638    2\n",
       "ENSG00000088881    1\n",
       "ENSG00000215372    1\n",
       "ENSG00000173041    1\n",
       "Name: count, dtype: int64"
      ]
     },
     "execution_count": 315,
     "metadata": {},
     "output_type": "execute_result"
    }
   ],
   "source": [
    "df_ensemble.converted.value_counts()[0:4]"
   ]
  },
  {
   "cell_type": "code",
   "execution_count": 316,
   "id": "2cbf64aa",
   "metadata": {},
   "outputs": [
    {
     "data": {
      "text/html": [
       "<div>\n",
       "<style scoped>\n",
       "    .dataframe tbody tr th:only-of-type {\n",
       "        vertical-align: middle;\n",
       "    }\n",
       "\n",
       "    .dataframe tbody tr th {\n",
       "        vertical-align: top;\n",
       "    }\n",
       "\n",
       "    .dataframe thead th {\n",
       "        text-align: right;\n",
       "    }\n",
       "</style>\n",
       "<table border=\"1\" class=\"dataframe\">\n",
       "  <thead>\n",
       "    <tr style=\"text-align: right;\">\n",
       "      <th></th>\n",
       "      <th>incoming</th>\n",
       "      <th>converted</th>\n",
       "    </tr>\n",
       "  </thead>\n",
       "  <tbody>\n",
       "    <tr>\n",
       "      <th>345</th>\n",
       "      <td>ZFP41</td>\n",
       "      <td>ENSG00000181638</td>\n",
       "    </tr>\n",
       "    <tr>\n",
       "      <th>675</th>\n",
       "      <td>ZFP41-2</td>\n",
       "      <td>ENSG00000181638</td>\n",
       "    </tr>\n",
       "  </tbody>\n",
       "</table>\n",
       "</div>"
      ],
      "text/plain": [
       "    incoming        converted\n",
       "345    ZFP41  ENSG00000181638\n",
       "675  ZFP41-2  ENSG00000181638"
      ]
     },
     "execution_count": 316,
     "metadata": {},
     "output_type": "execute_result"
    }
   ],
   "source": [
    "df_ensemble[df_ensemble.converted =='ENSG00000181638']"
   ]
  },
  {
   "cell_type": "code",
   "execution_count": 317,
   "id": "c35d1478",
   "metadata": {},
   "outputs": [],
   "source": [
    "df_ensemble.to_csv('./t2t_assembly/T2T_assembly_GRN_input_Data//TF_symbol_to_ensembleid.csv')"
   ]
  },
  {
   "cell_type": "code",
   "execution_count": 318,
   "id": "f9a5a1e3",
   "metadata": {},
   "outputs": [],
   "source": [
    "def return_ensemble(symbol):\n",
    "    try:\n",
    "        return df_ensemble[df_ensemble.incoming == symbol]['converted'].values[0]\n",
    "    except:\n",
    "        print(symbol)\n",
    "        return np.nan"
   ]
  },
  {
   "cell_type": "code",
   "execution_count": null,
   "id": "5d7754cd",
   "metadata": {},
   "outputs": [],
   "source": [
    "df['TF_Ensemble'] = df['TF'].apply(return_ensemble)"
   ]
  },
  {
   "cell_type": "code",
   "execution_count": 321,
   "id": "573c7fc3",
   "metadata": {},
   "outputs": [
    {
     "data": {
      "text/plain": [
       "991"
      ]
     },
     "execution_count": 321,
     "metadata": {},
     "output_type": "execute_result"
    }
   ],
   "source": [
    "df = df.dropna()\n",
    "len(set(df.TF))"
   ]
  },
  {
   "cell_type": "code",
   "execution_count": 324,
   "id": "e554bbf7",
   "metadata": {},
   "outputs": [],
   "source": [
    "df.to_csv('./t2t_assembly/T2T_assembly_GRN_input_Data/TF_Genes.txt', sep = '\\t', index = False)"
   ]
  },
  {
   "cell_type": "markdown",
   "id": "5604c4b3",
   "metadata": {},
   "source": [
    "# 5. Filtering expression data and tf-genes(LEFT) (Not done for single sample)(skip below code and follow All_Data.ipynb)"
   ]
  },
  {
   "cell_type": "code",
   "execution_count": 262,
   "id": "02bd57b1",
   "metadata": {},
   "outputs": [],
   "source": [
    "expression_data = pd.read_csv('./data_rosmap_count_matrix/Count_Matrix_TPM.csv')"
   ]
  },
  {
   "cell_type": "code",
   "execution_count": 427,
   "id": "33a37fc5",
   "metadata": {},
   "outputs": [
    {
     "data": {
      "text/plain": [
       "60725"
      ]
     },
     "execution_count": 427,
     "metadata": {},
     "output_type": "execute_result"
    }
   ],
   "source": [
    "x = set(expression_data.feature)\n",
    "len(x)"
   ]
  },
  {
   "cell_type": "code",
   "execution_count": 441,
   "id": "ac56956b",
   "metadata": {},
   "outputs": [
    {
     "data": {
      "text/plain": [
       "60340"
      ]
     },
     "execution_count": 441,
     "metadata": {},
     "output_type": "execute_result"
    }
   ],
   "source": [
    "y = list(set(df.Genes))\n",
    "len(y)"
   ]
  },
  {
   "cell_type": "code",
   "execution_count": 439,
   "id": "27aa7748",
   "metadata": {},
   "outputs": [
    {
     "data": {
      "text/plain": [
       "56461"
      ]
     },
     "execution_count": 439,
     "metadata": {},
     "output_type": "execute_result"
    }
   ],
   "source": [
    "len(x.intersection(y))"
   ]
  },
  {
   "cell_type": "code",
   "execution_count": 434,
   "id": "e7329a94",
   "metadata": {},
   "outputs": [
    {
     "data": {
      "text/plain": [
       "{'ENSG00000290292'}"
      ]
     },
     "execution_count": 434,
     "metadata": {},
     "output_type": "execute_result"
    }
   ],
   "source": [
    "y-x"
   ]
  },
  {
   "cell_type": "code",
   "execution_count": 446,
   "id": "c5d9dc49",
   "metadata": {},
   "outputs": [],
   "source": [
    "def yes_or_no(feature):\n",
    "    if feature in y:\n",
    "        return 1\n",
    "    else:\n",
    "        return 0"
   ]
  },
  {
   "cell_type": "code",
   "execution_count": 447,
   "id": "691efea3",
   "metadata": {},
   "outputs": [],
   "source": [
    "expression_data['Yes'] = expression_data.feature.apply(yes_or_no)"
   ]
  },
  {
   "cell_type": "code",
   "execution_count": null,
   "id": "b9cc9239",
   "metadata": {},
   "outputs": [],
   "source": [
    "expression_data = expression_data[expression_data['Yes'] == 1]\n",
    "expression_data.drop(columns=['Yes'], axis = 1)"
   ]
  },
  {
   "cell_type": "code",
   "execution_count": 450,
   "id": "d597ea24",
   "metadata": {},
   "outputs": [
    {
     "data": {
      "text/plain": [
       "56461"
      ]
     },
     "execution_count": 450,
     "metadata": {},
     "output_type": "execute_result"
    }
   ],
   "source": [
    "x = list(set(expression_data.feature))\n",
    "len(x)"
   ]
  },
  {
   "cell_type": "code",
   "execution_count": 451,
   "id": "b84f6540",
   "metadata": {},
   "outputs": [],
   "source": [
    "def yes_or_no(feature):\n",
    "    if feature in x:\n",
    "        return 1\n",
    "    else:\n",
    "        return 0"
   ]
  },
  {
   "cell_type": "code",
   "execution_count": 452,
   "id": "83926d35",
   "metadata": {},
   "outputs": [],
   "source": [
    "df['Yes'] = df.Genes.apply(yes_or_no)"
   ]
  },
  {
   "cell_type": "code",
   "execution_count": 7,
   "id": "43921f31",
   "metadata": {},
   "outputs": [],
   "source": [
    "df = df[df['Yes'] == 1]\n",
    "df.drop(columns=['Yes'], axis = 1)\n",
    "df"
   ]
  },
  {
   "cell_type": "code",
   "execution_count": 455,
   "id": "c5d6cb9c",
   "metadata": {},
   "outputs": [],
   "source": [
    "y = set(expression_data.feature)"
   ]
  },
  {
   "cell_type": "code",
   "execution_count": 456,
   "id": "c4a69a85",
   "metadata": {},
   "outputs": [
    {
     "data": {
      "text/plain": [
       "{'ENSG00000290292'}"
      ]
     },
     "execution_count": 456,
     "metadata": {},
     "output_type": "execute_result"
    }
   ],
   "source": [
    "x-y"
   ]
  },
  {
   "cell_type": "code",
   "execution_count": 459,
   "id": "a3243662",
   "metadata": {},
   "outputs": [],
   "source": [
    "df = df[df.TF != 'ENSG00000290292']"
   ]
  },
  {
   "cell_type": "code",
   "execution_count": 460,
   "id": "96aa1ddb",
   "metadata": {},
   "outputs": [
    {
     "data": {
      "text/plain": [
       "1015"
      ]
     },
     "execution_count": 460,
     "metadata": {},
     "output_type": "execute_result"
    }
   ],
   "source": [
    "x = set(df.TF)\n",
    "len(x)"
   ]
  },
  {
   "cell_type": "code",
   "execution_count": 461,
   "id": "840f05c0",
   "metadata": {},
   "outputs": [
    {
     "data": {
      "text/plain": [
       "set()"
      ]
     },
     "execution_count": 461,
     "metadata": {},
     "output_type": "execute_result"
    }
   ],
   "source": [
    "x-y"
   ]
  },
  {
   "cell_type": "code",
   "execution_count": 462,
   "id": "9cf9bf3f",
   "metadata": {},
   "outputs": [
    {
     "data": {
      "text/plain": [
       "56461"
      ]
     },
     "execution_count": 462,
     "metadata": {},
     "output_type": "execute_result"
    }
   ],
   "source": [
    "x = set(df.Genes)\n",
    "len(x)"
   ]
  },
  {
   "cell_type": "code",
   "execution_count": 463,
   "id": "4ac4f02c",
   "metadata": {},
   "outputs": [
    {
     "data": {
      "text/plain": [
       "set()"
      ]
     },
     "execution_count": 463,
     "metadata": {},
     "output_type": "execute_result"
    }
   ],
   "source": [
    "x -y"
   ]
  },
  {
   "cell_type": "code",
   "execution_count": 464,
   "id": "64437d1b",
   "metadata": {},
   "outputs": [],
   "source": [
    "df_tf_genes_filtered = df\n",
    "expression_data_filtered = expression_data"
   ]
  },
  {
   "cell_type": "markdown",
   "id": "4cab59d5",
   "metadata": {},
   "source": [
    "# 6 PPI"
   ]
  },
  {
   "cell_type": "code",
   "execution_count": 257,
   "id": "c587c960",
   "metadata": {},
   "outputs": [],
   "source": [
    "df_PPI = pd.read_csv('./t2t_assembly/T2T_assembly_GRN_input_Data//PPI_latest_only_TF_with_ensembleid.csv')"
   ]
  },
  {
   "cell_type": "code",
   "execution_count": 6,
   "id": "813c282d",
   "metadata": {},
   "outputs": [],
   "source": [
    "df_PPI.drop(columns=['Unnamed: 0'], axis = 1, inplace= True)\n",
    "df_PPI"
   ]
  },
  {
   "cell_type": "code",
   "execution_count": 259,
   "id": "320f3253",
   "metadata": {},
   "outputs": [
    {
     "data": {
      "text/plain": [
       "781"
      ]
     },
     "execution_count": 259,
     "metadata": {},
     "output_type": "execute_result"
    }
   ],
   "source": [
    "len(set(df_PPI.TF_name).intersection(set(df_PPI.Interacting_Partner)))"
   ]
  },
  {
   "cell_type": "code",
   "execution_count": 260,
   "id": "f9d6e993",
   "metadata": {},
   "outputs": [
    {
     "data": {
      "text/plain": [
       "0"
      ]
     },
     "execution_count": 260,
     "metadata": {},
     "output_type": "execute_result"
    }
   ],
   "source": [
    "len(set(df.TF).intersection(set(df_PPI.TF_name)))"
   ]
  },
  {
   "cell_type": "code",
   "execution_count": 5,
   "id": "b3f859a8",
   "metadata": {},
   "outputs": [],
   "source": [
    "set(df_PPI.TF_name) - set(df.TF)"
   ]
  },
  {
   "cell_type": "code",
   "execution_count": 485,
   "id": "54fd9182",
   "metadata": {},
   "outputs": [],
   "source": [
    "df_PPI = df_PPI[df_PPI.TF_name != 'ENSG00000290292']\n",
    "df_PPI = df_PPI[df_PPI.Interacting_Partner != 'ENSG00000290292']"
   ]
  },
  {
   "cell_type": "code",
   "execution_count": 487,
   "id": "2c3612bc",
   "metadata": {},
   "outputs": [
    {
     "data": {
      "text/plain": [
       "set()"
      ]
     },
     "execution_count": 487,
     "metadata": {},
     "output_type": "execute_result"
    }
   ],
   "source": [
    " set(df_PPI.TF_name) - set(df.TF)"
   ]
  },
  {
   "cell_type": "code",
   "execution_count": 488,
   "id": "0719f2d9",
   "metadata": {},
   "outputs": [
    {
     "data": {
      "text/plain": [
       "986"
      ]
     },
     "execution_count": 488,
     "metadata": {},
     "output_type": "execute_result"
    }
   ],
   "source": [
    "len(set(df_PPI.TF_name))"
   ]
  },
  {
   "cell_type": "code",
   "execution_count": 4,
   "id": "546d899f",
   "metadata": {},
   "outputs": [],
   "source": [
    "df_PPIa"
   ]
  },
  {
   "cell_type": "code",
   "execution_count": 513,
   "id": "c616ba05",
   "metadata": {},
   "outputs": [],
   "source": [
    " x = set(df.TF) - set(df_PPI.TF_name) "
   ]
  },
  {
   "cell_type": "code",
   "execution_count": 514,
   "id": "b5e45b09",
   "metadata": {},
   "outputs": [
    {
     "data": {
      "text/plain": [
       "28"
      ]
     },
     "execution_count": 514,
     "metadata": {},
     "output_type": "execute_result"
    }
   ],
   "source": [
    "len(x)"
   ]
  },
  {
   "cell_type": "code",
   "execution_count": 495,
   "id": "4d5cf71c",
   "metadata": {},
   "outputs": [],
   "source": [
    "li = []\n",
    "for i in x:\n",
    "    li.append([i,i,1])"
   ]
  },
  {
   "cell_type": "code",
   "execution_count": 519,
   "id": "7874411e",
   "metadata": {},
   "outputs": [],
   "source": [
    "fake_df = pd.DataFrame(columns=['TF_name','Interacting_Partner','Score'])\n",
    "for i in li:\n",
    "   \n",
    "    fake_df.loc[len(fake_df)] = i\n",
    "    "
   ]
  },
  {
   "cell_type": "code",
   "execution_count": 520,
   "id": "cfce6073",
   "metadata": {},
   "outputs": [
    {
     "data": {
      "text/html": [
       "<div>\n",
       "<style scoped>\n",
       "    .dataframe tbody tr th:only-of-type {\n",
       "        vertical-align: middle;\n",
       "    }\n",
       "\n",
       "    .dataframe tbody tr th {\n",
       "        vertical-align: top;\n",
       "    }\n",
       "\n",
       "    .dataframe thead th {\n",
       "        text-align: right;\n",
       "    }\n",
       "</style>\n",
       "<table border=\"1\" class=\"dataframe\">\n",
       "  <thead>\n",
       "    <tr style=\"text-align: right;\">\n",
       "      <th></th>\n",
       "      <th>TF_name</th>\n",
       "      <th>Interacting_Partner</th>\n",
       "      <th>Score</th>\n",
       "    </tr>\n",
       "  </thead>\n",
       "  <tbody>\n",
       "    <tr>\n",
       "      <th>0</th>\n",
       "      <td>ENSG00000187815</td>\n",
       "      <td>ENSG00000187815</td>\n",
       "      <td>1</td>\n",
       "    </tr>\n",
       "    <tr>\n",
       "      <th>1</th>\n",
       "      <td>ENSG00000144792</td>\n",
       "      <td>ENSG00000144792</td>\n",
       "      <td>1</td>\n",
       "    </tr>\n",
       "  </tbody>\n",
       "</table>\n",
       "</div>"
      ],
      "text/plain": [
       "           TF_name Interacting_Partner  Score\n",
       "0  ENSG00000187815     ENSG00000187815      1\n",
       "1  ENSG00000144792     ENSG00000144792      1"
      ]
     },
     "execution_count": 520,
     "metadata": {},
     "output_type": "execute_result"
    }
   ],
   "source": [
    "fake_df.head(2)"
   ]
  },
  {
   "cell_type": "code",
   "execution_count": 521,
   "id": "0b848896",
   "metadata": {},
   "outputs": [
    {
     "data": {
      "text/html": [
       "<div>\n",
       "<style scoped>\n",
       "    .dataframe tbody tr th:only-of-type {\n",
       "        vertical-align: middle;\n",
       "    }\n",
       "\n",
       "    .dataframe tbody tr th {\n",
       "        vertical-align: top;\n",
       "    }\n",
       "\n",
       "    .dataframe thead th {\n",
       "        text-align: right;\n",
       "    }\n",
       "</style>\n",
       "<table border=\"1\" class=\"dataframe\">\n",
       "  <thead>\n",
       "    <tr style=\"text-align: right;\">\n",
       "      <th></th>\n",
       "      <th>TF_name</th>\n",
       "      <th>Interacting_Partner</th>\n",
       "      <th>Score</th>\n",
       "    </tr>\n",
       "  </thead>\n",
       "  <tbody>\n",
       "    <tr>\n",
       "      <th>0</th>\n",
       "      <td>ENSG00000005073</td>\n",
       "      <td>ENSG00000253293</td>\n",
       "      <td>1</td>\n",
       "    </tr>\n",
       "    <tr>\n",
       "      <th>1</th>\n",
       "      <td>ENSG00000005073</td>\n",
       "      <td>ENSG00000075891</td>\n",
       "      <td>1</td>\n",
       "    </tr>\n",
       "  </tbody>\n",
       "</table>\n",
       "</div>"
      ],
      "text/plain": [
       "           TF_name Interacting_Partner  Score\n",
       "0  ENSG00000005073     ENSG00000253293      1\n",
       "1  ENSG00000005073     ENSG00000075891      1"
      ]
     },
     "execution_count": 521,
     "metadata": {},
     "output_type": "execute_result"
    }
   ],
   "source": [
    "df_PPI.head(2)"
   ]
  },
  {
   "cell_type": "code",
   "execution_count": 522,
   "id": "ee134e21",
   "metadata": {},
   "outputs": [],
   "source": [
    "df_PPI = pd.concat([df_PPI,fake_df])"
   ]
  },
  {
   "cell_type": "code",
   "execution_count": 523,
   "id": "4c89a070",
   "metadata": {},
   "outputs": [
    {
     "data": {
      "text/plain": [
       "set()"
      ]
     },
     "execution_count": 523,
     "metadata": {},
     "output_type": "execute_result"
    }
   ],
   "source": [
    "set(df.TF) - set(df_PPI.TF_name) "
   ]
  },
  {
   "cell_type": "code",
   "execution_count": 525,
   "id": "53a305f0",
   "metadata": {},
   "outputs": [
    {
     "data": {
      "text/plain": [
       "1015"
      ]
     },
     "execution_count": 525,
     "metadata": {},
     "output_type": "execute_result"
    }
   ],
   "source": [
    "len(set(df_PPI.TF_name) )"
   ]
  },
  {
   "cell_type": "code",
   "execution_count": 3,
   "id": "580e9301",
   "metadata": {},
   "outputs": [],
   "source": [
    "df_PPI\n"
   ]
  },
  {
   "cell_type": "code",
   "execution_count": 2,
   "id": "7c14f1e7",
   "metadata": {},
   "outputs": [],
   "source": [
    "expression_data_filtered"
   ]
  },
  {
   "cell_type": "code",
   "execution_count": 1,
   "id": "1f958d74",
   "metadata": {},
   "outputs": [],
   "source": [
    "df_tf_genes_filtered.drop(columns=['Yes'], axis = 1 ,inplace = True)\n",
    "df_tf_genes_filtered"
   ]
  },
  {
   "cell_type": "code",
   "execution_count": 532,
   "id": "9b1ed50d",
   "metadata": {},
   "outputs": [],
   "source": [
    "df_tf_genes_filtered.to_csv('./t2t_assembly/T2T_assembly_GRN/Curated_TF_Genes.txt', sep = '\\t', index = False)"
   ]
  },
  {
   "cell_type": "code",
   "execution_count": 551,
   "id": "d4c5747b",
   "metadata": {},
   "outputs": [
    {
     "name": "stderr",
     "output_type": "stream",
     "text": [
      "/var/folders/ld/fhtyx4qs4mg6bw9chm___tsh0000gn/T/ipykernel_42425/4039566355.py:1: SettingWithCopyWarning: \n",
      "A value is trying to be set on a copy of a slice from a DataFrame\n",
      "\n",
      "See the caveats in the documentation: https://pandas.pydata.org/pandas-docs/stable/user_guide/indexing.html#returning-a-view-versus-a-copy\n",
      "  expression_data_filtered.drop(columns = ['Yes'],axis = 1, inplace = True)\n"
     ]
    }
   ],
   "source": [
    "expression_data_filtered.drop(columns = ['Yes'],axis = 1, inplace = True)\n",
    "expression_data_filtered.to_csv('./t2t_assembly/T2T_assembly_GRN/curated_count_matrix_TPM.csv', index = False)"
   ]
  },
  {
   "cell_type": "code",
   "execution_count": 533,
   "id": "8ea2baa2",
   "metadata": {},
   "outputs": [],
   "source": [
    "df_PPI.to_csv('./t2t_assembly/T2T_assembly_GRN/Curated_PPI.csv', index = False)"
   ]
  },
  {
   "cell_type": "code",
   "execution_count": null,
   "id": "f68fc2d9",
   "metadata": {},
   "outputs": [],
   "source": []
  },
  {
   "cell_type": "code",
   "execution_count": null,
   "id": "172953a2",
   "metadata": {},
   "outputs": [],
   "source": []
  }
 ],
 "metadata": {
  "kernelspec": {
   "display_name": "Python 3 (ipykernel)",
   "language": "python",
   "name": "python3"
  },
  "language_info": {
   "codemirror_mode": {
    "name": "ipython",
    "version": 3
   },
   "file_extension": ".py",
   "mimetype": "text/x-python",
   "name": "python",
   "nbconvert_exporter": "python",
   "pygments_lexer": "ipython3",
   "version": "3.11.5"
  }
 },
 "nbformat": 4,
 "nbformat_minor": 5
}
