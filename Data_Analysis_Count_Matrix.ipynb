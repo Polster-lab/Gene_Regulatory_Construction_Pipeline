{
 "cells": [
  {
   "cell_type": "markdown",
   "id": "37bfac08",
   "metadata": {},
   "source": [
    "# 1. Importing Libraries"
   ]
  },
  {
   "cell_type": "code",
   "execution_count": null,
   "id": "ef41c93c",
   "metadata": {},
   "outputs": [],
   "source": [
    "!pip install numpy"
   ]
  },
  {
   "cell_type": "code",
   "execution_count": null,
   "id": "75d30280",
   "metadata": {},
   "outputs": [],
   "source": [
    "import pandas as pd\n",
    "from tqdm import tqdm\n",
    "import numpy as np"
   ]
  },
  {
   "cell_type": "markdown",
   "id": "48cab1c3",
   "metadata": {},
   "source": [
    "# 2. Loading Data"
   ]
  },
  {
   "cell_type": "markdown",
   "id": "2b299c49",
   "metadata": {},
   "source": [
    "## 2.1 Count Matrix (Expression Data)"
   ]
  },
  {
   "cell_type": "code",
   "execution_count": null,
   "id": "b9d2ddc0",
   "metadata": {},
   "outputs": [],
   "source": [
    "count_matrix = pd.read_csv(\"ROSMAP_DATA/ROSMAP_all_counts_matrix.txt\", sep = '\\t')"
   ]
  },
  {
   "cell_type": "code",
   "execution_count": null,
   "id": "8c247417",
   "metadata": {},
   "outputs": [],
   "source": [
    "count_matrix"
   ]
  },
  {
   "cell_type": "code",
   "execution_count": null,
   "id": "1882fe39",
   "metadata": {},
   "outputs": [],
   "source": [
    "count_matrix.isnull().sum().sum()"
   ]
  },
  {
   "cell_type": "code",
   "execution_count": null,
   "id": "d8c9621e",
   "metadata": {},
   "outputs": [],
   "source": [
    "count_matrix[['150_120419_0_merged']]"
   ]
  },
  {
   "cell_type": "markdown",
   "id": "27485176",
   "metadata": {},
   "source": [
    "## 2.2 Gene Length"
   ]
  },
  {
   "cell_type": "code",
   "execution_count": null,
   "id": "394fa188",
   "metadata": {},
   "outputs": [],
   "source": [
    "gene_length = pd.read_csv(\"ROSMAP_DATA/geneParameters.tsv\", sep = '\\t')\n",
    "\n",
    "gene_length"
   ]
  },
  {
   "cell_type": "code",
   "execution_count": null,
   "id": "90fa0bb5",
   "metadata": {},
   "outputs": [],
   "source": [
    "gene_length.isnull().sum()"
   ]
  },
  {
   "cell_type": "code",
   "execution_count": null,
   "id": "d63dbcb4",
   "metadata": {},
   "outputs": [],
   "source": [
    "gene_length['gene.length'] = gene_length['gene.length'].fillna(gene_length['gene.length'].mean())"
   ]
  },
  {
   "cell_type": "code",
   "execution_count": null,
   "id": "6c80ed0e",
   "metadata": {},
   "outputs": [],
   "source": [
    "gene_length = gene_length[['Gene.ID','gene.length']]\n",
    "gene_length.head()"
   ]
  },
  {
   "cell_type": "code",
   "execution_count": null,
   "id": "46c0e001",
   "metadata": {},
   "outputs": [],
   "source": [
    "count_matrix.drop(index = count_matrix.index[:4], inplace=True)\n",
    "count_matrix.head()"
   ]
  },
  {
   "cell_type": "markdown",
   "id": "5d73ae58",
   "metadata": {},
   "source": [
    "## 2.3 Merging Count Matrix and Gene Length"
   ]
  },
  {
   "cell_type": "code",
   "execution_count": null,
   "id": "bc5b2d7f",
   "metadata": {},
   "outputs": [],
   "source": [
    "dct = dict()\n",
    "for i,j in tqdm(gene_length.iterrows()):\n",
    "    dct[j['Gene.ID']] = j['gene.length']"
   ]
  },
  {
   "cell_type": "code",
   "execution_count": null,
   "id": "5cd1ce70",
   "metadata": {},
   "outputs": [],
   "source": [
    "def return_length(n):\n",
    "    try:\n",
    "        return dct[n]\n",
    "    except:\n",
    "        print(n)\n",
    "        return 0\n",
    "\n",
    "count_matrix['length'] = count_matrix['feature'].apply(return_length)"
   ]
  },
  {
   "cell_type": "code",
   "execution_count": null,
   "id": "3c028f13",
   "metadata": {},
   "outputs": [],
   "source": [
    "count_matrix\n",
    "Columns = list(count_matrix.columns) \n",
    "Columns.remove('feature')\n",
    "Columns.remove('length')\n",
    "feature = list(count_matrix['feature'])\n",
    "count_matrix = count_matrix.set_index('feature')\n",
    "count_matrix.head()"
   ]
  },
  {
   "cell_type": "markdown",
   "id": "1c8b1ecb",
   "metadata": {},
   "source": [
    "# 3. Normalizing using TPM"
   ]
  },
  {
   "cell_type": "code",
   "execution_count": null,
   "id": "203805ac",
   "metadata": {},
   "outputs": [],
   "source": [
    "#Credit goes to: https://github.com/lucynwosu/TPM-Transcripts-Per-Million-Normalization-Python/blob/main/TPM-Transcripts-Per-Million-Normalization.ipynb\n",
    "\n",
    "def read_counts2tpm(df):\n",
    "    \"\"\"\n",
    "    convert read counts to TPM (transcripts per million)\n",
    "    :df: a dataFrame that contains the read count with its gene length. \n",
    "    :sample_reads: read count values for all transcripts\n",
    "    :gene_len: Gene length values\n",
    "    :return: TPM\n",
    "    \"\"\"\n",
    "    result = df\n",
    "    sample_reads = result.loc[:, result.columns != 'length'].copy()\n",
    "    gene_len = result.loc[:, ['length']]\n",
    "    normalize_by_genelength = sample_reads.values / gene_len.values\n",
    "    scaling_factor = (np.sum(normalize_by_genelength, axis=0).reshape(1, -1))/1e6\n",
    "    normalize_sequencingdepth = normalize_by_genelength / scaling_factor\n",
    "    tpm = normalize_sequencingdepth\n",
    "    return tpm"
   ]
  },
  {
   "cell_type": "code",
   "execution_count": null,
   "id": "c2126726",
   "metadata": {},
   "outputs": [],
   "source": [
    "TPM_MasterCount = pd.DataFrame(read_counts2tpm(count_matrix))"
   ]
  },
  {
   "cell_type": "code",
   "execution_count": null,
   "id": "e4e8f2d3",
   "metadata": {},
   "outputs": [],
   "source": [
    "TPM_MasterCount\n",
    "TPM_MasterCount.columns = Columns\n",
    "TPM_MasterCount.insert(0, 'feature', feature, True)\n",
    "TPM_MasterCount.set_index('feature')\n",
    "TPM_MasterCount.head()"
   ]
  },
  {
   "cell_type": "code",
   "execution_count": null,
   "id": "772e9424",
   "metadata": {},
   "outputs": [],
   "source": [
    "TPM_MasterCount.to_csv('Count_Matrix_TPM.csv')"
   ]
  },
  {
   "cell_type": "code",
   "execution_count": null,
   "id": "9340a315",
   "metadata": {},
   "outputs": [],
   "source": []
  }
 ],
 "metadata": {
  "kernelspec": {
   "display_name": "Python 3 (ipykernel)",
   "language": "python",
   "name": "python3"
  },
  "language_info": {
   "codemirror_mode": {
    "name": "ipython",
    "version": 3
   },
   "file_extension": ".py",
   "mimetype": "text/x-python",
   "name": "python",
   "nbconvert_exporter": "python",
   "pygments_lexer": "ipython3",
   "version": "3.10.10"
  }
 },
 "nbformat": 4,
 "nbformat_minor": 5
}
