{
 "cells": [
  {
   "cell_type": "code",
   "execution_count": 1,
   "id": "9d10e841",
   "metadata": {},
   "outputs": [],
   "source": [
    "import mygene\n",
    "import pandas as pd\n",
    "from tqdm import tqdm"
   ]
  },
  {
   "cell_type": "markdown",
   "id": "ac2c2e73",
   "metadata": {},
   "source": [
    "# 1. PPI\n",
    "\n",
    " <pre>\n",
    "\n",
    "         \n",
    "     In ppi_Dataframe\n",
    "         TF_name: AC226150, ... \t\n",
    "         Interacting_Partner: FOXO1, ..\n",
    "         \n",
    " </pre>"
   ]
  },
  {
   "cell_type": "code",
   "execution_count": 41,
   "id": "97dda4cb",
   "metadata": {},
   "outputs": [
    {
     "data": {
      "text/plain": [
       "['BARHL2',\n",
       " 'ZNF611',\n",
       " 'FOXD4L3',\n",
       " 'TBPL2',\n",
       " 'TET1',\n",
       " 'TBR1',\n",
       " 'ZNF582',\n",
       " 'SIX3',\n",
       " 'EMX2',\n",
       " 'MITF']"
      ]
     },
     "execution_count": 41,
     "metadata": {},
     "output_type": "execute_result"
    }
   ],
   "source": [
    "import numpy as np\n",
    "tf = pd.read_csv('./t2t_assembly/T2T_assembly_GRN_input_Data/TF_Genes.txt', sep = '\\t')\n",
    "tf_list = tf['TF'].tolist()\n",
    "tf_list = list(set(tf_list))\n",
    "tf_list[0:10]"
   ]
  },
  {
   "cell_type": "code",
   "execution_count": 42,
   "id": "93c17e77",
   "metadata": {},
   "outputs": [
    {
     "data": {
      "text/plain": [
       "True"
      ]
     },
     "execution_count": 42,
     "metadata": {},
     "output_type": "execute_result"
    }
   ],
   "source": [
    "'RFX7' in tf_list"
   ]
  },
  {
   "cell_type": "code",
   "execution_count": 43,
   "id": "dc8aabf1",
   "metadata": {},
   "outputs": [],
   "source": [
    "import requests\n",
    "import json\n",
    "\n",
    "# Define your API key and transcription factor ID\n",
    "#api_key = 'YOUR_API_KEY'\n",
    "#tf_id = 'YOUR_TF_IDENTIFIER'\n",
    "\n",
    "# Set the API endpoint\n",
    "string_api_url = \"https://version-12-0.string-db.org/api\"\n",
    "output_format = \"tsv-no-header\"\n",
    "method = \"interaction_partners\"\n",
    "# Define the query parameters\n",
    "request_url = \"/\".join([string_api_url, output_format, method])\n",
    "\n",
    "my_genes = tf_list\n",
    "\n",
    "\n",
    "params = {\n",
    "\n",
    "    \"identifiers\" : \"%0d\".join(my_genes), # your p'rotein\n",
    "    \"species\" : 9606, # species NCBI identifier \n",
    "    \"caller_identity\" : \"www.awesome_app.org\", # your app name\n",
    "    'required_score' : 500\n",
    "\n",
    "}\n",
    "response = requests.post(request_url, data=params)\n",
    "\n",
    "##\n",
    "## Read and parse the results\n",
    "##\n",
    "\n",
    "\n"
   ]
  },
  {
   "cell_type": "code",
   "execution_count": 44,
   "id": "f736eebb",
   "metadata": {},
   "outputs": [
    {
     "name": "stderr",
     "output_type": "stream",
     "text": [
      "100%|███████████████████████████████████████████████████████████████████████████████████████████████████████████████████████████████████████████████████████████████████████| 49389/49389 [00:00<00:00, 327813.37it/s]\n"
     ]
    }
   ],
   "source": [
    "s = 0\n",
    "query_name_list = []\n",
    "partner_name_list = []\n",
    "score = []\n",
    "not_p = []\n",
    "for line in tqdm(response.text.strip().split(\"\\n\")):\n",
    " \n",
    "    \n",
    "\n",
    "    l = line.strip().split(\"\\t\")\n",
    "    query_ensp = l[0]\n",
    "    query_name = l[2]\n",
    "    if query_name not in tf_list:\n",
    "        not_p.append(query_name)\n",
    "        print(l)\n",
    "       \n",
    "        continue\n",
    "        \n",
    "    partner_ensp = l[1]\n",
    "    partner_name = l[3]\n",
    "    combined_score = l[5]\n",
    "\n",
    "    ## print\n",
    "    query_name_list.append(query_name)\n",
    "    partner_name_list.append(partner_name)\n",
    "    score.append(1)\n",
    " \n",
    "    \n",
    "    #print(\"\\t\".join([query_ensp, query_name, partner_name, combined_score]))"
   ]
  },
  {
   "cell_type": "code",
   "execution_count": 45,
   "id": "60057f52",
   "metadata": {},
   "outputs": [
    {
     "data": {
      "text/plain": [
       "set()"
      ]
     },
     "execution_count": 45,
     "metadata": {},
     "output_type": "execute_result"
    }
   ],
   "source": [
    "set(not_p) #{'CYP27B1', 'TBXT', 'ZFP41-2', 'ZNF875'}"
   ]
  },
  {
   "cell_type": "code",
   "execution_count": 46,
   "id": "c22c01fb",
   "metadata": {},
   "outputs": [
    {
     "data": {
      "text/plain": [
       "991"
      ]
     },
     "execution_count": 46,
     "metadata": {},
     "output_type": "execute_result"
    }
   ],
   "source": [
    "len(tf_list)"
   ]
  },
  {
   "cell_type": "code",
   "execution_count": 47,
   "id": "4fdc0aff",
   "metadata": {},
   "outputs": [],
   "source": [
    "d = pd.DataFrame()\n",
    "\n",
    "d['TF_name'] = query_name_list\n",
    "d['Interacting_Partner'] = partner_name_list\n",
    "d['Score'] = score"
   ]
  },
  {
   "cell_type": "code",
   "execution_count": 48,
   "id": "c4f77ff2",
   "metadata": {},
   "outputs": [
    {
     "data": {
      "text/html": [
       "<div>\n",
       "<style scoped>\n",
       "    .dataframe tbody tr th:only-of-type {\n",
       "        vertical-align: middle;\n",
       "    }\n",
       "\n",
       "    .dataframe tbody tr th {\n",
       "        vertical-align: top;\n",
       "    }\n",
       "\n",
       "    .dataframe thead th {\n",
       "        text-align: right;\n",
       "    }\n",
       "</style>\n",
       "<table border=\"1\" class=\"dataframe\">\n",
       "  <thead>\n",
       "    <tr style=\"text-align: right;\">\n",
       "      <th></th>\n",
       "      <th>TF_name</th>\n",
       "      <th>Interacting_Partner</th>\n",
       "      <th>Score</th>\n",
       "    </tr>\n",
       "  </thead>\n",
       "  <tbody>\n",
       "    <tr>\n",
       "      <th>0</th>\n",
       "      <td>HOXA11</td>\n",
       "      <td>HOXA10</td>\n",
       "      <td>1</td>\n",
       "    </tr>\n",
       "    <tr>\n",
       "      <th>1</th>\n",
       "      <td>HOXA11</td>\n",
       "      <td>FOXO1</td>\n",
       "      <td>1</td>\n",
       "    </tr>\n",
       "    <tr>\n",
       "      <th>2</th>\n",
       "      <td>HOXA11</td>\n",
       "      <td>PAX2</td>\n",
       "      <td>1</td>\n",
       "    </tr>\n",
       "    <tr>\n",
       "      <th>3</th>\n",
       "      <td>HOXA11</td>\n",
       "      <td>HOXA13</td>\n",
       "      <td>1</td>\n",
       "    </tr>\n",
       "    <tr>\n",
       "      <th>4</th>\n",
       "      <td>HOXA11</td>\n",
       "      <td>PBX1</td>\n",
       "      <td>1</td>\n",
       "    </tr>\n",
       "  </tbody>\n",
       "</table>\n",
       "</div>"
      ],
      "text/plain": [
       "  TF_name Interacting_Partner  Score\n",
       "0  HOXA11              HOXA10      1\n",
       "1  HOXA11               FOXO1      1\n",
       "2  HOXA11                PAX2      1\n",
       "3  HOXA11              HOXA13      1\n",
       "4  HOXA11                PBX1      1"
      ]
     },
     "execution_count": 48,
     "metadata": {},
     "output_type": "execute_result"
    }
   ],
   "source": [
    "d.head()"
   ]
  },
  {
   "cell_type": "code",
   "execution_count": 49,
   "id": "fbd20680",
   "metadata": {},
   "outputs": [],
   "source": [
    "x = set(d.TF_name)\n",
    "y = set(tf.TF)\n",
    "z = y-x"
   ]
  },
  {
   "cell_type": "code",
   "execution_count": 50,
   "id": "d9b294b4",
   "metadata": {},
   "outputs": [
    {
     "data": {
      "text/plain": [
       "{'FOXB2',\n",
       " 'FOXI2',\n",
       " 'HES2',\n",
       " 'LBX2',\n",
       " 'NKX1-2',\n",
       " 'SCRT2',\n",
       " 'ZBTB7C',\n",
       " 'ZFHX2',\n",
       " 'ZFP41',\n",
       " 'ZNF121',\n",
       " 'ZNF132',\n",
       " 'ZNF35',\n",
       " 'ZNF502',\n",
       " 'ZNF580',\n",
       " 'ZNF90',\n",
       " 'ZSCAN5C'}"
      ]
     },
     "execution_count": 50,
     "metadata": {},
     "output_type": "execute_result"
    }
   ],
   "source": [
    "z"
   ]
  },
  {
   "cell_type": "code",
   "execution_count": 51,
   "id": "eeb87e72",
   "metadata": {},
   "outputs": [
    {
     "data": {
      "text/plain": [
       "16"
      ]
     },
     "execution_count": 51,
     "metadata": {},
     "output_type": "execute_result"
    }
   ],
   "source": [
    "len(z)"
   ]
  },
  {
   "cell_type": "code",
   "execution_count": 52,
   "id": "b28f0f1f",
   "metadata": {},
   "outputs": [
    {
     "data": {
      "text/plain": [
       "975"
      ]
     },
     "execution_count": 52,
     "metadata": {},
     "output_type": "execute_result"
    }
   ],
   "source": [
    "len(x)"
   ]
  },
  {
   "cell_type": "code",
   "execution_count": 53,
   "id": "5073899b",
   "metadata": {},
   "outputs": [],
   "source": [
    "x = set(tf.TF.values) - set(d.TF_name.values)\n"
   ]
  },
  {
   "cell_type": "code",
   "execution_count": 54,
   "id": "4cd12e6e",
   "metadata": {},
   "outputs": [],
   "source": [
    "#x = x.union(set(not_p)) \n",
    "#x - set(d.TF_name.values).union(set(tf.TF.values)) -set(d.TF_name.values) .intersection(set(tf.TF.values))"
   ]
  },
  {
   "cell_type": "code",
   "execution_count": 55,
   "id": "fba66750",
   "metadata": {},
   "outputs": [
    {
     "data": {
      "text/plain": [
       "(49389, 3)"
      ]
     },
     "execution_count": 55,
     "metadata": {},
     "output_type": "execute_result"
    }
   ],
   "source": [
    "d.shape"
   ]
  },
  {
   "cell_type": "code",
   "execution_count": 56,
   "id": "d0489c24",
   "metadata": {},
   "outputs": [
    {
     "data": {
      "text/html": [
       "<div>\n",
       "<style scoped>\n",
       "    .dataframe tbody tr th:only-of-type {\n",
       "        vertical-align: middle;\n",
       "    }\n",
       "\n",
       "    .dataframe tbody tr th {\n",
       "        vertical-align: top;\n",
       "    }\n",
       "\n",
       "    .dataframe thead th {\n",
       "        text-align: right;\n",
       "    }\n",
       "</style>\n",
       "<table border=\"1\" class=\"dataframe\">\n",
       "  <thead>\n",
       "    <tr style=\"text-align: right;\">\n",
       "      <th></th>\n",
       "      <th>TF_name</th>\n",
       "      <th>Interacting_Partner</th>\n",
       "      <th>Score</th>\n",
       "    </tr>\n",
       "  </thead>\n",
       "  <tbody>\n",
       "    <tr>\n",
       "      <th>0</th>\n",
       "      <td>HOXA11</td>\n",
       "      <td>HOXA10</td>\n",
       "      <td>1</td>\n",
       "    </tr>\n",
       "    <tr>\n",
       "      <th>1</th>\n",
       "      <td>HOXA11</td>\n",
       "      <td>FOXO1</td>\n",
       "      <td>1</td>\n",
       "    </tr>\n",
       "    <tr>\n",
       "      <th>2</th>\n",
       "      <td>HOXA11</td>\n",
       "      <td>PAX2</td>\n",
       "      <td>1</td>\n",
       "    </tr>\n",
       "    <tr>\n",
       "      <th>3</th>\n",
       "      <td>HOXA11</td>\n",
       "      <td>HOXA13</td>\n",
       "      <td>1</td>\n",
       "    </tr>\n",
       "    <tr>\n",
       "      <th>4</th>\n",
       "      <td>HOXA11</td>\n",
       "      <td>PBX1</td>\n",
       "      <td>1</td>\n",
       "    </tr>\n",
       "  </tbody>\n",
       "</table>\n",
       "</div>"
      ],
      "text/plain": [
       "  TF_name Interacting_Partner  Score\n",
       "0  HOXA11              HOXA10      1\n",
       "1  HOXA11               FOXO1      1\n",
       "2  HOXA11                PAX2      1\n",
       "3  HOXA11              HOXA13      1\n",
       "4  HOXA11                PBX1      1"
      ]
     },
     "execution_count": 56,
     "metadata": {},
     "output_type": "execute_result"
    }
   ],
   "source": [
    "d.head()"
   ]
  },
  {
   "cell_type": "code",
   "execution_count": 57,
   "id": "cd57332d",
   "metadata": {},
   "outputs": [],
   "source": [
    "l = set(d.TF_name.values)"
   ]
  },
  {
   "cell_type": "code",
   "execution_count": 58,
   "id": "d97729f8",
   "metadata": {},
   "outputs": [],
   "source": [
    "d = d[d.Interacting_Partner.isin(l)]"
   ]
  },
  {
   "cell_type": "code",
   "execution_count": 59,
   "id": "d1981d49",
   "metadata": {},
   "outputs": [
    {
     "data": {
      "text/html": [
       "<div>\n",
       "<style scoped>\n",
       "    .dataframe tbody tr th:only-of-type {\n",
       "        vertical-align: middle;\n",
       "    }\n",
       "\n",
       "    .dataframe tbody tr th {\n",
       "        vertical-align: top;\n",
       "    }\n",
       "\n",
       "    .dataframe thead th {\n",
       "        text-align: right;\n",
       "    }\n",
       "</style>\n",
       "<table border=\"1\" class=\"dataframe\">\n",
       "  <thead>\n",
       "    <tr style=\"text-align: right;\">\n",
       "      <th></th>\n",
       "      <th>TF_name</th>\n",
       "      <th>Interacting_Partner</th>\n",
       "      <th>Score</th>\n",
       "    </tr>\n",
       "  </thead>\n",
       "  <tbody>\n",
       "    <tr>\n",
       "      <th>0</th>\n",
       "      <td>HOXA11</td>\n",
       "      <td>HOXA10</td>\n",
       "      <td>1</td>\n",
       "    </tr>\n",
       "    <tr>\n",
       "      <th>2</th>\n",
       "      <td>HOXA11</td>\n",
       "      <td>PAX2</td>\n",
       "      <td>1</td>\n",
       "    </tr>\n",
       "    <tr>\n",
       "      <th>3</th>\n",
       "      <td>HOXA11</td>\n",
       "      <td>HOXA13</td>\n",
       "      <td>1</td>\n",
       "    </tr>\n",
       "    <tr>\n",
       "      <th>4</th>\n",
       "      <td>HOXA11</td>\n",
       "      <td>PBX1</td>\n",
       "      <td>1</td>\n",
       "    </tr>\n",
       "    <tr>\n",
       "      <th>6</th>\n",
       "      <td>HOXA11</td>\n",
       "      <td>EMX2</td>\n",
       "      <td>1</td>\n",
       "    </tr>\n",
       "  </tbody>\n",
       "</table>\n",
       "</div>"
      ],
      "text/plain": [
       "  TF_name Interacting_Partner  Score\n",
       "0  HOXA11              HOXA10      1\n",
       "2  HOXA11                PAX2      1\n",
       "3  HOXA11              HOXA13      1\n",
       "4  HOXA11                PBX1      1\n",
       "6  HOXA11                EMX2      1"
      ]
     },
     "execution_count": 59,
     "metadata": {},
     "output_type": "execute_result"
    }
   ],
   "source": [
    "d.head()"
   ]
  },
  {
   "cell_type": "code",
   "execution_count": 60,
   "id": "f870748d",
   "metadata": {},
   "outputs": [
    {
     "data": {
      "text/plain": [
       "set()"
      ]
     },
     "execution_count": 60,
     "metadata": {},
     "output_type": "execute_result"
    }
   ],
   "source": [
    "set(d.TF_name) - set(d.Interacting_Partner)"
   ]
  },
  {
   "cell_type": "code",
   "execution_count": 61,
   "id": "0b42b256",
   "metadata": {},
   "outputs": [
    {
     "data": {
      "text/plain": [
       "set()"
      ]
     },
     "execution_count": 61,
     "metadata": {},
     "output_type": "execute_result"
    }
   ],
   "source": [
    "set(d.Interacting_Partner) - set(d.TF_name)"
   ]
  },
  {
   "cell_type": "code",
   "execution_count": 62,
   "id": "b6c6ba11",
   "metadata": {},
   "outputs": [
    {
     "data": {
      "text/plain": [
       "781"
      ]
     },
     "execution_count": 62,
     "metadata": {},
     "output_type": "execute_result"
    }
   ],
   "source": [
    "l = set(d.TF_name.values)\n",
    "len(l)"
   ]
  },
  {
   "cell_type": "code",
   "execution_count": 63,
   "id": "71627e46",
   "metadata": {},
   "outputs": [
    {
     "data": {
      "text/html": [
       "<div>\n",
       "<style scoped>\n",
       "    .dataframe tbody tr th:only-of-type {\n",
       "        vertical-align: middle;\n",
       "    }\n",
       "\n",
       "    .dataframe tbody tr th {\n",
       "        vertical-align: top;\n",
       "    }\n",
       "\n",
       "    .dataframe thead th {\n",
       "        text-align: right;\n",
       "    }\n",
       "</style>\n",
       "<table border=\"1\" class=\"dataframe\">\n",
       "  <thead>\n",
       "    <tr style=\"text-align: right;\">\n",
       "      <th></th>\n",
       "      <th>TF</th>\n",
       "      <th>Genes</th>\n",
       "      <th>Edge</th>\n",
       "      <th>TF_Ensemble</th>\n",
       "    </tr>\n",
       "  </thead>\n",
       "  <tbody>\n",
       "    <tr>\n",
       "      <th>0</th>\n",
       "      <td>ATF7-NPFF</td>\n",
       "      <td>ENSG00000228327</td>\n",
       "      <td>1</td>\n",
       "      <td>ENSG00000267281</td>\n",
       "    </tr>\n",
       "    <tr>\n",
       "      <th>1</th>\n",
       "      <td>ATF7-NPFF</td>\n",
       "      <td>ENSG00000237491</td>\n",
       "      <td>1</td>\n",
       "      <td>ENSG00000267281</td>\n",
       "    </tr>\n",
       "    <tr>\n",
       "      <th>2</th>\n",
       "      <td>ATF7-NPFF</td>\n",
       "      <td>ENSG00000188290</td>\n",
       "      <td>1</td>\n",
       "      <td>ENSG00000267281</td>\n",
       "    </tr>\n",
       "    <tr>\n",
       "      <th>3</th>\n",
       "      <td>ATF7-NPFF</td>\n",
       "      <td>ENSG00000187608</td>\n",
       "      <td>1</td>\n",
       "      <td>ENSG00000267281</td>\n",
       "    </tr>\n",
       "    <tr>\n",
       "      <th>4</th>\n",
       "      <td>ATF7-NPFF</td>\n",
       "      <td>ENSG00000234396</td>\n",
       "      <td>1</td>\n",
       "      <td>ENSG00000267281</td>\n",
       "    </tr>\n",
       "  </tbody>\n",
       "</table>\n",
       "</div>"
      ],
      "text/plain": [
       "          TF            Genes  Edge      TF_Ensemble\n",
       "0  ATF7-NPFF  ENSG00000228327     1  ENSG00000267281\n",
       "1  ATF7-NPFF  ENSG00000237491     1  ENSG00000267281\n",
       "2  ATF7-NPFF  ENSG00000188290     1  ENSG00000267281\n",
       "3  ATF7-NPFF  ENSG00000187608     1  ENSG00000267281\n",
       "4  ATF7-NPFF  ENSG00000234396     1  ENSG00000267281"
      ]
     },
     "execution_count": 63,
     "metadata": {},
     "output_type": "execute_result"
    }
   ],
   "source": [
    "tf.head()"
   ]
  },
  {
   "cell_type": "code",
   "execution_count": 64,
   "id": "cf9d40c9",
   "metadata": {},
   "outputs": [
    {
     "data": {
      "text/html": [
       "<div>\n",
       "<style scoped>\n",
       "    .dataframe tbody tr th:only-of-type {\n",
       "        vertical-align: middle;\n",
       "    }\n",
       "\n",
       "    .dataframe tbody tr th {\n",
       "        vertical-align: top;\n",
       "    }\n",
       "\n",
       "    .dataframe thead th {\n",
       "        text-align: right;\n",
       "    }\n",
       "</style>\n",
       "<table border=\"1\" class=\"dataframe\">\n",
       "  <thead>\n",
       "    <tr style=\"text-align: right;\">\n",
       "      <th></th>\n",
       "      <th>TF_name</th>\n",
       "      <th>Interacting_Partner</th>\n",
       "      <th>Score</th>\n",
       "    </tr>\n",
       "  </thead>\n",
       "  <tbody>\n",
       "    <tr>\n",
       "      <th>0</th>\n",
       "      <td>HOXA11</td>\n",
       "      <td>HOXA10</td>\n",
       "      <td>1</td>\n",
       "    </tr>\n",
       "    <tr>\n",
       "      <th>2</th>\n",
       "      <td>HOXA11</td>\n",
       "      <td>PAX2</td>\n",
       "      <td>1</td>\n",
       "    </tr>\n",
       "    <tr>\n",
       "      <th>3</th>\n",
       "      <td>HOXA11</td>\n",
       "      <td>HOXA13</td>\n",
       "      <td>1</td>\n",
       "    </tr>\n",
       "    <tr>\n",
       "      <th>4</th>\n",
       "      <td>HOXA11</td>\n",
       "      <td>PBX1</td>\n",
       "      <td>1</td>\n",
       "    </tr>\n",
       "    <tr>\n",
       "      <th>6</th>\n",
       "      <td>HOXA11</td>\n",
       "      <td>EMX2</td>\n",
       "      <td>1</td>\n",
       "    </tr>\n",
       "  </tbody>\n",
       "</table>\n",
       "</div>"
      ],
      "text/plain": [
       "  TF_name Interacting_Partner  Score\n",
       "0  HOXA11              HOXA10      1\n",
       "2  HOXA11                PAX2      1\n",
       "3  HOXA11              HOXA13      1\n",
       "4  HOXA11                PBX1      1\n",
       "6  HOXA11                EMX2      1"
      ]
     },
     "execution_count": 64,
     "metadata": {},
     "output_type": "execute_result"
    }
   ],
   "source": [
    "d.head()"
   ]
  },
  {
   "cell_type": "code",
   "execution_count": 65,
   "id": "e5feef1f",
   "metadata": {},
   "outputs": [
    {
     "data": {
      "text/html": [
       "<div>\n",
       "<style scoped>\n",
       "    .dataframe tbody tr th:only-of-type {\n",
       "        vertical-align: middle;\n",
       "    }\n",
       "\n",
       "    .dataframe tbody tr th {\n",
       "        vertical-align: top;\n",
       "    }\n",
       "\n",
       "    .dataframe thead th {\n",
       "        text-align: right;\n",
       "    }\n",
       "</style>\n",
       "<table border=\"1\" class=\"dataframe\">\n",
       "  <thead>\n",
       "    <tr style=\"text-align: right;\">\n",
       "      <th></th>\n",
       "      <th>TF</th>\n",
       "      <th>Genes</th>\n",
       "      <th>Edge</th>\n",
       "      <th>TF_Ensemble</th>\n",
       "    </tr>\n",
       "  </thead>\n",
       "  <tbody>\n",
       "    <tr>\n",
       "      <th>0</th>\n",
       "      <td>ATF7-NPFF</td>\n",
       "      <td>ENSG00000228327</td>\n",
       "      <td>1</td>\n",
       "      <td>ENSG00000267281</td>\n",
       "    </tr>\n",
       "    <tr>\n",
       "      <th>1</th>\n",
       "      <td>ATF7-NPFF</td>\n",
       "      <td>ENSG00000237491</td>\n",
       "      <td>1</td>\n",
       "      <td>ENSG00000267281</td>\n",
       "    </tr>\n",
       "    <tr>\n",
       "      <th>2</th>\n",
       "      <td>ATF7-NPFF</td>\n",
       "      <td>ENSG00000188290</td>\n",
       "      <td>1</td>\n",
       "      <td>ENSG00000267281</td>\n",
       "    </tr>\n",
       "    <tr>\n",
       "      <th>3</th>\n",
       "      <td>ATF7-NPFF</td>\n",
       "      <td>ENSG00000187608</td>\n",
       "      <td>1</td>\n",
       "      <td>ENSG00000267281</td>\n",
       "    </tr>\n",
       "    <tr>\n",
       "      <th>4</th>\n",
       "      <td>ATF7-NPFF</td>\n",
       "      <td>ENSG00000234396</td>\n",
       "      <td>1</td>\n",
       "      <td>ENSG00000267281</td>\n",
       "    </tr>\n",
       "    <tr>\n",
       "      <th>...</th>\n",
       "      <td>...</td>\n",
       "      <td>...</td>\n",
       "      <td>...</td>\n",
       "      <td>...</td>\n",
       "    </tr>\n",
       "    <tr>\n",
       "      <th>2180246</th>\n",
       "      <td>ZSCAN9</td>\n",
       "      <td>ENSG00000185022</td>\n",
       "      <td>1</td>\n",
       "      <td>ENSG00000137185</td>\n",
       "    </tr>\n",
       "    <tr>\n",
       "      <th>2180247</th>\n",
       "      <td>ZSCAN9</td>\n",
       "      <td>ENSG00000100417</td>\n",
       "      <td>1</td>\n",
       "      <td>ENSG00000137185</td>\n",
       "    </tr>\n",
       "    <tr>\n",
       "      <th>2180248</th>\n",
       "      <td>ZSCAN9</td>\n",
       "      <td>ENSG00000280199</td>\n",
       "      <td>1</td>\n",
       "      <td>ENSG00000137185</td>\n",
       "    </tr>\n",
       "    <tr>\n",
       "      <th>2180249</th>\n",
       "      <td>ZSCAN9</td>\n",
       "      <td>ENSG00000260613</td>\n",
       "      <td>1</td>\n",
       "      <td>ENSG00000137185</td>\n",
       "    </tr>\n",
       "    <tr>\n",
       "      <th>2180250</th>\n",
       "      <td>ZSCAN9</td>\n",
       "      <td>ENSG00000273272</td>\n",
       "      <td>1</td>\n",
       "      <td>ENSG00000137185</td>\n",
       "    </tr>\n",
       "  </tbody>\n",
       "</table>\n",
       "<p>2180251 rows × 4 columns</p>\n",
       "</div>"
      ],
      "text/plain": [
       "                TF            Genes  Edge      TF_Ensemble\n",
       "0        ATF7-NPFF  ENSG00000228327     1  ENSG00000267281\n",
       "1        ATF7-NPFF  ENSG00000237491     1  ENSG00000267281\n",
       "2        ATF7-NPFF  ENSG00000188290     1  ENSG00000267281\n",
       "3        ATF7-NPFF  ENSG00000187608     1  ENSG00000267281\n",
       "4        ATF7-NPFF  ENSG00000234396     1  ENSG00000267281\n",
       "...            ...              ...   ...              ...\n",
       "2180246     ZSCAN9  ENSG00000185022     1  ENSG00000137185\n",
       "2180247     ZSCAN9  ENSG00000100417     1  ENSG00000137185\n",
       "2180248     ZSCAN9  ENSG00000280199     1  ENSG00000137185\n",
       "2180249     ZSCAN9  ENSG00000260613     1  ENSG00000137185\n",
       "2180250     ZSCAN9  ENSG00000273272     1  ENSG00000137185\n",
       "\n",
       "[2180251 rows x 4 columns]"
      ]
     },
     "execution_count": 65,
     "metadata": {},
     "output_type": "execute_result"
    }
   ],
   "source": [
    "tf"
   ]
  },
  {
   "cell_type": "code",
   "execution_count": 66,
   "id": "04ff4e2c",
   "metadata": {},
   "outputs": [
    {
     "data": {
      "text/html": [
       "<div>\n",
       "<style scoped>\n",
       "    .dataframe tbody tr th:only-of-type {\n",
       "        vertical-align: middle;\n",
       "    }\n",
       "\n",
       "    .dataframe tbody tr th {\n",
       "        vertical-align: top;\n",
       "    }\n",
       "\n",
       "    .dataframe thead th {\n",
       "        text-align: right;\n",
       "    }\n",
       "</style>\n",
       "<table border=\"1\" class=\"dataframe\">\n",
       "  <thead>\n",
       "    <tr style=\"text-align: right;\">\n",
       "      <th></th>\n",
       "      <th>TF</th>\n",
       "      <th>Genes</th>\n",
       "      <th>Edge</th>\n",
       "      <th>TF_Ensemble</th>\n",
       "    </tr>\n",
       "  </thead>\n",
       "  <tbody>\n",
       "    <tr>\n",
       "      <th>492387</th>\n",
       "      <td>PAX2</td>\n",
       "      <td>ENSG00000187634</td>\n",
       "      <td>1</td>\n",
       "      <td>ENSG00000075891</td>\n",
       "    </tr>\n",
       "    <tr>\n",
       "      <th>492388</th>\n",
       "      <td>PAX2</td>\n",
       "      <td>ENSG00000162576</td>\n",
       "      <td>1</td>\n",
       "      <td>ENSG00000075891</td>\n",
       "    </tr>\n",
       "    <tr>\n",
       "      <th>492389</th>\n",
       "      <td>PAX2</td>\n",
       "      <td>ENSG00000160075</td>\n",
       "      <td>1</td>\n",
       "      <td>ENSG00000075891</td>\n",
       "    </tr>\n",
       "    <tr>\n",
       "      <th>492390</th>\n",
       "      <td>PAX2</td>\n",
       "      <td>ENSG00000041988</td>\n",
       "      <td>1</td>\n",
       "      <td>ENSG00000075891</td>\n",
       "    </tr>\n",
       "    <tr>\n",
       "      <th>492391</th>\n",
       "      <td>PAX2</td>\n",
       "      <td>ENSG00000274178</td>\n",
       "      <td>1</td>\n",
       "      <td>ENSG00000075891</td>\n",
       "    </tr>\n",
       "    <tr>\n",
       "      <th>...</th>\n",
       "      <td>...</td>\n",
       "      <td>...</td>\n",
       "      <td>...</td>\n",
       "      <td>...</td>\n",
       "    </tr>\n",
       "    <tr>\n",
       "      <th>492653</th>\n",
       "      <td>PAX2</td>\n",
       "      <td>ENSG00000264452</td>\n",
       "      <td>1</td>\n",
       "      <td>ENSG00000075891</td>\n",
       "    </tr>\n",
       "    <tr>\n",
       "      <th>492654</th>\n",
       "      <td>PAX2</td>\n",
       "      <td>ENSG00000015475</td>\n",
       "      <td>1</td>\n",
       "      <td>ENSG00000075891</td>\n",
       "    </tr>\n",
       "    <tr>\n",
       "      <th>492655</th>\n",
       "      <td>PAX2</td>\n",
       "      <td>ENSG00000099999</td>\n",
       "      <td>1</td>\n",
       "      <td>ENSG00000075891</td>\n",
       "    </tr>\n",
       "    <tr>\n",
       "      <th>492656</th>\n",
       "      <td>PAX2</td>\n",
       "      <td>ENSG00000202058</td>\n",
       "      <td>1</td>\n",
       "      <td>ENSG00000075891</td>\n",
       "    </tr>\n",
       "    <tr>\n",
       "      <th>492657</th>\n",
       "      <td>PAX2</td>\n",
       "      <td>ENSG00000280080</td>\n",
       "      <td>1</td>\n",
       "      <td>ENSG00000075891</td>\n",
       "    </tr>\n",
       "  </tbody>\n",
       "</table>\n",
       "<p>271 rows × 4 columns</p>\n",
       "</div>"
      ],
      "text/plain": [
       "          TF            Genes  Edge      TF_Ensemble\n",
       "492387  PAX2  ENSG00000187634     1  ENSG00000075891\n",
       "492388  PAX2  ENSG00000162576     1  ENSG00000075891\n",
       "492389  PAX2  ENSG00000160075     1  ENSG00000075891\n",
       "492390  PAX2  ENSG00000041988     1  ENSG00000075891\n",
       "492391  PAX2  ENSG00000274178     1  ENSG00000075891\n",
       "...      ...              ...   ...              ...\n",
       "492653  PAX2  ENSG00000264452     1  ENSG00000075891\n",
       "492654  PAX2  ENSG00000015475     1  ENSG00000075891\n",
       "492655  PAX2  ENSG00000099999     1  ENSG00000075891\n",
       "492656  PAX2  ENSG00000202058     1  ENSG00000075891\n",
       "492657  PAX2  ENSG00000280080     1  ENSG00000075891\n",
       "\n",
       "[271 rows x 4 columns]"
      ]
     },
     "execution_count": 66,
     "metadata": {},
     "output_type": "execute_result"
    }
   ],
   "source": [
    "tf[tf.TF == 'PAX2']"
   ]
  },
  {
   "cell_type": "code",
   "execution_count": 67,
   "id": "e2dfd984",
   "metadata": {},
   "outputs": [
    {
     "data": {
      "text/plain": [
       "'ENSG00000064218'"
      ]
     },
     "execution_count": 67,
     "metadata": {},
     "output_type": "execute_result"
    }
   ],
   "source": [
    "tf[tf.TF == 'DMRT3']['TF_Ensemble'].values[0]"
   ]
  },
  {
   "cell_type": "code",
   "execution_count": null,
   "id": "52776436",
   "metadata": {},
   "outputs": [],
   "source": []
  },
  {
   "cell_type": "code",
   "execution_count": 68,
   "id": "ad081b03",
   "metadata": {},
   "outputs": [],
   "source": [
    "def return_ensemble(symbol):\n",
    "    \n",
    "    return tf[tf.TF == symbol]['TF_Ensemble'].values[0]\n",
    "   "
   ]
  },
  {
   "cell_type": "code",
   "execution_count": 77,
   "id": "dbc80069",
   "metadata": {},
   "outputs": [
    {
     "name": "stderr",
     "output_type": "stream",
     "text": [
      "12150it [20:50,  9.72it/s]\n"
     ]
    }
   ],
   "source": [
    "j = []\n",
    "k = []\n",
    "for i,row in tqdm(d.iterrows()):\n",
    "    j.append(tf[tf.TF == row['TF_name']]['TF_Ensemble'].values[0])\n",
    "    k.append(tf[tf.TF == row['Interacting_Partner']]['TF_Ensemble'].values[0])\n",
    "\n",
    "d['TF_name'] = j  \n",
    "d['Interacting_Partner'] = k"
   ]
  },
  {
   "cell_type": "code",
   "execution_count": 78,
   "id": "42664671",
   "metadata": {},
   "outputs": [
    {
     "data": {
      "text/html": [
       "<div>\n",
       "<style scoped>\n",
       "    .dataframe tbody tr th:only-of-type {\n",
       "        vertical-align: middle;\n",
       "    }\n",
       "\n",
       "    .dataframe tbody tr th {\n",
       "        vertical-align: top;\n",
       "    }\n",
       "\n",
       "    .dataframe thead th {\n",
       "        text-align: right;\n",
       "    }\n",
       "</style>\n",
       "<table border=\"1\" class=\"dataframe\">\n",
       "  <thead>\n",
       "    <tr style=\"text-align: right;\">\n",
       "      <th></th>\n",
       "      <th>TF_name</th>\n",
       "      <th>Interacting_Partner</th>\n",
       "      <th>Score</th>\n",
       "    </tr>\n",
       "  </thead>\n",
       "  <tbody>\n",
       "    <tr>\n",
       "      <th>0</th>\n",
       "      <td>ENSG00000005073</td>\n",
       "      <td>ENSG00000253293</td>\n",
       "      <td>1</td>\n",
       "    </tr>\n",
       "    <tr>\n",
       "      <th>2</th>\n",
       "      <td>ENSG00000005073</td>\n",
       "      <td>ENSG00000075891</td>\n",
       "      <td>1</td>\n",
       "    </tr>\n",
       "    <tr>\n",
       "      <th>3</th>\n",
       "      <td>ENSG00000005073</td>\n",
       "      <td>ENSG00000106031</td>\n",
       "      <td>1</td>\n",
       "    </tr>\n",
       "    <tr>\n",
       "      <th>4</th>\n",
       "      <td>ENSG00000005073</td>\n",
       "      <td>ENSG00000185630</td>\n",
       "      <td>1</td>\n",
       "    </tr>\n",
       "    <tr>\n",
       "      <th>6</th>\n",
       "      <td>ENSG00000005073</td>\n",
       "      <td>ENSG00000170370</td>\n",
       "      <td>1</td>\n",
       "    </tr>\n",
       "    <tr>\n",
       "      <th>...</th>\n",
       "      <td>...</td>\n",
       "      <td>...</td>\n",
       "      <td>...</td>\n",
       "    </tr>\n",
       "    <tr>\n",
       "      <th>49374</th>\n",
       "      <td>ENSG00000164749</td>\n",
       "      <td>ENSG00000111206</td>\n",
       "      <td>1</td>\n",
       "    </tr>\n",
       "    <tr>\n",
       "      <th>49376</th>\n",
       "      <td>ENSG00000164749</td>\n",
       "      <td>ENSG00000129514</td>\n",
       "      <td>1</td>\n",
       "    </tr>\n",
       "    <tr>\n",
       "      <th>49383</th>\n",
       "      <td>ENSG00000181827</td>\n",
       "      <td>ENSG00000143390</td>\n",
       "      <td>1</td>\n",
       "    </tr>\n",
       "    <tr>\n",
       "      <th>49387</th>\n",
       "      <td>ENSG00000181827</td>\n",
       "      <td>ENSG00000111783</td>\n",
       "      <td>1</td>\n",
       "    </tr>\n",
       "    <tr>\n",
       "      <th>49388</th>\n",
       "      <td>ENSG00000181827</td>\n",
       "      <td>ENSG00000132005</td>\n",
       "      <td>1</td>\n",
       "    </tr>\n",
       "  </tbody>\n",
       "</table>\n",
       "<p>12150 rows × 3 columns</p>\n",
       "</div>"
      ],
      "text/plain": [
       "               TF_name Interacting_Partner  Score\n",
       "0      ENSG00000005073     ENSG00000253293      1\n",
       "2      ENSG00000005073     ENSG00000075891      1\n",
       "3      ENSG00000005073     ENSG00000106031      1\n",
       "4      ENSG00000005073     ENSG00000185630      1\n",
       "6      ENSG00000005073     ENSG00000170370      1\n",
       "...                ...                 ...    ...\n",
       "49374  ENSG00000164749     ENSG00000111206      1\n",
       "49376  ENSG00000164749     ENSG00000129514      1\n",
       "49383  ENSG00000181827     ENSG00000143390      1\n",
       "49387  ENSG00000181827     ENSG00000111783      1\n",
       "49388  ENSG00000181827     ENSG00000132005      1\n",
       "\n",
       "[12150 rows x 3 columns]"
      ]
     },
     "execution_count": 78,
     "metadata": {},
     "output_type": "execute_result"
    }
   ],
   "source": [
    "d"
   ]
  },
  {
   "cell_type": "code",
   "execution_count": null,
   "id": "5c4de70f",
   "metadata": {},
   "outputs": [],
   "source": [
    "d.to_csv('./t2t_assembly/T2T_assembly_GRN_input_Data/TF_TF_PPI.csv')"
   ]
  },
  {
   "cell_type": "code",
   "execution_count": null,
   "id": "f498a60a",
   "metadata": {},
   "outputs": [],
   "source": [
    "'''\n",
    "l = list(l)\n",
    "len(l)\n",
    "import mygene\n",
    "from gprofiler import GProfiler\n",
    "\n",
    "gp = GProfiler(return_dataframe=True)\n",
    "df = gp.orth(organism='hsapiens',\n",
    "            query=l,\n",
    "            target='mmusculus')\n",
    "            \n",
    "df = df[['incoming','converted']]\n",
    "df = df.drop_duplicates()\n",
    "\n",
    "df[df.converted == 'N/A']\n",
    "df.loc[117,'converted'] = 'ENSG00000181638'\n",
    "df[df.converted == 'N/A']\n",
    "df = df.reset_index(drop=True)\n",
    "\n",
    "\n",
    "df[df.incoming == 'FOXP1']\n",
    "df.drop(labels = 235, inplace=True,axis = 0)\n",
    "df[df.incoming == 'FOXP1']\n",
    "df = df.reset_index(drop=True)¨\n",
    "\n",
    "\n",
    "df[df.incoming == 'DDIT3']\n",
    "df.drop(labels = 497, inplace=True,axis = 0)\n",
    "df = df.reset_index(drop=True)\n",
    "df[df.incoming == 'DDIT3']\n",
    "\n",
    "df[df.incoming == 'ZNF263']\n",
    "df.drop(labels = 64, inplace=True,axis = 0)\n",
    "df = df.reset_index(drop=True)\n",
    "df[df.incoming == 'ZNF263']\n",
    "\n",
    "\n",
    "df[df.incoming == 'ZNF547']\n",
    "df.drop(labels = [113,114], inplace=True,axis = 0)\n",
    "df = df.reset_index(drop=True)\n",
    "df[df.incoming == 'ZNF547']\n",
    "\n",
    "\n",
    "df[df.incoming == 'HSFY1']\n",
    "df.drop(labels = 242, inplace=True,axis = 0)\n",
    "df = df.reset_index(drop=True)\n",
    "df[df.incoming == 'HSFY1']\n",
    "\n",
    "\n",
    "len(set(df.converted))\n",
    "\n",
    "df.to_csv('./t2t_assembly/T2T_assembly_GRN_input_Data//TF_TF_PPI_symbol_to_ensembleid.csv')\n",
    "\n",
    "def return_ensemble(symbol):   \n",
    "    return df[df.incoming == symbol]['converted'].values[0]\n",
    "    \n",
    "d['TF_name'] = d['TF_name'].apply(return_ensemble)    \n",
    "d['Interacting_Partner'] = d['Interacting_Partner'].apply(return_ensemble)\n",
    "\n",
    "'''"
   ]
  }
 ],
 "metadata": {
  "kernelspec": {
   "display_name": "Python 3 (ipykernel)",
   "language": "python",
   "name": "python3"
  },
  "language_info": {
   "codemirror_mode": {
    "name": "ipython",
    "version": 3
   },
   "file_extension": ".py",
   "mimetype": "text/x-python",
   "name": "python",
   "nbconvert_exporter": "python",
   "pygments_lexer": "ipython3",
   "version": "3.11.5"
  }
 },
 "nbformat": 4,
 "nbformat_minor": 5
}
