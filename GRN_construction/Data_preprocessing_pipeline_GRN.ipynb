{
 "cells": [
  {
   "cell_type": "markdown",
   "id": "5136b00d",
   "metadata": {},
   "source": [
    "# Index\n",
    "\n",
    "<pre>\n",
    "1. Importing Libraries\n",
    "2. Loading Data:\n",
    "    a. Count Matrix: Expression count\n",
    "    b. Biospecimen Data\n",
    "    c. Clinical Data\n",
    "    d. RNAseq Metadata\n",
    "</pre>"
   ]
  },
  {
   "cell_type": "markdown",
   "id": "37bfac08",
   "metadata": {},
   "source": [
    "# 1. Importing Libraries"
   ]
  },
  {
   "cell_type": "code",
   "execution_count": 17,
   "id": "75d30280",
   "metadata": {},
   "outputs": [],
   "source": [
    "import pandas as pd\n",
    "from tqdm import tqdm\n",
    "import numpy as np\n",
    "import seaborn as sns\n",
    "from IPython.display import Image\n",
    "import matplotlib.pyplot as plt\n",
    "import os\n",
    "import pickle as pkl\n",
    "\n",
    "# Libraries from differential Expression Analysis\n",
    "\n",
    "import conorm\n",
    "import plotly.express as px\n",
    "import plotly.offline as pyo"
   ]
  },
  {
   "cell_type": "markdown",
   "id": "48cab1c3",
   "metadata": {},
   "source": [
    "# 2. Loading Data"
   ]
  },
  {
   "cell_type": "markdown",
   "id": "2b299c49",
   "metadata": {},
   "source": [
    "## 2.1 Count Matrix (Expression Data)"
   ]
  },
  {
   "cell_type": "code",
   "execution_count": 18,
   "id": "b9d2ddc0",
   "metadata": {},
   "outputs": [],
   "source": [
    "count_matrix = pd.read_csv(\"../../../ROSMAP_DATA/ROSMAP_all_counts_matrix.txt\", sep = '\\t')\n",
    "biospecimen_metadata = pd.read_csv('../../../ROSMAP_DATA/ROSMAP_biospecimen_metadata.csv')\n",
    "clinical_data = pd.read_csv('../../../ROSMAP_DATA/ROSMAP_clinical.csv')\n",
    "rna_seq_metadata = pd.read_csv('../../../ROSMAP_DATA/ROSMAP_assay_rnaSeq_metadata.csv').drop_duplicates()"
   ]
  },
  {
   "cell_type": "code",
   "execution_count": 19,
   "id": "cd87fd41",
   "metadata": {},
   "outputs": [
    {
     "data": {
      "text/html": [
       "<div>\n",
       "<style scoped>\n",
       "    .dataframe tbody tr th:only-of-type {\n",
       "        vertical-align: middle;\n",
       "    }\n",
       "\n",
       "    .dataframe tbody tr th {\n",
       "        vertical-align: top;\n",
       "    }\n",
       "\n",
       "    .dataframe thead th {\n",
       "        text-align: right;\n",
       "    }\n",
       "</style>\n",
       "<table border=\"1\" class=\"dataframe\">\n",
       "  <thead>\n",
       "    <tr style=\"text-align: right;\">\n",
       "      <th></th>\n",
       "      <th>feature</th>\n",
       "      <th>01_120405</th>\n",
       "      <th>02_120405</th>\n",
       "      <th>03_120405</th>\n",
       "      <th>04_120405</th>\n",
       "      <th>05_120405</th>\n",
       "      <th>07_120410</th>\n",
       "      <th>08_120410</th>\n",
       "      <th>100_120417</th>\n",
       "      <th>101_120418</th>\n",
       "      <th>...</th>\n",
       "      <th>952_131107</th>\n",
       "      <th>954_131107</th>\n",
       "      <th>956_131107</th>\n",
       "      <th>957_131107</th>\n",
       "      <th>958_131107</th>\n",
       "      <th>96_120417</th>\n",
       "      <th>97_120417</th>\n",
       "      <th>98_120417</th>\n",
       "      <th>R24_131017</th>\n",
       "      <th>redo4_140501</th>\n",
       "    </tr>\n",
       "  </thead>\n",
       "  <tbody>\n",
       "    <tr>\n",
       "      <th>4</th>\n",
       "      <td>ENSG00000223972.5</td>\n",
       "      <td>1</td>\n",
       "      <td>1</td>\n",
       "      <td>1</td>\n",
       "      <td>0</td>\n",
       "      <td>1</td>\n",
       "      <td>0</td>\n",
       "      <td>0</td>\n",
       "      <td>1</td>\n",
       "      <td>1</td>\n",
       "      <td>...</td>\n",
       "      <td>0</td>\n",
       "      <td>0</td>\n",
       "      <td>0</td>\n",
       "      <td>0</td>\n",
       "      <td>0</td>\n",
       "      <td>0</td>\n",
       "      <td>0</td>\n",
       "      <td>0</td>\n",
       "      <td>0</td>\n",
       "      <td>0</td>\n",
       "    </tr>\n",
       "    <tr>\n",
       "      <th>5</th>\n",
       "      <td>ENSG00000227232.5</td>\n",
       "      <td>99</td>\n",
       "      <td>174</td>\n",
       "      <td>78</td>\n",
       "      <td>188</td>\n",
       "      <td>56</td>\n",
       "      <td>81</td>\n",
       "      <td>87</td>\n",
       "      <td>157</td>\n",
       "      <td>136</td>\n",
       "      <td>...</td>\n",
       "      <td>83</td>\n",
       "      <td>188</td>\n",
       "      <td>256</td>\n",
       "      <td>91</td>\n",
       "      <td>413</td>\n",
       "      <td>93</td>\n",
       "      <td>98</td>\n",
       "      <td>171</td>\n",
       "      <td>236</td>\n",
       "      <td>322</td>\n",
       "    </tr>\n",
       "    <tr>\n",
       "      <th>6</th>\n",
       "      <td>ENSG00000278267.1</td>\n",
       "      <td>2</td>\n",
       "      <td>5</td>\n",
       "      <td>5</td>\n",
       "      <td>4</td>\n",
       "      <td>2</td>\n",
       "      <td>1</td>\n",
       "      <td>1</td>\n",
       "      <td>2</td>\n",
       "      <td>2</td>\n",
       "      <td>...</td>\n",
       "      <td>0</td>\n",
       "      <td>6</td>\n",
       "      <td>4</td>\n",
       "      <td>3</td>\n",
       "      <td>10</td>\n",
       "      <td>0</td>\n",
       "      <td>1</td>\n",
       "      <td>7</td>\n",
       "      <td>3</td>\n",
       "      <td>8</td>\n",
       "    </tr>\n",
       "    <tr>\n",
       "      <th>7</th>\n",
       "      <td>ENSG00000243485.3</td>\n",
       "      <td>0</td>\n",
       "      <td>5</td>\n",
       "      <td>2</td>\n",
       "      <td>5</td>\n",
       "      <td>3</td>\n",
       "      <td>0</td>\n",
       "      <td>0</td>\n",
       "      <td>0</td>\n",
       "      <td>0</td>\n",
       "      <td>...</td>\n",
       "      <td>3</td>\n",
       "      <td>0</td>\n",
       "      <td>0</td>\n",
       "      <td>6</td>\n",
       "      <td>2</td>\n",
       "      <td>1</td>\n",
       "      <td>2</td>\n",
       "      <td>2</td>\n",
       "      <td>2</td>\n",
       "      <td>2</td>\n",
       "    </tr>\n",
       "    <tr>\n",
       "      <th>8</th>\n",
       "      <td>ENSG00000274890.1</td>\n",
       "      <td>0</td>\n",
       "      <td>0</td>\n",
       "      <td>0</td>\n",
       "      <td>0</td>\n",
       "      <td>0</td>\n",
       "      <td>0</td>\n",
       "      <td>0</td>\n",
       "      <td>0</td>\n",
       "      <td>0</td>\n",
       "      <td>...</td>\n",
       "      <td>0</td>\n",
       "      <td>0</td>\n",
       "      <td>0</td>\n",
       "      <td>0</td>\n",
       "      <td>0</td>\n",
       "      <td>0</td>\n",
       "      <td>0</td>\n",
       "      <td>0</td>\n",
       "      <td>0</td>\n",
       "      <td>0</td>\n",
       "    </tr>\n",
       "  </tbody>\n",
       "</table>\n",
       "<p>5 rows × 639 columns</p>\n",
       "</div>"
      ],
      "text/plain": [
       "             feature 01_120405 02_120405 03_120405 04_120405 05_120405  \\\n",
       "4  ENSG00000223972.5         1         1         1         0         1   \n",
       "5  ENSG00000227232.5        99       174        78       188        56   \n",
       "6  ENSG00000278267.1         2         5         5         4         2   \n",
       "7  ENSG00000243485.3         0         5         2         5         3   \n",
       "8  ENSG00000274890.1         0         0         0         0         0   \n",
       "\n",
       "  07_120410 08_120410 100_120417 101_120418  ... 952_131107 954_131107  \\\n",
       "4         0         0          1          1  ...          0          0   \n",
       "5        81        87        157        136  ...         83        188   \n",
       "6         1         1          2          2  ...          0          6   \n",
       "7         0         0          0          0  ...          3          0   \n",
       "8         0         0          0          0  ...          0          0   \n",
       "\n",
       "  956_131107 957_131107 958_131107 96_120417 97_120417 98_120417 R24_131017  \\\n",
       "4          0          0          0         0         0         0          0   \n",
       "5        256         91        413        93        98       171        236   \n",
       "6          4          3         10         0         1         7          3   \n",
       "7          0          6          2         1         2         2          2   \n",
       "8          0          0          0         0         0         0          0   \n",
       "\n",
       "  redo4_140501  \n",
       "4            0  \n",
       "5          322  \n",
       "6            8  \n",
       "7            2  \n",
       "8            0  \n",
       "\n",
       "[5 rows x 639 columns]"
      ]
     },
     "execution_count": 19,
     "metadata": {},
     "output_type": "execute_result"
    }
   ],
   "source": [
    "count_matrix.drop(index = count_matrix.index[:4], inplace=True)\n",
    "count_matrix = count_matrix.T.drop_duplicates().T\n",
    "count_matrix.head()"
   ]
  },
  {
   "cell_type": "code",
   "execution_count": 1,
   "id": "f2ed202b",
   "metadata": {},
   "outputs": [],
   "source": [
    "#clinical_data"
   ]
  },
  {
   "cell_type": "code",
   "execution_count": 11,
   "id": "52d95482",
   "metadata": {},
   "outputs": [],
   "source": [
    "clinical_data = clinical_data[clinical_data.individualID.isin(data.columns)]"
   ]
  },
  {
   "cell_type": "code",
   "execution_count": 4,
   "id": "e6a5f3e6",
   "metadata": {},
   "outputs": [
    {
     "name": "stdout",
     "output_type": "stream",
     "text": [
      "Total Number of Genes: 60725\n"
     ]
    }
   ],
   "source": [
    "print(f'Total Number of Genes: {count_matrix.shape[0]}')"
   ]
  },
  {
   "cell_type": "code",
   "execution_count": 129,
   "id": "1882fe39",
   "metadata": {
    "scrolled": true
   },
   "outputs": [
    {
     "data": {
      "text/plain": [
       "0"
      ]
     },
     "execution_count": 129,
     "metadata": {},
     "output_type": "execute_result"
    }
   ],
   "source": [
    "count_matrix.isnull().sum().sum()"
   ]
  },
  {
   "cell_type": "code",
   "execution_count": 130,
   "id": "7b6cafa3",
   "metadata": {},
   "outputs": [],
   "source": [
    "import pickle\n",
    "with open('NCI_with_No_Plaques.pkl','rb') as f:\n",
    "    NCI_with_No_Plaques= pickle.load(f)\n",
    "\n",
    "with open('AD_with_Plaques.pkl','rb') as f:\n",
    "    AD_with_Plaques= pickle.load(f)\n",
    "\n",
    "with open('AD_with_No_Plaques.pkl','rb') as f:\n",
    "    AD_with_No_Plaques= pickle.load(f)\n",
    "\n",
    "with open('NCI_with_Plaques.pkl','rb') as f:\n",
    "    NCI_with_Plaques = pickle.load(f)"
   ]
  },
  {
   "cell_type": "code",
   "execution_count": 131,
   "id": "dbdaa1b1",
   "metadata": {},
   "outputs": [],
   "source": [
    "clinical_data = clinical_data[~clinical_data.cogdx.isna()]"
   ]
  },
  {
   "cell_type": "code",
   "execution_count": 2,
   "id": "72f68a76",
   "metadata": {},
   "outputs": [],
   "source": [
    "#clinical_data = clinical_data[~clinical_data.ceradsc.isna()]\n",
    "clinical_data.head()"
   ]
  },
  {
   "cell_type": "code",
   "execution_count": 133,
   "id": "d188f17a",
   "metadata": {},
   "outputs": [
    {
     "data": {
      "text/plain": [
       "Index(['projid', 'Study', 'msex', 'educ', 'race', 'spanish', 'apoe_genotype',\n",
       "       'age_at_visit_max', 'age_first_ad_dx', 'age_death',\n",
       "       'cts_mmse30_first_ad_dx', 'cts_mmse30_lv', 'pmi', 'braaksc', 'ceradsc',\n",
       "       'cogdx', 'dcfdx_lv', 'individualID'],\n",
       "      dtype='object')"
      ]
     },
     "execution_count": 133,
     "metadata": {},
     "output_type": "execute_result"
    }
   ],
   "source": [
    "clinical_data.columns"
   ]
  },
  {
   "cell_type": "code",
   "execution_count": 3,
   "id": "b73d868b",
   "metadata": {},
   "outputs": [],
   "source": [
    "biospecimen_metadata.head(2)"
   ]
  },
  {
   "cell_type": "code",
   "execution_count": 5,
   "id": "83b365c0",
   "metadata": {},
   "outputs": [
    {
     "data": {
      "text/plain": [
       "\"biospecimen_metadata = biospecimen_metadata[biospecimen_metadata.assay == 'rnaSeq' ]\\nbiospecimen_metadata = biospecimen_metadata[biospecimen_metadata.nucleicAcidSource == 'bulk cell' ]\\nbiospecimen_metadata = biospecimen_metadata[biospecimen_metadata.tissue == 'dorsolateral prefrontal cortex' ]\\nbiospecimen_metadata = biospecimen_metadata[~biospecimen_metadata.individualID.isna()  ]\\n\\nbiospecimen_metadata\""
      ]
     },
     "execution_count": 5,
     "metadata": {},
     "output_type": "execute_result"
    }
   ],
   "source": [
    "biospecimen_metadata = biospecimen_metadata[biospecimen_metadata.assay == 'rnaSeq' ]\n",
    "biospecimen_metadata = biospecimen_metadata[biospecimen_metadata.nucleicAcidSource == 'bulk cell' ]\n",
    "biospecimen_metadata = biospecimen_metadata[biospecimen_metadata.tissue == 'dorsolateral prefrontal cortex' ]\n",
    "biospecimen_metadata = biospecimen_metadata[~biospecimen_metadata.individualID.isna()  ]\n",
    "\n",
    "biospecimen_metadata"
   ]
  },
  {
   "cell_type": "code",
   "execution_count": 136,
   "id": "b67e98ca",
   "metadata": {},
   "outputs": [
    {
     "data": {
      "text/plain": [
       "0"
      ]
     },
     "execution_count": 136,
     "metadata": {},
     "output_type": "execute_result"
    }
   ],
   "source": [
    "sum(biospecimen_metadata.individualID.isna())"
   ]
  },
  {
   "cell_type": "code",
   "execution_count": 137,
   "id": "5633bd9f",
   "metadata": {},
   "outputs": [],
   "source": [
    "specimenID = count_matrix.columns.values[1:]"
   ]
  },
  {
   "cell_type": "code",
   "execution_count": 138,
   "id": "c4fb3bf3",
   "metadata": {},
   "outputs": [],
   "source": [
    "biospecimen_metadata = biospecimen_metadata[biospecimen_metadata.specimenID.isin(specimenID)]"
   ]
  },
  {
   "cell_type": "code",
   "execution_count": 6,
   "id": "705f5335",
   "metadata": {},
   "outputs": [],
   "source": [
    "biospecimen_metadata[biospecimen_metadata.specimenID.isin(['316_120501','764_130520','791_130530','800_130701'])]"
   ]
  },
  {
   "cell_type": "code",
   "execution_count": 140,
   "id": "76459055",
   "metadata": {},
   "outputs": [],
   "source": [
    "def return_specimenid(indvidualid):\n",
    "    \n",
    "    x = biospecimen_metadata[biospecimen_metadata.individualID == indvidualid]['specimenID'].values\n",
    "    try:\n",
    "        return x[0]\n",
    "    except:\n",
    "        return np.nan"
   ]
  },
  {
   "cell_type": "code",
   "execution_count": 141,
   "id": "1caa13cc",
   "metadata": {},
   "outputs": [],
   "source": [
    "clinical_data['specimenID'] = clinical_data.individualID.apply(return_specimenid)"
   ]
  },
  {
   "cell_type": "code",
   "execution_count": 142,
   "id": "8fc40ffc",
   "metadata": {},
   "outputs": [],
   "source": [
    "clinical_data = clinical_data[~clinical_data['specimenID'].isna()]"
   ]
  },
  {
   "cell_type": "code",
   "execution_count": 143,
   "id": "cd4880cd",
   "metadata": {},
   "outputs": [
    {
     "data": {
      "text/plain": [
       "cogdx\n",
       "4.0    222\n",
       "1.0    201\n",
       "2.0    158\n",
       "5.0     33\n",
       "6.0     12\n",
       "3.0     10\n",
       "Name: count, dtype: int64"
      ]
     },
     "execution_count": 143,
     "metadata": {},
     "output_type": "execute_result"
    }
   ],
   "source": [
    "clinical_data.cogdx.value_counts()"
   ]
  },
  {
   "cell_type": "code",
   "execution_count": 7,
   "id": "16c377d2",
   "metadata": {},
   "outputs": [],
   "source": [
    "clinical_data[clinical_data.specimenID.isin(['316_120501','764_130520','791_130530','800_130701'])]"
   ]
  },
  {
   "cell_type": "code",
   "execution_count": 8,
   "id": "0913e2f4",
   "metadata": {},
   "outputs": [],
   "source": [
    "rna_seq_metadata"
   ]
  },
  {
   "cell_type": "code",
   "execution_count": 146,
   "id": "2d853063",
   "metadata": {},
   "outputs": [],
   "source": [
    "clinical_data = clinical_data.merge(rna_seq_metadata, on='specimenID', how='left').drop_duplicates()"
   ]
  },
  {
   "cell_type": "code",
   "execution_count": 9,
   "id": "f431573c",
   "metadata": {},
   "outputs": [],
   "source": [
    "clinical_data"
   ]
  },
  {
   "cell_type": "code",
   "execution_count": 10,
   "id": "161508e3",
   "metadata": {},
   "outputs": [],
   "source": [
    "clinical_data[clinical_data.specimenID.isin(NCI_with_Plaques)].age_death.value_counts()"
   ]
  },
  {
   "cell_type": "code",
   "execution_count": 11,
   "id": "63d3f3cf",
   "metadata": {},
   "outputs": [],
   "source": [
    "clinical_data[clinical_data.specimenID.isin(AD_with_Plaques)].age_death.value_counts()"
   ]
  },
  {
   "cell_type": "code",
   "execution_count": 12,
   "id": "8172e5e6",
   "metadata": {},
   "outputs": [],
   "source": [
    "clinical_data[clinical_data.specimenID.isin(NCI_with_Plaques)].msex.value_counts()"
   ]
  },
  {
   "cell_type": "code",
   "execution_count": 14,
   "id": "f577db2f",
   "metadata": {},
   "outputs": [],
   "source": [
    "clinical_data[clinical_data.specimenID.isin(AD_with_Plaques)].msex.value_counts()"
   ]
  },
  {
   "cell_type": "code",
   "execution_count": 15,
   "id": "884439c2",
   "metadata": {},
   "outputs": [],
   "source": [
    "#pd.set_option('display.max_columns', 20)\n",
    "#clinical_data[clinical_data.specimenID.isin(['316_120501','764_130520','791_130530','800_130701'])]"
   ]
  },
  {
   "cell_type": "code",
   "execution_count": 224,
   "id": "4f2c0722",
   "metadata": {},
   "outputs": [],
   "source": [
    "clinical_data = clinical_data[~clinical_data.specimenID.isin(['316_120501','764_130520','791_130530','800_130701','380_120503'])]"
   ]
  },
  {
   "cell_type": "code",
   "execution_count": 228,
   "id": "d10702a3",
   "metadata": {},
   "outputs": [
    {
     "data": {
      "text/plain": [
       "cogdx\n",
       "4.0    220\n",
       "1.0    200\n",
       "2.0    158\n",
       "5.0     33\n",
       "6.0     12\n",
       "3.0     10\n",
       "Name: count, dtype: int64"
      ]
     },
     "execution_count": 228,
     "metadata": {},
     "output_type": "execute_result"
    }
   ],
   "source": [
    "clinical_data.cogdx.value_counts()"
   ]
  },
  {
   "cell_type": "code",
   "execution_count": 229,
   "id": "a394a484",
   "metadata": {},
   "outputs": [
    {
     "data": {
      "text/plain": [
       "\"clinical_data.cogdx = clinical_data['cogdx'].replace([1.0],'NCI')\\nclinical_data.cogdx  = clinical_data['cogdx'].replace([2.0],'MCI')\\nclinical_data.cogdx  = clinical_data['cogdx'].replace([3.0],'MCI_with_AD_eith_Other')\\nclinical_data.cogdx  = clinical_data['cogdx'].replace([4.0],'AD')\\nclinical_data.cogdx  = clinical_data['cogdx'].replace([5.0],'AD_with_Other')\\nclinical_data.cogdx  = clinical_data['cogdx'].replace([6.0],'Other Dementia')\""
      ]
     },
     "execution_count": 229,
     "metadata": {},
     "output_type": "execute_result"
    }
   ],
   "source": [
    "'''clinical_data.cogdx = clinical_data['cogdx'].replace([1.0],'NCI')\n",
    "clinical_data.cogdx  = clinical_data['cogdx'].replace([2.0],'MCI')\n",
    "clinical_data.cogdx  = clinical_data['cogdx'].replace([3.0],'MCI_with_AD_eith_Other')\n",
    "clinical_data.cogdx  = clinical_data['cogdx'].replace([4.0],'AD')\n",
    "clinical_data.cogdx  = clinical_data['cogdx'].replace([5.0],'AD_with_Other')\n",
    "clinical_data.cogdx  = clinical_data['cogdx'].replace([6.0],'Other Dementia')'''"
   ]
  },
  {
   "cell_type": "code",
   "execution_count": 16,
   "id": "e98b5372",
   "metadata": {},
   "outputs": [],
   "source": [
    "#clinical_data.ceradsc"
   ]
  },
  {
   "cell_type": "code",
   "execution_count": 231,
   "id": "8300d311",
   "metadata": {},
   "outputs": [
    {
     "data": {
      "image/png": "[encoded data removed]",
      "text/plain": [
       "<Figure size 1000x700 with 2 Axes>"
      ]
     },
     "metadata": {},
     "output_type": "display_data"
    }
   ],
   "source": [
    "import seaborn as sns\n",
    "ct = pd.crosstab(clinical_data['cogdx'], clinical_data['ceradsc'])\n",
    "#ct.iloc[3] = ct.iloc[4] + ct.iloc[3]\n",
    "#ct = ct.drop(ct.iloc[4].name)\n",
    "plt.figure(figsize = (10,7))\n",
    "x_axis_labels = ['Definite AD', 'Probable AD','Possible AD', 'No AD'] # labels for x-axis\n",
    "y_axis_labels = ['NCI','MCI (Category 2)', 'MCI (Category 3)', 'AD (Category 4)','AD (Category 5)', 'Other Dementia'] # labels for y-axis\n",
    "sns_plot = sns.heatmap(ct, annot = True, linewidth=.5, fmt=\".0f\", xticklabels=x_axis_labels, yticklabels=y_axis_labels)\n",
    "fig = sns_plot.get_figure()\n",
    "fig.savefig(\"output.png\")"
   ]
  },
  {
   "cell_type": "code",
   "execution_count": 232,
   "id": "be98122e",
   "metadata": {},
   "outputs": [
    {
     "data": {
      "text/html": [
       "<div>\n",
       "<style scoped>\n",
       "    .dataframe tbody tr th:only-of-type {\n",
       "        vertical-align: middle;\n",
       "    }\n",
       "\n",
       "    .dataframe tbody tr th {\n",
       "        vertical-align: top;\n",
       "    }\n",
       "\n",
       "    .dataframe thead th {\n",
       "        text-align: right;\n",
       "    }\n",
       "</style>\n",
       "<table border=\"1\" class=\"dataframe\">\n",
       "  <thead>\n",
       "    <tr style=\"text-align: right;\">\n",
       "      <th>ceradsc</th>\n",
       "      <th>1.0</th>\n",
       "      <th>2.0</th>\n",
       "      <th>3.0</th>\n",
       "      <th>4.0</th>\n",
       "    </tr>\n",
       "    <tr>\n",
       "      <th>cogdx</th>\n",
       "      <th></th>\n",
       "      <th></th>\n",
       "      <th></th>\n",
       "      <th></th>\n",
       "    </tr>\n",
       "  </thead>\n",
       "  <tbody>\n",
       "    <tr>\n",
       "      <th>1.0</th>\n",
       "      <td>24</td>\n",
       "      <td>68</td>\n",
       "      <td>30</td>\n",
       "      <td>78</td>\n",
       "    </tr>\n",
       "    <tr>\n",
       "      <th>4.0</th>\n",
       "      <td>111</td>\n",
       "      <td>80</td>\n",
       "      <td>10</td>\n",
       "      <td>19</td>\n",
       "    </tr>\n",
       "    <tr>\n",
       "      <th>5.0</th>\n",
       "      <td>10</td>\n",
       "      <td>10</td>\n",
       "      <td>5</td>\n",
       "      <td>8</td>\n",
       "    </tr>\n",
       "    <tr>\n",
       "      <th>6.0</th>\n",
       "      <td>2</td>\n",
       "      <td>3</td>\n",
       "      <td>1</td>\n",
       "      <td>6</td>\n",
       "    </tr>\n",
       "  </tbody>\n",
       "</table>\n",
       "</div>"
      ],
      "text/plain": [
       "ceradsc  1.0  2.0  3.0  4.0\n",
       "cogdx                      \n",
       "1.0       24   68   30   78\n",
       "4.0      111   80   10   19\n",
       "5.0       10   10    5    8\n",
       "6.0        2    3    1    6"
      ]
     },
     "execution_count": 232,
     "metadata": {},
     "output_type": "execute_result"
    }
   ],
   "source": [
    "ct = ct.drop(ct.iloc[2].name)\n",
    "ct = ct.drop(ct.iloc[1].name)\n",
    "ct"
   ]
  },
  {
   "cell_type": "code",
   "execution_count": 233,
   "id": "62531a29",
   "metadata": {},
   "outputs": [
    {
     "data": {
      "text/html": [
       "<div>\n",
       "<style scoped>\n",
       "    .dataframe tbody tr th:only-of-type {\n",
       "        vertical-align: middle;\n",
       "    }\n",
       "\n",
       "    .dataframe tbody tr th {\n",
       "        vertical-align: top;\n",
       "    }\n",
       "\n",
       "    .dataframe thead th {\n",
       "        text-align: right;\n",
       "    }\n",
       "</style>\n",
       "<table border=\"1\" class=\"dataframe\">\n",
       "  <thead>\n",
       "    <tr style=\"text-align: right;\">\n",
       "      <th>ceradsc</th>\n",
       "      <th>1.0</th>\n",
       "      <th>4.0</th>\n",
       "    </tr>\n",
       "    <tr>\n",
       "      <th>cogdx</th>\n",
       "      <th></th>\n",
       "      <th></th>\n",
       "    </tr>\n",
       "  </thead>\n",
       "  <tbody>\n",
       "    <tr>\n",
       "      <th>1.0</th>\n",
       "      <td>24</td>\n",
       "      <td>78</td>\n",
       "    </tr>\n",
       "    <tr>\n",
       "      <th>4.0</th>\n",
       "      <td>111</td>\n",
       "      <td>19</td>\n",
       "    </tr>\n",
       "    <tr>\n",
       "      <th>5.0</th>\n",
       "      <td>10</td>\n",
       "      <td>8</td>\n",
       "    </tr>\n",
       "    <tr>\n",
       "      <th>6.0</th>\n",
       "      <td>2</td>\n",
       "      <td>6</td>\n",
       "    </tr>\n",
       "  </tbody>\n",
       "</table>\n",
       "</div>"
      ],
      "text/plain": [
       "ceradsc  1.0  4.0\n",
       "cogdx            \n",
       "1.0       24   78\n",
       "4.0      111   19\n",
       "5.0       10    8\n",
       "6.0        2    6"
      ]
     },
     "execution_count": 233,
     "metadata": {},
     "output_type": "execute_result"
    }
   ],
   "source": [
    "ct = ct[[1.0,4.0]]\n",
    "ct"
   ]
  },
  {
   "cell_type": "code",
   "execution_count": 234,
   "id": "ccb47900",
   "metadata": {},
   "outputs": [
    {
     "data": {
      "image/png": "[encoded data removed]",
      "text/plain": [
       "<Figure size 1000x700 with 2 Axes>"
      ]
     },
     "metadata": {},
     "output_type": "display_data"
    }
   ],
   "source": [
    "plt.figure(figsize = (10,7))\n",
    "x_axis_labels = ['Definite AD','No AD'] # labels for x-axis\n",
    "y_axis_labels = ['NCI', 'AD (Category 4 and 5)'] # labels for y-axis\n",
    "sns_plot = sns.heatmap(ct, annot = True, linewidth=.5, fmt=\".0f\", xticklabels=x_axis_labels, yticklabels=y_axis_labels)\n",
    "fig = sns_plot.get_figure()\n",
    "fig.savefig(\"output.png\")"
   ]
  },
  {
   "cell_type": "code",
   "execution_count": 235,
   "id": "f328ae21",
   "metadata": {},
   "outputs": [
    {
     "data": {
      "text/plain": [
       "cogdx\n",
       "4.0    220\n",
       "1.0    200\n",
       "2.0    158\n",
       "5.0     33\n",
       "6.0     12\n",
       "3.0     10\n",
       "Name: count, dtype: int64"
      ]
     },
     "execution_count": 235,
     "metadata": {},
     "output_type": "execute_result"
    }
   ],
   "source": [
    "clinical_data.cogdx.value_counts()"
   ]
  },
  {
   "cell_type": "code",
   "execution_count": 22,
   "id": "a2f0ac14",
   "metadata": {},
   "outputs": [],
   "source": [
    "clinical_data.head()"
   ]
  },
  {
   "cell_type": "code",
   "execution_count": 23,
   "id": "870084d0",
   "metadata": {},
   "outputs": [
    {
     "data": {
      "text/plain": [
       "\"\\ndef case_divide(row):\\n  \\n    if row.cogdx == 1:\\n        return 'NCI'\\n    elif (row.cogdx == 2 or row.cogdx == 3):\\n        return 'MCI'\\n    else:\\n        return 'AD'\\n    \\ndef case_divide_ceradsc(row):\\n  \\n   \\n    if (row.ceradsc == 1 or row.ceradsc == 2):\\n        return 'AD'\\n    else:\\n        return 'No AD'\\n    \\n\""
      ]
     },
     "execution_count": 23,
     "metadata": {},
     "output_type": "execute_result"
    }
   ],
   "source": [
    "'''\n",
    "def case_divide(row):\n",
    "  \n",
    "    if row.cogdx == 1:\n",
    "        return 'NCI'\n",
    "    elif (row.cogdx == 2 or row.cogdx == 3):\n",
    "        return 'MCI'\n",
    "    else:\n",
    "        return 'AD'\n",
    "    \n",
    "def case_divide_ceradsc(row):\n",
    "  \n",
    "   \n",
    "    if (row.ceradsc == 1 or row.ceradsc == 2):\n",
    "        return 'AD'\n",
    "    else:\n",
    "        return 'No AD'\n",
    "    \n",
    "'''"
   ]
  },
  {
   "cell_type": "code",
   "execution_count": 242,
   "id": "0dc556ab",
   "metadata": {},
   "outputs": [],
   "source": [
    "def case_divide(row):\n",
    "  \n",
    "    if row.cogdx == 1 and row.ceradsc == 1: # cogdx 1 : NCI, Cerad: 1 AD\n",
    "        return 'NCI with Plaques'\n",
    "    elif (row.cogdx == 1 and row.ceradsc== 4):# cogdx 1 : NCI, Cerad: 4 No AD\n",
    "        return 'NCI with No Plaques'\n",
    "    elif (row.cogdx == 4 and row.ceradsc== 4):# cogdx 4 : AD, Cerad: 4 No AD\n",
    "        return 'AD with No Plaques'\n",
    "    elif (row.cogdx == 4 and row.ceradsc== 1): # cogdx 4 : AD, Cerad: 1 AD\n",
    "        return 'AD with Plaques'\n",
    "    else:\n",
    "        return 'No_Use'\n",
    "    \n",
    "\n",
    "    "
   ]
  },
  {
   "cell_type": "code",
   "execution_count": 243,
   "id": "2ccbb7cd",
   "metadata": {},
   "outputs": [
    {
     "name": "stderr",
     "output_type": "stream",
     "text": [
      "/var/folders/ld/fhtyx4qs4mg6bw9chm___tsh0000gn/T/ipykernel_99704/3297434941.py:1: SettingWithCopyWarning:\n",
      "\n",
      "\n",
      "A value is trying to be set on a copy of a slice from a DataFrame.\n",
      "Try using .loc[row_indexer,col_indexer] = value instead\n",
      "\n",
      "See the caveats in the documentation: https://pandas.pydata.org/pandas-docs/stable/user_guide/indexing.html#returning-a-view-versus-a-copy\n",
      "\n"
     ]
    }
   ],
   "source": [
    "clinical_data['Diagnosis'] = clinical_data.apply(case_divide, axis = 1)\n"
   ]
  },
  {
   "cell_type": "code",
   "execution_count": 244,
   "id": "7f039285",
   "metadata": {},
   "outputs": [
    {
     "data": {
      "text/plain": [
       "Diagnosis\n",
       "No_Use                 401\n",
       "AD with Plaques        111\n",
       "NCI with No Plaques     78\n",
       "NCI with Plaques        24\n",
       "AD with No Plaques      19\n",
       "Name: count, dtype: int64"
      ]
     },
     "execution_count": 244,
     "metadata": {},
     "output_type": "execute_result"
    }
   ],
   "source": [
    "clinical_data.Diagnosis.value_counts()"
   ]
  },
  {
   "cell_type": "code",
   "execution_count": 247,
   "id": "91053284",
   "metadata": {},
   "outputs": [],
   "source": [
    "AD_with_Plaques = list(clinical_data[clinical_data.Diagnosis=='AD with Plaques'].specimenID)\n",
    "NCI_with_Plaques = list(clinical_data[clinical_data.Diagnosis=='NCI with Plaques'].specimenID)\n",
    "AD_with_No_Plaques = list(clinical_data[clinical_data.Diagnosis=='AD with No Plaques'].specimenID)\n",
    "NCI_with_No_Plaques = list(clinical_data[clinical_data.Diagnosis=='NCI with No Plaques'].specimenID)"
   ]
  },
  {
   "cell_type": "code",
   "execution_count": 116,
   "id": "52cae703",
   "metadata": {},
   "outputs": [],
   "source": [
    "cclinical_data.to_csv('/Users/anwer/Desktop/Gene_Regulatory_Network_ROSMAP_Analysis/clinical_data_preprocessed.csv', index = False)"
   ]
  },
  {
   "cell_type": "code",
   "execution_count": 121,
   "id": "59bd868e",
   "metadata": {},
   "outputs": [],
   "source": [
    "clinical_data.to_csv('../../Constructed_GRN/clinical_data_curated.csv', index = False)"
   ]
  },
  {
   "cell_type": "code",
   "execution_count": 124,
   "id": "6a1eabfa",
   "metadata": {},
   "outputs": [
    {
     "data": {
      "text/html": [
       "<div>\n",
       "<style scoped>\n",
       "    .dataframe tbody tr th:only-of-type {\n",
       "        vertical-align: middle;\n",
       "    }\n",
       "\n",
       "    .dataframe tbody tr th {\n",
       "        vertical-align: top;\n",
       "    }\n",
       "\n",
       "    .dataframe thead th {\n",
       "        text-align: right;\n",
       "    }\n",
       "</style>\n",
       "<table border=\"1\" class=\"dataframe\">\n",
       "  <thead>\n",
       "    <tr style=\"text-align: right;\">\n",
       "      <th></th>\n",
       "      <th>feature</th>\n",
       "      <th>01_120405</th>\n",
       "      <th>02_120405</th>\n",
       "      <th>03_120405</th>\n",
       "      <th>04_120405</th>\n",
       "      <th>05_120405</th>\n",
       "      <th>07_120410</th>\n",
       "      <th>08_120410</th>\n",
       "      <th>100_120417</th>\n",
       "      <th>101_120418</th>\n",
       "      <th>...</th>\n",
       "      <th>952_131107</th>\n",
       "      <th>954_131107</th>\n",
       "      <th>956_131107</th>\n",
       "      <th>957_131107</th>\n",
       "      <th>958_131107</th>\n",
       "      <th>96_120417</th>\n",
       "      <th>97_120417</th>\n",
       "      <th>98_120417</th>\n",
       "      <th>R24_131017</th>\n",
       "      <th>redo4_140501</th>\n",
       "    </tr>\n",
       "  </thead>\n",
       "  <tbody>\n",
       "    <tr>\n",
       "      <th>4</th>\n",
       "      <td>ENSG00000223972.5</td>\n",
       "      <td>1</td>\n",
       "      <td>1</td>\n",
       "      <td>1</td>\n",
       "      <td>0</td>\n",
       "      <td>1</td>\n",
       "      <td>0</td>\n",
       "      <td>0</td>\n",
       "      <td>1</td>\n",
       "      <td>1</td>\n",
       "      <td>...</td>\n",
       "      <td>0</td>\n",
       "      <td>0</td>\n",
       "      <td>0</td>\n",
       "      <td>0</td>\n",
       "      <td>0</td>\n",
       "      <td>0</td>\n",
       "      <td>0</td>\n",
       "      <td>0</td>\n",
       "      <td>0</td>\n",
       "      <td>0</td>\n",
       "    </tr>\n",
       "    <tr>\n",
       "      <th>5</th>\n",
       "      <td>ENSG00000227232.5</td>\n",
       "      <td>99</td>\n",
       "      <td>174</td>\n",
       "      <td>78</td>\n",
       "      <td>188</td>\n",
       "      <td>56</td>\n",
       "      <td>81</td>\n",
       "      <td>87</td>\n",
       "      <td>157</td>\n",
       "      <td>136</td>\n",
       "      <td>...</td>\n",
       "      <td>83</td>\n",
       "      <td>188</td>\n",
       "      <td>256</td>\n",
       "      <td>91</td>\n",
       "      <td>413</td>\n",
       "      <td>93</td>\n",
       "      <td>98</td>\n",
       "      <td>171</td>\n",
       "      <td>236</td>\n",
       "      <td>322</td>\n",
       "    </tr>\n",
       "    <tr>\n",
       "      <th>6</th>\n",
       "      <td>ENSG00000278267.1</td>\n",
       "      <td>2</td>\n",
       "      <td>5</td>\n",
       "      <td>5</td>\n",
       "      <td>4</td>\n",
       "      <td>2</td>\n",
       "      <td>1</td>\n",
       "      <td>1</td>\n",
       "      <td>2</td>\n",
       "      <td>2</td>\n",
       "      <td>...</td>\n",
       "      <td>0</td>\n",
       "      <td>6</td>\n",
       "      <td>4</td>\n",
       "      <td>3</td>\n",
       "      <td>10</td>\n",
       "      <td>0</td>\n",
       "      <td>1</td>\n",
       "      <td>7</td>\n",
       "      <td>3</td>\n",
       "      <td>8</td>\n",
       "    </tr>\n",
       "    <tr>\n",
       "      <th>7</th>\n",
       "      <td>ENSG00000243485.3</td>\n",
       "      <td>0</td>\n",
       "      <td>5</td>\n",
       "      <td>2</td>\n",
       "      <td>5</td>\n",
       "      <td>3</td>\n",
       "      <td>0</td>\n",
       "      <td>0</td>\n",
       "      <td>0</td>\n",
       "      <td>0</td>\n",
       "      <td>...</td>\n",
       "      <td>3</td>\n",
       "      <td>0</td>\n",
       "      <td>0</td>\n",
       "      <td>6</td>\n",
       "      <td>2</td>\n",
       "      <td>1</td>\n",
       "      <td>2</td>\n",
       "      <td>2</td>\n",
       "      <td>2</td>\n",
       "      <td>2</td>\n",
       "    </tr>\n",
       "    <tr>\n",
       "      <th>8</th>\n",
       "      <td>ENSG00000274890.1</td>\n",
       "      <td>0</td>\n",
       "      <td>0</td>\n",
       "      <td>0</td>\n",
       "      <td>0</td>\n",
       "      <td>0</td>\n",
       "      <td>0</td>\n",
       "      <td>0</td>\n",
       "      <td>0</td>\n",
       "      <td>0</td>\n",
       "      <td>...</td>\n",
       "      <td>0</td>\n",
       "      <td>0</td>\n",
       "      <td>0</td>\n",
       "      <td>0</td>\n",
       "      <td>0</td>\n",
       "      <td>0</td>\n",
       "      <td>0</td>\n",
       "      <td>0</td>\n",
       "      <td>0</td>\n",
       "      <td>0</td>\n",
       "    </tr>\n",
       "    <tr>\n",
       "      <th>...</th>\n",
       "      <td>...</td>\n",
       "      <td>...</td>\n",
       "      <td>...</td>\n",
       "      <td>...</td>\n",
       "      <td>...</td>\n",
       "      <td>...</td>\n",
       "      <td>...</td>\n",
       "      <td>...</td>\n",
       "      <td>...</td>\n",
       "      <td>...</td>\n",
       "      <td>...</td>\n",
       "      <td>...</td>\n",
       "      <td>...</td>\n",
       "      <td>...</td>\n",
       "      <td>...</td>\n",
       "      <td>...</td>\n",
       "      <td>...</td>\n",
       "      <td>...</td>\n",
       "      <td>...</td>\n",
       "      <td>...</td>\n",
       "      <td>...</td>\n",
       "    </tr>\n",
       "    <tr>\n",
       "      <th>60724</th>\n",
       "      <td>ENSG00000277374.1</td>\n",
       "      <td>0</td>\n",
       "      <td>0</td>\n",
       "      <td>0</td>\n",
       "      <td>0</td>\n",
       "      <td>0</td>\n",
       "      <td>0</td>\n",
       "      <td>0</td>\n",
       "      <td>0</td>\n",
       "      <td>0</td>\n",
       "      <td>...</td>\n",
       "      <td>0</td>\n",
       "      <td>0</td>\n",
       "      <td>0</td>\n",
       "      <td>0</td>\n",
       "      <td>0</td>\n",
       "      <td>0</td>\n",
       "      <td>0</td>\n",
       "      <td>0</td>\n",
       "      <td>0</td>\n",
       "      <td>0</td>\n",
       "    </tr>\n",
       "    <tr>\n",
       "      <th>60725</th>\n",
       "      <td>ENSG00000278806.1</td>\n",
       "      <td>0</td>\n",
       "      <td>0</td>\n",
       "      <td>0</td>\n",
       "      <td>0</td>\n",
       "      <td>0</td>\n",
       "      <td>0</td>\n",
       "      <td>0</td>\n",
       "      <td>0</td>\n",
       "      <td>0</td>\n",
       "      <td>...</td>\n",
       "      <td>0</td>\n",
       "      <td>0</td>\n",
       "      <td>0</td>\n",
       "      <td>0</td>\n",
       "      <td>0</td>\n",
       "      <td>0</td>\n",
       "      <td>0</td>\n",
       "      <td>0</td>\n",
       "      <td>0</td>\n",
       "      <td>0</td>\n",
       "    </tr>\n",
       "    <tr>\n",
       "      <th>60726</th>\n",
       "      <td>ENSG00000274152.1</td>\n",
       "      <td>0</td>\n",
       "      <td>0</td>\n",
       "      <td>0</td>\n",
       "      <td>0</td>\n",
       "      <td>0</td>\n",
       "      <td>0</td>\n",
       "      <td>0</td>\n",
       "      <td>0</td>\n",
       "      <td>0</td>\n",
       "      <td>...</td>\n",
       "      <td>0</td>\n",
       "      <td>0</td>\n",
       "      <td>0</td>\n",
       "      <td>0</td>\n",
       "      <td>0</td>\n",
       "      <td>0</td>\n",
       "      <td>0</td>\n",
       "      <td>0</td>\n",
       "      <td>0</td>\n",
       "      <td>0</td>\n",
       "    </tr>\n",
       "    <tr>\n",
       "      <th>60727</th>\n",
       "      <td>ENSG00000276666.1</td>\n",
       "      <td>0</td>\n",
       "      <td>0</td>\n",
       "      <td>0</td>\n",
       "      <td>0</td>\n",
       "      <td>0</td>\n",
       "      <td>0</td>\n",
       "      <td>0</td>\n",
       "      <td>0</td>\n",
       "      <td>0</td>\n",
       "      <td>...</td>\n",
       "      <td>0</td>\n",
       "      <td>0</td>\n",
       "      <td>0</td>\n",
       "      <td>0</td>\n",
       "      <td>0</td>\n",
       "      <td>0</td>\n",
       "      <td>0</td>\n",
       "      <td>0</td>\n",
       "      <td>0</td>\n",
       "      <td>0</td>\n",
       "    </tr>\n",
       "    <tr>\n",
       "      <th>60728</th>\n",
       "      <td>ENSG00000277917.1</td>\n",
       "      <td>0</td>\n",
       "      <td>0</td>\n",
       "      <td>0</td>\n",
       "      <td>0</td>\n",
       "      <td>0</td>\n",
       "      <td>0</td>\n",
       "      <td>0</td>\n",
       "      <td>0</td>\n",
       "      <td>0</td>\n",
       "      <td>...</td>\n",
       "      <td>0</td>\n",
       "      <td>0</td>\n",
       "      <td>0</td>\n",
       "      <td>0</td>\n",
       "      <td>0</td>\n",
       "      <td>0</td>\n",
       "      <td>0</td>\n",
       "      <td>0</td>\n",
       "      <td>0</td>\n",
       "      <td>0</td>\n",
       "    </tr>\n",
       "  </tbody>\n",
       "</table>\n",
       "<p>60725 rows × 634 columns</p>\n",
       "</div>"
      ],
      "text/plain": [
       "                 feature 01_120405 02_120405 03_120405 04_120405 05_120405  \\\n",
       "4      ENSG00000223972.5         1         1         1         0         1   \n",
       "5      ENSG00000227232.5        99       174        78       188        56   \n",
       "6      ENSG00000278267.1         2         5         5         4         2   \n",
       "7      ENSG00000243485.3         0         5         2         5         3   \n",
       "8      ENSG00000274890.1         0         0         0         0         0   \n",
       "...                  ...       ...       ...       ...       ...       ...   \n",
       "60724  ENSG00000277374.1         0         0         0         0         0   \n",
       "60725  ENSG00000278806.1         0         0         0         0         0   \n",
       "60726  ENSG00000274152.1         0         0         0         0         0   \n",
       "60727  ENSG00000276666.1         0         0         0         0         0   \n",
       "60728  ENSG00000277917.1         0         0         0         0         0   \n",
       "\n",
       "      07_120410 08_120410 100_120417 101_120418  ... 952_131107 954_131107  \\\n",
       "4             0         0          1          1  ...          0          0   \n",
       "5            81        87        157        136  ...         83        188   \n",
       "6             1         1          2          2  ...          0          6   \n",
       "7             0         0          0          0  ...          3          0   \n",
       "8             0         0          0          0  ...          0          0   \n",
       "...         ...       ...        ...        ...  ...        ...        ...   \n",
       "60724         0         0          0          0  ...          0          0   \n",
       "60725         0         0          0          0  ...          0          0   \n",
       "60726         0         0          0          0  ...          0          0   \n",
       "60727         0         0          0          0  ...          0          0   \n",
       "60728         0         0          0          0  ...          0          0   \n",
       "\n",
       "      956_131107 957_131107 958_131107 96_120417 97_120417 98_120417  \\\n",
       "4              0          0          0         0         0         0   \n",
       "5            256         91        413        93        98       171   \n",
       "6              4          3         10         0         1         7   \n",
       "7              0          6          2         1         2         2   \n",
       "8              0          0          0         0         0         0   \n",
       "...          ...        ...        ...       ...       ...       ...   \n",
       "60724          0          0          0         0         0         0   \n",
       "60725          0          0          0         0         0         0   \n",
       "60726          0          0          0         0         0         0   \n",
       "60727          0          0          0         0         0         0   \n",
       "60728          0          0          0         0         0         0   \n",
       "\n",
       "      R24_131017 redo4_140501  \n",
       "4              0            0  \n",
       "5            236          322  \n",
       "6              3            8  \n",
       "7              2            2  \n",
       "8              0            0  \n",
       "...          ...          ...  \n",
       "60724          0            0  \n",
       "60725          0            0  \n",
       "60726          0            0  \n",
       "60727          0            0  \n",
       "60728          0            0  \n",
       "\n",
       "[60725 rows x 634 columns]"
      ]
     },
     "execution_count": 124,
     "metadata": {},
     "output_type": "execute_result"
    }
   ],
   "source": [
    "count_matrix = count_matrix.drop(columns = ['316_120501','764_130520','791_130530','800_130701','380_120503'])\n",
    "count_matrix_raw = count_matrix.copy()\n",
    "count_matrix_raw"
   ]
  },
  {
   "cell_type": "code",
   "execution_count": 125,
   "id": "99096407",
   "metadata": {},
   "outputs": [
    {
     "data": {
      "text/html": [
       "<div>\n",
       "<style scoped>\n",
       "    .dataframe tbody tr th:only-of-type {\n",
       "        vertical-align: middle;\n",
       "    }\n",
       "\n",
       "    .dataframe tbody tr th {\n",
       "        vertical-align: top;\n",
       "    }\n",
       "\n",
       "    .dataframe thead th {\n",
       "        text-align: right;\n",
       "    }\n",
       "</style>\n",
       "<table border=\"1\" class=\"dataframe\">\n",
       "  <thead>\n",
       "    <tr style=\"text-align: right;\">\n",
       "      <th></th>\n",
       "      <th>feature</th>\n",
       "      <th>01_120405</th>\n",
       "      <th>02_120405</th>\n",
       "      <th>03_120405</th>\n",
       "      <th>04_120405</th>\n",
       "      <th>05_120405</th>\n",
       "      <th>07_120410</th>\n",
       "      <th>08_120410</th>\n",
       "      <th>100_120417</th>\n",
       "      <th>101_120418</th>\n",
       "      <th>...</th>\n",
       "      <th>952_131107</th>\n",
       "      <th>954_131107</th>\n",
       "      <th>956_131107</th>\n",
       "      <th>957_131107</th>\n",
       "      <th>958_131107</th>\n",
       "      <th>96_120417</th>\n",
       "      <th>97_120417</th>\n",
       "      <th>98_120417</th>\n",
       "      <th>R24_131017</th>\n",
       "      <th>redo4_140501</th>\n",
       "    </tr>\n",
       "  </thead>\n",
       "  <tbody>\n",
       "  </tbody>\n",
       "</table>\n",
       "<p>0 rows × 634 columns</p>\n",
       "</div>"
      ],
      "text/plain": [
       "Empty DataFrame\n",
       "Columns: [feature, 01_120405, 02_120405, 03_120405, 04_120405, 05_120405, 07_120410, 08_120410, 100_120417, 101_120418, 102_120418, 103_120418, 104_120418, 108_120418, 109_120418, 111_120418, 112_120418, 113_120418, 115_120418, 116_120418, 118_120418, 119_120418, 11_120410, 120_120418, 121_120418, 122_120418, 124_120419, 125_120419, 126_120419, 128_120419, 129_120419, 12_120410, 130_120419, 131_120419, 132_120419, 133_120419, 134_120419, 136_120419, 138_120419, 140_120419, 141_120419, 142_120419, 145_120419, 146_120419, 149_120419, 14_120410, 150_120419, 152_120419, 153_120423, 154_120423, 155_120423, 158_120423, 159_120423, 15_120410, 160_120423, 162_120423, 164_120423, 165_120423, 166_120423, 168_120423, 170_120423, 171_120423, 173_120424, 174_120424, 176_120424, 177_120424, 179_120424, 180_120424, 181_120424, 182_120424, 183_120424, 185_120424, 186_120424, 187_120424, 188_120424, 190_120424, 191_120424, 193_120424, 196_120424, 197_120424, 19_120411, 200_120424, 201_120424, 202_120424, 203_120424, 204_120424, 206_120424, 207_120424, 20_120411, 212_120424, 213_120425, 214_120425, 215_120425, 216_120425, 218_120425, 219_120425, 21_120411, 220_120425, 221_120425, 222_120425, ...]\n",
       "Index: []\n",
       "\n",
       "[0 rows x 634 columns]"
      ]
     },
     "execution_count": 125,
     "metadata": {},
     "output_type": "execute_result"
    }
   ],
   "source": [
    "count_matrix[(count_matrix == 0).all(axis=1)]"
   ]
  },
  {
   "cell_type": "markdown",
   "id": "12d035d5",
   "metadata": {},
   "source": [
    "## 2. CPM normalization on all Data"
   ]
  },
  {
   "cell_type": "code",
   "execution_count": 130,
   "id": "cdf5409e",
   "metadata": {},
   "outputs": [],
   "source": [
    "from bioinfokit.analys import norm"
   ]
  },
  {
   "cell_type": "code",
   "execution_count": 131,
   "id": "0ba6b9f9",
   "metadata": {},
   "outputs": [],
   "source": [
    "from rnanorm import CPM"
   ]
  },
  {
   "cell_type": "code",
   "execution_count": 132,
   "id": "014e8dd8",
   "metadata": {},
   "outputs": [],
   "source": [
    "count_matrix = count_matrix.set_index('feature')"
   ]
  },
  {
   "cell_type": "code",
   "execution_count": 133,
   "id": "34857fb5",
   "metadata": {},
   "outputs": [
    {
     "data": {
      "text/html": [
       "<div>\n",
       "<style scoped>\n",
       "    .dataframe tbody tr th:only-of-type {\n",
       "        vertical-align: middle;\n",
       "    }\n",
       "\n",
       "    .dataframe tbody tr th {\n",
       "        vertical-align: top;\n",
       "    }\n",
       "\n",
       "    .dataframe thead th {\n",
       "        text-align: right;\n",
       "    }\n",
       "</style>\n",
       "<table border=\"1\" class=\"dataframe\">\n",
       "  <thead>\n",
       "    <tr style=\"text-align: right;\">\n",
       "      <th></th>\n",
       "      <th>01_120405</th>\n",
       "      <th>02_120405</th>\n",
       "      <th>03_120405</th>\n",
       "      <th>04_120405</th>\n",
       "      <th>05_120405</th>\n",
       "      <th>07_120410</th>\n",
       "      <th>08_120410</th>\n",
       "      <th>100_120417</th>\n",
       "      <th>101_120418</th>\n",
       "      <th>102_120418</th>\n",
       "      <th>...</th>\n",
       "      <th>952_131107</th>\n",
       "      <th>954_131107</th>\n",
       "      <th>956_131107</th>\n",
       "      <th>957_131107</th>\n",
       "      <th>958_131107</th>\n",
       "      <th>96_120417</th>\n",
       "      <th>97_120417</th>\n",
       "      <th>98_120417</th>\n",
       "      <th>R24_131017</th>\n",
       "      <th>redo4_140501</th>\n",
       "    </tr>\n",
       "  </thead>\n",
       "  <tbody>\n",
       "    <tr>\n",
       "      <th>ENSG00000223972.5</th>\n",
       "      <td>0.033735</td>\n",
       "      <td>0.031708</td>\n",
       "      <td>0.049731</td>\n",
       "      <td>0.000000</td>\n",
       "      <td>0.059849</td>\n",
       "      <td>0.000000</td>\n",
       "      <td>0.000000</td>\n",
       "      <td>0.050887</td>\n",
       "      <td>0.038836</td>\n",
       "      <td>0.000000</td>\n",
       "      <td>...</td>\n",
       "      <td>0.000000</td>\n",
       "      <td>0.000000</td>\n",
       "      <td>0.000000</td>\n",
       "      <td>0.000000</td>\n",
       "      <td>0.000000</td>\n",
       "      <td>0.000000</td>\n",
       "      <td>0.000000</td>\n",
       "      <td>0.000000</td>\n",
       "      <td>0.000000</td>\n",
       "      <td>0.000000</td>\n",
       "    </tr>\n",
       "    <tr>\n",
       "      <th>ENSG00000227232.5</th>\n",
       "      <td>3.339807</td>\n",
       "      <td>5.517235</td>\n",
       "      <td>3.878985</td>\n",
       "      <td>7.536497</td>\n",
       "      <td>3.351529</td>\n",
       "      <td>4.012606</td>\n",
       "      <td>2.887423</td>\n",
       "      <td>7.989205</td>\n",
       "      <td>5.281712</td>\n",
       "      <td>4.916607</td>\n",
       "      <td>...</td>\n",
       "      <td>4.281013</td>\n",
       "      <td>6.747660</td>\n",
       "      <td>7.936127</td>\n",
       "      <td>4.634431</td>\n",
       "      <td>13.545480</td>\n",
       "      <td>3.884234</td>\n",
       "      <td>3.885698</td>\n",
       "      <td>8.738669</td>\n",
       "      <td>7.114166</td>\n",
       "      <td>9.689773</td>\n",
       "    </tr>\n",
       "    <tr>\n",
       "      <th>ENSG00000278267.1</th>\n",
       "      <td>0.067471</td>\n",
       "      <td>0.158541</td>\n",
       "      <td>0.248653</td>\n",
       "      <td>0.160351</td>\n",
       "      <td>0.119697</td>\n",
       "      <td>0.049538</td>\n",
       "      <td>0.033189</td>\n",
       "      <td>0.101773</td>\n",
       "      <td>0.077672</td>\n",
       "      <td>0.192808</td>\n",
       "      <td>...</td>\n",
       "      <td>0.000000</td>\n",
       "      <td>0.215351</td>\n",
       "      <td>0.124002</td>\n",
       "      <td>0.152783</td>\n",
       "      <td>0.327978</td>\n",
       "      <td>0.000000</td>\n",
       "      <td>0.039650</td>\n",
       "      <td>0.357723</td>\n",
       "      <td>0.090434</td>\n",
       "      <td>0.240740</td>\n",
       "    </tr>\n",
       "    <tr>\n",
       "      <th>ENSG00000243485.3</th>\n",
       "      <td>0.000000</td>\n",
       "      <td>0.158541</td>\n",
       "      <td>0.099461</td>\n",
       "      <td>0.200439</td>\n",
       "      <td>0.179546</td>\n",
       "      <td>0.000000</td>\n",
       "      <td>0.000000</td>\n",
       "      <td>0.000000</td>\n",
       "      <td>0.000000</td>\n",
       "      <td>0.144606</td>\n",
       "      <td>...</td>\n",
       "      <td>0.154735</td>\n",
       "      <td>0.000000</td>\n",
       "      <td>0.000000</td>\n",
       "      <td>0.305567</td>\n",
       "      <td>0.065596</td>\n",
       "      <td>0.041766</td>\n",
       "      <td>0.079300</td>\n",
       "      <td>0.102207</td>\n",
       "      <td>0.060290</td>\n",
       "      <td>0.060185</td>\n",
       "    </tr>\n",
       "    <tr>\n",
       "      <th>ENSG00000274890.1</th>\n",
       "      <td>0.000000</td>\n",
       "      <td>0.000000</td>\n",
       "      <td>0.000000</td>\n",
       "      <td>0.000000</td>\n",
       "      <td>0.000000</td>\n",
       "      <td>0.000000</td>\n",
       "      <td>0.000000</td>\n",
       "      <td>0.000000</td>\n",
       "      <td>0.000000</td>\n",
       "      <td>0.000000</td>\n",
       "      <td>...</td>\n",
       "      <td>0.000000</td>\n",
       "      <td>0.000000</td>\n",
       "      <td>0.000000</td>\n",
       "      <td>0.000000</td>\n",
       "      <td>0.000000</td>\n",
       "      <td>0.000000</td>\n",
       "      <td>0.000000</td>\n",
       "      <td>0.000000</td>\n",
       "      <td>0.000000</td>\n",
       "      <td>0.000000</td>\n",
       "    </tr>\n",
       "  </tbody>\n",
       "</table>\n",
       "<p>5 rows × 633 columns</p>\n",
       "</div>"
      ],
      "text/plain": [
       "                   01_120405  02_120405  03_120405  04_120405  05_120405  \\\n",
       "ENSG00000223972.5   0.033735   0.031708   0.049731   0.000000   0.059849   \n",
       "ENSG00000227232.5   3.339807   5.517235   3.878985   7.536497   3.351529   \n",
       "ENSG00000278267.1   0.067471   0.158541   0.248653   0.160351   0.119697   \n",
       "ENSG00000243485.3   0.000000   0.158541   0.099461   0.200439   0.179546   \n",
       "ENSG00000274890.1   0.000000   0.000000   0.000000   0.000000   0.000000   \n",
       "\n",
       "                   07_120410  08_120410  100_120417  101_120418  102_120418  \\\n",
       "ENSG00000223972.5   0.000000   0.000000    0.050887    0.038836    0.000000   \n",
       "ENSG00000227232.5   4.012606   2.887423    7.989205    5.281712    4.916607   \n",
       "ENSG00000278267.1   0.049538   0.033189    0.101773    0.077672    0.192808   \n",
       "ENSG00000243485.3   0.000000   0.000000    0.000000    0.000000    0.144606   \n",
       "ENSG00000274890.1   0.000000   0.000000    0.000000    0.000000    0.000000   \n",
       "\n",
       "                   ...  952_131107  954_131107  956_131107  957_131107  \\\n",
       "ENSG00000223972.5  ...    0.000000    0.000000    0.000000    0.000000   \n",
       "ENSG00000227232.5  ...    4.281013    6.747660    7.936127    4.634431   \n",
       "ENSG00000278267.1  ...    0.000000    0.215351    0.124002    0.152783   \n",
       "ENSG00000243485.3  ...    0.154735    0.000000    0.000000    0.305567   \n",
       "ENSG00000274890.1  ...    0.000000    0.000000    0.000000    0.000000   \n",
       "\n",
       "                   958_131107  96_120417  97_120417  98_120417  R24_131017  \\\n",
       "ENSG00000223972.5    0.000000   0.000000   0.000000   0.000000    0.000000   \n",
       "ENSG00000227232.5   13.545480   3.884234   3.885698   8.738669    7.114166   \n",
       "ENSG00000278267.1    0.327978   0.000000   0.039650   0.357723    0.090434   \n",
       "ENSG00000243485.3    0.065596   0.041766   0.079300   0.102207    0.060290   \n",
       "ENSG00000274890.1    0.000000   0.000000   0.000000   0.000000    0.000000   \n",
       "\n",
       "                   redo4_140501  \n",
       "ENSG00000223972.5      0.000000  \n",
       "ENSG00000227232.5      9.689773  \n",
       "ENSG00000278267.1      0.240740  \n",
       "ENSG00000243485.3      0.060185  \n",
       "ENSG00000274890.1      0.000000  \n",
       "\n",
       "[5 rows x 633 columns]"
      ]
     },
     "execution_count": 133,
     "metadata": {},
     "output_type": "execute_result"
    }
   ],
   "source": [
    "count_matrix_cpm_normalized = CPM().set_output(transform=\"pandas\").fit_transform(count_matrix.T)\n",
    "count_matrix_cpm_normalized  = count_matrix_cpm_normalized.T\n",
    "count_matrix_cpm_normalized.head()"
   ]
  },
  {
   "cell_type": "code",
   "execution_count": 134,
   "id": "59eac431",
   "metadata": {},
   "outputs": [
    {
     "data": {
      "text/plain": [
       "(17110, 633)"
      ]
     },
     "execution_count": 134,
     "metadata": {},
     "output_type": "execute_result"
    }
   ],
   "source": [
    "count_matrix = count_matrix[(count_matrix_cpm_normalized >= 1).astype(int).sum(axis=1)>= 633/2]\n",
    "count_matrix.shape"
   ]
  },
  {
   "cell_type": "code",
   "execution_count": 135,
   "id": "e204f5fe",
   "metadata": {},
   "outputs": [
    {
     "data": {
      "text/html": [
       "<div>\n",
       "<style scoped>\n",
       "    .dataframe tbody tr th:only-of-type {\n",
       "        vertical-align: middle;\n",
       "    }\n",
       "\n",
       "    .dataframe tbody tr th {\n",
       "        vertical-align: top;\n",
       "    }\n",
       "\n",
       "    .dataframe thead th {\n",
       "        text-align: right;\n",
       "    }\n",
       "</style>\n",
       "<table border=\"1\" class=\"dataframe\">\n",
       "  <thead>\n",
       "    <tr style=\"text-align: right;\">\n",
       "      <th></th>\n",
       "      <th>01_120405</th>\n",
       "      <th>02_120405</th>\n",
       "      <th>03_120405</th>\n",
       "      <th>04_120405</th>\n",
       "      <th>05_120405</th>\n",
       "      <th>07_120410</th>\n",
       "      <th>08_120410</th>\n",
       "      <th>100_120417</th>\n",
       "      <th>101_120418</th>\n",
       "      <th>102_120418</th>\n",
       "      <th>...</th>\n",
       "      <th>952_131107</th>\n",
       "      <th>954_131107</th>\n",
       "      <th>956_131107</th>\n",
       "      <th>957_131107</th>\n",
       "      <th>958_131107</th>\n",
       "      <th>96_120417</th>\n",
       "      <th>97_120417</th>\n",
       "      <th>98_120417</th>\n",
       "      <th>R24_131017</th>\n",
       "      <th>redo4_140501</th>\n",
       "    </tr>\n",
       "    <tr>\n",
       "      <th>feature</th>\n",
       "      <th></th>\n",
       "      <th></th>\n",
       "      <th></th>\n",
       "      <th></th>\n",
       "      <th></th>\n",
       "      <th></th>\n",
       "      <th></th>\n",
       "      <th></th>\n",
       "      <th></th>\n",
       "      <th></th>\n",
       "      <th></th>\n",
       "      <th></th>\n",
       "      <th></th>\n",
       "      <th></th>\n",
       "      <th></th>\n",
       "      <th></th>\n",
       "      <th></th>\n",
       "      <th></th>\n",
       "      <th></th>\n",
       "      <th></th>\n",
       "      <th></th>\n",
       "    </tr>\n",
       "  </thead>\n",
       "  <tbody>\n",
       "    <tr>\n",
       "      <th>ENSG00000227232.5</th>\n",
       "      <td>99</td>\n",
       "      <td>174</td>\n",
       "      <td>78</td>\n",
       "      <td>188</td>\n",
       "      <td>56</td>\n",
       "      <td>81</td>\n",
       "      <td>87</td>\n",
       "      <td>157</td>\n",
       "      <td>136</td>\n",
       "      <td>102</td>\n",
       "      <td>...</td>\n",
       "      <td>83</td>\n",
       "      <td>188</td>\n",
       "      <td>256</td>\n",
       "      <td>91</td>\n",
       "      <td>413</td>\n",
       "      <td>93</td>\n",
       "      <td>98</td>\n",
       "      <td>171</td>\n",
       "      <td>236</td>\n",
       "      <td>322</td>\n",
       "    </tr>\n",
       "    <tr>\n",
       "      <th>ENSG00000268903.1</th>\n",
       "      <td>57</td>\n",
       "      <td>165</td>\n",
       "      <td>50</td>\n",
       "      <td>34</td>\n",
       "      <td>55</td>\n",
       "      <td>56</td>\n",
       "      <td>51</td>\n",
       "      <td>15</td>\n",
       "      <td>82</td>\n",
       "      <td>30</td>\n",
       "      <td>...</td>\n",
       "      <td>27</td>\n",
       "      <td>23</td>\n",
       "      <td>17</td>\n",
       "      <td>47</td>\n",
       "      <td>48</td>\n",
       "      <td>58</td>\n",
       "      <td>68</td>\n",
       "      <td>98</td>\n",
       "      <td>35</td>\n",
       "      <td>11</td>\n",
       "    </tr>\n",
       "    <tr>\n",
       "      <th>ENSG00000279457.3</th>\n",
       "      <td>288</td>\n",
       "      <td>543</td>\n",
       "      <td>277</td>\n",
       "      <td>392</td>\n",
       "      <td>303</td>\n",
       "      <td>164</td>\n",
       "      <td>239</td>\n",
       "      <td>298</td>\n",
       "      <td>450</td>\n",
       "      <td>200</td>\n",
       "      <td>...</td>\n",
       "      <td>163</td>\n",
       "      <td>142</td>\n",
       "      <td>459</td>\n",
       "      <td>184</td>\n",
       "      <td>474</td>\n",
       "      <td>193</td>\n",
       "      <td>384</td>\n",
       "      <td>473</td>\n",
       "      <td>640</td>\n",
       "      <td>803</td>\n",
       "    </tr>\n",
       "    <tr>\n",
       "      <th>ENSG00000228463.9</th>\n",
       "      <td>28</td>\n",
       "      <td>57</td>\n",
       "      <td>48</td>\n",
       "      <td>69</td>\n",
       "      <td>34</td>\n",
       "      <td>13</td>\n",
       "      <td>23</td>\n",
       "      <td>36</td>\n",
       "      <td>117</td>\n",
       "      <td>75</td>\n",
       "      <td>...</td>\n",
       "      <td>1</td>\n",
       "      <td>47</td>\n",
       "      <td>28</td>\n",
       "      <td>80</td>\n",
       "      <td>84</td>\n",
       "      <td>50</td>\n",
       "      <td>42</td>\n",
       "      <td>30</td>\n",
       "      <td>121</td>\n",
       "      <td>104</td>\n",
       "    </tr>\n",
       "    <tr>\n",
       "      <th>ENSG00000225972.1</th>\n",
       "      <td>285</td>\n",
       "      <td>107</td>\n",
       "      <td>137</td>\n",
       "      <td>43</td>\n",
       "      <td>147</td>\n",
       "      <td>149</td>\n",
       "      <td>143</td>\n",
       "      <td>113</td>\n",
       "      <td>79</td>\n",
       "      <td>35</td>\n",
       "      <td>...</td>\n",
       "      <td>39</td>\n",
       "      <td>95</td>\n",
       "      <td>215</td>\n",
       "      <td>57</td>\n",
       "      <td>85</td>\n",
       "      <td>126</td>\n",
       "      <td>114</td>\n",
       "      <td>96</td>\n",
       "      <td>53</td>\n",
       "      <td>89</td>\n",
       "    </tr>\n",
       "    <tr>\n",
       "      <th>...</th>\n",
       "      <td>...</td>\n",
       "      <td>...</td>\n",
       "      <td>...</td>\n",
       "      <td>...</td>\n",
       "      <td>...</td>\n",
       "      <td>...</td>\n",
       "      <td>...</td>\n",
       "      <td>...</td>\n",
       "      <td>...</td>\n",
       "      <td>...</td>\n",
       "      <td>...</td>\n",
       "      <td>...</td>\n",
       "      <td>...</td>\n",
       "      <td>...</td>\n",
       "      <td>...</td>\n",
       "      <td>...</td>\n",
       "      <td>...</td>\n",
       "      <td>...</td>\n",
       "      <td>...</td>\n",
       "      <td>...</td>\n",
       "      <td>...</td>\n",
       "    </tr>\n",
       "    <tr>\n",
       "      <th>ENSG00000273748.1</th>\n",
       "      <td>155</td>\n",
       "      <td>588</td>\n",
       "      <td>240</td>\n",
       "      <td>180</td>\n",
       "      <td>262</td>\n",
       "      <td>235</td>\n",
       "      <td>339</td>\n",
       "      <td>344</td>\n",
       "      <td>237</td>\n",
       "      <td>49</td>\n",
       "      <td>...</td>\n",
       "      <td>435</td>\n",
       "      <td>67</td>\n",
       "      <td>184</td>\n",
       "      <td>128</td>\n",
       "      <td>171</td>\n",
       "      <td>419</td>\n",
       "      <td>266</td>\n",
       "      <td>380</td>\n",
       "      <td>189</td>\n",
       "      <td>388</td>\n",
       "    </tr>\n",
       "    <tr>\n",
       "      <th>ENSG00000271254.6</th>\n",
       "      <td>202</td>\n",
       "      <td>201</td>\n",
       "      <td>42</td>\n",
       "      <td>152</td>\n",
       "      <td>68</td>\n",
       "      <td>76</td>\n",
       "      <td>73</td>\n",
       "      <td>154</td>\n",
       "      <td>200</td>\n",
       "      <td>151</td>\n",
       "      <td>...</td>\n",
       "      <td>244</td>\n",
       "      <td>392</td>\n",
       "      <td>323</td>\n",
       "      <td>112</td>\n",
       "      <td>372</td>\n",
       "      <td>161</td>\n",
       "      <td>113</td>\n",
       "      <td>114</td>\n",
       "      <td>402</td>\n",
       "      <td>379</td>\n",
       "    </tr>\n",
       "    <tr>\n",
       "      <th>ENSG00000277048.1</th>\n",
       "      <td>15950</td>\n",
       "      <td>9566</td>\n",
       "      <td>4091</td>\n",
       "      <td>1357</td>\n",
       "      <td>3850</td>\n",
       "      <td>5844</td>\n",
       "      <td>9731</td>\n",
       "      <td>6513</td>\n",
       "      <td>2887</td>\n",
       "      <td>1734</td>\n",
       "      <td>...</td>\n",
       "      <td>804</td>\n",
       "      <td>1850</td>\n",
       "      <td>1711</td>\n",
       "      <td>883</td>\n",
       "      <td>2967</td>\n",
       "      <td>7325</td>\n",
       "      <td>7676</td>\n",
       "      <td>3696</td>\n",
       "      <td>4521</td>\n",
       "      <td>1616</td>\n",
       "    </tr>\n",
       "    <tr>\n",
       "      <th>ENSG00000278817.1</th>\n",
       "      <td>231</td>\n",
       "      <td>199</td>\n",
       "      <td>178</td>\n",
       "      <td>262</td>\n",
       "      <td>190</td>\n",
       "      <td>229</td>\n",
       "      <td>258</td>\n",
       "      <td>305</td>\n",
       "      <td>343</td>\n",
       "      <td>201</td>\n",
       "      <td>...</td>\n",
       "      <td>126</td>\n",
       "      <td>218</td>\n",
       "      <td>354</td>\n",
       "      <td>82</td>\n",
       "      <td>279</td>\n",
       "      <td>188</td>\n",
       "      <td>189</td>\n",
       "      <td>100</td>\n",
       "      <td>275</td>\n",
       "      <td>342</td>\n",
       "    </tr>\n",
       "    <tr>\n",
       "      <th>ENSG00000277196.4</th>\n",
       "      <td>522</td>\n",
       "      <td>619</td>\n",
       "      <td>699</td>\n",
       "      <td>1150</td>\n",
       "      <td>760</td>\n",
       "      <td>686</td>\n",
       "      <td>414</td>\n",
       "      <td>1652</td>\n",
       "      <td>1212</td>\n",
       "      <td>649</td>\n",
       "      <td>...</td>\n",
       "      <td>606</td>\n",
       "      <td>1111</td>\n",
       "      <td>407</td>\n",
       "      <td>425</td>\n",
       "      <td>2818</td>\n",
       "      <td>953</td>\n",
       "      <td>1264</td>\n",
       "      <td>585</td>\n",
       "      <td>1397</td>\n",
       "      <td>1387</td>\n",
       "    </tr>\n",
       "  </tbody>\n",
       "</table>\n",
       "<p>17110 rows × 633 columns</p>\n",
       "</div>"
      ],
      "text/plain": [
       "                  01_120405 02_120405 03_120405 04_120405 05_120405 07_120410  \\\n",
       "feature                                                                         \n",
       "ENSG00000227232.5        99       174        78       188        56        81   \n",
       "ENSG00000268903.1        57       165        50        34        55        56   \n",
       "ENSG00000279457.3       288       543       277       392       303       164   \n",
       "ENSG00000228463.9        28        57        48        69        34        13   \n",
       "ENSG00000225972.1       285       107       137        43       147       149   \n",
       "...                     ...       ...       ...       ...       ...       ...   \n",
       "ENSG00000273748.1       155       588       240       180       262       235   \n",
       "ENSG00000271254.6       202       201        42       152        68        76   \n",
       "ENSG00000277048.1     15950      9566      4091      1357      3850      5844   \n",
       "ENSG00000278817.1       231       199       178       262       190       229   \n",
       "ENSG00000277196.4       522       619       699      1150       760       686   \n",
       "\n",
       "                  08_120410 100_120417 101_120418 102_120418  ... 952_131107  \\\n",
       "feature                                                       ...              \n",
       "ENSG00000227232.5        87        157        136        102  ...         83   \n",
       "ENSG00000268903.1        51         15         82         30  ...         27   \n",
       "ENSG00000279457.3       239        298        450        200  ...        163   \n",
       "ENSG00000228463.9        23         36        117         75  ...          1   \n",
       "ENSG00000225972.1       143        113         79         35  ...         39   \n",
       "...                     ...        ...        ...        ...  ...        ...   \n",
       "ENSG00000273748.1       339        344        237         49  ...        435   \n",
       "ENSG00000271254.6        73        154        200        151  ...        244   \n",
       "ENSG00000277048.1      9731       6513       2887       1734  ...        804   \n",
       "ENSG00000278817.1       258        305        343        201  ...        126   \n",
       "ENSG00000277196.4       414       1652       1212        649  ...        606   \n",
       "\n",
       "                  954_131107 956_131107 957_131107 958_131107 96_120417  \\\n",
       "feature                                                                   \n",
       "ENSG00000227232.5        188        256         91        413        93   \n",
       "ENSG00000268903.1         23         17         47         48        58   \n",
       "ENSG00000279457.3        142        459        184        474       193   \n",
       "ENSG00000228463.9         47         28         80         84        50   \n",
       "ENSG00000225972.1         95        215         57         85       126   \n",
       "...                      ...        ...        ...        ...       ...   \n",
       "ENSG00000273748.1         67        184        128        171       419   \n",
       "ENSG00000271254.6        392        323        112        372       161   \n",
       "ENSG00000277048.1       1850       1711        883       2967      7325   \n",
       "ENSG00000278817.1        218        354         82        279       188   \n",
       "ENSG00000277196.4       1111        407        425       2818       953   \n",
       "\n",
       "                  97_120417 98_120417 R24_131017 redo4_140501  \n",
       "feature                                                        \n",
       "ENSG00000227232.5        98       171        236          322  \n",
       "ENSG00000268903.1        68        98         35           11  \n",
       "ENSG00000279457.3       384       473        640          803  \n",
       "ENSG00000228463.9        42        30        121          104  \n",
       "ENSG00000225972.1       114        96         53           89  \n",
       "...                     ...       ...        ...          ...  \n",
       "ENSG00000273748.1       266       380        189          388  \n",
       "ENSG00000271254.6       113       114        402          379  \n",
       "ENSG00000277048.1      7676      3696       4521         1616  \n",
       "ENSG00000278817.1       189       100        275          342  \n",
       "ENSG00000277196.4      1264       585       1397         1387  \n",
       "\n",
       "[17110 rows x 633 columns]"
      ]
     },
     "execution_count": 135,
     "metadata": {},
     "output_type": "execute_result"
    }
   ],
   "source": [
    "count_matrix "
   ]
  },
  {
   "cell_type": "code",
   "execution_count": 136,
   "id": "f6f0db6a",
   "metadata": {},
   "outputs": [
    {
     "data": {
      "text/html": [
       "<div>\n",
       "<style scoped>\n",
       "    .dataframe tbody tr th:only-of-type {\n",
       "        vertical-align: middle;\n",
       "    }\n",
       "\n",
       "    .dataframe tbody tr th {\n",
       "        vertical-align: top;\n",
       "    }\n",
       "\n",
       "    .dataframe thead th {\n",
       "        text-align: right;\n",
       "    }\n",
       "</style>\n",
       "<table border=\"1\" class=\"dataframe\">\n",
       "  <thead>\n",
       "    <tr style=\"text-align: right;\">\n",
       "      <th></th>\n",
       "      <th>01_120405</th>\n",
       "      <th>02_120405</th>\n",
       "      <th>03_120405</th>\n",
       "      <th>04_120405</th>\n",
       "      <th>05_120405</th>\n",
       "      <th>07_120410</th>\n",
       "      <th>08_120410</th>\n",
       "      <th>100_120417</th>\n",
       "      <th>101_120418</th>\n",
       "      <th>102_120418</th>\n",
       "      <th>...</th>\n",
       "      <th>952_131107</th>\n",
       "      <th>954_131107</th>\n",
       "      <th>956_131107</th>\n",
       "      <th>957_131107</th>\n",
       "      <th>958_131107</th>\n",
       "      <th>96_120417</th>\n",
       "      <th>97_120417</th>\n",
       "      <th>98_120417</th>\n",
       "      <th>R24_131017</th>\n",
       "      <th>redo4_140501</th>\n",
       "    </tr>\n",
       "    <tr>\n",
       "      <th>feature</th>\n",
       "      <th></th>\n",
       "      <th></th>\n",
       "      <th></th>\n",
       "      <th></th>\n",
       "      <th></th>\n",
       "      <th></th>\n",
       "      <th></th>\n",
       "      <th></th>\n",
       "      <th></th>\n",
       "      <th></th>\n",
       "      <th></th>\n",
       "      <th></th>\n",
       "      <th></th>\n",
       "      <th></th>\n",
       "      <th></th>\n",
       "      <th></th>\n",
       "      <th></th>\n",
       "      <th></th>\n",
       "      <th></th>\n",
       "      <th></th>\n",
       "      <th></th>\n",
       "    </tr>\n",
       "  </thead>\n",
       "  <tbody>\n",
       "    <tr>\n",
       "      <th>ENSG00000227232.5</th>\n",
       "      <td>147.015425</td>\n",
       "      <td>133.654152</td>\n",
       "      <td>125.555213</td>\n",
       "      <td>153.062447</td>\n",
       "      <td>110.143486</td>\n",
       "      <td>149.697553</td>\n",
       "      <td>142.088406</td>\n",
       "      <td>227.011105</td>\n",
       "      <td>126.751403</td>\n",
       "      <td>105.982693</td>\n",
       "      <td>...</td>\n",
       "      <td>85.950823</td>\n",
       "      <td>219.214081</td>\n",
       "      <td>214.472294</td>\n",
       "      <td>94.298779</td>\n",
       "      <td>310.956416</td>\n",
       "      <td>192.237113</td>\n",
       "      <td>134.203827</td>\n",
       "      <td>227.846224</td>\n",
       "      <td>147.824783</td>\n",
       "      <td>185.285514</td>\n",
       "    </tr>\n",
       "    <tr>\n",
       "      <th>ENSG00000268903.1</th>\n",
       "      <td>84.645245</td>\n",
       "      <td>126.741006</td>\n",
       "      <td>80.484111</td>\n",
       "      <td>27.681506</td>\n",
       "      <td>108.176638</td>\n",
       "      <td>103.494605</td>\n",
       "      <td>83.293203</td>\n",
       "      <td>21.688959</td>\n",
       "      <td>76.42364</td>\n",
       "      <td>31.17138</td>\n",
       "      <td>...</td>\n",
       "      <td>27.959906</td>\n",
       "      <td>26.818744</td>\n",
       "      <td>14.242301</td>\n",
       "      <td>48.703765</td>\n",
       "      <td>36.140213</td>\n",
       "      <td>119.889812</td>\n",
       "      <td>93.121023</td>\n",
       "      <td>130.578538</td>\n",
       "      <td>21.923167</td>\n",
       "      <td>6.329629</td>\n",
       "    </tr>\n",
       "    <tr>\n",
       "      <th>ENSG00000279457.3</th>\n",
       "      <td>427.681236</td>\n",
       "      <td>417.09313</td>\n",
       "      <td>445.881973</td>\n",
       "      <td>319.151484</td>\n",
       "      <td>595.954931</td>\n",
       "      <td>303.091342</td>\n",
       "      <td>390.334815</td>\n",
       "      <td>430.887319</td>\n",
       "      <td>419.398024</td>\n",
       "      <td>207.809202</td>\n",
       "      <td>...</td>\n",
       "      <td>168.794989</td>\n",
       "      <td>165.576593</td>\n",
       "      <td>384.54212</td>\n",
       "      <td>190.670059</td>\n",
       "      <td>356.884603</td>\n",
       "      <td>398.943686</td>\n",
       "      <td>525.859894</td>\n",
       "      <td>630.241309</td>\n",
       "      <td>400.880767</td>\n",
       "      <td>462.062944</td>\n",
       "    </tr>\n",
       "    <tr>\n",
       "      <th>ENSG00000228463.9</th>\n",
       "      <td>41.58012</td>\n",
       "      <td>43.783257</td>\n",
       "      <td>77.264746</td>\n",
       "      <td>56.177175</td>\n",
       "      <td>66.872831</td>\n",
       "      <td>24.025533</td>\n",
       "      <td>37.563601</td>\n",
       "      <td>52.053502</td>\n",
       "      <td>109.043486</td>\n",
       "      <td>77.928451</td>\n",
       "      <td>...</td>\n",
       "      <td>1.035552</td>\n",
       "      <td>54.80352</td>\n",
       "      <td>23.457907</td>\n",
       "      <td>82.900026</td>\n",
       "      <td>63.245373</td>\n",
       "      <td>103.353287</td>\n",
       "      <td>57.515926</td>\n",
       "      <td>39.973022</td>\n",
       "      <td>75.79152</td>\n",
       "      <td>59.843769</td>\n",
       "    </tr>\n",
       "    <tr>\n",
       "      <th>ENSG00000225972.1</th>\n",
       "      <td>423.226224</td>\n",
       "      <td>82.189622</td>\n",
       "      <td>220.526463</td>\n",
       "      <td>35.008964</td>\n",
       "      <td>289.12665</td>\n",
       "      <td>275.369573</td>\n",
       "      <td>233.547609</td>\n",
       "      <td>163.390158</td>\n",
       "      <td>73.627653</td>\n",
       "      <td>36.36661</td>\n",
       "      <td>...</td>\n",
       "      <td>40.386531</td>\n",
       "      <td>110.773073</td>\n",
       "      <td>180.123215</td>\n",
       "      <td>59.066268</td>\n",
       "      <td>63.998294</td>\n",
       "      <td>260.450282</td>\n",
       "      <td>156.114656</td>\n",
       "      <td>127.913669</td>\n",
       "      <td>33.197938</td>\n",
       "      <td>51.212456</td>\n",
       "    </tr>\n",
       "    <tr>\n",
       "      <th>...</th>\n",
       "      <td>...</td>\n",
       "      <td>...</td>\n",
       "      <td>...</td>\n",
       "      <td>...</td>\n",
       "      <td>...</td>\n",
       "      <td>...</td>\n",
       "      <td>...</td>\n",
       "      <td>...</td>\n",
       "      <td>...</td>\n",
       "      <td>...</td>\n",
       "      <td>...</td>\n",
       "      <td>...</td>\n",
       "      <td>...</td>\n",
       "      <td>...</td>\n",
       "      <td>...</td>\n",
       "      <td>...</td>\n",
       "      <td>...</td>\n",
       "      <td>...</td>\n",
       "      <td>...</td>\n",
       "      <td>...</td>\n",
       "      <td>...</td>\n",
       "    </tr>\n",
       "    <tr>\n",
       "      <th>ENSG00000273748.1</th>\n",
       "      <td>230.175665</td>\n",
       "      <td>451.658859</td>\n",
       "      <td>386.323731</td>\n",
       "      <td>146.549151</td>\n",
       "      <td>515.314164</td>\n",
       "      <td>434.307716</td>\n",
       "      <td>553.654822</td>\n",
       "      <td>497.400127</td>\n",
       "      <td>220.882959</td>\n",
       "      <td>50.913254</td>\n",
       "      <td>...</td>\n",
       "      <td>450.465155</td>\n",
       "      <td>78.124167</td>\n",
       "      <td>154.151961</td>\n",
       "      <td>132.640041</td>\n",
       "      <td>128.749509</td>\n",
       "      <td>866.100541</td>\n",
       "      <td>364.26753</td>\n",
       "      <td>506.324942</td>\n",
       "      <td>118.385101</td>\n",
       "      <td>223.26329</td>\n",
       "    </tr>\n",
       "    <tr>\n",
       "      <th>ENSG00000271254.6</th>\n",
       "      <td>299.970867</td>\n",
       "      <td>154.39359</td>\n",
       "      <td>67.606653</td>\n",
       "      <td>123.752616</td>\n",
       "      <td>133.745661</td>\n",
       "      <td>140.456963</td>\n",
       "      <td>119.223605</td>\n",
       "      <td>222.673313</td>\n",
       "      <td>186.399122</td>\n",
       "      <td>156.895947</td>\n",
       "      <td>...</td>\n",
       "      <td>252.674708</td>\n",
       "      <td>457.084679</td>\n",
       "      <td>270.603714</td>\n",
       "      <td>116.060036</td>\n",
       "      <td>280.08665</td>\n",
       "      <td>332.797583</td>\n",
       "      <td>154.745229</td>\n",
       "      <td>151.897482</td>\n",
       "      <td>251.803232</td>\n",
       "      <td>218.084503</td>\n",
       "    </tr>\n",
       "    <tr>\n",
       "      <th>ENSG00000277048.1</th>\n",
       "      <td>23685.818473</td>\n",
       "      <td>7347.905857</td>\n",
       "      <td>6585.209929</td>\n",
       "      <td>1104.817766</td>\n",
       "      <td>7572.364631</td>\n",
       "      <td>10800.401238</td>\n",
       "      <td>15892.669827</td>\n",
       "      <td>9417.346013</td>\n",
       "      <td>2690.671322</td>\n",
       "      <td>1801.705777</td>\n",
       "      <td>...</td>\n",
       "      <td>832.583873</td>\n",
       "      <td>2157.159837</td>\n",
       "      <td>1433.445682</td>\n",
       "      <td>915.009034</td>\n",
       "      <td>2233.916914</td>\n",
       "      <td>15141.256476</td>\n",
       "      <td>10511.720165</td>\n",
       "      <td>4924.676274</td>\n",
       "      <td>2831.846791</td>\n",
       "      <td>929.880096</td>\n",
       "    </tr>\n",
       "    <tr>\n",
       "      <th>ENSG00000278817.1</th>\n",
       "      <td>343.035992</td>\n",
       "      <td>152.857335</td>\n",
       "      <td>286.523434</td>\n",
       "      <td>213.310431</td>\n",
       "      <td>373.701112</td>\n",
       "      <td>423.219008</td>\n",
       "      <td>421.365617</td>\n",
       "      <td>441.008834</td>\n",
       "      <td>319.674494</td>\n",
       "      <td>208.848248</td>\n",
       "      <td>...</td>\n",
       "      <td>130.479562</td>\n",
       "      <td>254.195051</td>\n",
       "      <td>296.574969</td>\n",
       "      <td>84.972526</td>\n",
       "      <td>210.064988</td>\n",
       "      <td>388.608357</td>\n",
       "      <td>258.821666</td>\n",
       "      <td>133.243406</td>\n",
       "      <td>172.253454</td>\n",
       "      <td>196.793931</td>\n",
       "    </tr>\n",
       "    <tr>\n",
       "      <th>ENSG00000277196.4</th>\n",
       "      <td>775.172241</td>\n",
       "      <td>475.470805</td>\n",
       "      <td>1125.167866</td>\n",
       "      <td>936.286242</td>\n",
       "      <td>1494.804447</td>\n",
       "      <td>1267.808906</td>\n",
       "      <td>676.144827</td>\n",
       "      <td>2388.677355</td>\n",
       "      <td>1129.578678</td>\n",
       "      <td>674.340859</td>\n",
       "      <td>...</td>\n",
       "      <td>627.544561</td>\n",
       "      <td>1295.461934</td>\n",
       "      <td>340.977436</td>\n",
       "      <td>440.406386</td>\n",
       "      <td>2121.73167</td>\n",
       "      <td>1969.913641</td>\n",
       "      <td>1730.955483</td>\n",
       "      <td>779.473923</td>\n",
       "      <td>875.047549</td>\n",
       "      <td>798.108721</td>\n",
       "    </tr>\n",
       "  </tbody>\n",
       "</table>\n",
       "<p>17110 rows × 633 columns</p>\n",
       "</div>"
      ],
      "text/plain": [
       "                      01_120405    02_120405    03_120405    04_120405  \\\n",
       "feature                                                                  \n",
       "ENSG00000227232.5    147.015425   133.654152   125.555213   153.062447   \n",
       "ENSG00000268903.1     84.645245   126.741006    80.484111    27.681506   \n",
       "ENSG00000279457.3    427.681236    417.09313   445.881973   319.151484   \n",
       "ENSG00000228463.9      41.58012    43.783257    77.264746    56.177175   \n",
       "ENSG00000225972.1    423.226224    82.189622   220.526463    35.008964   \n",
       "...                         ...          ...          ...          ...   \n",
       "ENSG00000273748.1    230.175665   451.658859   386.323731   146.549151   \n",
       "ENSG00000271254.6    299.970867    154.39359    67.606653   123.752616   \n",
       "ENSG00000277048.1  23685.818473  7347.905857  6585.209929  1104.817766   \n",
       "ENSG00000278817.1    343.035992   152.857335   286.523434   213.310431   \n",
       "ENSG00000277196.4    775.172241   475.470805  1125.167866   936.286242   \n",
       "\n",
       "                     05_120405     07_120410     08_120410   100_120417  \\\n",
       "feature                                                                   \n",
       "ENSG00000227232.5   110.143486    149.697553    142.088406   227.011105   \n",
       "ENSG00000268903.1   108.176638    103.494605     83.293203    21.688959   \n",
       "ENSG00000279457.3   595.954931    303.091342    390.334815   430.887319   \n",
       "ENSG00000228463.9    66.872831     24.025533     37.563601    52.053502   \n",
       "ENSG00000225972.1    289.12665    275.369573    233.547609   163.390158   \n",
       "...                        ...           ...           ...          ...   \n",
       "ENSG00000273748.1   515.314164    434.307716    553.654822   497.400127   \n",
       "ENSG00000271254.6   133.745661    140.456963    119.223605   222.673313   \n",
       "ENSG00000277048.1  7572.364631  10800.401238  15892.669827  9417.346013   \n",
       "ENSG00000278817.1   373.701112    423.219008    421.365617   441.008834   \n",
       "ENSG00000277196.4  1494.804447   1267.808906    676.144827  2388.677355   \n",
       "\n",
       "                    101_120418   102_120418  ...  952_131107   954_131107  \\\n",
       "feature                                      ...                            \n",
       "ENSG00000227232.5   126.751403   105.982693  ...   85.950823   219.214081   \n",
       "ENSG00000268903.1     76.42364     31.17138  ...   27.959906    26.818744   \n",
       "ENSG00000279457.3   419.398024   207.809202  ...  168.794989   165.576593   \n",
       "ENSG00000228463.9   109.043486    77.928451  ...    1.035552     54.80352   \n",
       "ENSG00000225972.1    73.627653     36.36661  ...   40.386531   110.773073   \n",
       "...                        ...          ...  ...         ...          ...   \n",
       "ENSG00000273748.1   220.882959    50.913254  ...  450.465155    78.124167   \n",
       "ENSG00000271254.6   186.399122   156.895947  ...  252.674708   457.084679   \n",
       "ENSG00000277048.1  2690.671322  1801.705777  ...  832.583873  2157.159837   \n",
       "ENSG00000278817.1   319.674494   208.848248  ...  130.479562   254.195051   \n",
       "ENSG00000277196.4  1129.578678   674.340859  ...  627.544561  1295.461934   \n",
       "\n",
       "                    956_131107  957_131107   958_131107     96_120417  \\\n",
       "feature                                                                 \n",
       "ENSG00000227232.5   214.472294   94.298779   310.956416    192.237113   \n",
       "ENSG00000268903.1    14.242301   48.703765    36.140213    119.889812   \n",
       "ENSG00000279457.3    384.54212  190.670059   356.884603    398.943686   \n",
       "ENSG00000228463.9    23.457907   82.900026    63.245373    103.353287   \n",
       "ENSG00000225972.1   180.123215   59.066268    63.998294    260.450282   \n",
       "...                        ...         ...          ...           ...   \n",
       "ENSG00000273748.1   154.151961  132.640041   128.749509    866.100541   \n",
       "ENSG00000271254.6   270.603714  116.060036    280.08665    332.797583   \n",
       "ENSG00000277048.1  1433.445682  915.009034  2233.916914  15141.256476   \n",
       "ENSG00000278817.1   296.574969   84.972526   210.064988    388.608357   \n",
       "ENSG00000277196.4   340.977436  440.406386   2121.73167   1969.913641   \n",
       "\n",
       "                      97_120417    98_120417   R24_131017 redo4_140501  \n",
       "feature                                                                 \n",
       "ENSG00000227232.5    134.203827   227.846224   147.824783   185.285514  \n",
       "ENSG00000268903.1     93.121023   130.578538    21.923167     6.329629  \n",
       "ENSG00000279457.3    525.859894   630.241309   400.880767   462.062944  \n",
       "ENSG00000228463.9     57.515926    39.973022     75.79152    59.843769  \n",
       "ENSG00000225972.1    156.114656   127.913669    33.197938    51.212456  \n",
       "...                         ...          ...          ...          ...  \n",
       "ENSG00000273748.1     364.26753   506.324942   118.385101    223.26329  \n",
       "ENSG00000271254.6    154.745229   151.897482   251.803232   218.084503  \n",
       "ENSG00000277048.1  10511.720165  4924.676274  2831.846791   929.880096  \n",
       "ENSG00000278817.1    258.821666   133.243406   172.253454   196.793931  \n",
       "ENSG00000277196.4   1730.955483   779.473923   875.047549   798.108721  \n",
       "\n",
       "[17110 rows x 633 columns]"
      ]
     },
     "execution_count": 136,
     "metadata": {},
     "output_type": "execute_result"
    }
   ],
   "source": [
    "count_matrix_mrn = conorm.mrn(count_matrix )\n",
    "count_matrix_mrn"
   ]
  },
  {
   "cell_type": "code",
   "execution_count": 24,
   "id": "50af1001",
   "metadata": {},
   "outputs": [],
   "source": [
    "count_matrix_mrn = pd.read_csv('count_matrix_mrn.csv')\n",
    "count_matrix_mrn"
   ]
  },
  {
   "cell_type": "code",
   "execution_count": null,
   "id": "01a4078e",
   "metadata": {},
   "outputs": [],
   "source": [
    "count_matrix_mrn = count_matrix_mrn.T\n",
    "\n",
    "count_matrix_mrn.columns = count_matrix_mrn.iloc[0]\n",
    "\n",
    "# Remove the first row (index 0) as it's now the header\n",
    "count_matrix_mrn =count_matrix_mrn.iloc[1:]\n",
    "count_matrix_mrn"
   ]
  },
  {
   "cell_type": "code",
   "execution_count": 95,
   "id": "bbe7f752",
   "metadata": {},
   "outputs": [],
   "source": [
    "count_matrix_mrn.reset_index(inplace = True)"
   ]
  },
  {
   "cell_type": "code",
   "execution_count": 96,
   "id": "887e5d1c",
   "metadata": {},
   "outputs": [],
   "source": [
    "import pickle\n",
    "with open('NCI_with_No_Plaques.pkl','rb') as f:\n",
    "    NCI_with_No_Plaques= pickle.load(f)\n",
    "\n",
    "with open('AD_with_Plaques.pkl','rb') as f:\n",
    "    AD_with_Plaques= pickle.load(f)\n",
    "\n",
    "with open('AD_with_No_Plaques.pkl','rb') as f:\n",
    "    AD_with_No_Plaques= pickle.load(f)\n",
    "\n",
    "with open('NCI_with_Plaques.pkl','rb') as f:\n",
    "    NCI_with_Plaques = pickle.load(f)"
   ]
  },
  {
   "cell_type": "code",
   "execution_count": 99,
   "id": "25147e86",
   "metadata": {},
   "outputs": [
    {
     "data": {
      "text/html": [
       "<div>\n",
       "<style scoped>\n",
       "    .dataframe tbody tr th:only-of-type {\n",
       "        vertical-align: middle;\n",
       "    }\n",
       "\n",
       "    .dataframe tbody tr th {\n",
       "        vertical-align: top;\n",
       "    }\n",
       "\n",
       "    .dataframe thead th {\n",
       "        text-align: right;\n",
       "    }\n",
       "</style>\n",
       "<table border=\"1\" class=\"dataframe\">\n",
       "  <thead>\n",
       "    <tr style=\"text-align: right;\">\n",
       "      <th>symbol</th>\n",
       "      <th>index</th>\n",
       "      <th>ENSG00000227232</th>\n",
       "      <th>ENSG00000268903</th>\n",
       "      <th>ENSG00000279457</th>\n",
       "      <th>ENSG00000228463</th>\n",
       "      <th>ENSG00000229344</th>\n",
       "      <th>ENSG00000248527</th>\n",
       "      <th>ENSG00000198744</th>\n",
       "      <th>ENSG00000228327</th>\n",
       "      <th>ENSG00000237491</th>\n",
       "      <th>...</th>\n",
       "      <th>ENSG00000228253</th>\n",
       "      <th>ENSG00000198899</th>\n",
       "      <th>ENSG00000198938</th>\n",
       "      <th>ENSG00000198840</th>\n",
       "      <th>ENSG00000212907</th>\n",
       "      <th>ENSG00000198886</th>\n",
       "      <th>ENSG00000198786</th>\n",
       "      <th>ENSG00000198695</th>\n",
       "      <th>ENSG00000198727</th>\n",
       "      <th>ENSG00000210196</th>\n",
       "    </tr>\n",
       "  </thead>\n",
       "  <tbody>\n",
       "    <tr>\n",
       "      <th>0</th>\n",
       "      <td>01_120405</td>\n",
       "      <td>147.015425</td>\n",
       "      <td>84.645245</td>\n",
       "      <td>427.681236</td>\n",
       "      <td>41.58012</td>\n",
       "      <td>576.181666</td>\n",
       "      <td>115721.929541</td>\n",
       "      <td>319.275923</td>\n",
       "      <td>22.275064</td>\n",
       "      <td>69.795202</td>\n",
       "      <td>...</td>\n",
       "      <td>40218.371267</td>\n",
       "      <td>1271964.092125</td>\n",
       "      <td>1566753.779333</td>\n",
       "      <td>794321.371306</td>\n",
       "      <td>191803.154484</td>\n",
       "      <td>2893296.234239</td>\n",
       "      <td>1039378.264742</td>\n",
       "      <td>272925.969002</td>\n",
       "      <td>1397546.450171</td>\n",
       "      <td>14814.402827</td>\n",
       "    </tr>\n",
       "    <tr>\n",
       "      <th>1</th>\n",
       "      <td>02_120405</td>\n",
       "      <td>133.654152</td>\n",
       "      <td>126.741006</td>\n",
       "      <td>417.09313</td>\n",
       "      <td>43.783257</td>\n",
       "      <td>176.669282</td>\n",
       "      <td>22016.064986</td>\n",
       "      <td>148.248571</td>\n",
       "      <td>86.798386</td>\n",
       "      <td>93.711532</td>\n",
       "      <td>...</td>\n",
       "      <td>15647.521451</td>\n",
       "      <td>433118.569933</td>\n",
       "      <td>567423.32587</td>\n",
       "      <td>150705.810281</td>\n",
       "      <td>50260.874337</td>\n",
       "      <td>857044.960336</td>\n",
       "      <td>280904.157614</td>\n",
       "      <td>60520.75083</td>\n",
       "      <td>472285.381518</td>\n",
       "      <td>5610.401879</td>\n",
       "    </tr>\n",
       "    <tr>\n",
       "      <th>2</th>\n",
       "      <td>03_120405</td>\n",
       "      <td>125.555213</td>\n",
       "      <td>80.484111</td>\n",
       "      <td>445.881973</td>\n",
       "      <td>77.264746</td>\n",
       "      <td>268.816929</td>\n",
       "      <td>34353.837767</td>\n",
       "      <td>181.89409</td>\n",
       "      <td>38.632373</td>\n",
       "      <td>80.484111</td>\n",
       "      <td>...</td>\n",
       "      <td>19375.744785</td>\n",
       "      <td>809472.161677</td>\n",
       "      <td>948183.306924</td>\n",
       "      <td>325748.169859</td>\n",
       "      <td>102831.328743</td>\n",
       "      <td>1775539.037975</td>\n",
       "      <td>679537.00385</td>\n",
       "      <td>126685.209442</td>\n",
       "      <td>851418.870437</td>\n",
       "      <td>12626.34727</td>\n",
       "    </tr>\n",
       "    <tr>\n",
       "      <th>3</th>\n",
       "      <td>04_120405</td>\n",
       "      <td>153.062447</td>\n",
       "      <td>27.681506</td>\n",
       "      <td>319.151484</td>\n",
       "      <td>56.177175</td>\n",
       "      <td>124.566778</td>\n",
       "      <td>15675.874179</td>\n",
       "      <td>74.088737</td>\n",
       "      <td>65.132956</td>\n",
       "      <td>57.805498</td>\n",
       "      <td>...</td>\n",
       "      <td>8274.327895</td>\n",
       "      <td>224817.795815</td>\n",
       "      <td>312141.549891</td>\n",
       "      <td>88184.323256</td>\n",
       "      <td>24977.674454</td>\n",
       "      <td>490453.600977</td>\n",
       "      <td>144523.516013</td>\n",
       "      <td>30894.189343</td>\n",
       "      <td>234222.994658</td>\n",
       "      <td>1698.341827</td>\n",
       "    </tr>\n",
       "    <tr>\n",
       "      <th>4</th>\n",
       "      <td>05_120405</td>\n",
       "      <td>110.143486</td>\n",
       "      <td>108.176638</td>\n",
       "      <td>595.954931</td>\n",
       "      <td>66.872831</td>\n",
       "      <td>222.253819</td>\n",
       "      <td>34860.413172</td>\n",
       "      <td>171.115772</td>\n",
       "      <td>55.071743</td>\n",
       "      <td>112.110333</td>\n",
       "      <td>...</td>\n",
       "      <td>17300.394621</td>\n",
       "      <td>794759.988372</td>\n",
       "      <td>1104823.734398</td>\n",
       "      <td>257009.989261</td>\n",
       "      <td>72612.09284</td>\n",
       "      <td>1640107.306172</td>\n",
       "      <td>594949.871368</td>\n",
       "      <td>135767.580708</td>\n",
       "      <td>772308.418954</td>\n",
       "      <td>12648.799205</td>\n",
       "    </tr>\n",
       "  </tbody>\n",
       "</table>\n",
       "<p>5 rows × 16958 columns</p>\n",
       "</div>"
      ],
      "text/plain": [
       "symbol      index ENSG00000227232 ENSG00000268903 ENSG00000279457  \\\n",
       "0       01_120405      147.015425       84.645245      427.681236   \n",
       "1       02_120405      133.654152      126.741006       417.09313   \n",
       "2       03_120405      125.555213       80.484111      445.881973   \n",
       "3       04_120405      153.062447       27.681506      319.151484   \n",
       "4       05_120405      110.143486      108.176638      595.954931   \n",
       "\n",
       "symbol ENSG00000228463 ENSG00000229344 ENSG00000248527 ENSG00000198744  \\\n",
       "0             41.58012      576.181666   115721.929541      319.275923   \n",
       "1            43.783257      176.669282    22016.064986      148.248571   \n",
       "2            77.264746      268.816929    34353.837767       181.89409   \n",
       "3            56.177175      124.566778    15675.874179       74.088737   \n",
       "4            66.872831      222.253819    34860.413172      171.115772   \n",
       "\n",
       "symbol ENSG00000228327 ENSG00000237491  ... ENSG00000228253 ENSG00000198899  \\\n",
       "0            22.275064       69.795202  ...    40218.371267  1271964.092125   \n",
       "1            86.798386       93.711532  ...    15647.521451   433118.569933   \n",
       "2            38.632373       80.484111  ...    19375.744785   809472.161677   \n",
       "3            65.132956       57.805498  ...     8274.327895   224817.795815   \n",
       "4            55.071743      112.110333  ...    17300.394621   794759.988372   \n",
       "\n",
       "symbol ENSG00000198938 ENSG00000198840 ENSG00000212907 ENSG00000198886  \\\n",
       "0       1566753.779333   794321.371306   191803.154484  2893296.234239   \n",
       "1         567423.32587   150705.810281    50260.874337   857044.960336   \n",
       "2        948183.306924   325748.169859   102831.328743  1775539.037975   \n",
       "3        312141.549891    88184.323256    24977.674454   490453.600977   \n",
       "4       1104823.734398   257009.989261     72612.09284  1640107.306172   \n",
       "\n",
       "symbol ENSG00000198786 ENSG00000198695 ENSG00000198727 ENSG00000210196  \n",
       "0       1039378.264742   272925.969002  1397546.450171    14814.402827  \n",
       "1        280904.157614     60520.75083   472285.381518     5610.401879  \n",
       "2         679537.00385   126685.209442   851418.870437     12626.34727  \n",
       "3        144523.516013    30894.189343   234222.994658     1698.341827  \n",
       "4        594949.871368   135767.580708   772308.418954    12648.799205  \n",
       "\n",
       "[5 rows x 16958 columns]"
      ]
     },
     "execution_count": 99,
     "metadata": {},
     "output_type": "execute_result"
    }
   ],
   "source": [
    "count_matrix_mrn.head()"
   ]
  },
  {
   "cell_type": "code",
   "execution_count": 456,
   "id": "7fa2638f",
   "metadata": {},
   "outputs": [
    {
     "name": "stdout",
     "output_type": "stream",
     "text": [
      "['2', '1', '4', '5', '6', '2', '2', '5', '5', '2', '6', '2', '4', '5', '3', '6', '5', '6', '0', '6']\n"
     ]
    }
   ],
   "source": [
    "def return_batch(feature):\n",
    "    try:\n",
    "        return clinical_data[clinical_data.specimenID == feature]['libraryBatch'].values[0]\n",
    "    except:\n",
    "        return 0\n",
    "\n",
    "m = list(map(return_batch,count_matrix_filtered_mrn.columns.tolist()))\n",
    "print(m[0:20])\n"
   ]
  },
  {
   "cell_type": "code",
   "execution_count": 457,
   "id": "3fbc2a36",
   "metadata": {},
   "outputs": [],
   "source": [
    "from combat.pycombat import pycombat\n"
   ]
  },
  {
   "cell_type": "code",
   "execution_count": 458,
   "id": "176ae136",
   "metadata": {},
   "outputs": [
    {
     "name": "stdout",
     "output_type": "stream",
     "text": [
      "Found 10 batches.\n",
      "\n",
      "One batch has only one sample, try setting mean_only=True.\n",
      "\n",
      "Adjusting for 0 covariate(s) or covariate level(s).\n",
      "Standardizing Data across genes.\n",
      "Fitting L/S model and finding priors.\n",
      "Finding parametric adjustments.\n"
     ]
    },
    {
     "name": "stderr",
     "output_type": "stream",
     "text": [
      "/Users/anwer/miniconda/lib/python3.10/site-packages/combat/pycombat.py:91: RuntimeWarning:\n",
      "\n",
      "invalid value encountered in scalar divide\n",
      "\n",
      "/Users/anwer/miniconda/lib/python3.10/site-packages/combat/pycombat.py:93: RuntimeWarning:\n",
      "\n",
      "invalid value encountered in scalar divide\n",
      "\n"
     ]
    },
    {
     "name": "stdout",
     "output_type": "stream",
     "text": [
      "Adjusting the Data\n"
     ]
    }
   ],
   "source": [
    "count_matrix_filtered_mrn_batch_corrected = pycombat(count_matrix_filtered_mrn[~(count_matrix_filtered_mrn == 0).all(axis=1)].astype(float),m)\n"
   ]
  },
  {
   "cell_type": "code",
   "execution_count": 534,
   "id": "b6220097",
   "metadata": {},
   "outputs": [
    {
     "data": {
      "text/html": [
       "<div>\n",
       "<style scoped>\n",
       "    .dataframe tbody tr th:only-of-type {\n",
       "        vertical-align: middle;\n",
       "    }\n",
       "\n",
       "    .dataframe tbody tr th {\n",
       "        vertical-align: top;\n",
       "    }\n",
       "\n",
       "    .dataframe thead th {\n",
       "        text-align: right;\n",
       "    }\n",
       "</style>\n",
       "<table border=\"1\" class=\"dataframe\">\n",
       "  <thead>\n",
       "    <tr style=\"text-align: right;\">\n",
       "      <th></th>\n",
       "      <th>02_120405</th>\n",
       "      <th>04_120405</th>\n",
       "      <th>07_120410</th>\n",
       "      <th>08_120410</th>\n",
       "      <th>100_120417</th>\n",
       "      <th>101_120418</th>\n",
       "      <th>104_120418</th>\n",
       "      <th>11_120410</th>\n",
       "      <th>120_120418</th>\n",
       "      <th>122_120418</th>\n",
       "      <th>...</th>\n",
       "      <th>945_131107</th>\n",
       "      <th>94_120417</th>\n",
       "      <th>950_131107</th>\n",
       "      <th>951_131107</th>\n",
       "      <th>952_131107</th>\n",
       "      <th>954_131107</th>\n",
       "      <th>956_131107</th>\n",
       "      <th>958_131107</th>\n",
       "      <th>97_120417</th>\n",
       "      <th>R24_131017</th>\n",
       "    </tr>\n",
       "    <tr>\n",
       "      <th>0</th>\n",
       "      <th></th>\n",
       "      <th></th>\n",
       "      <th></th>\n",
       "      <th></th>\n",
       "      <th></th>\n",
       "      <th></th>\n",
       "      <th></th>\n",
       "      <th></th>\n",
       "      <th></th>\n",
       "      <th></th>\n",
       "      <th></th>\n",
       "      <th></th>\n",
       "      <th></th>\n",
       "      <th></th>\n",
       "      <th></th>\n",
       "      <th></th>\n",
       "      <th></th>\n",
       "      <th></th>\n",
       "      <th></th>\n",
       "      <th></th>\n",
       "      <th></th>\n",
       "    </tr>\n",
       "  </thead>\n",
       "  <tbody>\n",
       "    <tr>\n",
       "      <th>ENSG00000227232</th>\n",
       "      <td>139.179442</td>\n",
       "      <td>159.790850</td>\n",
       "      <td>143.977880</td>\n",
       "      <td>148.083190</td>\n",
       "      <td>220.031510</td>\n",
       "      <td>132.265803</td>\n",
       "      <td>324.338277</td>\n",
       "      <td>171.271482</td>\n",
       "      <td>148.535021</td>\n",
       "      <td>220.102206</td>\n",
       "      <td>...</td>\n",
       "      <td>179.060200</td>\n",
       "      <td>207.598503</td>\n",
       "      <td>118.663026</td>\n",
       "      <td>115.761758</td>\n",
       "      <td>134.899462</td>\n",
       "      <td>192.628239</td>\n",
       "      <td>188.737163</td>\n",
       "      <td>276.629348</td>\n",
       "      <td>139.116520</td>\n",
       "      <td>127.295951</td>\n",
       "    </tr>\n",
       "    <tr>\n",
       "      <th>ENSG00000268903</th>\n",
       "      <td>131.050214</td>\n",
       "      <td>34.436433</td>\n",
       "      <td>91.035602</td>\n",
       "      <td>70.793194</td>\n",
       "      <td>15.343736</td>\n",
       "      <td>77.740545</td>\n",
       "      <td>112.544232</td>\n",
       "      <td>78.020120</td>\n",
       "      <td>66.830061</td>\n",
       "      <td>57.947879</td>\n",
       "      <td>...</td>\n",
       "      <td>63.345520</td>\n",
       "      <td>121.582517</td>\n",
       "      <td>27.423797</td>\n",
       "      <td>28.798616</td>\n",
       "      <td>51.905626</td>\n",
       "      <td>70.604233</td>\n",
       "      <td>62.600707</td>\n",
       "      <td>76.558855</td>\n",
       "      <td>79.356409</td>\n",
       "      <td>67.476960</td>\n",
       "    </tr>\n",
       "    <tr>\n",
       "      <th>ENSG00000279457</th>\n",
       "      <td>449.896935</td>\n",
       "      <td>421.257284</td>\n",
       "      <td>271.269775</td>\n",
       "      <td>368.830077</td>\n",
       "      <td>437.549369</td>\n",
       "      <td>452.260765</td>\n",
       "      <td>631.813272</td>\n",
       "      <td>350.421244</td>\n",
       "      <td>356.340886</td>\n",
       "      <td>635.139568</td>\n",
       "      <td>...</td>\n",
       "      <td>424.166370</td>\n",
       "      <td>708.456968</td>\n",
       "      <td>339.778335</td>\n",
       "      <td>332.192915</td>\n",
       "      <td>310.227385</td>\n",
       "      <td>271.509438</td>\n",
       "      <td>449.375238</td>\n",
       "      <td>426.381386</td>\n",
       "      <td>490.831711</td>\n",
       "      <td>461.800415</td>\n",
       "    </tr>\n",
       "    <tr>\n",
       "      <th>ENSG00000228463</th>\n",
       "      <td>42.029134</td>\n",
       "      <td>48.942688</td>\n",
       "      <td>35.663578</td>\n",
       "      <td>43.846129</td>\n",
       "      <td>50.974887</td>\n",
       "      <td>93.032447</td>\n",
       "      <td>76.297564</td>\n",
       "      <td>69.965474</td>\n",
       "      <td>39.174393</td>\n",
       "      <td>79.473070</td>\n",
       "      <td>...</td>\n",
       "      <td>82.428662</td>\n",
       "      <td>-0.810866</td>\n",
       "      <td>39.383602</td>\n",
       "      <td>59.794417</td>\n",
       "      <td>13.681172</td>\n",
       "      <td>55.405333</td>\n",
       "      <td>28.551877</td>\n",
       "      <td>62.666691</td>\n",
       "      <td>67.287569</td>\n",
       "      <td>73.398813</td>\n",
       "    </tr>\n",
       "    <tr>\n",
       "      <th>ENSG00000225972</th>\n",
       "      <td>641.170937</td>\n",
       "      <td>28.879241</td>\n",
       "      <td>-593.909451</td>\n",
       "      <td>878.814627</td>\n",
       "      <td>804.893284</td>\n",
       "      <td>617.593034</td>\n",
       "      <td>660.905706</td>\n",
       "      <td>740.221675</td>\n",
       "      <td>650.211159</td>\n",
       "      <td>628.450481</td>\n",
       "      <td>...</td>\n",
       "      <td>597.475839</td>\n",
       "      <td>665.584658</td>\n",
       "      <td>555.050077</td>\n",
       "      <td>591.404851</td>\n",
       "      <td>553.238927</td>\n",
       "      <td>652.879159</td>\n",
       "      <td>754.308174</td>\n",
       "      <td>584.898783</td>\n",
       "      <td>715.336042</td>\n",
       "      <td>540.073736</td>\n",
       "    </tr>\n",
       "    <tr>\n",
       "      <th>...</th>\n",
       "      <td>...</td>\n",
       "      <td>...</td>\n",
       "      <td>...</td>\n",
       "      <td>...</td>\n",
       "      <td>...</td>\n",
       "      <td>...</td>\n",
       "      <td>...</td>\n",
       "      <td>...</td>\n",
       "      <td>...</td>\n",
       "      <td>...</td>\n",
       "      <td>...</td>\n",
       "      <td>...</td>\n",
       "      <td>...</td>\n",
       "      <td>...</td>\n",
       "      <td>...</td>\n",
       "      <td>...</td>\n",
       "      <td>...</td>\n",
       "      <td>...</td>\n",
       "      <td>...</td>\n",
       "      <td>...</td>\n",
       "      <td>...</td>\n",
       "    </tr>\n",
       "    <tr>\n",
       "      <th>ENSG00000075884</th>\n",
       "      <td>29.882448</td>\n",
       "      <td>37.818718</td>\n",
       "      <td>13.169907</td>\n",
       "      <td>16.187857</td>\n",
       "      <td>18.602246</td>\n",
       "      <td>40.035573</td>\n",
       "      <td>26.774700</td>\n",
       "      <td>16.350919</td>\n",
       "      <td>12.209710</td>\n",
       "      <td>28.077344</td>\n",
       "      <td>...</td>\n",
       "      <td>26.731195</td>\n",
       "      <td>36.800829</td>\n",
       "      <td>26.367840</td>\n",
       "      <td>15.498022</td>\n",
       "      <td>32.755556</td>\n",
       "      <td>18.295556</td>\n",
       "      <td>27.440442</td>\n",
       "      <td>22.864599</td>\n",
       "      <td>13.969436</td>\n",
       "      <td>21.111085</td>\n",
       "    </tr>\n",
       "    <tr>\n",
       "      <th>ENSG00000229931</th>\n",
       "      <td>22.558244</td>\n",
       "      <td>18.978174</td>\n",
       "      <td>16.369986</td>\n",
       "      <td>25.084949</td>\n",
       "      <td>29.343703</td>\n",
       "      <td>24.854939</td>\n",
       "      <td>30.897608</td>\n",
       "      <td>18.072581</td>\n",
       "      <td>28.721454</td>\n",
       "      <td>26.581431</td>\n",
       "      <td>...</td>\n",
       "      <td>24.518608</td>\n",
       "      <td>16.585730</td>\n",
       "      <td>28.957466</td>\n",
       "      <td>33.272173</td>\n",
       "      <td>15.621989</td>\n",
       "      <td>22.919188</td>\n",
       "      <td>18.554231</td>\n",
       "      <td>24.667191</td>\n",
       "      <td>26.030537</td>\n",
       "      <td>26.170846</td>\n",
       "    </tr>\n",
       "    <tr>\n",
       "      <th>ENSG00000179899</th>\n",
       "      <td>34.379843</td>\n",
       "      <td>30.419527</td>\n",
       "      <td>26.270479</td>\n",
       "      <td>13.939935</td>\n",
       "      <td>9.525089</td>\n",
       "      <td>17.397142</td>\n",
       "      <td>24.487817</td>\n",
       "      <td>18.611773</td>\n",
       "      <td>22.946025</td>\n",
       "      <td>15.985223</td>\n",
       "      <td>...</td>\n",
       "      <td>27.894973</td>\n",
       "      <td>20.889489</td>\n",
       "      <td>40.490574</td>\n",
       "      <td>27.124998</td>\n",
       "      <td>24.126320</td>\n",
       "      <td>23.496921</td>\n",
       "      <td>32.285541</td>\n",
       "      <td>15.860552</td>\n",
       "      <td>22.939899</td>\n",
       "      <td>21.935920</td>\n",
       "    </tr>\n",
       "    <tr>\n",
       "      <th>ENSG00000263466</th>\n",
       "      <td>23.504844</td>\n",
       "      <td>22.886310</td>\n",
       "      <td>19.838573</td>\n",
       "      <td>79.813061</td>\n",
       "      <td>50.832991</td>\n",
       "      <td>33.407833</td>\n",
       "      <td>38.511543</td>\n",
       "      <td>34.163307</td>\n",
       "      <td>44.238612</td>\n",
       "      <td>41.373742</td>\n",
       "      <td>...</td>\n",
       "      <td>30.205482</td>\n",
       "      <td>52.582530</td>\n",
       "      <td>19.353559</td>\n",
       "      <td>25.070598</td>\n",
       "      <td>27.362410</td>\n",
       "      <td>29.739524</td>\n",
       "      <td>30.170258</td>\n",
       "      <td>30.512217</td>\n",
       "      <td>33.132233</td>\n",
       "      <td>30.703202</td>\n",
       "    </tr>\n",
       "    <tr>\n",
       "      <th>ENSG00000181195</th>\n",
       "      <td>67.319378</td>\n",
       "      <td>39.741721</td>\n",
       "      <td>46.606072</td>\n",
       "      <td>7.456196</td>\n",
       "      <td>5.118924</td>\n",
       "      <td>14.620649</td>\n",
       "      <td>12.214130</td>\n",
       "      <td>24.166395</td>\n",
       "      <td>13.800896</td>\n",
       "      <td>62.402817</td>\n",
       "      <td>...</td>\n",
       "      <td>16.585782</td>\n",
       "      <td>12.695769</td>\n",
       "      <td>41.019733</td>\n",
       "      <td>30.855233</td>\n",
       "      <td>27.244850</td>\n",
       "      <td>32.495111</td>\n",
       "      <td>35.728172</td>\n",
       "      <td>16.814849</td>\n",
       "      <td>17.948974</td>\n",
       "      <td>20.593107</td>\n",
       "    </tr>\n",
       "  </tbody>\n",
       "</table>\n",
       "<p>17300 rows × 324 columns</p>\n",
       "</div>"
      ],
      "text/plain": [
       "                  02_120405   04_120405   07_120410   08_120410  100_120417  \\\n",
       "0                                                                             \n",
       "ENSG00000227232  139.179442  159.790850  143.977880  148.083190  220.031510   \n",
       "ENSG00000268903  131.050214   34.436433   91.035602   70.793194   15.343736   \n",
       "ENSG00000279457  449.896935  421.257284  271.269775  368.830077  437.549369   \n",
       "ENSG00000228463   42.029134   48.942688   35.663578   43.846129   50.974887   \n",
       "ENSG00000225972  641.170937   28.879241 -593.909451  878.814627  804.893284   \n",
       "...                     ...         ...         ...         ...         ...   \n",
       "ENSG00000075884   29.882448   37.818718   13.169907   16.187857   18.602246   \n",
       "ENSG00000229931   22.558244   18.978174   16.369986   25.084949   29.343703   \n",
       "ENSG00000179899   34.379843   30.419527   26.270479   13.939935    9.525089   \n",
       "ENSG00000263466   23.504844   22.886310   19.838573   79.813061   50.832991   \n",
       "ENSG00000181195   67.319378   39.741721   46.606072    7.456196    5.118924   \n",
       "\n",
       "                 101_120418  104_120418   11_120410  120_120418  122_120418  \\\n",
       "0                                                                             \n",
       "ENSG00000227232  132.265803  324.338277  171.271482  148.535021  220.102206   \n",
       "ENSG00000268903   77.740545  112.544232   78.020120   66.830061   57.947879   \n",
       "ENSG00000279457  452.260765  631.813272  350.421244  356.340886  635.139568   \n",
       "ENSG00000228463   93.032447   76.297564   69.965474   39.174393   79.473070   \n",
       "ENSG00000225972  617.593034  660.905706  740.221675  650.211159  628.450481   \n",
       "...                     ...         ...         ...         ...         ...   \n",
       "ENSG00000075884   40.035573   26.774700   16.350919   12.209710   28.077344   \n",
       "ENSG00000229931   24.854939   30.897608   18.072581   28.721454   26.581431   \n",
       "ENSG00000179899   17.397142   24.487817   18.611773   22.946025   15.985223   \n",
       "ENSG00000263466   33.407833   38.511543   34.163307   44.238612   41.373742   \n",
       "ENSG00000181195   14.620649   12.214130   24.166395   13.800896   62.402817   \n",
       "\n",
       "                 ...  945_131107   94_120417  950_131107  951_131107  \\\n",
       "0                ...                                                   \n",
       "ENSG00000227232  ...  179.060200  207.598503  118.663026  115.761758   \n",
       "ENSG00000268903  ...   63.345520  121.582517   27.423797   28.798616   \n",
       "ENSG00000279457  ...  424.166370  708.456968  339.778335  332.192915   \n",
       "ENSG00000228463  ...   82.428662   -0.810866   39.383602   59.794417   \n",
       "ENSG00000225972  ...  597.475839  665.584658  555.050077  591.404851   \n",
       "...              ...         ...         ...         ...         ...   \n",
       "ENSG00000075884  ...   26.731195   36.800829   26.367840   15.498022   \n",
       "ENSG00000229931  ...   24.518608   16.585730   28.957466   33.272173   \n",
       "ENSG00000179899  ...   27.894973   20.889489   40.490574   27.124998   \n",
       "ENSG00000263466  ...   30.205482   52.582530   19.353559   25.070598   \n",
       "ENSG00000181195  ...   16.585782   12.695769   41.019733   30.855233   \n",
       "\n",
       "                 952_131107  954_131107  956_131107  958_131107   97_120417  \\\n",
       "0                                                                             \n",
       "ENSG00000227232  134.899462  192.628239  188.737163  276.629348  139.116520   \n",
       "ENSG00000268903   51.905626   70.604233   62.600707   76.558855   79.356409   \n",
       "ENSG00000279457  310.227385  271.509438  449.375238  426.381386  490.831711   \n",
       "ENSG00000228463   13.681172   55.405333   28.551877   62.666691   67.287569   \n",
       "ENSG00000225972  553.238927  652.879159  754.308174  584.898783  715.336042   \n",
       "...                     ...         ...         ...         ...         ...   \n",
       "ENSG00000075884   32.755556   18.295556   27.440442   22.864599   13.969436   \n",
       "ENSG00000229931   15.621989   22.919188   18.554231   24.667191   26.030537   \n",
       "ENSG00000179899   24.126320   23.496921   32.285541   15.860552   22.939899   \n",
       "ENSG00000263466   27.362410   29.739524   30.170258   30.512217   33.132233   \n",
       "ENSG00000181195   27.244850   32.495111   35.728172   16.814849   17.948974   \n",
       "\n",
       "                 R24_131017  \n",
       "0                            \n",
       "ENSG00000227232  127.295951  \n",
       "ENSG00000268903   67.476960  \n",
       "ENSG00000279457  461.800415  \n",
       "ENSG00000228463   73.398813  \n",
       "ENSG00000225972  540.073736  \n",
       "...                     ...  \n",
       "ENSG00000075884   21.111085  \n",
       "ENSG00000229931   26.170846  \n",
       "ENSG00000179899   21.935920  \n",
       "ENSG00000263466   30.703202  \n",
       "ENSG00000181195   20.593107  \n",
       "\n",
       "[17300 rows x 324 columns]"
      ]
     },
     "execution_count": 534,
     "metadata": {},
     "output_type": "execute_result"
    }
   ],
   "source": [
    "count_matrix_filtered_mrn_batch_corrected"
   ]
  },
  {
   "cell_type": "code",
   "execution_count": 482,
   "id": "169d5853",
   "metadata": {},
   "outputs": [
    {
     "data": {
      "text/plain": [
       "0\n",
       "ENSG00000227232   NaN\n",
       "ENSG00000268903   NaN\n",
       "ENSG00000279457   NaN\n",
       "ENSG00000228463   NaN\n",
       "ENSG00000225972   NaN\n",
       "                   ..\n",
       "ENSG00000075884   NaN\n",
       "ENSG00000229931   NaN\n",
       "ENSG00000179899   NaN\n",
       "ENSG00000263466   NaN\n",
       "ENSG00000181195   NaN\n",
       "Name: 492_120515, Length: 17300, dtype: float64"
      ]
     },
     "execution_count": 482,
     "metadata": {},
     "output_type": "execute_result"
    }
   ],
   "source": [
    "count_matrix_filtered_mrn_batch_corrected.iloc[:,157]"
   ]
  },
  {
   "cell_type": "code",
   "execution_count": 484,
   "id": "7937f954",
   "metadata": {},
   "outputs": [
    {
     "data": {
      "text/plain": [
       "0\n",
       "ENSG00000227232     85\n",
       "ENSG00000268903     35\n",
       "ENSG00000279457    259\n",
       "ENSG00000228463     34\n",
       "ENSG00000225972     31\n",
       "                  ... \n",
       "ENSG00000075884     18\n",
       "ENSG00000229931     70\n",
       "ENSG00000179899     52\n",
       "ENSG00000263466      6\n",
       "ENSG00000181195     57\n",
       "Name: 492_120515, Length: 17300, dtype: int64"
      ]
     },
     "execution_count": 484,
     "metadata": {},
     "output_type": "execute_result"
    }
   ],
   "source": [
    "count_matrix_filtered_mrn.iloc[:,157].astype(int)"
   ]
  },
  {
   "cell_type": "code",
   "execution_count": 538,
   "id": "336528fc",
   "metadata": {},
   "outputs": [
    {
     "name": "stdout",
     "output_type": "stream",
     "text": [
      "[2, 1, 4, 5, 6, 2, 2, 5, 5, 2, 6, 2, 4, 5, 3, 6, 5, 6, 0, 6]\n"
     ]
    }
   ],
   "source": [
    "count_matrix_filtered_mrn_batch_corrected_2 =count_matrix_filtered_mrn_batch_corrected.dropna(axis =1 )\n",
    "def return_batch(feature):\n",
    "    try:\n",
    "        return int(clinical_data[clinical_data.specimenID == feature]['libraryBatch'].values)\n",
    "    except:\n",
    "        return 0\n",
    "\n",
    "m = list(map(return_batch,count_matrix_filtered_mrn_batch_corrected_2.columns.tolist()))\n",
    "print(m[0:20])"
   ]
  },
  {
   "cell_type": "code",
   "execution_count": 539,
   "id": "09b6a83f",
   "metadata": {},
   "outputs": [
    {
     "data": {
      "application/vnd.plotly.v1+json": {
       "config": {
        "plotlyServerURL": "https://plot.ly"
       },
       "data": [
        {
         "hovertemplate": "0=%{x}<br>1=%{y}<br>color=%{marker.color}<extra></extra>",
         "legendgroup": "",
         "marker": {
          "color": [
           2,
           1,
           4,
           5,
           6,
           2,
           2,
           5,
           5,
           2,
           6,
           2,
           4,
           5,
           3,
           6,
           5,
           6,
           0,
           6,
           2,
           5,
           6,
           5,
           6,
           5,
           3,
           6,
           6,
           6,
           4,
           1,
           3,
           5,
           5,
           5,
           3,
           2,
           3,
           6,
           2,
           4,
           2,
           5,
           4,
           5,
           5,
           6,
           6,
           2,
           6,
           6,
           4,
           2,
           5,
           6,
           5,
           1,
           6,
           2,
           5,
           6,
           1,
           3,
           4,
           1,
           1,
           3,
           2,
           1,
           6,
           5,
           2,
           5,
           3,
           3,
           2,
           6,
           1,
           5,
           5,
           5,
           5,
           3,
           6,
           2,
           5,
           4,
           4,
           3,
           6,
           6,
           3,
           5,
           5,
           3,
           6,
           1,
           6,
           5,
           1,
           5,
           6,
           4,
           2,
           3,
           4,
           5,
           5,
           0,
           1,
           5,
           3,
           5,
           6,
           6,
           6,
           0,
           2,
           5,
           4,
           3,
           6,
           2,
           3,
           3,
           4,
           6,
           1,
           5,
           6,
           1,
           2,
           1,
           2,
           1,
           2,
           2,
           1,
           3,
           2,
           5,
           3,
           3,
           2,
           4,
           1,
           3,
           1,
           3,
           2,
           1,
           5,
           4,
           3,
           1,
           1,
           3,
           1,
           1,
           6,
           1,
           2,
           5,
           1,
           6,
           3,
           2,
           6,
           1,
           1,
           6,
           1,
           4,
           0,
           1,
           5,
           3,
           1,
           2,
           6,
           2,
           4,
           1,
           4,
           1,
           2,
           2,
           3,
           3,
           2,
           1,
           0,
           4,
           1,
           1,
           1,
           3,
           5,
           3,
           2,
           4,
           4,
           0,
           4,
           3,
           1,
           2,
           4,
           1,
           2,
           2,
           2,
           4,
           2,
           4,
           3,
           4,
           3,
           4,
           1,
           4,
           3,
           1,
           2,
           4,
           6,
           2,
           4,
           5,
           2,
           3,
           2,
           4,
           4,
           3,
           6,
           1,
           3,
           4,
           3,
           4,
           4,
           3,
           2,
           3,
           5,
           5,
           3,
           3,
           3,
           2,
           5,
           5,
           3,
           4,
           3,
           3,
           4,
           5,
           3,
           2,
           4,
           1,
           4,
           4,
           2,
           6,
           5,
           1,
           7,
           7,
           3,
           8,
           8,
           7,
           2,
           7,
           8,
           6,
           7,
           7,
           7,
           5,
           7,
           8,
           7,
           7,
           7,
           8,
           5,
           7,
           7,
           7,
           6,
           7,
           7,
           7,
           8,
           6,
           6,
           7,
           7,
           7,
           7,
           8,
           8,
           7,
           8,
           8,
           8,
           8,
           7,
           7,
           6,
           8,
           8,
           8,
           7,
           7,
           7,
           5,
           7
          ],
          "coloraxis": "coloraxis",
          "symbol": "circle"
         },
         "mode": "markers",
         "name": "",
         "orientation": "v",
         "showlegend": false,
         "type": "scatter",
         "x": [
          303708.9351393913,
          -435800.4006680833,
          963618.6679188594,
          4051942.611115549,
          1949064.5492822952,
          435431.0940154263,
          78580.38417809017,
          2195026.90470232,
          835286.7617373352,
          131415.44775659838,
          -501743.45803451585,
          -183238.32359865666,
          -773906.21679955,
          165898.55883143144,
          1255220.9171214155,
          -107544.96254007665,
          1122626.0468261873,
          -1246090.410756027,
          -1974104.0819594425,
          -402059.370440153,
          -437659.9273380105,
          -482311.6378481232,
          -1477481.5458113977,
          -1757719.2544685642,
          507473.2104162086,
          1625909.8893987797,
          -704492.1625288127,
          -467694.2874522944,
          -1133831.3192719186,
          -798932.1620715583,
          2711002.75580549,
          -81774.92096877069,
          -2319248.834549073,
          -1127942.5672688126,
          -1387652.8424217114,
          -810086.7064316728,
          -267622.4162718271,
          1249844.3824596975,
          2920828.193381865,
          -590954.4578161163,
          -525709.8057341113,
          -732695.5957029943,
          -1158710.4553159452,
          -718778.3566714013,
          627092.2066567708,
          -862580.6954152614,
          -1635674.5545094495,
          -1648020.879997103,
          -905147.1723669007,
          252028.49220891268,
          -608447.4281425425,
          -993808.1265484544,
          -1151547.9903886835,
          -404484.73519294703,
          -1044002.4984272858,
          -144422.60535061744,
          118361.04356993506,
          141864.68209200114,
          228591.6876234491,
          832414.0972989978,
          5290016.148638626,
          -223317.4838850318,
          161004.85848812602,
          501484.7166620043,
          571518.2206438545,
          12974.955801666309,
          1284685.9671231536,
          -710284.104717824,
          37484.95432490039,
          -874454.8862374261,
          -94007.37284744892,
          -698048.3501031069,
          -82138.6430622549,
          303692.50704175734,
          1353041.314893105,
          1335192.843049373,
          1095630.2432795172,
          3528141.569147934,
          -480524.66889294545,
          841948.0619191873,
          2172280.218279325,
          -793952.1885301768,
          -230791.23304017034,
          -2068293.116912324,
          -480616.9383694341,
          675255.0457801402,
          -1167055.5819740596,
          -380885.17385137564,
          -2173722.4581643855,
          -721739.1121804711,
          -573702.2901949964,
          -850139.1252407616,
          -641367.1747569379,
          -638140.7907333482,
          3544989.740615935,
          1011364.0599222039,
          20335.12913695794,
          -201808.28944898577,
          -734247.9507254227,
          -1104869.0782862604,
          829660.3644289898,
          -944635.701155888,
          -389886.737688744,
          -2724390.620520362,
          528022.2635984352,
          -1910888.2366955825,
          772362.9394884717,
          951909.2816614629,
          2220082.768472079,
          -1000348.347797037,
          135915.64749961146,
          -1489487.658466048,
          1054446.9959844525,
          1128656.6966593058,
          872964.5807026818,
          575759.1665336814,
          472570.43714469334,
          1537435.4511840031,
          -743588.068793068,
          193756.43092877636,
          -549026.6341967963,
          1786615.391190544,
          -11267.147061168867,
          202135.758773991,
          -1122314.0448176577,
          -1960132.201383699,
          529958.0467249214,
          -111787.76641358205,
          -429253.49432694237,
          3856216.747167855,
          444980.816711817,
          -820291.9196191478,
          -752414.3002152011,
          -390077.99150558334,
          975911.7406514678,
          -319845.6377088204,
          185790.43895636182,
          -483573.0013397722,
          378576.9879560917,
          -1659510.4131280293,
          -1037568.7059619576,
          -996585.0048751759,
          -856166.5126099692,
          -647967.7894294327,
          440880.38673424145,
          1330289.3547695393,
          -529793.608497811,
          1089457.282494703,
          8370.401579165096,
          987840.3268327396,
          -98563.7421162345,
          -407733.8571137391,
          -715495.6955744696,
          2051547.4516086073,
          2351282.838692846,
          613859.6948940896,
          34218.10681636078,
          459724.5195702522,
          -903986.0765277337,
          -538096.5809300609,
          -22151.678913003645,
          42927.61501311933,
          -2270335.8594193067,
          882345.3303486144,
          -480962.36761220667,
          561396.3682740473,
          2427659.6639464437,
          -2007339.1085432842,
          -897704.6813860841,
          577869.3193226297,
          349268.1100313484,
          -720915.5083829084,
          -15609.362972495483,
          -1894827.6310159343,
          -625425.1926904435,
          332226.97787548817,
          -94623.01389383672,
          1344233.5361585058,
          496290.62543075695,
          509445.0117688707,
          1698606.4999446024,
          15228.447635222085,
          -719783.9983741678,
          -423611.3939581587,
          98368.42266029568,
          -72490.58879629207,
          -222456.23368795292,
          -1097057.866969266,
          778561.4988568746,
          727735.2862139614,
          -1552259.4215940349,
          -599633.9347616526,
          1382588.2686631563,
          -37956.52120449432,
          -535385.6050400999,
          -550884.2227033419,
          -134247.9322630237,
          -1421619.7303871745,
          66455.86769531548,
          2574396.242267834,
          387046.20738912275,
          -104858.10498850475,
          1799603.4405071456,
          -1700773.9611191219,
          -2294383.3845444075,
          1509617.6073388518,
          -103350.08804383717,
          -262851.1638535601,
          2625771.455189405,
          -688918.4022683693,
          -677593.0665740146,
          -445735.8903650514,
          -1729270.0679465253,
          871463.8130194135,
          922891.0084752328,
          -117290.74184889713,
          663776.7997848451,
          -600496.5214896953,
          -1241340.9352707816,
          1996451.5061800047,
          41060.43591737291,
          321171.29562843393,
          2035259.6210020746,
          99218.36482766047,
          229555.53667255503,
          1114988.2190744674,
          -1060575.5818211604,
          -594827.4211178909,
          478460.2409807258,
          -1269520.583553894,
          -935220.0114673957,
          -2641700.800266367,
          -371236.54587765224,
          -529032.4432307258,
          3632523.566108435,
          -2268175.3774756473,
          31041.451978379333,
          1177703.6370666255,
          1476740.5502472047,
          -1694675.8874785618,
          1811358.350682219,
          2222878.706668267,
          132175.90815322366,
          -116277.16178992689,
          -571268.1739674677,
          -1411900.195238099,
          -1508676.3183890728,
          -1231829.0265917135,
          -846108.8427905836,
          -2265085.785868554,
          157316.59492172257,
          -1461377.7968431897,
          73106.49061766388,
          -690711.1330270707,
          -407655.1515596389,
          613531.7658003542,
          -1343680.8312782566,
          -2449971.6848161244,
          -508174.2968297387,
          1784937.1395137655,
          1272805.7610106647,
          -637969.3886790131,
          -243918.76469399946,
          -623358.9198523317,
          -119008.47838004836,
          -951419.3481091168,
          3306808.9721215595,
          -20424.998821754085,
          782044.6286335856,
          -496606.50039328734,
          2112128.594515379,
          3838488.6266316036,
          612400.6003103158,
          -265368.50435613474,
          -621508.5899157854,
          4527852.1005309895,
          698279.7168302196,
          583254.4107065108,
          -1364186.8082919305,
          2821074.0358411996,
          -546531.1439977085,
          -724169.2319362016,
          -345623.0612598727,
          -1272292.3090213924,
          -1083802.6135998738,
          2265113.3729400025,
          -1789423.303826937,
          -1804330.2077243645,
          -223162.0902231838,
          -560851.4067158351,
          -714444.7769863091,
          2661625.665602705,
          100962.6523534562,
          -246802.91534462385,
          -520427.5285840229,
          -1461366.3200768312,
          -830190.087109488,
          -694637.4906132615,
          -504892.40097613377,
          -934560.8793067253,
          514010.99502545124,
          -1824995.6329132104,
          -1339465.8483248567,
          -660418.8904505165,
          -952556.9128175711,
          -1487836.2545417598,
          4880363.138062082,
          2696618.9638799275,
          -403683.8282120123,
          779105.8433474761,
          -913455.4026252013,
          -197103.93048921082,
          -1403738.9814138282,
          88468.47372229071,
          892501.6060241241,
          -1029009.1972224498,
          -393985.4601060896,
          -755398.8284538678,
          1538050.0450361401,
          44243.940465523745,
          -830794.3637864465,
          605959.9875275505,
          -1334632.8176505489
         ],
         "xaxis": "x",
         "y": [
          -289813.95318022266,
          -59409.03443603487,
          338205.78881545505,
          975730.2107645763,
          -977083.666875811,
          -168832.2449174395,
          -138795.33291025384,
          217547.3107005899,
          -113726.49625915047,
          163146.18675979497,
          -329957.67360452353,
          -73113.71059105208,
          258380.32159028045,
          605985.703165728,
          -11856.098294404315,
          32648.17389161825,
          165950.0282113908,
          113960.82706099804,
          102707.27828897542,
          318060.3248785659,
          -79219.31806788863,
          -85946.8192919933,
          140146.44095163385,
          91581.8518692044,
          -64114.33269613055,
          21807.133646934188,
          -233995.31919502054,
          147801.53971183213,
          222122.302643624,
          91395.18973620875,
          143680.7982901175,
          -138581.2622267121,
          -37554.927044353855,
          32654.453856694636,
          -52905.354205540934,
          116724.8594182145,
          -334487.5282301538,
          409577.75947582355,
          -164769.4104197202,
          14399.123159971421,
          -197447.76590796557,
          36888.34231233028,
          67012.45525726679,
          -133944.72945963364,
          238252.71302191098,
          36848.98867788009,
          54959.175590952516,
          256621.4267227998,
          72901.44342478595,
          12164.821558969657,
          200984.05944946822,
          86525.51492624269,
          87188.48527254125,
          93286.00161765292,
          212181.76058486925,
          -7811.23771350522,
          -20259.889876126355,
          20469.01494732071,
          -98486.59501789219,
          559539.6227626735,
          -558676.8819599737,
          -76866.87040612628,
          -53058.09179142996,
          -357949.4846249291,
          235637.75630348854,
          -110098.28309608804,
          -332431.595727251,
          291512.5555168001,
          3380.9588355189735,
          -56969.76636775666,
          -86420.41417067718,
          -24059.319534889597,
          114972.7453792439,
          133837.39118271266,
          -621483.0003140462,
          331062.878802137,
          1020935.0100679533,
          210846.50538510893,
          -26559.308472935674,
          -22644.088407372146,
          -142447.4696147591,
          21448.847358220235,
          401512.7488694228,
          680809.2476776333,
          91903.32483364026,
          -387860.1089016127,
          386865.3527680541,
          256869.30372094095,
          -29759.070177298163,
          -339737.8342169408,
          67507.15607651033,
          270950.4339189871,
          126377.00117302798,
          -116215.64048448857,
          134261.69033805304,
          203247.9436409965,
          -232833.58342615698,
          -318499.0304957367,
          -90045.22901276143,
          46038.35962657079,
          7466.290390324315,
          -180034.7594524544,
          96228.8964765561,
          38409.66141695551,
          139821.2222777142,
          -382300.9215774812,
          -161433.54166163018,
          87674.51489209676,
          245334.22182039925,
          60831.548831485634,
          127599.91809458278,
          -33152.831870332986,
          24796.022040261756,
          108533.81942103339,
          -631558.8700372815,
          369577.4185315559,
          -472869.91032723436,
          -284180.49174263014,
          -120165.10267038517,
          -9501.176510709947,
          -349364.7357371242,
          135757.0837124274,
          67751.61939895185,
          -272141.0928621034,
          27177.444328686288,
          -275181.94551396434,
          -305482.29942168534,
          -270658.149462085,
          124651.45070546381,
          -468449.3643483509,
          -74080.35745769857,
          83406.42492017667,
          62346.069012398366,
          -45346.73878311328,
          -5145.653498006749,
          24077.89985611277,
          -408622.1826523379,
          -18592.04660984457,
          -153744.10021335862,
          -342576.3472010578,
          187054.72218211155,
          7805.359881009582,
          -12652.72816388226,
          280092.5973569343,
          68632.03801811783,
          127373.2669161095,
          49504.08434010646,
          -125685.55387979338,
          -40098.165396685545,
          463316.1661838285,
          186897.52366870161,
          118226.66086424797,
          187196.95103281594,
          10158.801478602827,
          1234762.7260418467,
          185908.87338414553,
          213028.9845690612,
          -286216.96930813964,
          91711.67674555657,
          21526.93631520128,
          -83931.68685511177,
          -68867.59430946091,
          -87754.47994301798,
          -183729.98420624202,
          -10810.996837262777,
          329803.22547390393,
          -505742.91103890305,
          -1968.5571102477702,
          181995.6656543797,
          -141602.3454860204,
          28889.057497845417,
          -52767.88584206866,
          136123.68205757663,
          -63665.4879596783,
          299805.8488234164,
          -231704.28861351192,
          -203212.06150713158,
          -272909.5310210785,
          253660.92439576917,
          -114665.94709097664,
          -13138.018846206087,
          325441.6085815537,
          163728.6701428724,
          195794.76708018198,
          122545.83543543727,
          134223.17089918655,
          23087.023157572632,
          71856.47398897324,
          -117421.60283745793,
          1058381.9501742017,
          234778.7570839082,
          32281.667858501714,
          -258956.66884400582,
          327487.8196570621,
          19031.150810424428,
          125364.1805588485,
          113034.86275495007,
          -428483.91929458076,
          395384.2930378624,
          -366636.78953803267,
          -42897.20854158063,
          59554.576662760235,
          -864701.565632956,
          -119001.05321057765,
          -198927.7415208117,
          -501722.0500269569,
          47334.15385722472,
          12009.281426330956,
          -387055.8187008846,
          145433.84803836563,
          -35106.29848688414,
          -197159.11330796676,
          245210.6726987337,
          -214396.91888234738,
          31628.91586001069,
          83275.43134504094,
          525489.2941046498,
          -149078.44071055946,
          72699.55221814345,
          228002.40600127022,
          -64970.609160262844,
          348714.3528299256,
          777065.4435926205,
          -222844.42335037424,
          -132406.44239505826,
          375372.6267306125,
          86965.98111387291,
          44568.511988296115,
          -345426.3444405817,
          2963.792391623843,
          -101987.43031146016,
          -176135.8006830284,
          -315284.6258220228,
          -202917.78122628946,
          485343.5236197237,
          139349.30017403618,
          -15313.452670688419,
          62155.40782434789,
          -566970.4671357243,
          -223390.56394890897,
          -320339.6459584688,
          -10097.353167438123,
          -378798.28071289946,
          -127229.65699719283,
          -244664.49026583345,
          179346.2026947398,
          -38942.15691991656,
          148013.78744643286,
          -202615.1269289099,
          365117.4090361417,
          -38957.59156203885,
          112993.11446437745,
          -102406.21414052299,
          -16513.14717081674,
          -135639.39573924776,
          -534873.6197291621,
          129953.72530928873,
          -52438.38285484733,
          72903.43906423794,
          -853592.8520676342,
          -309820.2915697673,
          238728.38637390433,
          -18719.644472848267,
          -131698.0441344811,
          -149567.68493264684,
          -221439.5394047124,
          -145292.49312498173,
          6400.402808937218,
          6361.225923433954,
          -207147.21764763785,
          -411829.0710586577,
          593406.0644879846,
          -107010.6434504891,
          -168835.11786002986,
          -10892.093136180616,
          1139873.0647307166,
          -130698.52799703163,
          61503.69196176153,
          99196.1441738048,
          -812645.254630602,
          -162509.84100988638,
          117765.22879474233,
          272339.6792016076,
          15019.391073825045,
          114208.98149144712,
          142284.5981323704,
          -112702.41894228596,
          -203959.02377072224,
          22230.510413649034,
          -15594.449378629759,
          186665.5558108036,
          -75005.43011295324,
          145530.02097804015,
          -89352.02496573061,
          93566.79901940035,
          -112403.46502438564,
          70286.6374552063,
          -122025.91130913049,
          -137631.5539451893,
          25190.97961530018,
          396606.16973239736,
          -143290.14265109008,
          129834.89655667289,
          19453.55119536554,
          -204254.2393191406,
          55943.11357077698,
          86358.516328201,
          -5400.452552171955,
          -75207.03584033367,
          41414.10964697123,
          81714.29304560933,
          -98672.79153513198,
          -135374.9095411969,
          -215672.22507793552,
          -242836.78273691333,
          83190.33153516978,
          -13053.319701961542,
          40447.01491820678,
          -340628.97473347024,
          365822.3829740705,
          -277688.21178973926,
          -432755.84247342957,
          -149809.36778672357
         ],
         "yaxis": "y"
        }
       ],
       "layout": {
        "coloraxis": {
         "colorbar": {
          "title": {
           "text": "color"
          }
         },
         "colorscale": [
          [
           0,
           "#0d0887"
          ],
          [
           0.1111111111111111,
           "#46039f"
          ],
          [
           0.2222222222222222,
           "#7201a8"
          ],
          [
           0.3333333333333333,
           "#9c179e"
          ],
          [
           0.4444444444444444,
           "#bd3786"
          ],
          [
           0.5555555555555556,
           "#d8576b"
          ],
          [
           0.6666666666666666,
           "#ed7953"
          ],
          [
           0.7777777777777778,
           "#fb9f3a"
          ],
          [
           0.8888888888888888,
           "#fdca26"
          ],
          [
           1,
           "#f0f921"
          ]
         ]
        },
        "legend": {
         "tracegroupgap": 0
        },
        "margin": {
         "t": 60
        },
        "template": {
         "data": {
          "bar": [
           {
            "error_x": {
             "color": "#2a3f5f"
            },
            "error_y": {
             "color": "#2a3f5f"
            },
            "marker": {
             "line": {
              "color": "#E5ECF6",
              "width": 0.5
             },
             "pattern": {
              "fillmode": "overlay",
              "size": 10,
              "solidity": 0.2
             }
            },
            "type": "bar"
           }
          ],
          "barpolar": [
           {
            "marker": {
             "line": {
              "color": "#E5ECF6",
              "width": 0.5
             },
             "pattern": {
              "fillmode": "overlay",
              "size": 10,
              "solidity": 0.2
             }
            },
            "type": "barpolar"
           }
          ],
          "carpet": [
           {
            "aaxis": {
             "endlinecolor": "#2a3f5f",
             "gridcolor": "white",
             "linecolor": "white",
             "minorgridcolor": "white",
             "startlinecolor": "#2a3f5f"
            },
            "baxis": {
             "endlinecolor": "#2a3f5f",
             "gridcolor": "white",
             "linecolor": "white",
             "minorgridcolor": "white",
             "startlinecolor": "#2a3f5f"
            },
            "type": "carpet"
           }
          ],
          "choropleth": [
           {
            "colorbar": {
             "outlinewidth": 0,
             "ticks": ""
            },
            "type": "choropleth"
           }
          ],
          "contour": [
           {
            "colorbar": {
             "outlinewidth": 0,
             "ticks": ""
            },
            "colorscale": [
             [
              0,
              "#0d0887"
             ],
             [
              0.1111111111111111,
              "#46039f"
             ],
             [
              0.2222222222222222,
              "#7201a8"
             ],
             [
              0.3333333333333333,
              "#9c179e"
             ],
             [
              0.4444444444444444,
              "#bd3786"
             ],
             [
              0.5555555555555556,
              "#d8576b"
             ],
             [
              0.6666666666666666,
              "#ed7953"
             ],
             [
              0.7777777777777778,
              "#fb9f3a"
             ],
             [
              0.8888888888888888,
              "#fdca26"
             ],
             [
              1,
              "#f0f921"
             ]
            ],
            "type": "contour"
           }
          ],
          "contourcarpet": [
           {
            "colorbar": {
             "outlinewidth": 0,
             "ticks": ""
            },
            "type": "contourcarpet"
           }
          ],
          "heatmap": [
           {
            "colorbar": {
             "outlinewidth": 0,
             "ticks": ""
            },
            "colorscale": [
             [
              0,
              "#0d0887"
             ],
             [
              0.1111111111111111,
              "#46039f"
             ],
             [
              0.2222222222222222,
              "#7201a8"
             ],
             [
              0.3333333333333333,
              "#9c179e"
             ],
             [
              0.4444444444444444,
              "#bd3786"
             ],
             [
              0.5555555555555556,
              "#d8576b"
             ],
             [
              0.6666666666666666,
              "#ed7953"
             ],
             [
              0.7777777777777778,
              "#fb9f3a"
             ],
             [
              0.8888888888888888,
              "#fdca26"
             ],
             [
              1,
              "#f0f921"
             ]
            ],
            "type": "heatmap"
           }
          ],
          "heatmapgl": [
           {
            "colorbar": {
             "outlinewidth": 0,
             "ticks": ""
            },
            "colorscale": [
             [
              0,
              "#0d0887"
             ],
             [
              0.1111111111111111,
              "#46039f"
             ],
             [
              0.2222222222222222,
              "#7201a8"
             ],
             [
              0.3333333333333333,
              "#9c179e"
             ],
             [
              0.4444444444444444,
              "#bd3786"
             ],
             [
              0.5555555555555556,
              "#d8576b"
             ],
             [
              0.6666666666666666,
              "#ed7953"
             ],
             [
              0.7777777777777778,
              "#fb9f3a"
             ],
             [
              0.8888888888888888,
              "#fdca26"
             ],
             [
              1,
              "#f0f921"
             ]
            ],
            "type": "heatmapgl"
           }
          ],
          "histogram": [
           {
            "marker": {
             "pattern": {
              "fillmode": "overlay",
              "size": 10,
              "solidity": 0.2
             }
            },
            "type": "histogram"
           }
          ],
          "histogram2d": [
           {
            "colorbar": {
             "outlinewidth": 0,
             "ticks": ""
            },
            "colorscale": [
             [
              0,
              "#0d0887"
             ],
             [
              0.1111111111111111,
              "#46039f"
             ],
             [
              0.2222222222222222,
              "#7201a8"
             ],
             [
              0.3333333333333333,
              "#9c179e"
             ],
             [
              0.4444444444444444,
              "#bd3786"
             ],
             [
              0.5555555555555556,
              "#d8576b"
             ],
             [
              0.6666666666666666,
              "#ed7953"
             ],
             [
              0.7777777777777778,
              "#fb9f3a"
             ],
             [
              0.8888888888888888,
              "#fdca26"
             ],
             [
              1,
              "#f0f921"
             ]
            ],
            "type": "histogram2d"
           }
          ],
          "histogram2dcontour": [
           {
            "colorbar": {
             "outlinewidth": 0,
             "ticks": ""
            },
            "colorscale": [
             [
              0,
              "#0d0887"
             ],
             [
              0.1111111111111111,
              "#46039f"
             ],
             [
              0.2222222222222222,
              "#7201a8"
             ],
             [
              0.3333333333333333,
              "#9c179e"
             ],
             [
              0.4444444444444444,
              "#bd3786"
             ],
             [
              0.5555555555555556,
              "#d8576b"
             ],
             [
              0.6666666666666666,
              "#ed7953"
             ],
             [
              0.7777777777777778,
              "#fb9f3a"
             ],
             [
              0.8888888888888888,
              "#fdca26"
             ],
             [
              1,
              "#f0f921"
             ]
            ],
            "type": "histogram2dcontour"
           }
          ],
          "mesh3d": [
           {
            "colorbar": {
             "outlinewidth": 0,
             "ticks": ""
            },
            "type": "mesh3d"
           }
          ],
          "parcoords": [
           {
            "line": {
             "colorbar": {
              "outlinewidth": 0,
              "ticks": ""
             }
            },
            "type": "parcoords"
           }
          ],
          "pie": [
           {
            "automargin": true,
            "type": "pie"
           }
          ],
          "scatter": [
           {
            "fillpattern": {
             "fillmode": "overlay",
             "size": 10,
             "solidity": 0.2
            },
            "type": "scatter"
           }
          ],
          "scatter3d": [
           {
            "line": {
             "colorbar": {
              "outlinewidth": 0,
              "ticks": ""
             }
            },
            "marker": {
             "colorbar": {
              "outlinewidth": 0,
              "ticks": ""
             }
            },
            "type": "scatter3d"
           }
          ],
          "scattercarpet": [
           {
            "marker": {
             "colorbar": {
              "outlinewidth": 0,
              "ticks": ""
             }
            },
            "type": "scattercarpet"
           }
          ],
          "scattergeo": [
           {
            "marker": {
             "colorbar": {
              "outlinewidth": 0,
              "ticks": ""
             }
            },
            "type": "scattergeo"
           }
          ],
          "scattergl": [
           {
            "marker": {
             "colorbar": {
              "outlinewidth": 0,
              "ticks": ""
             }
            },
            "type": "scattergl"
           }
          ],
          "scattermapbox": [
           {
            "marker": {
             "colorbar": {
              "outlinewidth": 0,
              "ticks": ""
             }
            },
            "type": "scattermapbox"
           }
          ],
          "scatterpolar": [
           {
            "marker": {
             "colorbar": {
              "outlinewidth": 0,
              "ticks": ""
             }
            },
            "type": "scatterpolar"
           }
          ],
          "scatterpolargl": [
           {
            "marker": {
             "colorbar": {
              "outlinewidth": 0,
              "ticks": ""
             }
            },
            "type": "scatterpolargl"
           }
          ],
          "scatterternary": [
           {
            "marker": {
             "colorbar": {
              "outlinewidth": 0,
              "ticks": ""
             }
            },
            "type": "scatterternary"
           }
          ],
          "surface": [
           {
            "colorbar": {
             "outlinewidth": 0,
             "ticks": ""
            },
            "colorscale": [
             [
              0,
              "#0d0887"
             ],
             [
              0.1111111111111111,
              "#46039f"
             ],
             [
              0.2222222222222222,
              "#7201a8"
             ],
             [
              0.3333333333333333,
              "#9c179e"
             ],
             [
              0.4444444444444444,
              "#bd3786"
             ],
             [
              0.5555555555555556,
              "#d8576b"
             ],
             [
              0.6666666666666666,
              "#ed7953"
             ],
             [
              0.7777777777777778,
              "#fb9f3a"
             ],
             [
              0.8888888888888888,
              "#fdca26"
             ],
             [
              1,
              "#f0f921"
             ]
            ],
            "type": "surface"
           }
          ],
          "table": [
           {
            "cells": {
             "fill": {
              "color": "#EBF0F8"
             },
             "line": {
              "color": "white"
             }
            },
            "header": {
             "fill": {
              "color": "#C8D4E3"
             },
             "line": {
              "color": "white"
             }
            },
            "type": "table"
           }
          ]
         },
         "layout": {
          "annotationdefaults": {
           "arrowcolor": "#2a3f5f",
           "arrowhead": 0,
           "arrowwidth": 1
          },
          "autotypenumbers": "strict",
          "coloraxis": {
           "colorbar": {
            "outlinewidth": 0,
            "ticks": ""
           }
          },
          "colorscale": {
           "diverging": [
            [
             0,
             "#8e0152"
            ],
            [
             0.1,
             "#c51b7d"
            ],
            [
             0.2,
             "#de77ae"
            ],
            [
             0.3,
             "#f1b6da"
            ],
            [
             0.4,
             "#fde0ef"
            ],
            [
             0.5,
             "#f7f7f7"
            ],
            [
             0.6,
             "#e6f5d0"
            ],
            [
             0.7,
             "#b8e186"
            ],
            [
             0.8,
             "#7fbc41"
            ],
            [
             0.9,
             "#4d9221"
            ],
            [
             1,
             "#276419"
            ]
           ],
           "sequential": [
            [
             0,
             "#0d0887"
            ],
            [
             0.1111111111111111,
             "#46039f"
            ],
            [
             0.2222222222222222,
             "#7201a8"
            ],
            [
             0.3333333333333333,
             "#9c179e"
            ],
            [
             0.4444444444444444,
             "#bd3786"
            ],
            [
             0.5555555555555556,
             "#d8576b"
            ],
            [
             0.6666666666666666,
             "#ed7953"
            ],
            [
             0.7777777777777778,
             "#fb9f3a"
            ],
            [
             0.8888888888888888,
             "#fdca26"
            ],
            [
             1,
             "#f0f921"
            ]
           ],
           "sequentialminus": [
            [
             0,
             "#0d0887"
            ],
            [
             0.1111111111111111,
             "#46039f"
            ],
            [
             0.2222222222222222,
             "#7201a8"
            ],
            [
             0.3333333333333333,
             "#9c179e"
            ],
            [
             0.4444444444444444,
             "#bd3786"
            ],
            [
             0.5555555555555556,
             "#d8576b"
            ],
            [
             0.6666666666666666,
             "#ed7953"
            ],
            [
             0.7777777777777778,
             "#fb9f3a"
            ],
            [
             0.8888888888888888,
             "#fdca26"
            ],
            [
             1,
             "#f0f921"
            ]
           ]
          },
          "colorway": [
           "#636efa",
           "#EF553B",
           "#00cc96",
           "#ab63fa",
           "#FFA15A",
           "#19d3f3",
           "#FF6692",
           "#B6E880",
           "#FF97FF",
           "#FECB52"
          ],
          "font": {
           "color": "#2a3f5f"
          },
          "geo": {
           "bgcolor": "white",
           "lakecolor": "white",
           "landcolor": "#E5ECF6",
           "showlakes": true,
           "showland": true,
           "subunitcolor": "white"
          },
          "hoverlabel": {
           "align": "left"
          },
          "hovermode": "closest",
          "mapbox": {
           "style": "light"
          },
          "paper_bgcolor": "white",
          "plot_bgcolor": "#E5ECF6",
          "polar": {
           "angularaxis": {
            "gridcolor": "white",
            "linecolor": "white",
            "ticks": ""
           },
           "bgcolor": "#E5ECF6",
           "radialaxis": {
            "gridcolor": "white",
            "linecolor": "white",
            "ticks": ""
           }
          },
          "scene": {
           "xaxis": {
            "backgroundcolor": "#E5ECF6",
            "gridcolor": "white",
            "gridwidth": 2,
            "linecolor": "white",
            "showbackground": true,
            "ticks": "",
            "zerolinecolor": "white"
           },
           "yaxis": {
            "backgroundcolor": "#E5ECF6",
            "gridcolor": "white",
            "gridwidth": 2,
            "linecolor": "white",
            "showbackground": true,
            "ticks": "",
            "zerolinecolor": "white"
           },
           "zaxis": {
            "backgroundcolor": "#E5ECF6",
            "gridcolor": "white",
            "gridwidth": 2,
            "linecolor": "white",
            "showbackground": true,
            "ticks": "",
            "zerolinecolor": "white"
           }
          },
          "shapedefaults": {
           "line": {
            "color": "#2a3f5f"
           }
          },
          "ternary": {
           "aaxis": {
            "gridcolor": "white",
            "linecolor": "white",
            "ticks": ""
           },
           "baxis": {
            "gridcolor": "white",
            "linecolor": "white",
            "ticks": ""
           },
           "bgcolor": "#E5ECF6",
           "caxis": {
            "gridcolor": "white",
            "linecolor": "white",
            "ticks": ""
           }
          },
          "title": {
           "x": 0.05
          },
          "xaxis": {
           "automargin": true,
           "gridcolor": "white",
           "linecolor": "white",
           "ticks": "",
           "title": {
            "standoff": 15
           },
           "zerolinecolor": "white",
           "zerolinewidth": 2
          },
          "yaxis": {
           "automargin": true,
           "gridcolor": "white",
           "linecolor": "white",
           "ticks": "",
           "title": {
            "standoff": 15
           },
           "zerolinecolor": "white",
           "zerolinewidth": 2
          }
         }
        },
        "xaxis": {
         "anchor": "y",
         "domain": [
          0,
          1
         ],
         "title": {
          "text": "0"
         }
        },
        "yaxis": {
         "anchor": "x",
         "domain": [
          0,
          1
         ],
         "title": {
          "text": "1"
         }
        }
       }
      },
      "text/html": [
       "<div>                            <div id=\"6e233798-574f-4f35-aa78-4573b19d111a\" class=\"plotly-graph-div\" style=\"height:525px; width:100%;\"></div>            <script type=\"text/javascript\">                require([\"plotly\"], function(Plotly) {                    window.PLOTLYENV=window.PLOTLYENV || {};                                    if (document.getElementById(\"6e233798-574f-4f35-aa78-4573b19d111a\")) {                    Plotly.newPlot(                        \"6e233798-574f-4f35-aa78-4573b19d111a\",                        [{\"hovertemplate\":\"0=%{x}\\u003cbr\\u003e1=%{y}\\u003cbr\\u003ecolor=%{marker.color}\\u003cextra\\u003e\\u003c\\u002fextra\\u003e\",\"legendgroup\":\"\",\"marker\":{\"color\":[2,1,4,5,6,2,2,5,5,2,6,2,4,5,3,6,5,6,0,6,2,5,6,5,6,5,3,6,6,6,4,1,3,5,5,5,3,2,3,6,2,4,2,5,4,5,5,6,6,2,6,6,4,2,5,6,5,1,6,2,5,6,1,3,4,1,1,3,2,1,6,5,2,5,3,3,2,6,1,5,5,5,5,3,6,2,5,4,4,3,6,6,3,5,5,3,6,1,6,5,1,5,6,4,2,3,4,5,5,0,1,5,3,5,6,6,6,0,2,5,4,3,6,2,3,3,4,6,1,5,6,1,2,1,2,1,2,2,1,3,2,5,3,3,2,4,1,3,1,3,2,1,5,4,3,1,1,3,1,1,6,1,2,5,1,6,3,2,6,1,1,6,1,4,0,1,5,3,1,2,6,2,4,1,4,1,2,2,3,3,2,1,0,4,1,1,1,3,5,3,2,4,4,0,4,3,1,2,4,1,2,2,2,4,2,4,3,4,3,4,1,4,3,1,2,4,6,2,4,5,2,3,2,4,4,3,6,1,3,4,3,4,4,3,2,3,5,5,3,3,3,2,5,5,3,4,3,3,4,5,3,2,4,1,4,4,2,6,5,1,7,7,3,8,8,7,2,7,8,6,7,7,7,5,7,8,7,7,7,8,5,7,7,7,6,7,7,7,8,6,6,7,7,7,7,8,8,7,8,8,8,8,7,7,6,8,8,8,7,7,7,5,7],\"coloraxis\":\"coloraxis\",\"symbol\":\"circle\"},\"mode\":\"markers\",\"name\":\"\",\"orientation\":\"v\",\"showlegend\":false,\"x\":[303708.9351393913,-435800.4006680833,963618.6679188594,4051942.611115549,1949064.5492822952,435431.0940154263,78580.38417809017,2195026.90470232,835286.7617373352,131415.44775659838,-501743.45803451585,-183238.32359865666,-773906.21679955,165898.55883143144,1255220.9171214155,-107544.96254007665,1122626.0468261873,-1246090.410756027,-1974104.0819594425,-402059.370440153,-437659.9273380105,-482311.6378481232,-1477481.5458113977,-1757719.2544685642,507473.2104162086,1625909.8893987797,-704492.1625288127,-467694.2874522944,-1133831.3192719186,-798932.1620715583,2711002.75580549,-81774.92096877069,-2319248.834549073,-1127942.5672688126,-1387652.8424217114,-810086.7064316728,-267622.4162718271,1249844.3824596975,2920828.193381865,-590954.4578161163,-525709.8057341113,-732695.5957029943,-1158710.4553159452,-718778.3566714013,627092.2066567708,-862580.6954152614,-1635674.5545094495,-1648020.879997103,-905147.1723669007,252028.49220891268,-608447.4281425425,-993808.1265484544,-1151547.9903886835,-404484.73519294703,-1044002.4984272858,-144422.60535061744,118361.04356993506,141864.68209200114,228591.6876234491,832414.0972989978,5290016.148638626,-223317.4838850318,161004.85848812602,501484.7166620043,571518.2206438545,12974.955801666309,1284685.9671231536,-710284.104717824,37484.95432490039,-874454.8862374261,-94007.37284744892,-698048.3501031069,-82138.6430622549,303692.50704175734,1353041.314893105,1335192.843049373,1095630.2432795172,3528141.569147934,-480524.66889294545,841948.0619191873,2172280.218279325,-793952.1885301768,-230791.23304017034,-2068293.116912324,-480616.9383694341,675255.0457801402,-1167055.5819740596,-380885.17385137564,-2173722.4581643855,-721739.1121804711,-573702.2901949964,-850139.1252407616,-641367.1747569379,-638140.7907333482,3544989.740615935,1011364.0599222039,20335.12913695794,-201808.28944898577,-734247.9507254227,-1104869.0782862604,829660.3644289898,-944635.701155888,-389886.737688744,-2724390.620520362,528022.2635984352,-1910888.2366955825,772362.9394884717,951909.2816614629,2220082.768472079,-1000348.347797037,135915.64749961146,-1489487.658466048,1054446.9959844525,1128656.6966593058,872964.5807026818,575759.1665336814,472570.43714469334,1537435.4511840031,-743588.068793068,193756.43092877636,-549026.6341967963,1786615.391190544,-11267.147061168867,202135.758773991,-1122314.0448176577,-1960132.201383699,529958.0467249214,-111787.76641358205,-429253.49432694237,3856216.747167855,444980.816711817,-820291.9196191478,-752414.3002152011,-390077.99150558334,975911.7406514678,-319845.6377088204,185790.43895636182,-483573.0013397722,378576.9879560917,-1659510.4131280293,-1037568.7059619576,-996585.0048751759,-856166.5126099692,-647967.7894294327,440880.38673424145,1330289.3547695393,-529793.608497811,1089457.282494703,8370.401579165096,987840.3268327396,-98563.7421162345,-407733.8571137391,-715495.6955744696,2051547.4516086073,2351282.838692846,613859.6948940896,34218.10681636078,459724.5195702522,-903986.0765277337,-538096.5809300609,-22151.678913003645,42927.61501311933,-2270335.8594193067,882345.3303486144,-480962.36761220667,561396.3682740473,2427659.6639464437,-2007339.1085432842,-897704.6813860841,577869.3193226297,349268.1100313484,-720915.5083829084,-15609.362972495483,-1894827.6310159343,-625425.1926904435,332226.97787548817,-94623.01389383672,1344233.5361585058,496290.62543075695,509445.0117688707,1698606.4999446024,15228.447635222085,-719783.9983741678,-423611.3939581587,98368.42266029568,-72490.58879629207,-222456.23368795292,-1097057.866969266,778561.4988568746,727735.2862139614,-1552259.4215940349,-599633.9347616526,1382588.2686631563,-37956.52120449432,-535385.6050400999,-550884.2227033419,-134247.9322630237,-1421619.7303871745,66455.86769531548,2574396.242267834,387046.20738912275,-104858.10498850475,1799603.4405071456,-1700773.9611191219,-2294383.3845444075,1509617.6073388518,-103350.08804383717,-262851.1638535601,2625771.455189405,-688918.4022683693,-677593.0665740146,-445735.8903650514,-1729270.0679465253,871463.8130194135,922891.0084752328,-117290.74184889713,663776.7997848451,-600496.5214896953,-1241340.9352707816,1996451.5061800047,41060.43591737291,321171.29562843393,2035259.6210020746,99218.36482766047,229555.53667255503,1114988.2190744674,-1060575.5818211604,-594827.4211178909,478460.2409807258,-1269520.583553894,-935220.0114673957,-2641700.800266367,-371236.54587765224,-529032.4432307258,3632523.566108435,-2268175.3774756473,31041.451978379333,1177703.6370666255,1476740.5502472047,-1694675.8874785618,1811358.350682219,2222878.706668267,132175.90815322366,-116277.16178992689,-571268.1739674677,-1411900.195238099,-1508676.3183890728,-1231829.0265917135,-846108.8427905836,-2265085.785868554,157316.59492172257,-1461377.7968431897,73106.49061766388,-690711.1330270707,-407655.1515596389,613531.7658003542,-1343680.8312782566,-2449971.6848161244,-508174.2968297387,1784937.1395137655,1272805.7610106647,-637969.3886790131,-243918.76469399946,-623358.9198523317,-119008.47838004836,-951419.3481091168,3306808.9721215595,-20424.998821754085,782044.6286335856,-496606.50039328734,2112128.594515379,3838488.6266316036,612400.6003103158,-265368.50435613474,-621508.5899157854,4527852.1005309895,698279.7168302196,583254.4107065108,-1364186.8082919305,2821074.0358411996,-546531.1439977085,-724169.2319362016,-345623.0612598727,-1272292.3090213924,-1083802.6135998738,2265113.3729400025,-1789423.303826937,-1804330.2077243645,-223162.0902231838,-560851.4067158351,-714444.7769863091,2661625.665602705,100962.6523534562,-246802.91534462385,-520427.5285840229,-1461366.3200768312,-830190.087109488,-694637.4906132615,-504892.40097613377,-934560.8793067253,514010.99502545124,-1824995.6329132104,-1339465.8483248567,-660418.8904505165,-952556.9128175711,-1487836.2545417598,4880363.138062082,2696618.9638799275,-403683.8282120123,779105.8433474761,-913455.4026252013,-197103.93048921082,-1403738.9814138282,88468.47372229071,892501.6060241241,-1029009.1972224498,-393985.4601060896,-755398.8284538678,1538050.0450361401,44243.940465523745,-830794.3637864465,605959.9875275505,-1334632.8176505489],\"xaxis\":\"x\",\"y\":[-289813.95318022266,-59409.03443603487,338205.78881545505,975730.2107645763,-977083.666875811,-168832.2449174395,-138795.33291025384,217547.3107005899,-113726.49625915047,163146.18675979497,-329957.67360452353,-73113.71059105208,258380.32159028045,605985.703165728,-11856.098294404315,32648.17389161825,165950.0282113908,113960.82706099804,102707.27828897542,318060.3248785659,-79219.31806788863,-85946.8192919933,140146.44095163385,91581.8518692044,-64114.33269613055,21807.133646934188,-233995.31919502054,147801.53971183213,222122.302643624,91395.18973620875,143680.7982901175,-138581.2622267121,-37554.927044353855,32654.453856694636,-52905.354205540934,116724.8594182145,-334487.5282301538,409577.75947582355,-164769.4104197202,14399.123159971421,-197447.76590796557,36888.34231233028,67012.45525726679,-133944.72945963364,238252.71302191098,36848.98867788009,54959.175590952516,256621.4267227998,72901.44342478595,12164.821558969657,200984.05944946822,86525.51492624269,87188.48527254125,93286.00161765292,212181.76058486925,-7811.23771350522,-20259.889876126355,20469.01494732071,-98486.59501789219,559539.6227626735,-558676.8819599737,-76866.87040612628,-53058.09179142996,-357949.4846249291,235637.75630348854,-110098.28309608804,-332431.595727251,291512.5555168001,3380.9588355189735,-56969.76636775666,-86420.41417067718,-24059.319534889597,114972.7453792439,133837.39118271266,-621483.0003140462,331062.878802137,1020935.0100679533,210846.50538510893,-26559.308472935674,-22644.088407372146,-142447.4696147591,21448.847358220235,401512.7488694228,680809.2476776333,91903.32483364026,-387860.1089016127,386865.3527680541,256869.30372094095,-29759.070177298163,-339737.8342169408,67507.15607651033,270950.4339189871,126377.00117302798,-116215.64048448857,134261.69033805304,203247.9436409965,-232833.58342615698,-318499.0304957367,-90045.22901276143,46038.35962657079,7466.290390324315,-180034.7594524544,96228.8964765561,38409.66141695551,139821.2222777142,-382300.9215774812,-161433.54166163018,87674.51489209676,245334.22182039925,60831.548831485634,127599.91809458278,-33152.831870332986,24796.022040261756,108533.81942103339,-631558.8700372815,369577.4185315559,-472869.91032723436,-284180.49174263014,-120165.10267038517,-9501.176510709947,-349364.7357371242,135757.0837124274,67751.61939895185,-272141.0928621034,27177.444328686288,-275181.94551396434,-305482.29942168534,-270658.149462085,124651.45070546381,-468449.3643483509,-74080.35745769857,83406.42492017667,62346.069012398366,-45346.73878311328,-5145.653498006749,24077.89985611277,-408622.1826523379,-18592.04660984457,-153744.10021335862,-342576.3472010578,187054.72218211155,7805.359881009582,-12652.72816388226,280092.5973569343,68632.03801811783,127373.2669161095,49504.08434010646,-125685.55387979338,-40098.165396685545,463316.1661838285,186897.52366870161,118226.66086424797,187196.95103281594,10158.801478602827,1234762.7260418467,185908.87338414553,213028.9845690612,-286216.96930813964,91711.67674555657,21526.93631520128,-83931.68685511177,-68867.59430946091,-87754.47994301798,-183729.98420624202,-10810.996837262777,329803.22547390393,-505742.91103890305,-1968.5571102477702,181995.6656543797,-141602.3454860204,28889.057497845417,-52767.88584206866,136123.68205757663,-63665.4879596783,299805.8488234164,-231704.28861351192,-203212.06150713158,-272909.5310210785,253660.92439576917,-114665.94709097664,-13138.018846206087,325441.6085815537,163728.6701428724,195794.76708018198,122545.83543543727,134223.17089918655,23087.023157572632,71856.47398897324,-117421.60283745793,1058381.9501742017,234778.7570839082,32281.667858501714,-258956.66884400582,327487.8196570621,19031.150810424428,125364.1805588485,113034.86275495007,-428483.91929458076,395384.2930378624,-366636.78953803267,-42897.20854158063,59554.576662760235,-864701.565632956,-119001.05321057765,-198927.7415208117,-501722.0500269569,47334.15385722472,12009.281426330956,-387055.8187008846,145433.84803836563,-35106.29848688414,-197159.11330796676,245210.6726987337,-214396.91888234738,31628.91586001069,83275.43134504094,525489.2941046498,-149078.44071055946,72699.55221814345,228002.40600127022,-64970.609160262844,348714.3528299256,777065.4435926205,-222844.42335037424,-132406.44239505826,375372.6267306125,86965.98111387291,44568.511988296115,-345426.3444405817,2963.792391623843,-101987.43031146016,-176135.8006830284,-315284.6258220228,-202917.78122628946,485343.5236197237,139349.30017403618,-15313.452670688419,62155.40782434789,-566970.4671357243,-223390.56394890897,-320339.6459584688,-10097.353167438123,-378798.28071289946,-127229.65699719283,-244664.49026583345,179346.2026947398,-38942.15691991656,148013.78744643286,-202615.1269289099,365117.4090361417,-38957.59156203885,112993.11446437745,-102406.21414052299,-16513.14717081674,-135639.39573924776,-534873.6197291621,129953.72530928873,-52438.38285484733,72903.43906423794,-853592.8520676342,-309820.2915697673,238728.38637390433,-18719.644472848267,-131698.0441344811,-149567.68493264684,-221439.5394047124,-145292.49312498173,6400.402808937218,6361.225923433954,-207147.21764763785,-411829.0710586577,593406.0644879846,-107010.6434504891,-168835.11786002986,-10892.093136180616,1139873.0647307166,-130698.52799703163,61503.69196176153,99196.1441738048,-812645.254630602,-162509.84100988638,117765.22879474233,272339.6792016076,15019.391073825045,114208.98149144712,142284.5981323704,-112702.41894228596,-203959.02377072224,22230.510413649034,-15594.449378629759,186665.5558108036,-75005.43011295324,145530.02097804015,-89352.02496573061,93566.79901940035,-112403.46502438564,70286.6374552063,-122025.91130913049,-137631.5539451893,25190.97961530018,396606.16973239736,-143290.14265109008,129834.89655667289,19453.55119536554,-204254.2393191406,55943.11357077698,86358.516328201,-5400.452552171955,-75207.03584033367,41414.10964697123,81714.29304560933,-98672.79153513198,-135374.9095411969,-215672.22507793552,-242836.78273691333,83190.33153516978,-13053.319701961542,40447.01491820678,-340628.97473347024,365822.3829740705,-277688.21178973926,-432755.84247342957,-149809.36778672357],\"yaxis\":\"y\",\"type\":\"scatter\"}],                        {\"template\":{\"data\":{\"histogram2dcontour\":[{\"type\":\"histogram2dcontour\",\"colorbar\":{\"outlinewidth\":0,\"ticks\":\"\"},\"colorscale\":[[0.0,\"#0d0887\"],[0.1111111111111111,\"#46039f\"],[0.2222222222222222,\"#7201a8\"],[0.3333333333333333,\"#9c179e\"],[0.4444444444444444,\"#bd3786\"],[0.5555555555555556,\"#d8576b\"],[0.6666666666666666,\"#ed7953\"],[0.7777777777777778,\"#fb9f3a\"],[0.8888888888888888,\"#fdca26\"],[1.0,\"#f0f921\"]]}],\"choropleth\":[{\"type\":\"choropleth\",\"colorbar\":{\"outlinewidth\":0,\"ticks\":\"\"}}],\"histogram2d\":[{\"type\":\"histogram2d\",\"colorbar\":{\"outlinewidth\":0,\"ticks\":\"\"},\"colorscale\":[[0.0,\"#0d0887\"],[0.1111111111111111,\"#46039f\"],[0.2222222222222222,\"#7201a8\"],[0.3333333333333333,\"#9c179e\"],[0.4444444444444444,\"#bd3786\"],[0.5555555555555556,\"#d8576b\"],[0.6666666666666666,\"#ed7953\"],[0.7777777777777778,\"#fb9f3a\"],[0.8888888888888888,\"#fdca26\"],[1.0,\"#f0f921\"]]}],\"heatmap\":[{\"type\":\"heatmap\",\"colorbar\":{\"outlinewidth\":0,\"ticks\":\"\"},\"colorscale\":[[0.0,\"#0d0887\"],[0.1111111111111111,\"#46039f\"],[0.2222222222222222,\"#7201a8\"],[0.3333333333333333,\"#9c179e\"],[0.4444444444444444,\"#bd3786\"],[0.5555555555555556,\"#d8576b\"],[0.6666666666666666,\"#ed7953\"],[0.7777777777777778,\"#fb9f3a\"],[0.8888888888888888,\"#fdca26\"],[1.0,\"#f0f921\"]]}],\"heatmapgl\":[{\"type\":\"heatmapgl\",\"colorbar\":{\"outlinewidth\":0,\"ticks\":\"\"},\"colorscale\":[[0.0,\"#0d0887\"],[0.1111111111111111,\"#46039f\"],[0.2222222222222222,\"#7201a8\"],[0.3333333333333333,\"#9c179e\"],[0.4444444444444444,\"#bd3786\"],[0.5555555555555556,\"#d8576b\"],[0.6666666666666666,\"#ed7953\"],[0.7777777777777778,\"#fb9f3a\"],[0.8888888888888888,\"#fdca26\"],[1.0,\"#f0f921\"]]}],\"contourcarpet\":[{\"type\":\"contourcarpet\",\"colorbar\":{\"outlinewidth\":0,\"ticks\":\"\"}}],\"contour\":[{\"type\":\"contour\",\"colorbar\":{\"outlinewidth\":0,\"ticks\":\"\"},\"colorscale\":[[0.0,\"#0d0887\"],[0.1111111111111111,\"#46039f\"],[0.2222222222222222,\"#7201a8\"],[0.3333333333333333,\"#9c179e\"],[0.4444444444444444,\"#bd3786\"],[0.5555555555555556,\"#d8576b\"],[0.6666666666666666,\"#ed7953\"],[0.7777777777777778,\"#fb9f3a\"],[0.8888888888888888,\"#fdca26\"],[1.0,\"#f0f921\"]]}],\"surface\":[{\"type\":\"surface\",\"colorbar\":{\"outlinewidth\":0,\"ticks\":\"\"},\"colorscale\":[[0.0,\"#0d0887\"],[0.1111111111111111,\"#46039f\"],[0.2222222222222222,\"#7201a8\"],[0.3333333333333333,\"#9c179e\"],[0.4444444444444444,\"#bd3786\"],[0.5555555555555556,\"#d8576b\"],[0.6666666666666666,\"#ed7953\"],[0.7777777777777778,\"#fb9f3a\"],[0.8888888888888888,\"#fdca26\"],[1.0,\"#f0f921\"]]}],\"mesh3d\":[{\"type\":\"mesh3d\",\"colorbar\":{\"outlinewidth\":0,\"ticks\":\"\"}}],\"scatter\":[{\"fillpattern\":{\"fillmode\":\"overlay\",\"size\":10,\"solidity\":0.2},\"type\":\"scatter\"}],\"parcoords\":[{\"type\":\"parcoords\",\"line\":{\"colorbar\":{\"outlinewidth\":0,\"ticks\":\"\"}}}],\"scatterpolargl\":[{\"type\":\"scatterpolargl\",\"marker\":{\"colorbar\":{\"outlinewidth\":0,\"ticks\":\"\"}}}],\"bar\":[{\"error_x\":{\"color\":\"#2a3f5f\"},\"error_y\":{\"color\":\"#2a3f5f\"},\"marker\":{\"line\":{\"color\":\"#E5ECF6\",\"width\":0.5},\"pattern\":{\"fillmode\":\"overlay\",\"size\":10,\"solidity\":0.2}},\"type\":\"bar\"}],\"scattergeo\":[{\"type\":\"scattergeo\",\"marker\":{\"colorbar\":{\"outlinewidth\":0,\"ticks\":\"\"}}}],\"scatterpolar\":[{\"type\":\"scatterpolar\",\"marker\":{\"colorbar\":{\"outlinewidth\":0,\"ticks\":\"\"}}}],\"histogram\":[{\"marker\":{\"pattern\":{\"fillmode\":\"overlay\",\"size\":10,\"solidity\":0.2}},\"type\":\"histogram\"}],\"scattergl\":[{\"type\":\"scattergl\",\"marker\":{\"colorbar\":{\"outlinewidth\":0,\"ticks\":\"\"}}}],\"scatter3d\":[{\"type\":\"scatter3d\",\"line\":{\"colorbar\":{\"outlinewidth\":0,\"ticks\":\"\"}},\"marker\":{\"colorbar\":{\"outlinewidth\":0,\"ticks\":\"\"}}}],\"scattermapbox\":[{\"type\":\"scattermapbox\",\"marker\":{\"colorbar\":{\"outlinewidth\":0,\"ticks\":\"\"}}}],\"scatterternary\":[{\"type\":\"scatterternary\",\"marker\":{\"colorbar\":{\"outlinewidth\":0,\"ticks\":\"\"}}}],\"scattercarpet\":[{\"type\":\"scattercarpet\",\"marker\":{\"colorbar\":{\"outlinewidth\":0,\"ticks\":\"\"}}}],\"carpet\":[{\"aaxis\":{\"endlinecolor\":\"#2a3f5f\",\"gridcolor\":\"white\",\"linecolor\":\"white\",\"minorgridcolor\":\"white\",\"startlinecolor\":\"#2a3f5f\"},\"baxis\":{\"endlinecolor\":\"#2a3f5f\",\"gridcolor\":\"white\",\"linecolor\":\"white\",\"minorgridcolor\":\"white\",\"startlinecolor\":\"#2a3f5f\"},\"type\":\"carpet\"}],\"table\":[{\"cells\":{\"fill\":{\"color\":\"#EBF0F8\"},\"line\":{\"color\":\"white\"}},\"header\":{\"fill\":{\"color\":\"#C8D4E3\"},\"line\":{\"color\":\"white\"}},\"type\":\"table\"}],\"barpolar\":[{\"marker\":{\"line\":{\"color\":\"#E5ECF6\",\"width\":0.5},\"pattern\":{\"fillmode\":\"overlay\",\"size\":10,\"solidity\":0.2}},\"type\":\"barpolar\"}],\"pie\":[{\"automargin\":true,\"type\":\"pie\"}]},\"layout\":{\"autotypenumbers\":\"strict\",\"colorway\":[\"#636efa\",\"#EF553B\",\"#00cc96\",\"#ab63fa\",\"#FFA15A\",\"#19d3f3\",\"#FF6692\",\"#B6E880\",\"#FF97FF\",\"#FECB52\"],\"font\":{\"color\":\"#2a3f5f\"},\"hovermode\":\"closest\",\"hoverlabel\":{\"align\":\"left\"},\"paper_bgcolor\":\"white\",\"plot_bgcolor\":\"#E5ECF6\",\"polar\":{\"bgcolor\":\"#E5ECF6\",\"angularaxis\":{\"gridcolor\":\"white\",\"linecolor\":\"white\",\"ticks\":\"\"},\"radialaxis\":{\"gridcolor\":\"white\",\"linecolor\":\"white\",\"ticks\":\"\"}},\"ternary\":{\"bgcolor\":\"#E5ECF6\",\"aaxis\":{\"gridcolor\":\"white\",\"linecolor\":\"white\",\"ticks\":\"\"},\"baxis\":{\"gridcolor\":\"white\",\"linecolor\":\"white\",\"ticks\":\"\"},\"caxis\":{\"gridcolor\":\"white\",\"linecolor\":\"white\",\"ticks\":\"\"}},\"coloraxis\":{\"colorbar\":{\"outlinewidth\":0,\"ticks\":\"\"}},\"colorscale\":{\"sequential\":[[0.0,\"#0d0887\"],[0.1111111111111111,\"#46039f\"],[0.2222222222222222,\"#7201a8\"],[0.3333333333333333,\"#9c179e\"],[0.4444444444444444,\"#bd3786\"],[0.5555555555555556,\"#d8576b\"],[0.6666666666666666,\"#ed7953\"],[0.7777777777777778,\"#fb9f3a\"],[0.8888888888888888,\"#fdca26\"],[1.0,\"#f0f921\"]],\"sequentialminus\":[[0.0,\"#0d0887\"],[0.1111111111111111,\"#46039f\"],[0.2222222222222222,\"#7201a8\"],[0.3333333333333333,\"#9c179e\"],[0.4444444444444444,\"#bd3786\"],[0.5555555555555556,\"#d8576b\"],[0.6666666666666666,\"#ed7953\"],[0.7777777777777778,\"#fb9f3a\"],[0.8888888888888888,\"#fdca26\"],[1.0,\"#f0f921\"]],\"diverging\":[[0,\"#8e0152\"],[0.1,\"#c51b7d\"],[0.2,\"#de77ae\"],[0.3,\"#f1b6da\"],[0.4,\"#fde0ef\"],[0.5,\"#f7f7f7\"],[0.6,\"#e6f5d0\"],[0.7,\"#b8e186\"],[0.8,\"#7fbc41\"],[0.9,\"#4d9221\"],[1,\"#276419\"]]},\"xaxis\":{\"gridcolor\":\"white\",\"linecolor\":\"white\",\"ticks\":\"\",\"title\":{\"standoff\":15},\"zerolinecolor\":\"white\",\"automargin\":true,\"zerolinewidth\":2},\"yaxis\":{\"gridcolor\":\"white\",\"linecolor\":\"white\",\"ticks\":\"\",\"title\":{\"standoff\":15},\"zerolinecolor\":\"white\",\"automargin\":true,\"zerolinewidth\":2},\"scene\":{\"xaxis\":{\"backgroundcolor\":\"#E5ECF6\",\"gridcolor\":\"white\",\"linecolor\":\"white\",\"showbackground\":true,\"ticks\":\"\",\"zerolinecolor\":\"white\",\"gridwidth\":2},\"yaxis\":{\"backgroundcolor\":\"#E5ECF6\",\"gridcolor\":\"white\",\"linecolor\":\"white\",\"showbackground\":true,\"ticks\":\"\",\"zerolinecolor\":\"white\",\"gridwidth\":2},\"zaxis\":{\"backgroundcolor\":\"#E5ECF6\",\"gridcolor\":\"white\",\"linecolor\":\"white\",\"showbackground\":true,\"ticks\":\"\",\"zerolinecolor\":\"white\",\"gridwidth\":2}},\"shapedefaults\":{\"line\":{\"color\":\"#2a3f5f\"}},\"annotationdefaults\":{\"arrowcolor\":\"#2a3f5f\",\"arrowhead\":0,\"arrowwidth\":1},\"geo\":{\"bgcolor\":\"white\",\"landcolor\":\"#E5ECF6\",\"subunitcolor\":\"white\",\"showland\":true,\"showlakes\":true,\"lakecolor\":\"white\"},\"title\":{\"x\":0.05},\"mapbox\":{\"style\":\"light\"}}},\"xaxis\":{\"anchor\":\"y\",\"domain\":[0.0,1.0],\"title\":{\"text\":\"0\"}},\"yaxis\":{\"anchor\":\"x\",\"domain\":[0.0,1.0],\"title\":{\"text\":\"1\"}},\"coloraxis\":{\"colorbar\":{\"title\":{\"text\":\"color\"}},\"colorscale\":[[0.0,\"#0d0887\"],[0.1111111111111111,\"#46039f\"],[0.2222222222222222,\"#7201a8\"],[0.3333333333333333,\"#9c179e\"],[0.4444444444444444,\"#bd3786\"],[0.5555555555555556,\"#d8576b\"],[0.6666666666666666,\"#ed7953\"],[0.7777777777777778,\"#fb9f3a\"],[0.8888888888888888,\"#fdca26\"],[1.0,\"#f0f921\"]]},\"legend\":{\"tracegroupgap\":0},\"margin\":{\"t\":60}},                        {\"responsive\": true}                    ).then(function(){\n",
       "                            \n",
       "var gd = document.getElementById('6e233798-574f-4f35-aa78-4573b19d111a');\n",
       "var x = new MutationObserver(function (mutations, observer) {{\n",
       "        var display = window.getComputedStyle(gd).display;\n",
       "        if (!display || display === 'none') {{\n",
       "            console.log([gd, 'removed!']);\n",
       "            Plotly.purge(gd);\n",
       "            observer.disconnect();\n",
       "        }}\n",
       "}});\n",
       "\n",
       "// Listen for the removal of the full notebook cells\n",
       "var notebookContainer = gd.closest('#notebook-container');\n",
       "if (notebookContainer) {{\n",
       "    x.observe(notebookContainer, {childList: true});\n",
       "}}\n",
       "\n",
       "// Listen for the clearing of the current output cell\n",
       "var outputEl = gd.closest('.output');\n",
       "if (outputEl) {{\n",
       "    x.observe(outputEl, {childList: true});\n",
       "}}\n",
       "\n",
       "                        })                };                });            </script>        </div>"
      ]
     },
     "metadata": {},
     "output_type": "display_data"
    }
   ],
   "source": [
    "import plotly.express as px\n",
    "from sklearn.decomposition import PCA\n",
    "\n",
    "\n",
    "\n",
    "pca = PCA(n_components=2)\n",
    "components = pca.fit_transform(count_matrix_filtered_mrn_batch_corrected_2.T)\n",
    "\n",
    "fig = px.scatter(components, x=0, y=1, color=m)\n",
    "fig.write_html(\"pca_batch(filtered_ad_non_ad_mrn_batch_corrected).html\")\n",
    "fig.show()"
   ]
  },
  {
   "cell_type": "markdown",
   "id": "d38c3efe",
   "metadata": {},
   "source": [
    "# 3. GRN construction Preprocessing\n"
   ]
  },
  {
   "cell_type": "code",
   "execution_count": 328,
   "id": "64559010",
   "metadata": {},
   "outputs": [
    {
     "data": {
      "text/html": [
       "<div>\n",
       "<style scoped>\n",
       "    .dataframe tbody tr th:only-of-type {\n",
       "        vertical-align: middle;\n",
       "    }\n",
       "\n",
       "    .dataframe tbody tr th {\n",
       "        vertical-align: top;\n",
       "    }\n",
       "\n",
       "    .dataframe thead th {\n",
       "        text-align: right;\n",
       "    }\n",
       "</style>\n",
       "<table border=\"1\" class=\"dataframe\">\n",
       "  <thead>\n",
       "    <tr style=\"text-align: right;\">\n",
       "      <th></th>\n",
       "      <th>01_120405</th>\n",
       "      <th>02_120405</th>\n",
       "      <th>03_120405</th>\n",
       "      <th>04_120405</th>\n",
       "      <th>05_120405</th>\n",
       "      <th>07_120410</th>\n",
       "      <th>08_120410</th>\n",
       "      <th>100_120417</th>\n",
       "      <th>101_120418</th>\n",
       "      <th>102_120418</th>\n",
       "      <th>...</th>\n",
       "      <th>952_131107</th>\n",
       "      <th>954_131107</th>\n",
       "      <th>956_131107</th>\n",
       "      <th>957_131107</th>\n",
       "      <th>958_131107</th>\n",
       "      <th>96_120417</th>\n",
       "      <th>97_120417</th>\n",
       "      <th>98_120417</th>\n",
       "      <th>R24_131017</th>\n",
       "      <th>redo4_140501</th>\n",
       "    </tr>\n",
       "    <tr>\n",
       "      <th>0</th>\n",
       "      <th></th>\n",
       "      <th></th>\n",
       "      <th></th>\n",
       "      <th></th>\n",
       "      <th></th>\n",
       "      <th></th>\n",
       "      <th></th>\n",
       "      <th></th>\n",
       "      <th></th>\n",
       "      <th></th>\n",
       "      <th></th>\n",
       "      <th></th>\n",
       "      <th></th>\n",
       "      <th></th>\n",
       "      <th></th>\n",
       "      <th></th>\n",
       "      <th></th>\n",
       "      <th></th>\n",
       "      <th></th>\n",
       "      <th></th>\n",
       "      <th></th>\n",
       "    </tr>\n",
       "  </thead>\n",
       "  <tbody>\n",
       "    <tr>\n",
       "      <th>ENSG00000227232</th>\n",
       "      <td>147.015425</td>\n",
       "      <td>133.654152</td>\n",
       "      <td>125.555213</td>\n",
       "      <td>153.062447</td>\n",
       "      <td>110.143486</td>\n",
       "      <td>149.697553</td>\n",
       "      <td>142.088406</td>\n",
       "      <td>227.011105</td>\n",
       "      <td>126.751403</td>\n",
       "      <td>105.982693</td>\n",
       "      <td>...</td>\n",
       "      <td>85.950823</td>\n",
       "      <td>219.214081</td>\n",
       "      <td>214.472294</td>\n",
       "      <td>94.298779</td>\n",
       "      <td>310.956416</td>\n",
       "      <td>192.237113</td>\n",
       "      <td>134.203827</td>\n",
       "      <td>227.846224</td>\n",
       "      <td>147.824783</td>\n",
       "      <td>185.285514</td>\n",
       "    </tr>\n",
       "    <tr>\n",
       "      <th>ENSG00000268903</th>\n",
       "      <td>84.645245</td>\n",
       "      <td>126.741006</td>\n",
       "      <td>80.484111</td>\n",
       "      <td>27.681506</td>\n",
       "      <td>108.176638</td>\n",
       "      <td>103.494605</td>\n",
       "      <td>83.293203</td>\n",
       "      <td>21.688959</td>\n",
       "      <td>76.42364</td>\n",
       "      <td>31.17138</td>\n",
       "      <td>...</td>\n",
       "      <td>27.959906</td>\n",
       "      <td>26.818744</td>\n",
       "      <td>14.242301</td>\n",
       "      <td>48.703765</td>\n",
       "      <td>36.140213</td>\n",
       "      <td>119.889812</td>\n",
       "      <td>93.121023</td>\n",
       "      <td>130.578538</td>\n",
       "      <td>21.923167</td>\n",
       "      <td>6.329629</td>\n",
       "    </tr>\n",
       "    <tr>\n",
       "      <th>ENSG00000279457</th>\n",
       "      <td>427.681236</td>\n",
       "      <td>417.09313</td>\n",
       "      <td>445.881973</td>\n",
       "      <td>319.151484</td>\n",
       "      <td>595.954931</td>\n",
       "      <td>303.091342</td>\n",
       "      <td>390.334815</td>\n",
       "      <td>430.887319</td>\n",
       "      <td>419.398024</td>\n",
       "      <td>207.809202</td>\n",
       "      <td>...</td>\n",
       "      <td>168.794989</td>\n",
       "      <td>165.576593</td>\n",
       "      <td>384.54212</td>\n",
       "      <td>190.670059</td>\n",
       "      <td>356.884603</td>\n",
       "      <td>398.943686</td>\n",
       "      <td>525.859894</td>\n",
       "      <td>630.241309</td>\n",
       "      <td>400.880767</td>\n",
       "      <td>462.062944</td>\n",
       "    </tr>\n",
       "    <tr>\n",
       "      <th>ENSG00000228463</th>\n",
       "      <td>41.58012</td>\n",
       "      <td>43.783257</td>\n",
       "      <td>77.264746</td>\n",
       "      <td>56.177175</td>\n",
       "      <td>66.872831</td>\n",
       "      <td>24.025533</td>\n",
       "      <td>37.563601</td>\n",
       "      <td>52.053502</td>\n",
       "      <td>109.043486</td>\n",
       "      <td>77.928451</td>\n",
       "      <td>...</td>\n",
       "      <td>1.035552</td>\n",
       "      <td>54.80352</td>\n",
       "      <td>23.457907</td>\n",
       "      <td>82.900026</td>\n",
       "      <td>63.245373</td>\n",
       "      <td>103.353287</td>\n",
       "      <td>57.515926</td>\n",
       "      <td>39.973022</td>\n",
       "      <td>75.79152</td>\n",
       "      <td>59.843769</td>\n",
       "    </tr>\n",
       "    <tr>\n",
       "      <th>ENSG00000225972</th>\n",
       "      <td>423.226224</td>\n",
       "      <td>82.189622</td>\n",
       "      <td>220.526463</td>\n",
       "      <td>35.008964</td>\n",
       "      <td>289.12665</td>\n",
       "      <td>275.369573</td>\n",
       "      <td>233.547609</td>\n",
       "      <td>163.390158</td>\n",
       "      <td>73.627653</td>\n",
       "      <td>36.36661</td>\n",
       "      <td>...</td>\n",
       "      <td>40.386531</td>\n",
       "      <td>110.773073</td>\n",
       "      <td>180.123215</td>\n",
       "      <td>59.066268</td>\n",
       "      <td>63.998294</td>\n",
       "      <td>260.450282</td>\n",
       "      <td>156.114656</td>\n",
       "      <td>127.913669</td>\n",
       "      <td>33.197938</td>\n",
       "      <td>51.212456</td>\n",
       "    </tr>\n",
       "    <tr>\n",
       "      <th>...</th>\n",
       "      <td>...</td>\n",
       "      <td>...</td>\n",
       "      <td>...</td>\n",
       "      <td>...</td>\n",
       "      <td>...</td>\n",
       "      <td>...</td>\n",
       "      <td>...</td>\n",
       "      <td>...</td>\n",
       "      <td>...</td>\n",
       "      <td>...</td>\n",
       "      <td>...</td>\n",
       "      <td>...</td>\n",
       "      <td>...</td>\n",
       "      <td>...</td>\n",
       "      <td>...</td>\n",
       "      <td>...</td>\n",
       "      <td>...</td>\n",
       "      <td>...</td>\n",
       "      <td>...</td>\n",
       "      <td>...</td>\n",
       "      <td>...</td>\n",
       "    </tr>\n",
       "    <tr>\n",
       "      <th>ENSG00000273748</th>\n",
       "      <td>230.175665</td>\n",
       "      <td>451.658859</td>\n",
       "      <td>386.323731</td>\n",
       "      <td>146.549151</td>\n",
       "      <td>515.314164</td>\n",
       "      <td>434.307716</td>\n",
       "      <td>553.654822</td>\n",
       "      <td>497.400127</td>\n",
       "      <td>220.882959</td>\n",
       "      <td>50.913254</td>\n",
       "      <td>...</td>\n",
       "      <td>450.465155</td>\n",
       "      <td>78.124167</td>\n",
       "      <td>154.151961</td>\n",
       "      <td>132.640041</td>\n",
       "      <td>128.749509</td>\n",
       "      <td>866.100541</td>\n",
       "      <td>364.26753</td>\n",
       "      <td>506.324942</td>\n",
       "      <td>118.385101</td>\n",
       "      <td>223.26329</td>\n",
       "    </tr>\n",
       "    <tr>\n",
       "      <th>ENSG00000271254</th>\n",
       "      <td>299.970867</td>\n",
       "      <td>154.39359</td>\n",
       "      <td>67.606653</td>\n",
       "      <td>123.752616</td>\n",
       "      <td>133.745661</td>\n",
       "      <td>140.456963</td>\n",
       "      <td>119.223605</td>\n",
       "      <td>222.673313</td>\n",
       "      <td>186.399122</td>\n",
       "      <td>156.895947</td>\n",
       "      <td>...</td>\n",
       "      <td>252.674708</td>\n",
       "      <td>457.084679</td>\n",
       "      <td>270.603714</td>\n",
       "      <td>116.060036</td>\n",
       "      <td>280.08665</td>\n",
       "      <td>332.797583</td>\n",
       "      <td>154.745229</td>\n",
       "      <td>151.897482</td>\n",
       "      <td>251.803232</td>\n",
       "      <td>218.084503</td>\n",
       "    </tr>\n",
       "    <tr>\n",
       "      <th>ENSG00000277048</th>\n",
       "      <td>23685.818473</td>\n",
       "      <td>7347.905857</td>\n",
       "      <td>6585.209929</td>\n",
       "      <td>1104.817766</td>\n",
       "      <td>7572.364631</td>\n",
       "      <td>10800.401238</td>\n",
       "      <td>15892.669827</td>\n",
       "      <td>9417.346013</td>\n",
       "      <td>2690.671322</td>\n",
       "      <td>1801.705777</td>\n",
       "      <td>...</td>\n",
       "      <td>832.583873</td>\n",
       "      <td>2157.159837</td>\n",
       "      <td>1433.445682</td>\n",
       "      <td>915.009034</td>\n",
       "      <td>2233.916914</td>\n",
       "      <td>15141.256476</td>\n",
       "      <td>10511.720165</td>\n",
       "      <td>4924.676274</td>\n",
       "      <td>2831.846791</td>\n",
       "      <td>929.880096</td>\n",
       "    </tr>\n",
       "    <tr>\n",
       "      <th>ENSG00000278817</th>\n",
       "      <td>343.035992</td>\n",
       "      <td>152.857335</td>\n",
       "      <td>286.523434</td>\n",
       "      <td>213.310431</td>\n",
       "      <td>373.701112</td>\n",
       "      <td>423.219008</td>\n",
       "      <td>421.365617</td>\n",
       "      <td>441.008834</td>\n",
       "      <td>319.674494</td>\n",
       "      <td>208.848248</td>\n",
       "      <td>...</td>\n",
       "      <td>130.479562</td>\n",
       "      <td>254.195051</td>\n",
       "      <td>296.574969</td>\n",
       "      <td>84.972526</td>\n",
       "      <td>210.064988</td>\n",
       "      <td>388.608357</td>\n",
       "      <td>258.821666</td>\n",
       "      <td>133.243406</td>\n",
       "      <td>172.253454</td>\n",
       "      <td>196.793931</td>\n",
       "    </tr>\n",
       "    <tr>\n",
       "      <th>ENSG00000277196</th>\n",
       "      <td>775.172241</td>\n",
       "      <td>475.470805</td>\n",
       "      <td>1125.167866</td>\n",
       "      <td>936.286242</td>\n",
       "      <td>1494.804447</td>\n",
       "      <td>1267.808906</td>\n",
       "      <td>676.144827</td>\n",
       "      <td>2388.677355</td>\n",
       "      <td>1129.578678</td>\n",
       "      <td>674.340859</td>\n",
       "      <td>...</td>\n",
       "      <td>627.544561</td>\n",
       "      <td>1295.461934</td>\n",
       "      <td>340.977436</td>\n",
       "      <td>440.406386</td>\n",
       "      <td>2121.73167</td>\n",
       "      <td>1969.913641</td>\n",
       "      <td>1730.955483</td>\n",
       "      <td>779.473923</td>\n",
       "      <td>875.047549</td>\n",
       "      <td>798.108721</td>\n",
       "    </tr>\n",
       "  </tbody>\n",
       "</table>\n",
       "<p>17110 rows × 633 columns</p>\n",
       "</div>"
      ],
      "text/plain": [
       "                    01_120405    02_120405    03_120405    04_120405  \\\n",
       "0                                                                      \n",
       "ENSG00000227232    147.015425   133.654152   125.555213   153.062447   \n",
       "ENSG00000268903     84.645245   126.741006    80.484111    27.681506   \n",
       "ENSG00000279457    427.681236    417.09313   445.881973   319.151484   \n",
       "ENSG00000228463      41.58012    43.783257    77.264746    56.177175   \n",
       "ENSG00000225972    423.226224    82.189622   220.526463    35.008964   \n",
       "...                       ...          ...          ...          ...   \n",
       "ENSG00000273748    230.175665   451.658859   386.323731   146.549151   \n",
       "ENSG00000271254    299.970867    154.39359    67.606653   123.752616   \n",
       "ENSG00000277048  23685.818473  7347.905857  6585.209929  1104.817766   \n",
       "ENSG00000278817    343.035992   152.857335   286.523434   213.310431   \n",
       "ENSG00000277196    775.172241   475.470805  1125.167866   936.286242   \n",
       "\n",
       "                   05_120405     07_120410     08_120410   100_120417  \\\n",
       "0                                                                       \n",
       "ENSG00000227232   110.143486    149.697553    142.088406   227.011105   \n",
       "ENSG00000268903   108.176638    103.494605     83.293203    21.688959   \n",
       "ENSG00000279457   595.954931    303.091342    390.334815   430.887319   \n",
       "ENSG00000228463    66.872831     24.025533     37.563601    52.053502   \n",
       "ENSG00000225972    289.12665    275.369573    233.547609   163.390158   \n",
       "...                      ...           ...           ...          ...   \n",
       "ENSG00000273748   515.314164    434.307716    553.654822   497.400127   \n",
       "ENSG00000271254   133.745661    140.456963    119.223605   222.673313   \n",
       "ENSG00000277048  7572.364631  10800.401238  15892.669827  9417.346013   \n",
       "ENSG00000278817   373.701112    423.219008    421.365617   441.008834   \n",
       "ENSG00000277196  1494.804447   1267.808906    676.144827  2388.677355   \n",
       "\n",
       "                  101_120418   102_120418  ...  952_131107   954_131107  \\\n",
       "0                                          ...                            \n",
       "ENSG00000227232   126.751403   105.982693  ...   85.950823   219.214081   \n",
       "ENSG00000268903     76.42364     31.17138  ...   27.959906    26.818744   \n",
       "ENSG00000279457   419.398024   207.809202  ...  168.794989   165.576593   \n",
       "ENSG00000228463   109.043486    77.928451  ...    1.035552     54.80352   \n",
       "ENSG00000225972    73.627653     36.36661  ...   40.386531   110.773073   \n",
       "...                      ...          ...  ...         ...          ...   \n",
       "ENSG00000273748   220.882959    50.913254  ...  450.465155    78.124167   \n",
       "ENSG00000271254   186.399122   156.895947  ...  252.674708   457.084679   \n",
       "ENSG00000277048  2690.671322  1801.705777  ...  832.583873  2157.159837   \n",
       "ENSG00000278817   319.674494   208.848248  ...  130.479562   254.195051   \n",
       "ENSG00000277196  1129.578678   674.340859  ...  627.544561  1295.461934   \n",
       "\n",
       "                  956_131107  957_131107   958_131107     96_120417  \\\n",
       "0                                                                     \n",
       "ENSG00000227232   214.472294   94.298779   310.956416    192.237113   \n",
       "ENSG00000268903    14.242301   48.703765    36.140213    119.889812   \n",
       "ENSG00000279457    384.54212  190.670059   356.884603    398.943686   \n",
       "ENSG00000228463    23.457907   82.900026    63.245373    103.353287   \n",
       "ENSG00000225972   180.123215   59.066268    63.998294    260.450282   \n",
       "...                      ...         ...          ...           ...   \n",
       "ENSG00000273748   154.151961  132.640041   128.749509    866.100541   \n",
       "ENSG00000271254   270.603714  116.060036    280.08665    332.797583   \n",
       "ENSG00000277048  1433.445682  915.009034  2233.916914  15141.256476   \n",
       "ENSG00000278817   296.574969   84.972526   210.064988    388.608357   \n",
       "ENSG00000277196   340.977436  440.406386   2121.73167   1969.913641   \n",
       "\n",
       "                    97_120417    98_120417   R24_131017 redo4_140501  \n",
       "0                                                                     \n",
       "ENSG00000227232    134.203827   227.846224   147.824783   185.285514  \n",
       "ENSG00000268903     93.121023   130.578538    21.923167     6.329629  \n",
       "ENSG00000279457    525.859894   630.241309   400.880767   462.062944  \n",
       "ENSG00000228463     57.515926    39.973022     75.79152    59.843769  \n",
       "ENSG00000225972    156.114656   127.913669    33.197938    51.212456  \n",
       "...                       ...          ...          ...          ...  \n",
       "ENSG00000273748     364.26753   506.324942   118.385101    223.26329  \n",
       "ENSG00000271254    154.745229   151.897482   251.803232   218.084503  \n",
       "ENSG00000277048  10511.720165  4924.676274  2831.846791   929.880096  \n",
       "ENSG00000278817    258.821666   133.243406   172.253454   196.793931  \n",
       "ENSG00000277196   1730.955483   779.473923   875.047549   798.108721  \n",
       "\n",
       "[17110 rows x 633 columns]"
      ]
     },
     "execution_count": 328,
     "metadata": {},
     "output_type": "execute_result"
    }
   ],
   "source": [
    "count_matrix_mrn = count_matrix_mrn.reset_index()\n",
    "count_matrix_mrn = count_matrix_mrn.set_index(count_matrix_mrn['feature'].str.split('.', expand=True)[0])\n",
    "count_matrix_mrn.drop(columns='feature', inplace = True)\n",
    "count_matrix_mrn"
   ]
  },
  {
   "cell_type": "markdown",
   "id": "f5229e8b",
   "metadata": {},
   "source": [
    "#### TF Genes Motif Data"
   ]
  },
  {
   "cell_type": "code",
   "execution_count": 329,
   "id": "7fe4aa04",
   "metadata": {},
   "outputs": [],
   "source": [
    "TF_Genes_Motif = pd.read_csv('../../t2t_assembly/T2T_assembly_GRN_input_Data/TF_Genes.txt', sep = '\\t')"
   ]
  },
  {
   "cell_type": "code",
   "execution_count": 331,
   "id": "76e7266c",
   "metadata": {},
   "outputs": [
    {
     "data": {
      "text/html": [
       "<div>\n",
       "<style scoped>\n",
       "    .dataframe tbody tr th:only-of-type {\n",
       "        vertical-align: middle;\n",
       "    }\n",
       "\n",
       "    .dataframe tbody tr th {\n",
       "        vertical-align: top;\n",
       "    }\n",
       "\n",
       "    .dataframe thead th {\n",
       "        text-align: right;\n",
       "    }\n",
       "</style>\n",
       "<table border=\"1\" class=\"dataframe\">\n",
       "  <thead>\n",
       "    <tr style=\"text-align: right;\">\n",
       "      <th></th>\n",
       "      <th>TF</th>\n",
       "      <th>Genes</th>\n",
       "      <th>Edge</th>\n",
       "      <th>TF_Ensemble</th>\n",
       "    </tr>\n",
       "  </thead>\n",
       "  <tbody>\n",
       "    <tr>\n",
       "      <th>0</th>\n",
       "      <td>ATF7-NPFF</td>\n",
       "      <td>ENSG00000228327</td>\n",
       "      <td>1</td>\n",
       "      <td>ENSG00000267281</td>\n",
       "    </tr>\n",
       "    <tr>\n",
       "      <th>1</th>\n",
       "      <td>ATF7-NPFF</td>\n",
       "      <td>ENSG00000237491</td>\n",
       "      <td>1</td>\n",
       "      <td>ENSG00000267281</td>\n",
       "    </tr>\n",
       "    <tr>\n",
       "      <th>2</th>\n",
       "      <td>ATF7-NPFF</td>\n",
       "      <td>ENSG00000188290</td>\n",
       "      <td>1</td>\n",
       "      <td>ENSG00000267281</td>\n",
       "    </tr>\n",
       "    <tr>\n",
       "      <th>3</th>\n",
       "      <td>ATF7-NPFF</td>\n",
       "      <td>ENSG00000187608</td>\n",
       "      <td>1</td>\n",
       "      <td>ENSG00000267281</td>\n",
       "    </tr>\n",
       "    <tr>\n",
       "      <th>4</th>\n",
       "      <td>ATF7-NPFF</td>\n",
       "      <td>ENSG00000234396</td>\n",
       "      <td>1</td>\n",
       "      <td>ENSG00000267281</td>\n",
       "    </tr>\n",
       "    <tr>\n",
       "      <th>...</th>\n",
       "      <td>...</td>\n",
       "      <td>...</td>\n",
       "      <td>...</td>\n",
       "      <td>...</td>\n",
       "    </tr>\n",
       "    <tr>\n",
       "      <th>2180246</th>\n",
       "      <td>ZSCAN9</td>\n",
       "      <td>ENSG00000185022</td>\n",
       "      <td>1</td>\n",
       "      <td>ENSG00000137185</td>\n",
       "    </tr>\n",
       "    <tr>\n",
       "      <th>2180247</th>\n",
       "      <td>ZSCAN9</td>\n",
       "      <td>ENSG00000100417</td>\n",
       "      <td>1</td>\n",
       "      <td>ENSG00000137185</td>\n",
       "    </tr>\n",
       "    <tr>\n",
       "      <th>2180248</th>\n",
       "      <td>ZSCAN9</td>\n",
       "      <td>ENSG00000280199</td>\n",
       "      <td>1</td>\n",
       "      <td>ENSG00000137185</td>\n",
       "    </tr>\n",
       "    <tr>\n",
       "      <th>2180249</th>\n",
       "      <td>ZSCAN9</td>\n",
       "      <td>ENSG00000260613</td>\n",
       "      <td>1</td>\n",
       "      <td>ENSG00000137185</td>\n",
       "    </tr>\n",
       "    <tr>\n",
       "      <th>2180250</th>\n",
       "      <td>ZSCAN9</td>\n",
       "      <td>ENSG00000273272</td>\n",
       "      <td>1</td>\n",
       "      <td>ENSG00000137185</td>\n",
       "    </tr>\n",
       "  </tbody>\n",
       "</table>\n",
       "<p>2180251 rows × 4 columns</p>\n",
       "</div>"
      ],
      "text/plain": [
       "                TF            Genes  Edge      TF_Ensemble\n",
       "0        ATF7-NPFF  ENSG00000228327     1  ENSG00000267281\n",
       "1        ATF7-NPFF  ENSG00000237491     1  ENSG00000267281\n",
       "2        ATF7-NPFF  ENSG00000188290     1  ENSG00000267281\n",
       "3        ATF7-NPFF  ENSG00000187608     1  ENSG00000267281\n",
       "4        ATF7-NPFF  ENSG00000234396     1  ENSG00000267281\n",
       "...            ...              ...   ...              ...\n",
       "2180246     ZSCAN9  ENSG00000185022     1  ENSG00000137185\n",
       "2180247     ZSCAN9  ENSG00000100417     1  ENSG00000137185\n",
       "2180248     ZSCAN9  ENSG00000280199     1  ENSG00000137185\n",
       "2180249     ZSCAN9  ENSG00000260613     1  ENSG00000137185\n",
       "2180250     ZSCAN9  ENSG00000273272     1  ENSG00000137185\n",
       "\n",
       "[2180251 rows x 4 columns]"
      ]
     },
     "execution_count": 331,
     "metadata": {},
     "output_type": "execute_result"
    }
   ],
   "source": [
    "TF_Genes_Motif"
   ]
  },
  {
   "cell_type": "code",
   "execution_count": 332,
   "id": "c37b760e",
   "metadata": {},
   "outputs": [],
   "source": [
    "x = set(TF_Genes_Motif['Genes'].tolist()).union(set(TF_Genes_Motif['TF_Ensemble'].tolist()))"
   ]
  },
  {
   "cell_type": "code",
   "execution_count": 333,
   "id": "91937b50",
   "metadata": {},
   "outputs": [
    {
     "data": {
      "text/plain": [
       "60340"
      ]
     },
     "execution_count": 333,
     "metadata": {},
     "output_type": "execute_result"
    }
   ],
   "source": [
    "len(x)"
   ]
  },
  {
   "cell_type": "code",
   "execution_count": 334,
   "id": "3b7496a1",
   "metadata": {},
   "outputs": [],
   "source": [
    "y = set(count_matrix_mrn.index)"
   ]
  },
  {
   "cell_type": "code",
   "execution_count": 335,
   "id": "c2d4718b",
   "metadata": {},
   "outputs": [
    {
     "data": {
      "text/plain": [
       "17110"
      ]
     },
     "execution_count": 335,
     "metadata": {},
     "output_type": "execute_result"
    }
   ],
   "source": [
    "len(y)"
   ]
  },
  {
   "cell_type": "code",
   "execution_count": 336,
   "id": "4af08b15",
   "metadata": {},
   "outputs": [],
   "source": [
    "z = y-x"
   ]
  },
  {
   "cell_type": "code",
   "execution_count": 26,
   "id": "cdfe4cc2",
   "metadata": {},
   "outputs": [],
   "source": [
    "z"
   ]
  },
  {
   "cell_type": "code",
   "execution_count": 338,
   "id": "d1d7b646",
   "metadata": {},
   "outputs": [
    {
     "data": {
      "text/plain": [
       "(17110, 633)"
      ]
     },
     "execution_count": 338,
     "metadata": {},
     "output_type": "execute_result"
    }
   ],
   "source": [
    "count_matrix_mrn.shape"
   ]
  },
  {
   "cell_type": "code",
   "execution_count": 339,
   "id": "bf707748",
   "metadata": {},
   "outputs": [
    {
     "name": "stdout",
     "output_type": "stream",
     "text": [
      "(16957, 634)\n"
     ]
    }
   ],
   "source": [
    "def return_true_false(row):\n",
    "   \n",
    "    if row[0] in z:\n",
    "        return 0\n",
    "    else:\n",
    "        return 1\n",
    "df_temp = count_matrix_mrn.reset_index()\n",
    "l = df_temp.apply(return_true_false,axis = 1)  \n",
    "df_temp['new_col'] = l\n",
    "df_temp = df_temp.set_index(0)\n",
    "df_temp = df_temp[df_temp.new_col == 1]\n",
    "print(df_temp.shape)"
   ]
  },
  {
   "cell_type": "code",
   "execution_count": 340,
   "id": "b8b71a60",
   "metadata": {},
   "outputs": [
    {
     "data": {
      "text/plain": [
       "(16957, 633)"
      ]
     },
     "execution_count": 340,
     "metadata": {},
     "output_type": "execute_result"
    }
   ],
   "source": [
    "count_matrix_mrn = df_temp.drop(columns='new_col')\n",
    "count_matrix_mrn.shape"
   ]
  },
  {
   "cell_type": "code",
   "execution_count": 341,
   "id": "471a71b4",
   "metadata": {},
   "outputs": [
    {
     "data": {
      "text/plain": [
       "16957"
      ]
     },
     "execution_count": 341,
     "metadata": {},
     "output_type": "execute_result"
    }
   ],
   "source": [
    "y = set(count_matrix_mrn.index)\n",
    "\n",
    "len(y)"
   ]
  },
  {
   "cell_type": "code",
   "execution_count": null,
   "id": "cdbf16ca",
   "metadata": {},
   "outputs": [],
   "source": [
    "TF_Genes_Motif"
   ]
  },
  {
   "cell_type": "code",
   "execution_count": 343,
   "id": "693e8f48",
   "metadata": {},
   "outputs": [],
   "source": [
    "def return_true_false(row):\n",
    "    \n",
    "    if row.Genes in y and row.TF_Ensemble in y:\n",
    "        return 1\n",
    "    else:\n",
    "        return 0\n",
    "l = TF_Genes_Motif.apply(return_true_false,axis = 1)     "
   ]
  },
  {
   "cell_type": "code",
   "execution_count": null,
   "id": "17bb8b9f",
   "metadata": {},
   "outputs": [],
   "source": [
    "TF_Genes_Motif['new_col'] = l\n",
    "TF_Genes_Motif_temp = TF_Genes_Motif[TF_Genes_Motif['new_col'] == 1]\n",
    "TF_Genes_Motif = TF_Genes_Motif_temp\n",
    "TF_Genes_Motif "
   ]
  },
  {
   "cell_type": "code",
   "execution_count": 345,
   "id": "3f9c2f67",
   "metadata": {},
   "outputs": [],
   "source": [
    "x = set(TF_Genes_Motif['Genes'].tolist()).union(set(TF_Genes_Motif['TF_Ensemble'].tolist()))\n",
    "y = set(count_matrix_mrn.index)"
   ]
  },
  {
   "cell_type": "code",
   "execution_count": 346,
   "id": "b5f5c51d",
   "metadata": {},
   "outputs": [
    {
     "data": {
      "text/plain": [
       "set()"
      ]
     },
     "execution_count": 346,
     "metadata": {},
     "output_type": "execute_result"
    }
   ],
   "source": [
    "x-y"
   ]
  },
  {
   "cell_type": "code",
   "execution_count": 347,
   "id": "86a2c66f",
   "metadata": {},
   "outputs": [
    {
     "data": {
      "text/plain": [
       "set()"
      ]
     },
     "execution_count": 347,
     "metadata": {},
     "output_type": "execute_result"
    }
   ],
   "source": [
    "y-x"
   ]
  },
  {
   "cell_type": "code",
   "execution_count": 348,
   "id": "d644cbee",
   "metadata": {},
   "outputs": [],
   "source": [
    "TF_in_genes = set(TF_Genes_Motif['Genes'].tolist()).intersection(set(TF_Genes_Motif['TF_Ensemble'].tolist()))"
   ]
  },
  {
   "cell_type": "code",
   "execution_count": 349,
   "id": "6791d882",
   "metadata": {},
   "outputs": [
    {
     "data": {
      "text/plain": [
       "712"
      ]
     },
     "execution_count": 349,
     "metadata": {},
     "output_type": "execute_result"
    }
   ],
   "source": [
    "len(TF_in_genes)"
   ]
  },
  {
   "cell_type": "code",
   "execution_count": 350,
   "id": "26c6e129",
   "metadata": {},
   "outputs": [
    {
     "data": {
      "text/plain": [
       "set()"
      ]
     },
     "execution_count": 350,
     "metadata": {},
     "output_type": "execute_result"
    }
   ],
   "source": [
    "(set(TF_Genes_Motif['Genes'].tolist())) - y"
   ]
  },
  {
   "cell_type": "code",
   "execution_count": 351,
   "id": "d90d3a9d",
   "metadata": {},
   "outputs": [
    {
     "data": {
      "text/plain": [
       "set()"
      ]
     },
     "execution_count": 351,
     "metadata": {},
     "output_type": "execute_result"
    }
   ],
   "source": [
    "(set(TF_Genes_Motif['TF_Ensemble'].tolist())) - y"
   ]
  },
  {
   "cell_type": "code",
   "execution_count": 352,
   "id": "4027e879",
   "metadata": {},
   "outputs": [],
   "source": [
    "TF_PPI = pd.read_csv('../../t2t_assembly/T2T_assembly_GRN_input_Data/TF_TF_PPI.csv')"
   ]
  },
  {
   "cell_type": "code",
   "execution_count": null,
   "id": "2e051601",
   "metadata": {},
   "outputs": [],
   "source": [
    "TF_PPI = TF_PPI[['TF_name','Interacting_Partner']]\n",
    "TF_PPI"
   ]
  },
  {
   "cell_type": "code",
   "execution_count": 354,
   "id": "610a65fa",
   "metadata": {},
   "outputs": [],
   "source": [
    "y = set(TF_Genes_Motif.TF_Ensemble)\n",
    "\n",
    "def return_true_false(row):\n",
    "    \n",
    "    if row.TF_name in y and row.Interacting_Partner in y:\n",
    "        return 1\n",
    "    else:\n",
    "        return 0\n",
    "l = TF_PPI.apply(return_true_false,axis = 1)   "
   ]
  },
  {
   "cell_type": "code",
   "execution_count": null,
   "id": "a11b8a73",
   "metadata": {},
   "outputs": [],
   "source": [
    "TF_PPI['new_col'] = l\n",
    "TF_PPI = TF_PPI[TF_PPI['new_col']==1]\n",
    "TF_PPI = TF_PPI[['TF_name','Interacting_Partner']]\n",
    "TF_PPI"
   ]
  },
  {
   "cell_type": "code",
   "execution_count": 356,
   "id": "13ea6c58",
   "metadata": {},
   "outputs": [],
   "source": [
    "z = y - set(TF_PPI.Interacting_Partner) \n",
    "\n",
    "l = []\n",
    "for i in z:\n",
    "    l.append([i,i])\n",
    "    "
   ]
  },
  {
   "cell_type": "code",
   "execution_count": 357,
   "id": "9d47c906",
   "metadata": {},
   "outputs": [
    {
     "data": {
      "text/plain": [
       "531"
      ]
     },
     "execution_count": 357,
     "metadata": {},
     "output_type": "execute_result"
    }
   ],
   "source": [
    "len(set(TF_PPI.Interacting_Partner).intersection(set(TF_PPI.TF_name)))  "
   ]
  },
  {
   "cell_type": "code",
   "execution_count": 358,
   "id": "808cfb09",
   "metadata": {},
   "outputs": [],
   "source": [
    "m = pd.DataFrame(l)\n",
    "df = pd.DataFrame()"
   ]
  },
  {
   "cell_type": "code",
   "execution_count": 359,
   "id": "071492cf",
   "metadata": {},
   "outputs": [],
   "source": [
    "df[['TF_name','Interacting_Partner']] = m"
   ]
  },
  {
   "cell_type": "code",
   "execution_count": null,
   "id": "0688392c",
   "metadata": {},
   "outputs": [],
   "source": [
    "df"
   ]
  },
  {
   "cell_type": "code",
   "execution_count": 361,
   "id": "0af00273",
   "metadata": {},
   "outputs": [],
   "source": [
    "TF_PPI = pd.concat([TF_PPI, df])"
   ]
  },
  {
   "cell_type": "code",
   "execution_count": 362,
   "id": "2b4d604c",
   "metadata": {},
   "outputs": [],
   "source": [
    "TF_PPI[2] = 1"
   ]
  },
  {
   "cell_type": "code",
   "execution_count": null,
   "id": "08e41d1c",
   "metadata": {},
   "outputs": [],
   "source": [
    "TF_PPI.columns = [[0,1,2]]\n",
    "TF_PPI"
   ]
  },
  {
   "cell_type": "code",
   "execution_count": null,
   "id": "4ef0dee3",
   "metadata": {},
   "outputs": [],
   "source": [
    "TF_Genes_Motif = TF_Genes_Motif [[ 'TF_Ensemble','Genes','new_col']]\n",
    "TF_Genes_Motif.columns = [[0,1,2]]\n",
    "TF_Genes_Motif"
   ]
  },
  {
   "cell_type": "code",
   "execution_count": null,
   "id": "4bfe9910",
   "metadata": {},
   "outputs": [],
   "source": [
    "TF_Genes_Motif.iloc[:,0]"
   ]
  },
  {
   "cell_type": "code",
   "execution_count": 375,
   "id": "f9d559a9",
   "metadata": {},
   "outputs": [
    {
     "data": {
      "text/plain": [
       "712"
      ]
     },
     "execution_count": 375,
     "metadata": {},
     "output_type": "execute_result"
    }
   ],
   "source": [
    "len(set(TF_Genes_Motif.iloc[:,0]))"
   ]
  },
  {
   "cell_type": "code",
   "execution_count": 376,
   "id": "7f5b0bb5",
   "metadata": {},
   "outputs": [
    {
     "data": {
      "text/plain": [
       "16957"
      ]
     },
     "execution_count": 376,
     "metadata": {},
     "output_type": "execute_result"
    }
   ],
   "source": [
    "len(set(TF_Genes_Motif.iloc[:,1]))"
   ]
  },
  {
   "cell_type": "code",
   "execution_count": 25,
   "id": "a5f89613",
   "metadata": {},
   "outputs": [],
   "source": [
    "#count_matrix_mrn"
   ]
  },
  {
   "cell_type": "code",
   "execution_count": null,
   "id": "b9d50880",
   "metadata": {},
   "outputs": [],
   "source": [
    "count_matrix_mrn = count_matrix_mrn.reset_index()\n",
    "count_matrix_mrn = count_matrix_mrn.rename(columns = {0:'symbol'})\n",
    "count_matrix_mrn\n"
   ]
  },
  {
   "cell_type": "code",
   "execution_count": 378,
   "id": "f79a90a3",
   "metadata": {},
   "outputs": [],
   "source": [
    "count_matrix_mrn.to_csv('count_matrix_mrn.csv',index=False)\n",
    "TF_Genes_Motif.to_csv('TF_Genes.txt',sep = '\\t',index = False)\n",
    "TF_PPI.to_csv('TF_PPI.csv',index = False)"
   ]
  },
  {
   "cell_type": "code",
   "execution_count": null,
   "id": "b556be13",
   "metadata": {},
   "outputs": [],
   "source": [
    "TF_Genes_Motif"
   ]
  },
  {
   "cell_type": "code",
   "execution_count": null,
   "id": "b9cda0f1",
   "metadata": {},
   "outputs": [],
   "source": [
    "count_matrix_mrn"
   ]
  },
  {
   "cell_type": "code",
   "execution_count": null,
   "id": "ce2722be",
   "metadata": {},
   "outputs": [],
   "source": [
    "TF_PPI"
   ]
  },
  {
   "cell_type": "code",
   "execution_count": 383,
   "id": "7feba248",
   "metadata": {},
   "outputs": [
    {
     "data": {
      "text/plain": [
       "712"
      ]
     },
     "execution_count": 383,
     "metadata": {},
     "output_type": "execute_result"
    }
   ],
   "source": [
    "len(set(TF_PPI.iloc[:,0]))"
   ]
  },
  {
   "cell_type": "code",
   "execution_count": 384,
   "id": "be5cd837",
   "metadata": {},
   "outputs": [
    {
     "data": {
      "text/plain": [
       "712"
      ]
     },
     "execution_count": 384,
     "metadata": {},
     "output_type": "execute_result"
    }
   ],
   "source": [
    "len(set(TF_PPI.iloc[:,1]))"
   ]
  },
  {
   "cell_type": "code",
   "execution_count": 385,
   "id": "46a3fd90",
   "metadata": {},
   "outputs": [
    {
     "data": {
      "text/plain": [
       "712"
      ]
     },
     "execution_count": 385,
     "metadata": {},
     "output_type": "execute_result"
    }
   ],
   "source": [
    "len(set(TF_Genes_Motif.iloc[:,0]))"
   ]
  },
  {
   "cell_type": "code",
   "execution_count": 386,
   "id": "12409403",
   "metadata": {},
   "outputs": [
    {
     "data": {
      "text/plain": [
       "16957"
      ]
     },
     "execution_count": 386,
     "metadata": {},
     "output_type": "execute_result"
    }
   ],
   "source": [
    "count_matrix_mrn.shape[0]"
   ]
  },
  {
   "cell_type": "code",
   "execution_count": 387,
   "id": "43bf1560",
   "metadata": {},
   "outputs": [
    {
     "data": {
      "text/plain": [
       "16957"
      ]
     },
     "execution_count": 387,
     "metadata": {},
     "output_type": "execute_result"
    }
   ],
   "source": [
    "len(set(TF_Genes_Motif.iloc[:,1]))"
   ]
  },
  {
   "cell_type": "markdown",
   "id": "6d043a14",
   "metadata": {},
   "source": [
    "# GRN"
   ]
  },
  {
   "cell_type": "code",
   "execution_count": 2,
   "id": "44af3a24",
   "metadata": {},
   "outputs": [],
   "source": [
    "count_matrix = pd.read_csv('count_matrix_mrn.csv')"
   ]
  },
  {
   "cell_type": "code",
   "execution_count": 3,
   "id": "8d8c9b20",
   "metadata": {},
   "outputs": [
    {
     "data": {
      "text/html": [
       "<div>\n",
       "<style scoped>\n",
       "    .dataframe tbody tr th:only-of-type {\n",
       "        vertical-align: middle;\n",
       "    }\n",
       "\n",
       "    .dataframe tbody tr th {\n",
       "        vertical-align: top;\n",
       "    }\n",
       "\n",
       "    .dataframe thead th {\n",
       "        text-align: right;\n",
       "    }\n",
       "</style>\n",
       "<table border=\"1\" class=\"dataframe\">\n",
       "  <thead>\n",
       "    <tr style=\"text-align: right;\">\n",
       "      <th></th>\n",
       "      <th>symbol</th>\n",
       "      <th>01_120405</th>\n",
       "      <th>02_120405</th>\n",
       "      <th>03_120405</th>\n",
       "      <th>04_120405</th>\n",
       "      <th>05_120405</th>\n",
       "      <th>07_120410</th>\n",
       "      <th>08_120410</th>\n",
       "      <th>100_120417</th>\n",
       "      <th>101_120418</th>\n",
       "      <th>...</th>\n",
       "      <th>952_131107</th>\n",
       "      <th>954_131107</th>\n",
       "      <th>956_131107</th>\n",
       "      <th>957_131107</th>\n",
       "      <th>958_131107</th>\n",
       "      <th>96_120417</th>\n",
       "      <th>97_120417</th>\n",
       "      <th>98_120417</th>\n",
       "      <th>R24_131017</th>\n",
       "      <th>redo4_140501</th>\n",
       "    </tr>\n",
       "  </thead>\n",
       "  <tbody>\n",
       "    <tr>\n",
       "      <th>0</th>\n",
       "      <td>ENSG00000227232</td>\n",
       "      <td>1.470154e+02</td>\n",
       "      <td>133.654152</td>\n",
       "      <td>1.255552e+02</td>\n",
       "      <td>153.062447</td>\n",
       "      <td>1.101435e+02</td>\n",
       "      <td>1.496976e+02</td>\n",
       "      <td>1.420884e+02</td>\n",
       "      <td>2.270111e+02</td>\n",
       "      <td>126.751403</td>\n",
       "      <td>...</td>\n",
       "      <td>85.950823</td>\n",
       "      <td>2.192141e+02</td>\n",
       "      <td>214.472294</td>\n",
       "      <td>94.298779</td>\n",
       "      <td>310.956416</td>\n",
       "      <td>1.922371e+02</td>\n",
       "      <td>1.342038e+02</td>\n",
       "      <td>2.278462e+02</td>\n",
       "      <td>147.824783</td>\n",
       "      <td>185.285514</td>\n",
       "    </tr>\n",
       "    <tr>\n",
       "      <th>1</th>\n",
       "      <td>ENSG00000268903</td>\n",
       "      <td>8.464524e+01</td>\n",
       "      <td>126.741006</td>\n",
       "      <td>8.048411e+01</td>\n",
       "      <td>27.681506</td>\n",
       "      <td>1.081766e+02</td>\n",
       "      <td>1.034946e+02</td>\n",
       "      <td>8.329320e+01</td>\n",
       "      <td>2.168896e+01</td>\n",
       "      <td>76.423640</td>\n",
       "      <td>...</td>\n",
       "      <td>27.959906</td>\n",
       "      <td>2.681874e+01</td>\n",
       "      <td>14.242301</td>\n",
       "      <td>48.703765</td>\n",
       "      <td>36.140213</td>\n",
       "      <td>1.198898e+02</td>\n",
       "      <td>9.312102e+01</td>\n",
       "      <td>1.305785e+02</td>\n",
       "      <td>21.923167</td>\n",
       "      <td>6.329629</td>\n",
       "    </tr>\n",
       "    <tr>\n",
       "      <th>2</th>\n",
       "      <td>ENSG00000279457</td>\n",
       "      <td>4.276812e+02</td>\n",
       "      <td>417.093130</td>\n",
       "      <td>4.458820e+02</td>\n",
       "      <td>319.151484</td>\n",
       "      <td>5.959549e+02</td>\n",
       "      <td>3.030913e+02</td>\n",
       "      <td>3.903348e+02</td>\n",
       "      <td>4.308873e+02</td>\n",
       "      <td>419.398024</td>\n",
       "      <td>...</td>\n",
       "      <td>168.794989</td>\n",
       "      <td>1.655766e+02</td>\n",
       "      <td>384.542120</td>\n",
       "      <td>190.670059</td>\n",
       "      <td>356.884603</td>\n",
       "      <td>3.989437e+02</td>\n",
       "      <td>5.258599e+02</td>\n",
       "      <td>6.302413e+02</td>\n",
       "      <td>400.880767</td>\n",
       "      <td>462.062944</td>\n",
       "    </tr>\n",
       "    <tr>\n",
       "      <th>3</th>\n",
       "      <td>ENSG00000228463</td>\n",
       "      <td>4.158012e+01</td>\n",
       "      <td>43.783257</td>\n",
       "      <td>7.726475e+01</td>\n",
       "      <td>56.177175</td>\n",
       "      <td>6.687283e+01</td>\n",
       "      <td>2.402553e+01</td>\n",
       "      <td>3.756360e+01</td>\n",
       "      <td>5.205350e+01</td>\n",
       "      <td>109.043486</td>\n",
       "      <td>...</td>\n",
       "      <td>1.035552</td>\n",
       "      <td>5.480352e+01</td>\n",
       "      <td>23.457907</td>\n",
       "      <td>82.900026</td>\n",
       "      <td>63.245373</td>\n",
       "      <td>1.033533e+02</td>\n",
       "      <td>5.751593e+01</td>\n",
       "      <td>3.997302e+01</td>\n",
       "      <td>75.791520</td>\n",
       "      <td>59.843769</td>\n",
       "    </tr>\n",
       "    <tr>\n",
       "      <th>4</th>\n",
       "      <td>ENSG00000229344</td>\n",
       "      <td>5.761817e+02</td>\n",
       "      <td>176.669282</td>\n",
       "      <td>2.688169e+02</td>\n",
       "      <td>124.566778</td>\n",
       "      <td>2.222538e+02</td>\n",
       "      <td>2.698252e+02</td>\n",
       "      <td>2.433468e+02</td>\n",
       "      <td>2.139977e+02</td>\n",
       "      <td>177.079166</td>\n",
       "      <td>...</td>\n",
       "      <td>70.417541</td>\n",
       "      <td>5.363749e+02</td>\n",
       "      <td>323.384005</td>\n",
       "      <td>91.190028</td>\n",
       "      <td>267.286992</td>\n",
       "      <td>4.526874e+02</td>\n",
       "      <td>2.410191e+02</td>\n",
       "      <td>1.532299e+02</td>\n",
       "      <td>229.253688</td>\n",
       "      <td>189.313460</td>\n",
       "    </tr>\n",
       "    <tr>\n",
       "      <th>...</th>\n",
       "      <td>...</td>\n",
       "      <td>...</td>\n",
       "      <td>...</td>\n",
       "      <td>...</td>\n",
       "      <td>...</td>\n",
       "      <td>...</td>\n",
       "      <td>...</td>\n",
       "      <td>...</td>\n",
       "      <td>...</td>\n",
       "      <td>...</td>\n",
       "      <td>...</td>\n",
       "      <td>...</td>\n",
       "      <td>...</td>\n",
       "      <td>...</td>\n",
       "      <td>...</td>\n",
       "      <td>...</td>\n",
       "      <td>...</td>\n",
       "      <td>...</td>\n",
       "      <td>...</td>\n",
       "      <td>...</td>\n",
       "      <td>...</td>\n",
       "    </tr>\n",
       "    <tr>\n",
       "      <th>16952</th>\n",
       "      <td>ENSG00000198886</td>\n",
       "      <td>2.893296e+06</td>\n",
       "      <td>857044.960336</td>\n",
       "      <td>1.775539e+06</td>\n",
       "      <td>490453.600977</td>\n",
       "      <td>1.640107e+06</td>\n",
       "      <td>2.188870e+06</td>\n",
       "      <td>3.311514e+06</td>\n",
       "      <td>1.637930e+06</td>\n",
       "      <td>877492.505452</td>\n",
       "      <td>...</td>\n",
       "      <td>459854.505813</td>\n",
       "      <td>1.272548e+06</td>\n",
       "      <td>950221.172940</td>\n",
       "      <td>397661.060734</td>\n",
       "      <td>615842.028612</td>\n",
       "      <td>3.665503e+06</td>\n",
       "      <td>2.047278e+06</td>\n",
       "      <td>1.119075e+06</td>\n",
       "      <td>393986.870302</td>\n",
       "      <td>303528.169461</td>\n",
       "    </tr>\n",
       "    <tr>\n",
       "      <th>16953</th>\n",
       "      <td>ENSG00000198786</td>\n",
       "      <td>1.039378e+06</td>\n",
       "      <td>280904.157614</td>\n",
       "      <td>6.795370e+05</td>\n",
       "      <td>144523.516013</td>\n",
       "      <td>5.949499e+05</td>\n",
       "      <td>6.827354e+05</td>\n",
       "      <td>1.174882e+06</td>\n",
       "      <td>5.773471e+05</td>\n",
       "      <td>308756.165210</td>\n",
       "      <td>...</td>\n",
       "      <td>181315.849359</td>\n",
       "      <td>6.300667e+05</td>\n",
       "      <td>223967.719423</td>\n",
       "      <td>105723.439013</td>\n",
       "      <td>198273.490468</td>\n",
       "      <td>1.113311e+06</td>\n",
       "      <td>6.685158e+05</td>\n",
       "      <td>2.864160e+05</td>\n",
       "      <td>108642.446043</td>\n",
       "      <td>82603.389475</td>\n",
       "    </tr>\n",
       "    <tr>\n",
       "      <th>16954</th>\n",
       "      <td>ENSG00000198695</td>\n",
       "      <td>2.729260e+05</td>\n",
       "      <td>60520.750830</td>\n",
       "      <td>1.266852e+05</td>\n",
       "      <td>30894.189343</td>\n",
       "      <td>1.357676e+05</td>\n",
       "      <td>1.369418e+05</td>\n",
       "      <td>2.686385e+05</td>\n",
       "      <td>1.275918e+05</td>\n",
       "      <td>80759.283480</td>\n",
       "      <td>...</td>\n",
       "      <td>35392.063462</td>\n",
       "      <td>1.312206e+05</td>\n",
       "      <td>31962.236243</td>\n",
       "      <td>26375.679424</td>\n",
       "      <td>40007.968675</td>\n",
       "      <td>2.980233e+05</td>\n",
       "      <td>1.652405e+05</td>\n",
       "      <td>5.791158e+04</td>\n",
       "      <td>21774.715772</td>\n",
       "      <td>14821.114868</td>\n",
       "    </tr>\n",
       "    <tr>\n",
       "      <th>16955</th>\n",
       "      <td>ENSG00000198727</td>\n",
       "      <td>1.397546e+06</td>\n",
       "      <td>472285.381518</td>\n",
       "      <td>8.514189e+05</td>\n",
       "      <td>234222.994658</td>\n",
       "      <td>7.723084e+05</td>\n",
       "      <td>9.068548e+05</td>\n",
       "      <td>1.431908e+06</td>\n",
       "      <td>7.687117e+05</td>\n",
       "      <td>357723.214489</td>\n",
       "      <td>...</td>\n",
       "      <td>245304.683528</td>\n",
       "      <td>6.998876e+05</td>\n",
       "      <td>295893.851586</td>\n",
       "      <td>166285.016531</td>\n",
       "      <td>351866.383892</td>\n",
       "      <td>1.769935e+06</td>\n",
       "      <td>8.484174e+05</td>\n",
       "      <td>4.349518e+05</td>\n",
       "      <td>248583.031573</td>\n",
       "      <td>147099.435599</td>\n",
       "    </tr>\n",
       "    <tr>\n",
       "      <th>16956</th>\n",
       "      <td>ENSG00000210196</td>\n",
       "      <td>1.481440e+04</td>\n",
       "      <td>5610.401879</td>\n",
       "      <td>1.262635e+04</td>\n",
       "      <td>1698.341827</td>\n",
       "      <td>1.264880e+04</td>\n",
       "      <td>1.370379e+04</td>\n",
       "      <td>1.863645e+04</td>\n",
       "      <td>9.640019e+03</td>\n",
       "      <td>4469.850939</td>\n",
       "      <td>...</td>\n",
       "      <td>9464.946017</td>\n",
       "      <td>1.861804e+04</td>\n",
       "      <td>10821.635227</td>\n",
       "      <td>5247.571626</td>\n",
       "      <td>11485.811433</td>\n",
       "      <td>3.436910e+04</td>\n",
       "      <td>1.656869e+04</td>\n",
       "      <td>5.951983e+03</td>\n",
       "      <td>7299.788212</td>\n",
       "      <td>3393.256760</td>\n",
       "    </tr>\n",
       "  </tbody>\n",
       "</table>\n",
       "<p>16957 rows × 634 columns</p>\n",
       "</div>"
      ],
      "text/plain": [
       "                symbol     01_120405      02_120405     03_120405  \\\n",
       "0      ENSG00000227232  1.470154e+02     133.654152  1.255552e+02   \n",
       "1      ENSG00000268903  8.464524e+01     126.741006  8.048411e+01   \n",
       "2      ENSG00000279457  4.276812e+02     417.093130  4.458820e+02   \n",
       "3      ENSG00000228463  4.158012e+01      43.783257  7.726475e+01   \n",
       "4      ENSG00000229344  5.761817e+02     176.669282  2.688169e+02   \n",
       "...                ...           ...            ...           ...   \n",
       "16952  ENSG00000198886  2.893296e+06  857044.960336  1.775539e+06   \n",
       "16953  ENSG00000198786  1.039378e+06  280904.157614  6.795370e+05   \n",
       "16954  ENSG00000198695  2.729260e+05   60520.750830  1.266852e+05   \n",
       "16955  ENSG00000198727  1.397546e+06  472285.381518  8.514189e+05   \n",
       "16956  ENSG00000210196  1.481440e+04    5610.401879  1.262635e+04   \n",
       "\n",
       "           04_120405     05_120405     07_120410     08_120410    100_120417  \\\n",
       "0         153.062447  1.101435e+02  1.496976e+02  1.420884e+02  2.270111e+02   \n",
       "1          27.681506  1.081766e+02  1.034946e+02  8.329320e+01  2.168896e+01   \n",
       "2         319.151484  5.959549e+02  3.030913e+02  3.903348e+02  4.308873e+02   \n",
       "3          56.177175  6.687283e+01  2.402553e+01  3.756360e+01  5.205350e+01   \n",
       "4         124.566778  2.222538e+02  2.698252e+02  2.433468e+02  2.139977e+02   \n",
       "...              ...           ...           ...           ...           ...   \n",
       "16952  490453.600977  1.640107e+06  2.188870e+06  3.311514e+06  1.637930e+06   \n",
       "16953  144523.516013  5.949499e+05  6.827354e+05  1.174882e+06  5.773471e+05   \n",
       "16954   30894.189343  1.357676e+05  1.369418e+05  2.686385e+05  1.275918e+05   \n",
       "16955  234222.994658  7.723084e+05  9.068548e+05  1.431908e+06  7.687117e+05   \n",
       "16956    1698.341827  1.264880e+04  1.370379e+04  1.863645e+04  9.640019e+03   \n",
       "\n",
       "          101_120418  ...     952_131107    954_131107     956_131107  \\\n",
       "0         126.751403  ...      85.950823  2.192141e+02     214.472294   \n",
       "1          76.423640  ...      27.959906  2.681874e+01      14.242301   \n",
       "2         419.398024  ...     168.794989  1.655766e+02     384.542120   \n",
       "3         109.043486  ...       1.035552  5.480352e+01      23.457907   \n",
       "4         177.079166  ...      70.417541  5.363749e+02     323.384005   \n",
       "...              ...  ...            ...           ...            ...   \n",
       "16952  877492.505452  ...  459854.505813  1.272548e+06  950221.172940   \n",
       "16953  308756.165210  ...  181315.849359  6.300667e+05  223967.719423   \n",
       "16954   80759.283480  ...   35392.063462  1.312206e+05   31962.236243   \n",
       "16955  357723.214489  ...  245304.683528  6.998876e+05  295893.851586   \n",
       "16956    4469.850939  ...    9464.946017  1.861804e+04   10821.635227   \n",
       "\n",
       "          957_131107     958_131107     96_120417     97_120417     98_120417  \\\n",
       "0          94.298779     310.956416  1.922371e+02  1.342038e+02  2.278462e+02   \n",
       "1          48.703765      36.140213  1.198898e+02  9.312102e+01  1.305785e+02   \n",
       "2         190.670059     356.884603  3.989437e+02  5.258599e+02  6.302413e+02   \n",
       "3          82.900026      63.245373  1.033533e+02  5.751593e+01  3.997302e+01   \n",
       "4          91.190028     267.286992  4.526874e+02  2.410191e+02  1.532299e+02   \n",
       "...              ...            ...           ...           ...           ...   \n",
       "16952  397661.060734  615842.028612  3.665503e+06  2.047278e+06  1.119075e+06   \n",
       "16953  105723.439013  198273.490468  1.113311e+06  6.685158e+05  2.864160e+05   \n",
       "16954   26375.679424   40007.968675  2.980233e+05  1.652405e+05  5.791158e+04   \n",
       "16955  166285.016531  351866.383892  1.769935e+06  8.484174e+05  4.349518e+05   \n",
       "16956    5247.571626   11485.811433  3.436910e+04  1.656869e+04  5.951983e+03   \n",
       "\n",
       "          R24_131017   redo4_140501  \n",
       "0         147.824783     185.285514  \n",
       "1          21.923167       6.329629  \n",
       "2         400.880767     462.062944  \n",
       "3          75.791520      59.843769  \n",
       "4         229.253688     189.313460  \n",
       "...              ...            ...  \n",
       "16952  393986.870302  303528.169461  \n",
       "16953  108642.446043   82603.389475  \n",
       "16954   21774.715772   14821.114868  \n",
       "16955  248583.031573  147099.435599  \n",
       "16956    7299.788212    3393.256760  \n",
       "\n",
       "[16957 rows x 634 columns]"
      ]
     },
     "execution_count": 3,
     "metadata": {},
     "output_type": "execute_result"
    }
   ],
   "source": [
    "count_matrix "
   ]
  },
  {
   "cell_type": "code",
   "execution_count": 5,
   "id": "3e4d2b2a",
   "metadata": {},
   "outputs": [],
   "source": [
    "count_matrix_mrn_subset = count_matrix.iloc[:,0:200]"
   ]
  },
  {
   "cell_type": "code",
   "execution_count": 7,
   "id": "d52c6f21",
   "metadata": {},
   "outputs": [],
   "source": [
    "from netZooPy.panda.panda import Panda\n",
    "from netZooPy.lioness import Lioness\n",
    "\n"
   ]
  },
  {
   "cell_type": "code",
   "execution_count": 27,
   "id": "f74b8bcd",
   "metadata": {},
   "outputs": [],
   "source": [
    "# Run GRN_Construction.py"
   ]
  },
  {
   "cell_type": "code",
   "execution_count": 8,
   "id": "7a5a9382",
   "metadata": {},
   "outputs": [],
   "source": [
    "expression_data = 'count_matrix_mrn_subset.csv'\n",
    "motif_data     = 'TF_Genes.txt'\n",
    "ppi_data       = 'TF_PPI.csv'\n",
    "panda_output   = './output_GRNs/AD_output_panda.txt'"
   ]
  },
  {
   "cell_type": "code",
   "execution_count": null,
   "id": "7f8fe290",
   "metadata": {},
   "outputs": [
    {
     "name": "stdout",
     "output_type": "stream",
     "text": [
      "Loading motif data ...\n",
      "  Elapsed time: 0.35 sec.\n",
      "Loading expression data ...\n",
      "  Elapsed time: 0.42 sec.\n",
      "Loading PPI data ...\n",
      "Number of PPIs: 7237\n",
      "  Elapsed time: 0.01 sec.\n",
      "Calculating coexpression network ...\n",
      "  Elapsed time: 3.87 sec.\n",
      "Creating motif network ...\n",
      "  Elapsed time: 1.48 sec.\n",
      "Creating PPI network ...\n",
      "  Elapsed time: 0.09 sec.\n",
      "union TF_Genes.txt count_matrix_mrn_subset.csv TF_PPI.csv False False False\n",
      "Normalizing networks ...\n",
      "  Elapsed time: 90.08 sec.\n",
      "Saving expression matrix and normalized networks ...\n",
      "  Elapsed time: 1.99 sec.\n",
      "Running PANDA algorithm ...\n",
      "Computing panda on CPU\n",
      "step: 0, hamming: 0.5095132377834074\n",
      "step: 1, hamming: 0.18786502837610708\n",
      "step: 2, hamming: 0.15406784015098496\n",
      "step: 3, hamming: 0.14796758919985573\n",
      "step: 4, hamming: 0.14516865922440877\n",
      "step: 5, hamming: 0.1417164689787017\n",
      "step: 6, hamming: 0.1367335135436309\n",
      "step: 7, hamming: 0.13016946608219887\n",
      "step: 8, hamming: 0.1222719257380736\n",
      "step: 9, hamming: 0.11339902311171404\n",
      "step: 10, hamming: 0.10393073014567684\n",
      "step: 11, hamming: 0.0942218878854697\n",
      "step: 12, hamming: 0.08457719763937968\n",
      "step: 13, hamming: 0.07524043173051408\n",
      "step: 14, hamming: 0.06639307525670408\n",
      "step: 15, hamming: 0.0581587491035242\n",
      "step: 16, hamming: 0.050610983674776136\n",
      "step: 18, hamming: 0.037673533756653395\n",
      "step: 19, hamming: 0.03226188323790727\n",
      "step: 20, hamming: 0.027508548606821094\n",
      "step: 21, hamming: 0.02336453561312212\n",
      "step: 22, hamming: 0.01977540734628687\n",
      "step: 23, hamming: 0.016684847385741185\n",
      "step: 24, hamming: 0.01403723476143596\n",
      "step: 25, hamming: 0.011779407324215799\n",
      "step: 26, hamming: 0.00986178341520375\n",
      "step: 27, hamming: 0.008238993971892844\n",
      "step: 28, hamming: 0.006870152591390761\n",
      "step: 29, hamming: 0.005718868781759717\n",
      "step: 30, hamming: 0.0047530872532661255\n",
      "step: 31, hamming: 0.003944816737667\n",
      "step: 32, hamming: 0.003269795765443607\n",
      "step: 33, hamming: 0.0027071296599779286\n",
      "step: 34, hamming: 0.002238922750041\n",
      "step: 35, hamming: 0.001849921815484882\n",
      "step: 36, hamming: 0.001527180905735826\n",
      "step: 37, hamming: 0.0012597533250675594\n",
      "step: 38, hamming: 0.0010384134504121934\n",
      "step: 39, hamming: 0.000855408952523015\n",
      "Running panda took: 49079.09 seconds!\n"
     ]
    }
   ],
   "source": [
    "panda_obj = Panda(expression_data, motif_data, ppi_data, save_tmp=True,save_memory = False, remove_missing=False, keep_expression_matrix = False)"
   ]
  },
  {
   "cell_type": "code",
   "execution_count": 7,
   "id": "aa22d3dd",
   "metadata": {},
   "outputs": [
    {
     "name": "stdout",
     "output_type": "stream",
     "text": [
      "Saving PANDA network to ./output_GRNs/AD_output_panda.txt ...\n",
      "WARNING: panda is now saved with the column names. \n",
      "Use old_compatible=True to save the panda results as previous versions without header\n",
      "  Elapsed time: 305.27 sec.\n"
     ]
    }
   ],
   "source": [
    "panda_obj.save_panda_results(panda_output, old_compatible=False)"
   ]
  },
  {
   "cell_type": "code",
   "execution_count": null,
   "id": "5e17c5e6",
   "metadata": {},
   "outputs": [],
   "source": [
    "z = panda_obj.export_panda_results.sort_values(\n",
    "            by=[\"force\"], ascending=False\n",
    ")\n",
    "z.to_csv('./output_GRNs/AD_output_panda_df.csv', index = False)"
   ]
  },
  {
   "cell_type": "code",
   "execution_count": 16,
   "id": "1d98eede",
   "metadata": {},
   "outputs": [],
   "source": [
    "expression_data_non_ad = 'Non_AD_patient_df_mrn_dup.csv'\n",
    "motif_data     = 'TF_Genes_dup.txt'\n",
    "ppi_data       = 'TF_PPI_dup.csv'\n",
    "panda_output   = './output_GRNs/Non_AD_output_panda.txt'"
   ]
  },
  {
   "cell_type": "code",
   "execution_count": 19,
   "id": "b7e00cc0",
   "metadata": {},
   "outputs": [
    {
     "name": "stdout",
     "output_type": "stream",
     "text": [
      "Loading motif data ...\n",
      "  Elapsed time: 0.00 sec.\n",
      "Loading expression data ...\n",
      "  Elapsed time: 0.04 sec.\n",
      "Loading PPI data ...\n",
      "Number of PPIs: 2000\n",
      "  Elapsed time: 0.00 sec.\n",
      "Calculating coexpression network ...\n",
      "  Elapsed time: 0.09 sec.\n",
      "Creating motif network ...\n",
      "  Elapsed time: 0.00 sec.\n",
      "Creating PPI network ...\n",
      "  Elapsed time: 0.00 sec.\n",
      "union TF_Genes_dup.txt Non_AD_patient_df_mrn_dup.csv TF_PPI_dup.csv False False False\n",
      "Normalizing networks ...\n"
     ]
    },
    {
     "name": "stderr",
     "output_type": "stream",
     "text": [
      "/Users/anwer/miniconda/lib/python3.10/site-packages/numpy/lib/function_base.py:2854: RuntimeWarning: invalid value encountered in divide\n",
      "  c /= stddev[:, None]\n",
      "/Users/anwer/miniconda/lib/python3.10/site-packages/numpy/lib/function_base.py:2855: RuntimeWarning: invalid value encountered in divide\n",
      "  c /= stddev[None, :]\n"
     ]
    },
    {
     "name": "stdout",
     "output_type": "stream",
     "text": [
      "  Elapsed time: 0.17 sec.\n",
      "Saving expression matrix and normalized networks ...\n",
      "  Elapsed time: 0.08 sec.\n",
      "Running PANDA algorithm ...\n",
      "Computing panda on CPU\n",
      "step: 0, hamming: 0.04472478343748352\n",
      "step: 1, hamming: 0.07542091506233296\n",
      "step: 2, hamming: 0.10044329306955617\n",
      "step: 3, hamming: 0.089373959431773\n",
      "step: 4, hamming: 0.06664097912162444\n",
      "step: 5, hamming: 0.05031740991260032\n",
      "step: 6, hamming: 0.04063062722017467\n",
      "step: 7, hamming: 0.034073227117043796\n",
      "step: 8, hamming: 0.029051016899271347\n",
      "step: 9, hamming: 0.02492388621568836\n",
      "step: 10, hamming: 0.021413853607940386\n",
      "step: 11, hamming: 0.018376129789102753\n",
      "step: 12, hamming: 0.015730697585396088\n",
      "step: 13, hamming: 0.01342616722040614\n",
      "step: 14, hamming: 0.011423395992437869\n",
      "step: 15, hamming: 0.009689275123496878\n",
      "step: 16, hamming: 0.008193981163081043\n",
      "step: 17, hamming: 0.006910135458369864\n",
      "step: 18, hamming: 0.005812407752975516\n",
      "step: 19, hamming: 0.004877470305857148\n",
      "step: 20, hamming: 0.004084004033415501\n",
      "step: 21, hamming: 0.0034128052055892744\n",
      "step: 22, hamming: 0.002846725460313172\n",
      "step: 23, hamming: 0.0023705949455137786\n",
      "step: 24, hamming: 0.0019711057807883336\n",
      "step: 25, hamming: 0.0016366694211510406\n",
      "step: 26, hamming: 0.001357260002329758\n",
      "step: 27, hamming: 0.0011242532044808253\n",
      "step: 28, hamming: 0.0009302677415247615\n",
      "Running panda took: 8.29 seconds!\n"
     ]
    }
   ],
   "source": [
    "panda_obj_non_ad = Panda(expression_data_non_ad, motif_data, ppi_data, save_tmp=True,save_memory = False, remove_missing=False, keep_expression_matrix = False)"
   ]
  },
  {
   "cell_type": "code",
   "execution_count": 20,
   "id": "4a85a03f",
   "metadata": {},
   "outputs": [
    {
     "name": "stdout",
     "output_type": "stream",
     "text": [
      "Saving PANDA network to ./output_GRNs/Non_AD_output_panda.txt ...\n",
      "WARNING: saving without header will soon become obsolete. \n",
      "                    Use old_compatible=False to save the panda results with correct column naming\n",
      "  Elapsed time: 3.09 sec.\n"
     ]
    }
   ],
   "source": [
    "panda_obj_non_ad.save_panda_results(panda_output)"
   ]
  },
  {
   "cell_type": "code",
   "execution_count": null,
   "id": "4e471f4c",
   "metadata": {},
   "outputs": [],
   "source": [
    "z = panda_obj_non_ad.export_panda_results.sort_values(\n",
    "            by=[\"force\"], ascending=False\n",
    ")\n",
    "z.to_csv('./output_GRNs/Non_AD_output_panda_df.csv', index = False)"
   ]
  },
  {
   "cell_type": "code",
   "execution_count": 11,
   "id": "dc7851e7",
   "metadata": {},
   "outputs": [],
   "source": [
    "import pandas as pd\n",
    "Non_AD_patient_df_mrn = pd.read_csv('Non_AD_patient_df_mrn.csv')\n",
    "TF_Genes_Motif = pd.read_csv('TF_Genes.txt',sep = '\\t')\n",
    "TF_PPI = pd.read_csv('TF_PPI.csv')"
   ]
  },
  {
   "cell_type": "code",
   "execution_count": 12,
   "id": "92a7f38b",
   "metadata": {},
   "outputs": [],
   "source": [
    "Non_AD_patient_df_mrn = Non_AD_patient_df_mrn.iloc[0:2000]"
   ]
  }
 ],
 "metadata": {
  "kernelspec": {
   "display_name": "Python 3 (ipykernel)",
   "language": "python",
   "name": "python3"
  },
  "language_info": {
   "codemirror_mode": {
    "name": "ipython",
    "version": 3
   },
   "file_extension": ".py",
   "mimetype": "text/x-python",
   "name": "python",
   "nbconvert_exporter": "python",
   "pygments_lexer": "ipython3",
   "version": "3.11.5"
  }
 },
 "nbformat": 4,
 "nbformat_minor": 5
}
