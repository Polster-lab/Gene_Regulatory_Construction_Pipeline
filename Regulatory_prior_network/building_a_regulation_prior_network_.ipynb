{
 "cells": [
  {
   "cell_type": "code",
   "execution_count": 1,
   "id": "84039124",
   "metadata": {},
   "outputs": [],
   "source": [
    "from tqdm import tqdm\n",
    "import matplotlib.pyplot as plt # For plotting\n",
    "import numpy as np  \n",
    "import os\n",
    "from Bio import SeqIO         # To run Biopython\n",
    "import pandas as pd           # To read input data\n",
    "import multiprocessing        # To run FIMO in parallel\n",
    "from functools import partial # For parallel computing"
   ]
  },
  {
   "cell_type": "code",
   "execution_count": 2,
   "id": "2748b907",
   "metadata": {},
   "outputs": [],
   "source": [
    "runserver = 0\n",
    "\n",
    "if runserver==1:\n",
    "    ppath='/opt/data/netZooPy/regPrior/'\n",
    "elif runserver==0:\n",
    "    ppath=''"
   ]
  },
  {
   "cell_type": "code",
   "execution_count": 3,
   "id": "2c12e452",
   "metadata": {},
   "outputs": [],
   "source": [
    "iterlimit= -1"
   ]
  },
  {
   "cell_type": "code",
   "execution_count": 4,
   "id": "0afcddaf",
   "metadata": {},
   "outputs": [
    {
     "data": {
      "text/plain": [
       "'/Users/anwer/Desktop/Gene_Regulatory_Network_ROSMAP/code'"
      ]
     },
     "execution_count": 4,
     "metadata": {},
     "output_type": "execute_result"
    }
   ],
   "source": [
    "precomputed = 0\n",
    "pathos=os.getcwd()\n",
    "pathos"
   ]
  },
  {
   "cell_type": "code",
   "execution_count": 19,
   "id": "7eeaa219",
   "metadata": {},
   "outputs": [],
   "source": [
    "def reduceSequence(sequence):\n",
    "    seq=sequence[:2000]#since start is tss-1000, then we take the 2000bp upstream \n",
    "    return seq"
   ]
  },
  {
   "cell_type": "code",
   "execution_count": 7,
   "id": "bf337459",
   "metadata": {},
   "outputs": [],
   "source": [
    "geneCorr = pd.read_csv('./Regulatory_Prior_Network_Data/hg38_Tss_coordinates.csv',sep='\\t')"
   ]
  },
  {
   "cell_type": "code",
   "execution_count": 8,
   "id": "48d01562",
   "metadata": {},
   "outputs": [
    {
     "data": {
      "text/html": [
       "<div>\n",
       "<style scoped>\n",
       "    .dataframe tbody tr th:only-of-type {\n",
       "        vertical-align: middle;\n",
       "    }\n",
       "\n",
       "    .dataframe tbody tr th {\n",
       "        vertical-align: top;\n",
       "    }\n",
       "\n",
       "    .dataframe thead th {\n",
       "        text-align: right;\n",
       "    }\n",
       "</style>\n",
       "<table border=\"1\" class=\"dataframe\">\n",
       "  <thead>\n",
       "    <tr style=\"text-align: right;\">\n",
       "      <th></th>\n",
       "      <th>#bin</th>\n",
       "      <th>name</th>\n",
       "      <th>chrom</th>\n",
       "      <th>strand</th>\n",
       "      <th>txStart</th>\n",
       "      <th>txEnd</th>\n",
       "      <th>cdsStart</th>\n",
       "      <th>cdsEnd</th>\n",
       "      <th>exonCount</th>\n",
       "      <th>exonStarts</th>\n",
       "      <th>exonEnds</th>\n",
       "      <th>score</th>\n",
       "      <th>name2</th>\n",
       "      <th>cdsStartStat</th>\n",
       "      <th>cdsEndStat</th>\n",
       "      <th>exonFrames</th>\n",
       "    </tr>\n",
       "  </thead>\n",
       "  <tbody>\n",
       "    <tr>\n",
       "      <th>0</th>\n",
       "      <td>0</td>\n",
       "      <td>XM_011541469.1</td>\n",
       "      <td>chr1</td>\n",
       "      <td>-</td>\n",
       "      <td>67092175</td>\n",
       "      <td>67109072</td>\n",
       "      <td>67093004</td>\n",
       "      <td>67103382</td>\n",
       "      <td>5</td>\n",
       "      <td>67092175,67095234,67096251,67103237,67109028,</td>\n",
       "      <td>67093604,67095421,67096321,67103382,67109072,</td>\n",
       "      <td>0</td>\n",
       "      <td>C1orf141</td>\n",
       "      <td>cmpl</td>\n",
       "      <td>cmpl</td>\n",
       "      <td>0,2,1,0,-1,</td>\n",
       "    </tr>\n",
       "    <tr>\n",
       "      <th>1</th>\n",
       "      <td>0</td>\n",
       "      <td>XM_011541467.1</td>\n",
       "      <td>chr1</td>\n",
       "      <td>-</td>\n",
       "      <td>67092175</td>\n",
       "      <td>67131183</td>\n",
       "      <td>67093004</td>\n",
       "      <td>67127240</td>\n",
       "      <td>9</td>\n",
       "      <td>67092175,67095234,67096251,67103237,67111576,6...</td>\n",
       "      <td>67093604,67095421,67096321,67103343,67111644,6...</td>\n",
       "      <td>0</td>\n",
       "      <td>C1orf141</td>\n",
       "      <td>cmpl</td>\n",
       "      <td>cmpl</td>\n",
       "      <td>0,2,1,0,1,2,0,0,-1,</td>\n",
       "    </tr>\n",
       "    <tr>\n",
       "      <th>2</th>\n",
       "      <td>0</td>\n",
       "      <td>XM_017001276.1</td>\n",
       "      <td>chr1</td>\n",
       "      <td>-</td>\n",
       "      <td>67092175</td>\n",
       "      <td>67131227</td>\n",
       "      <td>67093004</td>\n",
       "      <td>67127240</td>\n",
       "      <td>9</td>\n",
       "      <td>67092175,67095234,67096251,67103237,67111576,6...</td>\n",
       "      <td>67093604,67095421,67096321,67103382,67111644,6...</td>\n",
       "      <td>0</td>\n",
       "      <td>C1orf141</td>\n",
       "      <td>cmpl</td>\n",
       "      <td>cmpl</td>\n",
       "      <td>0,2,1,0,1,2,0,0,-1,</td>\n",
       "    </tr>\n",
       "    <tr>\n",
       "      <th>3</th>\n",
       "      <td>0</td>\n",
       "      <td>XM_011541465.2</td>\n",
       "      <td>chr1</td>\n",
       "      <td>-</td>\n",
       "      <td>67092175</td>\n",
       "      <td>67134962</td>\n",
       "      <td>67093004</td>\n",
       "      <td>67127240</td>\n",
       "      <td>9</td>\n",
       "      <td>67092175,67095234,67096251,67103237,67111576,6...</td>\n",
       "      <td>67093604,67095421,67096321,67103382,67111644,6...</td>\n",
       "      <td>0</td>\n",
       "      <td>C1orf141</td>\n",
       "      <td>cmpl</td>\n",
       "      <td>cmpl</td>\n",
       "      <td>0,2,1,0,1,2,0,0,-1,</td>\n",
       "    </tr>\n",
       "    <tr>\n",
       "      <th>4</th>\n",
       "      <td>0</td>\n",
       "      <td>NR_075077.1</td>\n",
       "      <td>chr1</td>\n",
       "      <td>-</td>\n",
       "      <td>67092175</td>\n",
       "      <td>67134971</td>\n",
       "      <td>67134971</td>\n",
       "      <td>67134971</td>\n",
       "      <td>10</td>\n",
       "      <td>67092175,67096251,67103237,67111576,67113613,6...</td>\n",
       "      <td>67093604,67096321,67103382,67111644,67113756,6...</td>\n",
       "      <td>0</td>\n",
       "      <td>C1orf141</td>\n",
       "      <td>none</td>\n",
       "      <td>none</td>\n",
       "      <td>-1,-1,-1,-1,-1,-1,-1,-1,-1,-1,</td>\n",
       "    </tr>\n",
       "  </tbody>\n",
       "</table>\n",
       "</div>"
      ],
      "text/plain": [
       "   #bin            name chrom strand   txStart     txEnd  cdsStart    cdsEnd  \\\n",
       "0     0  XM_011541469.1  chr1      -  67092175  67109072  67093004  67103382   \n",
       "1     0  XM_011541467.1  chr1      -  67092175  67131183  67093004  67127240   \n",
       "2     0  XM_017001276.1  chr1      -  67092175  67131227  67093004  67127240   \n",
       "3     0  XM_011541465.2  chr1      -  67092175  67134962  67093004  67127240   \n",
       "4     0     NR_075077.1  chr1      -  67092175  67134971  67134971  67134971   \n",
       "\n",
       "   exonCount                                         exonStarts  \\\n",
       "0          5      67092175,67095234,67096251,67103237,67109028,   \n",
       "1          9  67092175,67095234,67096251,67103237,67111576,6...   \n",
       "2          9  67092175,67095234,67096251,67103237,67111576,6...   \n",
       "3          9  67092175,67095234,67096251,67103237,67111576,6...   \n",
       "4         10  67092175,67096251,67103237,67111576,67113613,6...   \n",
       "\n",
       "                                            exonEnds  score     name2  \\\n",
       "0      67093604,67095421,67096321,67103382,67109072,      0  C1orf141   \n",
       "1  67093604,67095421,67096321,67103343,67111644,6...      0  C1orf141   \n",
       "2  67093604,67095421,67096321,67103382,67111644,6...      0  C1orf141   \n",
       "3  67093604,67095421,67096321,67103382,67111644,6...      0  C1orf141   \n",
       "4  67093604,67096321,67103382,67111644,67113756,6...      0  C1orf141   \n",
       "\n",
       "  cdsStartStat cdsEndStat                      exonFrames  \n",
       "0         cmpl       cmpl                     0,2,1,0,-1,  \n",
       "1         cmpl       cmpl             0,2,1,0,1,2,0,0,-1,  \n",
       "2         cmpl       cmpl             0,2,1,0,1,2,0,0,-1,  \n",
       "3         cmpl       cmpl             0,2,1,0,1,2,0,0,-1,  \n",
       "4         none       none  -1,-1,-1,-1,-1,-1,-1,-1,-1,-1,  "
      ]
     },
     "execution_count": 8,
     "metadata": {},
     "output_type": "execute_result"
    }
   ],
   "source": [
    "geneCorr.head()"
   ]
  },
  {
   "cell_type": "code",
   "execution_count": 159,
   "id": "2aca7421",
   "metadata": {},
   "outputs": [
    {
     "data": {
      "text/html": [
       "<div>\n",
       "<style scoped>\n",
       "    .dataframe tbody tr th:only-of-type {\n",
       "        vertical-align: middle;\n",
       "    }\n",
       "\n",
       "    .dataframe tbody tr th {\n",
       "        vertical-align: top;\n",
       "    }\n",
       "\n",
       "    .dataframe thead th {\n",
       "        text-align: right;\n",
       "    }\n",
       "</style>\n",
       "<table border=\"1\" class=\"dataframe\">\n",
       "  <thead>\n",
       "    <tr style=\"text-align: right;\">\n",
       "      <th></th>\n",
       "      <th>#bin</th>\n",
       "      <th>name</th>\n",
       "      <th>chrom</th>\n",
       "      <th>strand</th>\n",
       "      <th>txStart</th>\n",
       "      <th>txEnd</th>\n",
       "      <th>cdsStart</th>\n",
       "      <th>cdsEnd</th>\n",
       "      <th>exonCount</th>\n",
       "      <th>exonStarts</th>\n",
       "      <th>exonEnds</th>\n",
       "      <th>score</th>\n",
       "      <th>name2</th>\n",
       "      <th>cdsStartStat</th>\n",
       "      <th>cdsEndStat</th>\n",
       "      <th>exonFrames</th>\n",
       "    </tr>\n",
       "  </thead>\n",
       "  <tbody>\n",
       "    <tr>\n",
       "      <th>0</th>\n",
       "      <td>0</td>\n",
       "      <td>XM_011541469.1</td>\n",
       "      <td>chr1</td>\n",
       "      <td>-</td>\n",
       "      <td>67092175</td>\n",
       "      <td>67109072</td>\n",
       "      <td>67093004</td>\n",
       "      <td>67103382</td>\n",
       "      <td>5</td>\n",
       "      <td>67092175,67095234,67096251,67103237,67109028,</td>\n",
       "      <td>67093604,67095421,67096321,67103382,67109072,</td>\n",
       "      <td>0</td>\n",
       "      <td>C1orf141</td>\n",
       "      <td>cmpl</td>\n",
       "      <td>cmpl</td>\n",
       "      <td>0,2,1,0,-1,</td>\n",
       "    </tr>\n",
       "    <tr>\n",
       "      <th>1</th>\n",
       "      <td>0</td>\n",
       "      <td>XM_011541467.1</td>\n",
       "      <td>chr1</td>\n",
       "      <td>-</td>\n",
       "      <td>67092175</td>\n",
       "      <td>67131183</td>\n",
       "      <td>67093004</td>\n",
       "      <td>67127240</td>\n",
       "      <td>9</td>\n",
       "      <td>67092175,67095234,67096251,67103237,67111576,6...</td>\n",
       "      <td>67093604,67095421,67096321,67103343,67111644,6...</td>\n",
       "      <td>0</td>\n",
       "      <td>C1orf141</td>\n",
       "      <td>cmpl</td>\n",
       "      <td>cmpl</td>\n",
       "      <td>0,2,1,0,1,2,0,0,-1,</td>\n",
       "    </tr>\n",
       "    <tr>\n",
       "      <th>2</th>\n",
       "      <td>0</td>\n",
       "      <td>XM_017001276.1</td>\n",
       "      <td>chr1</td>\n",
       "      <td>-</td>\n",
       "      <td>67092175</td>\n",
       "      <td>67131227</td>\n",
       "      <td>67093004</td>\n",
       "      <td>67127240</td>\n",
       "      <td>9</td>\n",
       "      <td>67092175,67095234,67096251,67103237,67111576,6...</td>\n",
       "      <td>67093604,67095421,67096321,67103382,67111644,6...</td>\n",
       "      <td>0</td>\n",
       "      <td>C1orf141</td>\n",
       "      <td>cmpl</td>\n",
       "      <td>cmpl</td>\n",
       "      <td>0,2,1,0,1,2,0,0,-1,</td>\n",
       "    </tr>\n",
       "    <tr>\n",
       "      <th>3</th>\n",
       "      <td>0</td>\n",
       "      <td>XM_011541465.2</td>\n",
       "      <td>chr1</td>\n",
       "      <td>-</td>\n",
       "      <td>67092175</td>\n",
       "      <td>67134962</td>\n",
       "      <td>67093004</td>\n",
       "      <td>67127240</td>\n",
       "      <td>9</td>\n",
       "      <td>67092175,67095234,67096251,67103237,67111576,6...</td>\n",
       "      <td>67093604,67095421,67096321,67103382,67111644,6...</td>\n",
       "      <td>0</td>\n",
       "      <td>C1orf141</td>\n",
       "      <td>cmpl</td>\n",
       "      <td>cmpl</td>\n",
       "      <td>0,2,1,0,1,2,0,0,-1,</td>\n",
       "    </tr>\n",
       "    <tr>\n",
       "      <th>4</th>\n",
       "      <td>0</td>\n",
       "      <td>NR_075077.1</td>\n",
       "      <td>chr1</td>\n",
       "      <td>-</td>\n",
       "      <td>67092175</td>\n",
       "      <td>67134971</td>\n",
       "      <td>67134971</td>\n",
       "      <td>67134971</td>\n",
       "      <td>10</td>\n",
       "      <td>67092175,67096251,67103237,67111576,67113613,6...</td>\n",
       "      <td>67093604,67096321,67103382,67111644,67113756,6...</td>\n",
       "      <td>0</td>\n",
       "      <td>C1orf141</td>\n",
       "      <td>none</td>\n",
       "      <td>none</td>\n",
       "      <td>-1,-1,-1,-1,-1,-1,-1,-1,-1,-1,</td>\n",
       "    </tr>\n",
       "    <tr>\n",
       "      <th>...</th>\n",
       "      <td>...</td>\n",
       "      <td>...</td>\n",
       "      <td>...</td>\n",
       "      <td>...</td>\n",
       "      <td>...</td>\n",
       "      <td>...</td>\n",
       "      <td>...</td>\n",
       "      <td>...</td>\n",
       "      <td>...</td>\n",
       "      <td>...</td>\n",
       "      <td>...</td>\n",
       "      <td>...</td>\n",
       "      <td>...</td>\n",
       "      <td>...</td>\n",
       "      <td>...</td>\n",
       "      <td>...</td>\n",
       "    </tr>\n",
       "    <tr>\n",
       "      <th>167464</th>\n",
       "      <td>586</td>\n",
       "      <td>XM_017030167.1</td>\n",
       "      <td>chr22_KI270734v1_random</td>\n",
       "      <td>-</td>\n",
       "      <td>138085</td>\n",
       "      <td>153840</td>\n",
       "      <td>138479</td>\n",
       "      <td>152899</td>\n",
       "      <td>13</td>\n",
       "      <td>138085,138742,142193,143613,144748,145003,1466...</td>\n",
       "      <td>138667,138831,142292,143789,144895,145096,1467...</td>\n",
       "      <td>0</td>\n",
       "      <td>LOC102724788</td>\n",
       "      <td>cmpl</td>\n",
       "      <td>cmpl</td>\n",
       "      <td>1,2,2,0,0,0,2,0,0,0,1,1,0,</td>\n",
       "    </tr>\n",
       "    <tr>\n",
       "      <th>167465</th>\n",
       "      <td>586</td>\n",
       "      <td>XR_951398.2</td>\n",
       "      <td>chr22_KI270734v1_random</td>\n",
       "      <td>-</td>\n",
       "      <td>138085</td>\n",
       "      <td>161588</td>\n",
       "      <td>161588</td>\n",
       "      <td>161588</td>\n",
       "      <td>14</td>\n",
       "      <td>138085,138742,142193,143613,144748,145003,1466...</td>\n",
       "      <td>138667,138831,142292,143789,144929,145096,1467...</td>\n",
       "      <td>0</td>\n",
       "      <td>LOC102724788</td>\n",
       "      <td>none</td>\n",
       "      <td>none</td>\n",
       "      <td>-1,-1,-1,-1,-1,-1,-1,-1,-1,-1,-1,-1,-1,-1,</td>\n",
       "    </tr>\n",
       "    <tr>\n",
       "      <th>167466</th>\n",
       "      <td>586</td>\n",
       "      <td>XM_017030168.1</td>\n",
       "      <td>chr22_KI270734v1_random</td>\n",
       "      <td>-</td>\n",
       "      <td>138085</td>\n",
       "      <td>161592</td>\n",
       "      <td>138479</td>\n",
       "      <td>156446</td>\n",
       "      <td>14</td>\n",
       "      <td>138085,138742,142193,143613,144748,145003,1466...</td>\n",
       "      <td>138667,138831,142292,143789,144895,145096,1467...</td>\n",
       "      <td>0</td>\n",
       "      <td>LOC102724788</td>\n",
       "      <td>cmpl</td>\n",
       "      <td>cmpl</td>\n",
       "      <td>1,2,2,0,0,0,2,0,0,1,1,2,0,-1,</td>\n",
       "    </tr>\n",
       "    <tr>\n",
       "      <th>167467</th>\n",
       "      <td>586</td>\n",
       "      <td>XM_006724936.3</td>\n",
       "      <td>chr22_KI270734v1_random</td>\n",
       "      <td>-</td>\n",
       "      <td>138085</td>\n",
       "      <td>161594</td>\n",
       "      <td>138479</td>\n",
       "      <td>150995</td>\n",
       "      <td>13</td>\n",
       "      <td>138085,138742,142193,143613,144748,145003,1466...</td>\n",
       "      <td>138667,138831,142292,143789,144895,145096,1467...</td>\n",
       "      <td>0</td>\n",
       "      <td>LOC102724788</td>\n",
       "      <td>cmpl</td>\n",
       "      <td>cmpl</td>\n",
       "      <td>1,2,2,0,0,0,2,0,0,0,0,-1,-1,</td>\n",
       "    </tr>\n",
       "    <tr>\n",
       "      <th>167468</th>\n",
       "      <td>586</td>\n",
       "      <td>XM_006724935.4</td>\n",
       "      <td>chr22_KI270734v1_random</td>\n",
       "      <td>-</td>\n",
       "      <td>138085</td>\n",
       "      <td>161620</td>\n",
       "      <td>138479</td>\n",
       "      <td>161586</td>\n",
       "      <td>14</td>\n",
       "      <td>138085,138742,142193,143613,144748,145003,1466...</td>\n",
       "      <td>138667,138831,142292,143789,144895,145096,1467...</td>\n",
       "      <td>0</td>\n",
       "      <td>LOC102724788</td>\n",
       "      <td>cmpl</td>\n",
       "      <td>cmpl</td>\n",
       "      <td>1,2,2,0,0,0,2,0,0,1,1,2,0,0,</td>\n",
       "    </tr>\n",
       "  </tbody>\n",
       "</table>\n",
       "<p>167469 rows × 16 columns</p>\n",
       "</div>"
      ],
      "text/plain": [
       "        #bin            name                    chrom strand   txStart  \\\n",
       "0          0  XM_011541469.1                     chr1      -  67092175   \n",
       "1          0  XM_011541467.1                     chr1      -  67092175   \n",
       "2          0  XM_017001276.1                     chr1      -  67092175   \n",
       "3          0  XM_011541465.2                     chr1      -  67092175   \n",
       "4          0     NR_075077.1                     chr1      -  67092175   \n",
       "...      ...             ...                      ...    ...       ...   \n",
       "167464   586  XM_017030167.1  chr22_KI270734v1_random      -    138085   \n",
       "167465   586     XR_951398.2  chr22_KI270734v1_random      -    138085   \n",
       "167466   586  XM_017030168.1  chr22_KI270734v1_random      -    138085   \n",
       "167467   586  XM_006724936.3  chr22_KI270734v1_random      -    138085   \n",
       "167468   586  XM_006724935.4  chr22_KI270734v1_random      -    138085   \n",
       "\n",
       "           txEnd  cdsStart    cdsEnd  exonCount  \\\n",
       "0       67109072  67093004  67103382          5   \n",
       "1       67131183  67093004  67127240          9   \n",
       "2       67131227  67093004  67127240          9   \n",
       "3       67134962  67093004  67127240          9   \n",
       "4       67134971  67134971  67134971         10   \n",
       "...          ...       ...       ...        ...   \n",
       "167464    153840    138479    152899         13   \n",
       "167465    161588    161588    161588         14   \n",
       "167466    161592    138479    156446         14   \n",
       "167467    161594    138479    150995         13   \n",
       "167468    161620    138479    161586         14   \n",
       "\n",
       "                                               exonStarts  \\\n",
       "0           67092175,67095234,67096251,67103237,67109028,   \n",
       "1       67092175,67095234,67096251,67103237,67111576,6...   \n",
       "2       67092175,67095234,67096251,67103237,67111576,6...   \n",
       "3       67092175,67095234,67096251,67103237,67111576,6...   \n",
       "4       67092175,67096251,67103237,67111576,67113613,6...   \n",
       "...                                                   ...   \n",
       "167464  138085,138742,142193,143613,144748,145003,1466...   \n",
       "167465  138085,138742,142193,143613,144748,145003,1466...   \n",
       "167466  138085,138742,142193,143613,144748,145003,1466...   \n",
       "167467  138085,138742,142193,143613,144748,145003,1466...   \n",
       "167468  138085,138742,142193,143613,144748,145003,1466...   \n",
       "\n",
       "                                                 exonEnds  score  \\\n",
       "0           67093604,67095421,67096321,67103382,67109072,      0   \n",
       "1       67093604,67095421,67096321,67103343,67111644,6...      0   \n",
       "2       67093604,67095421,67096321,67103382,67111644,6...      0   \n",
       "3       67093604,67095421,67096321,67103382,67111644,6...      0   \n",
       "4       67093604,67096321,67103382,67111644,67113756,6...      0   \n",
       "...                                                   ...    ...   \n",
       "167464  138667,138831,142292,143789,144895,145096,1467...      0   \n",
       "167465  138667,138831,142292,143789,144929,145096,1467...      0   \n",
       "167466  138667,138831,142292,143789,144895,145096,1467...      0   \n",
       "167467  138667,138831,142292,143789,144895,145096,1467...      0   \n",
       "167468  138667,138831,142292,143789,144895,145096,1467...      0   \n",
       "\n",
       "               name2 cdsStartStat cdsEndStat  \\\n",
       "0           C1orf141         cmpl       cmpl   \n",
       "1           C1orf141         cmpl       cmpl   \n",
       "2           C1orf141         cmpl       cmpl   \n",
       "3           C1orf141         cmpl       cmpl   \n",
       "4           C1orf141         none       none   \n",
       "...              ...          ...        ...   \n",
       "167464  LOC102724788         cmpl       cmpl   \n",
       "167465  LOC102724788         none       none   \n",
       "167466  LOC102724788         cmpl       cmpl   \n",
       "167467  LOC102724788         cmpl       cmpl   \n",
       "167468  LOC102724788         cmpl       cmpl   \n",
       "\n",
       "                                        exonFrames  \n",
       "0                                      0,2,1,0,-1,  \n",
       "1                              0,2,1,0,1,2,0,0,-1,  \n",
       "2                              0,2,1,0,1,2,0,0,-1,  \n",
       "3                              0,2,1,0,1,2,0,0,-1,  \n",
       "4                   -1,-1,-1,-1,-1,-1,-1,-1,-1,-1,  \n",
       "...                                            ...  \n",
       "167464                  1,2,2,0,0,0,2,0,0,0,1,1,0,  \n",
       "167465  -1,-1,-1,-1,-1,-1,-1,-1,-1,-1,-1,-1,-1,-1,  \n",
       "167466               1,2,2,0,0,0,2,0,0,1,1,2,0,-1,  \n",
       "167467                1,2,2,0,0,0,2,0,0,0,0,-1,-1,  \n",
       "167468                1,2,2,0,0,0,2,0,0,1,1,2,0,0,  \n",
       "\n",
       "[167469 rows x 16 columns]"
      ]
     },
     "execution_count": 159,
     "metadata": {},
     "output_type": "execute_result"
    }
   ],
   "source": [
    "geneCorr"
   ]
  },
  {
   "cell_type": "code",
   "execution_count": 180,
   "id": "9c0b9a59",
   "metadata": {},
   "outputs": [
    {
     "data": {
      "text/html": [
       "<div>\n",
       "<style scoped>\n",
       "    .dataframe tbody tr th:only-of-type {\n",
       "        vertical-align: middle;\n",
       "    }\n",
       "\n",
       "    .dataframe tbody tr th {\n",
       "        vertical-align: top;\n",
       "    }\n",
       "\n",
       "    .dataframe thead th {\n",
       "        text-align: right;\n",
       "    }\n",
       "</style>\n",
       "<table border=\"1\" class=\"dataframe\">\n",
       "  <thead>\n",
       "    <tr style=\"text-align: right;\">\n",
       "      <th></th>\n",
       "      <th>#bin</th>\n",
       "      <th>name</th>\n",
       "      <th>chrom</th>\n",
       "      <th>strand</th>\n",
       "      <th>txStart</th>\n",
       "      <th>txEnd</th>\n",
       "      <th>cdsStart</th>\n",
       "      <th>cdsEnd</th>\n",
       "      <th>exonCount</th>\n",
       "      <th>exonStarts</th>\n",
       "      <th>exonEnds</th>\n",
       "      <th>score</th>\n",
       "      <th>name2</th>\n",
       "      <th>cdsStartStat</th>\n",
       "      <th>cdsEndStat</th>\n",
       "      <th>exonFrames</th>\n",
       "    </tr>\n",
       "  </thead>\n",
       "  <tbody>\n",
       "    <tr>\n",
       "      <th>907</th>\n",
       "      <td>36</td>\n",
       "      <td>NR_028400.1</td>\n",
       "      <td>chr1</td>\n",
       "      <td>+</td>\n",
       "      <td>231528652</td>\n",
       "      <td>231750619</td>\n",
       "      <td>231750619</td>\n",
       "      <td>231750619</td>\n",
       "      <td>8</td>\n",
       "      <td>231528652,231529254,231537212,231542480,231616...</td>\n",
       "      <td>231528826,231529359,231537327,231542611,231616...</td>\n",
       "      <td>0</td>\n",
       "      <td>TSNAX-DISC1</td>\n",
       "      <td>none</td>\n",
       "      <td>none</td>\n",
       "      <td>-1,-1,-1,-1,-1,-1,-1,-1,</td>\n",
       "    </tr>\n",
       "    <tr>\n",
       "      <th>908</th>\n",
       "      <td>36</td>\n",
       "      <td>NR_028398.1</td>\n",
       "      <td>chr1</td>\n",
       "      <td>+</td>\n",
       "      <td>231528652</td>\n",
       "      <td>231819244</td>\n",
       "      <td>231819244</td>\n",
       "      <td>231819244</td>\n",
       "      <td>11</td>\n",
       "      <td>231528652,231529254,231561127,231693825,231701...</td>\n",
       "      <td>231528826,231529359,231561255,231694805,231702...</td>\n",
       "      <td>0</td>\n",
       "      <td>TSNAX-DISC1</td>\n",
       "      <td>none</td>\n",
       "      <td>none</td>\n",
       "      <td>-1,-1,-1,-1,-1,-1,-1,-1,-1,-1,-1,</td>\n",
       "    </tr>\n",
       "    <tr>\n",
       "      <th>909</th>\n",
       "      <td>36</td>\n",
       "      <td>NR_028396.1</td>\n",
       "      <td>chr1</td>\n",
       "      <td>+</td>\n",
       "      <td>231528652</td>\n",
       "      <td>231819244</td>\n",
       "      <td>231819244</td>\n",
       "      <td>231819244</td>\n",
       "      <td>13</td>\n",
       "      <td>231528652,231529254,231537212,231542480,231616...</td>\n",
       "      <td>231528826,231529359,231537327,231542611,231616...</td>\n",
       "      <td>0</td>\n",
       "      <td>TSNAX-DISC1</td>\n",
       "      <td>none</td>\n",
       "      <td>none</td>\n",
       "      <td>-1,-1,-1,-1,-1,-1,-1,-1,-1,-1,-1,-1,-1,</td>\n",
       "    </tr>\n",
       "    <tr>\n",
       "      <th>910</th>\n",
       "      <td>36</td>\n",
       "      <td>NR_028397.1</td>\n",
       "      <td>chr1</td>\n",
       "      <td>+</td>\n",
       "      <td>231528652</td>\n",
       "      <td>231819244</td>\n",
       "      <td>231819244</td>\n",
       "      <td>231819244</td>\n",
       "      <td>13</td>\n",
       "      <td>231528652,231529254,231537212,231542480,231561...</td>\n",
       "      <td>231528826,231529359,231537327,231542611,231561...</td>\n",
       "      <td>0</td>\n",
       "      <td>TSNAX-DISC1</td>\n",
       "      <td>none</td>\n",
       "      <td>none</td>\n",
       "      <td>-1,-1,-1,-1,-1,-1,-1,-1,-1,-1,-1,-1,-1,</td>\n",
       "    </tr>\n",
       "    <tr>\n",
       "      <th>911</th>\n",
       "      <td>36</td>\n",
       "      <td>NR_028395.1</td>\n",
       "      <td>chr1</td>\n",
       "      <td>+</td>\n",
       "      <td>231528652</td>\n",
       "      <td>231819244</td>\n",
       "      <td>231819244</td>\n",
       "      <td>231819244</td>\n",
       "      <td>13</td>\n",
       "      <td>231528652,231529254,231537212,231542480,231561...</td>\n",
       "      <td>231528826,231529359,231537327,231542611,231561...</td>\n",
       "      <td>0</td>\n",
       "      <td>TSNAX-DISC1</td>\n",
       "      <td>none</td>\n",
       "      <td>none</td>\n",
       "      <td>-1,-1,-1,-1,-1,-1,-1,-1,-1,-1,-1,-1,-1,</td>\n",
       "    </tr>\n",
       "    <tr>\n",
       "      <th>912</th>\n",
       "      <td>36</td>\n",
       "      <td>NR_028394.1</td>\n",
       "      <td>chr1</td>\n",
       "      <td>+</td>\n",
       "      <td>231528652</td>\n",
       "      <td>231819244</td>\n",
       "      <td>231819244</td>\n",
       "      <td>231819244</td>\n",
       "      <td>14</td>\n",
       "      <td>231528652,231529254,231537212,231542480,231561...</td>\n",
       "      <td>231528826,231529359,231537327,231542611,231561...</td>\n",
       "      <td>0</td>\n",
       "      <td>TSNAX-DISC1</td>\n",
       "      <td>none</td>\n",
       "      <td>none</td>\n",
       "      <td>-1,-1,-1,-1,-1,-1,-1,-1,-1,-1,-1,-1,-1,-1,</td>\n",
       "    </tr>\n",
       "    <tr>\n",
       "      <th>913</th>\n",
       "      <td>36</td>\n",
       "      <td>NR_028393.1</td>\n",
       "      <td>chr1</td>\n",
       "      <td>+</td>\n",
       "      <td>231528652</td>\n",
       "      <td>232041272</td>\n",
       "      <td>232041272</td>\n",
       "      <td>232041272</td>\n",
       "      <td>16</td>\n",
       "      <td>231528652,231529254,231537212,231542480,231616...</td>\n",
       "      <td>231528826,231529359,231537327,231542611,231616...</td>\n",
       "      <td>0</td>\n",
       "      <td>TSNAX-DISC1</td>\n",
       "      <td>none</td>\n",
       "      <td>none</td>\n",
       "      <td>-1,-1,-1,-1,-1,-1,-1,-1,-1,-1,-1,-1,-1,-1,-1,-1,</td>\n",
       "    </tr>\n",
       "    <tr>\n",
       "      <th>5380</th>\n",
       "      <td>293</td>\n",
       "      <td>NR_028399.1</td>\n",
       "      <td>chr1</td>\n",
       "      <td>+</td>\n",
       "      <td>231528652</td>\n",
       "      <td>231702561</td>\n",
       "      <td>231702561</td>\n",
       "      <td>231702561</td>\n",
       "      <td>9</td>\n",
       "      <td>231528652,231529254,231537212,231542480,231561...</td>\n",
       "      <td>231528826,231529359,231537327,231542611,231561...</td>\n",
       "      <td>0</td>\n",
       "      <td>TSNAX-DISC1</td>\n",
       "      <td>none</td>\n",
       "      <td>none</td>\n",
       "      <td>-1,-1,-1,-1,-1,-1,-1,-1,-1,</td>\n",
       "    </tr>\n",
       "  </tbody>\n",
       "</table>\n",
       "</div>"
      ],
      "text/plain": [
       "      #bin         name chrom strand    txStart      txEnd   cdsStart  \\\n",
       "907     36  NR_028400.1  chr1      +  231528652  231750619  231750619   \n",
       "908     36  NR_028398.1  chr1      +  231528652  231819244  231819244   \n",
       "909     36  NR_028396.1  chr1      +  231528652  231819244  231819244   \n",
       "910     36  NR_028397.1  chr1      +  231528652  231819244  231819244   \n",
       "911     36  NR_028395.1  chr1      +  231528652  231819244  231819244   \n",
       "912     36  NR_028394.1  chr1      +  231528652  231819244  231819244   \n",
       "913     36  NR_028393.1  chr1      +  231528652  232041272  232041272   \n",
       "5380   293  NR_028399.1  chr1      +  231528652  231702561  231702561   \n",
       "\n",
       "         cdsEnd  exonCount                                         exonStarts  \\\n",
       "907   231750619          8  231528652,231529254,231537212,231542480,231616...   \n",
       "908   231819244         11  231528652,231529254,231561127,231693825,231701...   \n",
       "909   231819244         13  231528652,231529254,231537212,231542480,231616...   \n",
       "910   231819244         13  231528652,231529254,231537212,231542480,231561...   \n",
       "911   231819244         13  231528652,231529254,231537212,231542480,231561...   \n",
       "912   231819244         14  231528652,231529254,231537212,231542480,231561...   \n",
       "913   232041272         16  231528652,231529254,231537212,231542480,231616...   \n",
       "5380  231702561          9  231528652,231529254,231537212,231542480,231561...   \n",
       "\n",
       "                                               exonEnds  score        name2  \\\n",
       "907   231528826,231529359,231537327,231542611,231616...      0  TSNAX-DISC1   \n",
       "908   231528826,231529359,231561255,231694805,231702...      0  TSNAX-DISC1   \n",
       "909   231528826,231529359,231537327,231542611,231616...      0  TSNAX-DISC1   \n",
       "910   231528826,231529359,231537327,231542611,231561...      0  TSNAX-DISC1   \n",
       "911   231528826,231529359,231537327,231542611,231561...      0  TSNAX-DISC1   \n",
       "912   231528826,231529359,231537327,231542611,231561...      0  TSNAX-DISC1   \n",
       "913   231528826,231529359,231537327,231542611,231616...      0  TSNAX-DISC1   \n",
       "5380  231528826,231529359,231537327,231542611,231561...      0  TSNAX-DISC1   \n",
       "\n",
       "     cdsStartStat cdsEndStat                                        exonFrames  \n",
       "907          none       none                          -1,-1,-1,-1,-1,-1,-1,-1,  \n",
       "908          none       none                 -1,-1,-1,-1,-1,-1,-1,-1,-1,-1,-1,  \n",
       "909          none       none           -1,-1,-1,-1,-1,-1,-1,-1,-1,-1,-1,-1,-1,  \n",
       "910          none       none           -1,-1,-1,-1,-1,-1,-1,-1,-1,-1,-1,-1,-1,  \n",
       "911          none       none           -1,-1,-1,-1,-1,-1,-1,-1,-1,-1,-1,-1,-1,  \n",
       "912          none       none        -1,-1,-1,-1,-1,-1,-1,-1,-1,-1,-1,-1,-1,-1,  \n",
       "913          none       none  -1,-1,-1,-1,-1,-1,-1,-1,-1,-1,-1,-1,-1,-1,-1,-1,  \n",
       "5380         none       none                       -1,-1,-1,-1,-1,-1,-1,-1,-1,  "
      ]
     },
     "execution_count": 180,
     "metadata": {},
     "output_type": "execute_result"
    }
   ],
   "source": [
    "geneCorr[geneCorr.name2 == 'TSNAX-DISC1']"
   ]
  },
  {
   "cell_type": "code",
   "execution_count": 165,
   "id": "82ab4715",
   "metadata": {},
   "outputs": [],
   "source": [
    "k=0 # iteration counter\n",
    "input_file ='./Regulatory_Prior_Network_Data/hg38_sequence_Tss1000_Tse1000.fasta'\n",
    "output_file='./Regulatory_Prior_Network_Data/output/hg38_sequence_Tss1000_Tss1000.fasta'\n",
    "\n",
    "fasta_sequences = SeqIO.parse(open(input_file),'fasta')\n"
   ]
  },
  {
   "cell_type": "code",
   "execution_count": 179,
   "id": "7dc46bac",
   "metadata": {},
   "outputs": [
    {
     "name": "stderr",
     "output_type": "stream",
     "text": [
      "1it [00:00, 58.98it/s]"
     ]
    },
    {
     "name": "stdout",
     "output_type": "stream",
     "text": [
      "ID: hg38_ncbiRefSeq_NR_028394.1\n",
      "Name: hg38_ncbiRefSeq_NR_028394.1\n",
      "Description: hg38_ncbiRefSeq_NR_028394.1 range=chr1:231527653-231820244 5'pad=0 3'pad=0 strand=+ repeatMasking=none\n",
      "Number of features: 0\n",
      "Seq('acagcgctgagaagcactggggctaaggggcggcacaaagtctagatatggtgg...aca')\n",
      "name NR_028394.1\n",
      "[]\n",
      "TSNAX-DISC1\n",
      "ID: hg38_ncbiRefSeq_NR_028393.1\n",
      "Name: hg38_ncbiRefSeq_NR_028393.1\n",
      "Description: hg38_ncbiRefSeq_NR_028393.1 range=chr1:231527653-232042272 5'pad=0 3'pad=0 strand=+ repeatMasking=none\n",
      "Number of features: 0\n",
      "Seq('acagcgctgagaagcactggggctaaggggcggcacaaagtctagatatggtgg...agt')\n",
      "name NR_028393.1\n",
      "['TSNAX-DISC1']\n",
      "TSNAX-DISC1\n"
     ]
    },
    {
     "name": "stderr",
     "output_type": "stream",
     "text": [
      "\n"
     ]
    }
   ],
   "source": [
    "l =0\n",
    "finalSeq = ''\n",
    "namelist = []\n",
    "for fasta in tqdm(fasta_sequences):\n",
    "    print(fasta)\n",
    "    name, sequence = fasta.id, str(fasta.seq)\n",
    "    new_sequence = reduceSequence(sequence)\n",
    "    name = name[16:]\n",
    "    print('name', name)\n",
    "    boolInd = np.in1d(geneCorr.iloc[:,1],name)\n",
    "    name = geneCorr.iloc[boolInd,12].values[0]\n",
    "    interName = np.intersect1d(name, namelist)\n",
    "    print(namelist)\n",
    "    if interName.size == 0:\n",
    "        \n",
    "        namelist.append(name)\n",
    "        \n",
    "    else:\n",
    "        print(name)\n",
    "      \n",
    "       \n",
    "        continue\n",
    "    name = '>' + name\n",
    "    finalSeq = finalSeq + name + '\\n' + new_sequence + '\\n'\n",
    "    \n",
    "   \n",
    "    \n",
    "        "
   ]
  },
  {
   "cell_type": "code",
   "execution_count": 168,
   "id": "22700cf1",
   "metadata": {},
   "outputs": [
    {
     "data": {
      "text/plain": [
       "['WDR26']"
      ]
     },
     "execution_count": 168,
     "metadata": {},
     "output_type": "execute_result"
    }
   ],
   "source": [
    "namelist"
   ]
  },
  {
   "cell_type": "code",
   "execution_count": 150,
   "id": "2bfa5e8a",
   "metadata": {},
   "outputs": [
    {
     "data": {
      "text/plain": [
       "'>C1orf141\\naacagcatttatattattatttataaataatcatttcatttacattatagtaatgtctctgtaataatcattaccgaacaaagtaatgtgcttggattacctttcttctcagtgggtacaatttaacaacaatggactcttttttctctatctattactaaaaaaatgccatgttttagtttccctcatatttagaccttaactgttcagtacacttttatgttttttcttggactttctaatggcctttcttttttcttgtgggaaatgatgataataatatcaaacatgtaattgcatatgtgcctcaagcactattcaaagaaaaattacatcctcaacaacccaatgacgtaaatactattatccctgagaaaaaagaggcacaaggaagataagcaacttgcctgggatcaaatagtatatgacagaaccaggaagaacccagcagtttgattcatgctcattgtcactaagatctgcagcctccaaaaaagaagcatgtaactttcttatcatatgtgaaaatgatcaagttttttattcattctctctattgtgtgtaatccattccaatgttcttggaggaattgttcatgaagcccagtgacttcttgttctaaatttgacctgttacctataagcctacttttacattgtcattccattcctttgctcagttcctcagattctagtatcccatgtctccttattccttttttttttttttttttttttttttttttgagacggagtctcgctctgtcgcccaggctggagtgcagtggcgccatctcggctcactgcaagctctgcctcctgcgttcaggccattctcctgcctcagcctcccgagtagctgggactacaggcgtcagccaccatgctggctaatttttttgtatttttagtagagacggggtttcaccgtgttagccaggatggtctcgatctcccgacctcgtgatccgcctgcctcggcctcacaaagtgctgggataactaacaaaagcttacttaaaattttatcccatagagcttatgtgaaaatcgtaaaaagcaataattttgtaattccaataactaatagagaaaactgagtaaggaaagaatttttcaatcttgactgttactacttgaagagaaacagattaaattaaatgcatttaagttaagaaaaggctttcggggttcttttggaacatttaagggtgaggaggtaaactggtttaggttcctctgcttctacttcagactggagattttctttattgtgcataatcatcaataccactcaggagcatctttacaacgagagggaggtttggactctcaaaaagaatgacaaggagagaaaaatggagatggaggaagagagatgtacctggagattgtgtgaatgagagaagagaaagagagaaaagctttgagataaggtgttgggctcgggtctgtaggaggtagggaaggggcataccaggttcccttgcttccagttgctgcctgggaaaaggagaagctgctgcagctccaagtcatgaagctgtctttctcttttccccttcattcttttctggttgctgttatatggtctccccctgttttccctccatccagacttactgcaaagcagaacagcttccctaactacattgccaacttagaacataaaacacaaactctttttaagcgctaacgatcagaataacaagaattagaaaatatacctaatattagtactagtcatgatggtagtttctgttgatacttagtatcagagaagcaagtttgggccttggaatagggcagataggagcaaattggggcaaataatgtaaattatctgcacttcagttaaattgtatctccaccttaaaatggagacaacaataatttattacactgctattctcaggattaaataaaatagcatctagtactttgagccttgtagcattcaatagaaatttcctttctactccctcccttt'"
      ]
     },
     "execution_count": 150,
     "metadata": {},
     "output_type": "execute_result"
    }
   ],
   "source": [
    "finalSeq[0:2000]"
   ]
  },
  {
   "cell_type": "code",
   "execution_count": 149,
   "id": "c7981373",
   "metadata": {},
   "outputs": [],
   "source": [
    "if precomputed==0:\n",
    "    # save file\n",
    "    with open(output_file, 'w') as file:\n",
    "        file.write(finalSeq)"
   ]
  },
  {
   "cell_type": "code",
   "execution_count": 158,
   "id": "eb9d75cf",
   "metadata": {},
   "outputs": [
    {
     "name": "stderr",
     "output_type": "stream",
     "text": [
      "38723it [00:00, 152102.99it/s]\n"
     ]
    }
   ],
   "source": [
    "os.chdir(pathos)\n",
    "geneNames  = []\n",
    "fasta_sequences = SeqIO.parse(open('./Regulatory_Prior_Network_Data/output/hg38_sequence_Tss1000_Tss1000.fasta'),'fasta')\n",
    "for fasta in tqdm(fasta_sequences):\n",
    "    x = 1\n",
    "    "
   ]
  },
  {
   "cell_type": "code",
   "execution_count": 259,
   "id": "1e5cec89",
   "metadata": {},
   "outputs": [
    {
     "name": "stdout",
     "output_type": "stream",
     "text": [
      "/Users/anwer/Desktop/Gene_Regulatory_Network_ROSMAP/code\n"
     ]
    },
    {
     "name": "stderr",
     "output_type": "stream",
     "text": [
      "100%|████████████████████████████████████████████████████████████████████████████████████████████████████████████████████████████████████████████████████████████████████████████| 5597/5597 [00:26<00:00, 213.65it/s]\n"
     ]
    }
   ],
   "source": [
    "os.chdir(pathos)\n",
    "print(pathos)\n",
    "os.chdir('./Regulatory_Prior_Network_Data/PWMs')\n",
    "for file in tqdm(os.listdir()):\n",
    "    df=pd.read_csv(file,sep='\\t')\n",
    "    df=df.iloc[:,1:]\n",
    "    os.chdir(pathos)\n",
    "    os.chdir('./Regulatory_Prior_Network_Data/output/convPWMs')\n",
    "    df.to_csv(file, header=False, index=False, sep='\\t')\n",
    "    os.chdir(pathos)\n",
    "\n",
    "    os.chdir('./Regulatory_Prior_Network_Data/PWMs')\n",
    "os.chdir(pathos)\n"
   ]
  },
  {
   "cell_type": "code",
   "execution_count": 260,
   "id": "6ba166a5",
   "metadata": {},
   "outputs": [
    {
     "name": "stderr",
     "output_type": "stream",
     "text": [
      "  0%|                                                                                                                                                                                | 3/5599 [00:00<19:39,  4.75it/s]Error: Motif position 17 summed to zero.\n",
      "Died at /Users/anwer/meme/libexec/meme-5.5.2/matrix2meme line 117, <STDIN> line 26.\n",
      "  0%|▏                                                                                                                                                                               | 5/5599 [00:00<13:01,  7.16it/s]"
     ]
    },
    {
     "name": "stdout",
     "output_type": "stream",
     "text": [
      "M10303_1.94d.txt\n"
     ]
    },
    {
     "name": "stderr",
     "output_type": "stream",
     "text": [
      " 15%|█████████████████████████▉                                                                                                                                                    | 833/5599 [01:03<05:57, 13.34it/s]Error: Expected either the row or column count to be the alphabet size 4 but got 10 by 1.\n",
      "Died at /Users/anwer/meme/libexec/meme-5.5.2/matrix2meme line 117, <STDIN> line 1.\n",
      " 15%|██████████████████████████                                                                                                                                                    | 837/5599 [01:03<05:52, 13.51it/s]"
     ]
    },
    {
     "name": "stdout",
     "output_type": "stream",
     "text": [
      ".DS_Store\n"
     ]
    },
    {
     "name": "stderr",
     "output_type": "stream",
     "text": [
      " 18%|███████████████████████████████                                                                                                                                               | 999/5599 [01:15<06:01, 12.71it/s]Error: Motif position 8 summed to zero.\n",
      "Died at /Users/anwer/meme/libexec/meme-5.5.2/matrix2meme line 117, <STDIN> line 19.\n",
      " 18%|██████████████████████████████▉                                                                                                                                              | 1003/5599 [01:16<05:51, 13.09it/s]"
     ]
    },
    {
     "name": "stdout",
     "output_type": "stream",
     "text": [
      "M10257_1.94d.txt\n"
     ]
    },
    {
     "name": "stderr",
     "output_type": "stream",
     "text": [
      " 19%|█████████████████████████████████▋                                                                                                                                           | 1089/5599 [01:22<05:39, 13.28it/s]Error: Motif position 7 summed to zero.\n",
      "Died at /Users/anwer/meme/libexec/meme-5.5.2/matrix2meme line 117, <STDIN> line 23.\n",
      " 20%|█████████████████████████████████▊                                                                                                                                           | 1093/5599 [01:22<05:57, 12.60it/s]"
     ]
    },
    {
     "name": "stdout",
     "output_type": "stream",
     "text": [
      "M07141_1.94d.txt\n"
     ]
    },
    {
     "name": "stderr",
     "output_type": "stream",
     "text": [
      " 21%|████████████████████████████████████▍                                                                                                                                        | 1179/5599 [01:29<05:26, 13.55it/s]Error: Motif position 11 summed to zero.\n",
      "Died at /Users/anwer/meme/libexec/meme-5.5.2/matrix2meme line 117, <STDIN> line 22.\n",
      " 21%|████████████████████████████████████▌                                                                                                                                        | 1183/5599 [01:29<05:25, 13.56it/s]"
     ]
    },
    {
     "name": "stdout",
     "output_type": "stream",
     "text": [
      "M06403_1.94d.txt\n"
     ]
    },
    {
     "name": "stderr",
     "output_type": "stream",
     "text": [
      " 39%|███████████████████████████████████████████████████████████████████▋                                                                                                         | 2191/5599 [02:46<04:05, 13.88it/s]Error: Motif position 15 summed to zero.\n",
      "Died at /Users/anwer/meme/libexec/meme-5.5.2/matrix2meme line 117, <STDIN> line 41.\n",
      " 39%|███████████████████████████████████████████████████████████████████▊                                                                                                         | 2195/5599 [02:46<04:12, 13.47it/s]"
     ]
    },
    {
     "name": "stdout",
     "output_type": "stream",
     "text": [
      "M10277_1.94d.txt\n"
     ]
    },
    {
     "name": "stderr",
     "output_type": "stream",
     "text": [
      " 59%|██████████████████████████████████████████████████████████████████████████████████████████████████████▌                                                                      | 3319/5599 [04:14<03:08, 12.12it/s]Error: Motif position 7 summed to zero.\n",
      "Died at /Users/anwer/meme/libexec/meme-5.5.2/matrix2meme line 117, <STDIN> line 45.\n",
      " 59%|██████████████████████████████████████████████████████████████████████████████████████████████████████▌                                                                      | 3321/5599 [04:14<03:09, 11.99it/s]"
     ]
    },
    {
     "name": "stdout",
     "output_type": "stream",
     "text": [
      "M10283_1.94d.txt\n"
     ]
    },
    {
     "name": "stderr",
     "output_type": "stream",
     "text": [
      " 76%|██████████████████████████████████████████████████████████████████████████████████████████████████████████████████████████████████▊                                          | 4233/5599 [05:27<01:46, 12.81it/s]Error: Motif position 15 summed to zero.\n",
      "Died at /Users/anwer/meme/libexec/meme-5.5.2/matrix2meme line 117, <STDIN> line 50.\n",
      " 76%|██████████████████████████████████████████████████████████████████████████████████████████████████████████████████████████████████▊                                          | 4235/5599 [05:27<01:50, 12.40it/s]"
     ]
    },
    {
     "name": "stdout",
     "output_type": "stream",
     "text": [
      "M07127_1.94d.txt\n"
     ]
    },
    {
     "name": "stderr",
     "output_type": "stream",
     "text": [
      " 86%|████████████████████████████████████████████████████████████████████████████████████████████████████████████████████████████████████████████████████▎                        | 4801/5599 [06:12<01:03, 12.66it/s]Error: Motif position 10 summed to zero.\n",
      "Died at /Users/anwer/meme/libexec/meme-5.5.2/matrix2meme line 117, <STDIN> line 32.\n",
      " 86%|████████████████████████████████████████████████████████████████████████████████████████████████████████████████████████████████████████████████████▍                        | 4805/5599 [06:13<01:02, 12.76it/s]"
     ]
    },
    {
     "name": "stdout",
     "output_type": "stream",
     "text": [
      "M07090_1.94d.txt\n"
     ]
    },
    {
     "name": "stderr",
     "output_type": "stream",
     "text": [
      " 86%|█████████████████████████████████████████████████████████████████████████████████████████████████████████████████████████████████████████████████████▌                       | 4839/5599 [06:15<00:58, 13.04it/s]Error: Motif position 12 summed to zero.\n",
      "Died at /Users/anwer/meme/libexec/meme-5.5.2/matrix2meme line 117, <STDIN> line 28.\n",
      " 86%|█████████████████████████████████████████████████████████████████████████████████████████████████████████████████████████████████████████████████████▋                       | 4843/5599 [06:16<00:58, 13.01it/s]"
     ]
    },
    {
     "name": "stdout",
     "output_type": "stream",
     "text": [
      "M10282_1.94d.txt\n"
     ]
    },
    {
     "name": "stderr",
     "output_type": "stream",
     "text": [
      " 99%|███████████████████████████████████████████████████████████████████████████████████████████████████████████████████████████████████████████████████████████████████████████▎ | 5546/5599 [07:12<00:04, 11.78it/s]Error: Motif position 15 summed to zero.\n",
      "Died at /Users/anwer/meme/libexec/meme-5.5.2/matrix2meme line 117, <STDIN> line 25.\n",
      " 99%|███████████████████████████████████████████████████████████████████████████████████████████████████████████████████████████████████████████████████████████████████████████▍ | 5550/5599 [07:12<00:03, 12.36it/s]"
     ]
    },
    {
     "name": "stdout",
     "output_type": "stream",
     "text": [
      "M10278_1.94d.txt\n"
     ]
    },
    {
     "name": "stderr",
     "output_type": "stream",
     "text": [
      "100%|█████████████████████████████████████████████████████████████████████████████████████████████████████████████████████████████████████████████████████████████████████████████| 5599/5599 [07:16<00:00, 12.83it/s]\n"
     ]
    }
   ],
   "source": [
    "os.chdir(pathos)\n",
    "os.chdir('./Regulatory_Prior_Network_Data/output/convPWMs')\n",
    "finalTfList = []\n",
    "\n",
    "\n",
    "for file in tqdm(os.listdir()):\n",
    "    bashCommand = \"/Users/anwer/meme/libexec/meme-5.5.2/matrix2meme <\" + file + \"> \" + file + \".meme\"\n",
    "    res=os.system(bashCommand)\n",
    "    if res != 0:\n",
    "        print(file)\n",
    "    else:\n",
    "        finalTfList.append(file[:-4])\n"
   ]
  },
  {
   "cell_type": "code",
   "execution_count": 261,
   "id": "77bce3d7",
   "metadata": {},
   "outputs": [],
   "source": [
    "os.chdir(pathos)"
   ]
  },
  {
   "cell_type": "code",
   "execution_count": 262,
   "id": "b13750e6",
   "metadata": {},
   "outputs": [
    {
     "data": {
      "text/html": [
       "<div>\n",
       "<style scoped>\n",
       "    .dataframe tbody tr th:only-of-type {\n",
       "        vertical-align: middle;\n",
       "    }\n",
       "\n",
       "    .dataframe tbody tr th {\n",
       "        vertical-align: top;\n",
       "    }\n",
       "\n",
       "    .dataframe thead th {\n",
       "        text-align: right;\n",
       "    }\n",
       "</style>\n",
       "<table border=\"1\" class=\"dataframe\">\n",
       "  <thead>\n",
       "    <tr style=\"text-align: right;\">\n",
       "      <th></th>\n",
       "      <th>Ensembl ID</th>\n",
       "      <th>HGNC symbol</th>\n",
       "      <th>Motif evidence</th>\n",
       "      <th>Motif ID</th>\n",
       "      <th>Motif type</th>\n",
       "      <th>Motif source</th>\n",
       "      <th>CIS-BP ID</th>\n",
       "      <th>Best Motif(s)? (Figure 2A)</th>\n",
       "    </tr>\n",
       "  </thead>\n",
       "  <tbody>\n",
       "    <tr>\n",
       "      <th>0</th>\n",
       "      <td>ENSG00000267281</td>\n",
       "      <td>AC023509.3</td>\n",
       "      <td>Inferred - ATF7 (100% AA Identity, Homo sapiens)</td>\n",
       "      <td>ATF7_eDBD_HT-SELEX</td>\n",
       "      <td>HT-SELEX</td>\n",
       "      <td>Yin2017</td>\n",
       "      <td>M08490_1.94d</td>\n",
       "      <td>TRUE</td>\n",
       "    </tr>\n",
       "    <tr>\n",
       "      <th>1</th>\n",
       "      <td>ENSG00000267281</td>\n",
       "      <td>AC023509.3</td>\n",
       "      <td>Inferred - ATF7 (100% AA Identity, Homo sapiens)</td>\n",
       "      <td>ATF7_eDBD_Methyl-HT-SELEX</td>\n",
       "      <td>Methyl-HT-SELEX</td>\n",
       "      <td>Yin2017</td>\n",
       "      <td>M08491_1.94d</td>\n",
       "      <td>NaN</td>\n",
       "    </tr>\n",
       "    <tr>\n",
       "      <th>2</th>\n",
       "      <td>ENSG00000267281</td>\n",
       "      <td>AC023509.3</td>\n",
       "      <td>Inferred - Atf7 (98% AA Identity, Mus musculus)</td>\n",
       "      <td>3T3L1-Atf7_GSE56872</td>\n",
       "      <td>Misc</td>\n",
       "      <td>HOMER</td>\n",
       "      <td>M06975_1.94d</td>\n",
       "      <td>NaN</td>\n",
       "    </tr>\n",
       "    <tr>\n",
       "      <th>3</th>\n",
       "      <td>ENSG00000264668</td>\n",
       "      <td>AC138696.1</td>\n",
       "      <td>Inferred - ZFP41 (100% AA Identity, Homo sapiens)</td>\n",
       "      <td>ZFP41_FL_HT-SELEX</td>\n",
       "      <td>HT-SELEX</td>\n",
       "      <td>Yin2017</td>\n",
       "      <td>M09315_1.94d</td>\n",
       "      <td>TRUE</td>\n",
       "    </tr>\n",
       "    <tr>\n",
       "      <th>4</th>\n",
       "      <td>ENSG00000264668</td>\n",
       "      <td>AC138696.1</td>\n",
       "      <td>Inferred - ZFP41 (100% AA Identity, Homo sapiens)</td>\n",
       "      <td>ZFP41_FL_Methyl-HT-SELEX</td>\n",
       "      <td>Methyl-HT-SELEX</td>\n",
       "      <td>Yin2017</td>\n",
       "      <td>M09316_1.94d</td>\n",
       "      <td>NaN</td>\n",
       "    </tr>\n",
       "    <tr>\n",
       "      <th>...</th>\n",
       "      <td>...</td>\n",
       "      <td>...</td>\n",
       "      <td>...</td>\n",
       "      <td>...</td>\n",
       "      <td>...</td>\n",
       "      <td>...</td>\n",
       "      <td>...</td>\n",
       "      <td>...</td>\n",
       "    </tr>\n",
       "    <tr>\n",
       "      <th>26985</th>\n",
       "      <td>ENSG00000204532</td>\n",
       "      <td>ZSCAN5C</td>\n",
       "      <td>Inferred - ZSCAN5 (82% AA Identity, Homo sapiens)</td>\n",
       "      <td>ZSCAN5_eDBD_HT-SELEX</td>\n",
       "      <td>HT-SELEX</td>\n",
       "      <td>Yin2017</td>\n",
       "      <td>M09419_1.94d</td>\n",
       "      <td>NaN</td>\n",
       "    </tr>\n",
       "    <tr>\n",
       "      <th>26986</th>\n",
       "      <td>ENSG00000204532</td>\n",
       "      <td>ZSCAN5C</td>\n",
       "      <td>Inferred - ZSCAN5 (82% AA Identity, Homo sapiens)</td>\n",
       "      <td>ZSCAN5_eDBD_Methyl-HT-SELEX</td>\n",
       "      <td>Methyl-HT-SELEX</td>\n",
       "      <td>Yin2017</td>\n",
       "      <td>M09420_1.94d</td>\n",
       "      <td>NaN</td>\n",
       "    </tr>\n",
       "    <tr>\n",
       "      <th>26987</th>\n",
       "      <td>ENSG00000137185</td>\n",
       "      <td>ZSCAN9</td>\n",
       "      <td>Direct</td>\n",
       "      <td>ZSCAN9_eDBD_HT-SELEX</td>\n",
       "      <td>HT-SELEX</td>\n",
       "      <td>Yin2017</td>\n",
       "      <td>M09421_1.94d</td>\n",
       "      <td>TRUE</td>\n",
       "    </tr>\n",
       "    <tr>\n",
       "      <th>26988</th>\n",
       "      <td>ENSG00000137185</td>\n",
       "      <td>ZSCAN9</td>\n",
       "      <td>Direct</td>\n",
       "      <td>ZSCAN9_eDBD_Methyl-HT-SELEX</td>\n",
       "      <td>Methyl-HT-SELEX</td>\n",
       "      <td>Yin2017</td>\n",
       "      <td>M09422_1.94d</td>\n",
       "      <td>NaN</td>\n",
       "    </tr>\n",
       "    <tr>\n",
       "      <th>26989</th>\n",
       "      <td>ENSG00000036549</td>\n",
       "      <td>ZZZ3</td>\n",
       "      <td>Direct</td>\n",
       "      <td>pTH11249</td>\n",
       "      <td>PBM</td>\n",
       "      <td>TF_Evolution</td>\n",
       "      <td>M01853_1.94d</td>\n",
       "      <td>TRUE</td>\n",
       "    </tr>\n",
       "  </tbody>\n",
       "</table>\n",
       "<p>26990 rows × 8 columns</p>\n",
       "</div>"
      ],
      "text/plain": [
       "            Ensembl ID HGNC symbol  \\\n",
       "0      ENSG00000267281  AC023509.3   \n",
       "1      ENSG00000267281  AC023509.3   \n",
       "2      ENSG00000267281  AC023509.3   \n",
       "3      ENSG00000264668  AC138696.1   \n",
       "4      ENSG00000264668  AC138696.1   \n",
       "...                ...         ...   \n",
       "26985  ENSG00000204532     ZSCAN5C   \n",
       "26986  ENSG00000204532     ZSCAN5C   \n",
       "26987  ENSG00000137185      ZSCAN9   \n",
       "26988  ENSG00000137185      ZSCAN9   \n",
       "26989  ENSG00000036549        ZZZ3   \n",
       "\n",
       "                                          Motif evidence  \\\n",
       "0       Inferred - ATF7 (100% AA Identity, Homo sapiens)   \n",
       "1       Inferred - ATF7 (100% AA Identity, Homo sapiens)   \n",
       "2        Inferred - Atf7 (98% AA Identity, Mus musculus)   \n",
       "3      Inferred - ZFP41 (100% AA Identity, Homo sapiens)   \n",
       "4      Inferred - ZFP41 (100% AA Identity, Homo sapiens)   \n",
       "...                                                  ...   \n",
       "26985  Inferred - ZSCAN5 (82% AA Identity, Homo sapiens)   \n",
       "26986  Inferred - ZSCAN5 (82% AA Identity, Homo sapiens)   \n",
       "26987                                             Direct   \n",
       "26988                                             Direct   \n",
       "26989                                             Direct   \n",
       "\n",
       "                          Motif ID       Motif type  Motif source  \\\n",
       "0               ATF7_eDBD_HT-SELEX         HT-SELEX       Yin2017   \n",
       "1        ATF7_eDBD_Methyl-HT-SELEX  Methyl-HT-SELEX       Yin2017   \n",
       "2              3T3L1-Atf7_GSE56872             Misc         HOMER   \n",
       "3                ZFP41_FL_HT-SELEX         HT-SELEX       Yin2017   \n",
       "4         ZFP41_FL_Methyl-HT-SELEX  Methyl-HT-SELEX       Yin2017   \n",
       "...                            ...              ...           ...   \n",
       "26985         ZSCAN5_eDBD_HT-SELEX         HT-SELEX       Yin2017   \n",
       "26986  ZSCAN5_eDBD_Methyl-HT-SELEX  Methyl-HT-SELEX       Yin2017   \n",
       "26987         ZSCAN9_eDBD_HT-SELEX         HT-SELEX       Yin2017   \n",
       "26988  ZSCAN9_eDBD_Methyl-HT-SELEX  Methyl-HT-SELEX       Yin2017   \n",
       "26989                     pTH11249              PBM  TF_Evolution   \n",
       "\n",
       "          CIS-BP ID Best Motif(s)? (Figure 2A)  \n",
       "0      M08490_1.94d                       TRUE  \n",
       "1      M08491_1.94d                        NaN  \n",
       "2      M06975_1.94d                        NaN  \n",
       "3      M09315_1.94d                       TRUE  \n",
       "4      M09316_1.94d                        NaN  \n",
       "...             ...                        ...  \n",
       "26985  M09419_1.94d                        NaN  \n",
       "26986  M09420_1.94d                        NaN  \n",
       "26987  M09421_1.94d                       TRUE  \n",
       "26988  M09422_1.94d                        NaN  \n",
       "26989  M01853_1.94d                       TRUE  \n",
       "\n",
       "[26990 rows x 8 columns]"
      ]
     },
     "execution_count": 262,
     "metadata": {},
     "output_type": "execute_result"
    }
   ],
   "source": [
    "os.chdir(pathos)\n",
    "\n",
    "tf = pd.read_csv('./Regulatory_Prior_Network_Data/Human_TF_MotifList_v_1.01.csv',dtype = str)\n",
    "tf"
   ]
  },
  {
   "cell_type": "code",
   "execution_count": 263,
   "id": "d1f80e2c",
   "metadata": {},
   "outputs": [],
   "source": [
    "#tf = pd.read_csv('./Regulatory_Prior_Network_Data/TF_Information_all_motifs_plus.txt',sep='\\t')\n",
    "#tf"
   ]
  },
  {
   "cell_type": "code",
   "execution_count": 264,
   "id": "e49ede81",
   "metadata": {},
   "outputs": [
    {
     "data": {
      "text/plain": [
       "Index(['Ensembl ID', 'HGNC symbol', 'Motif evidence', 'Motif ID', 'Motif type',\n",
       "       'Motif source', 'CIS-BP ID', 'Best Motif(s)? (Figure 2A)'],\n",
       "      dtype='object')"
      ]
     },
     "execution_count": 264,
     "metadata": {},
     "output_type": "execute_result"
    }
   ],
   "source": [
    "tf.columns"
   ]
  },
  {
   "cell_type": "code",
   "execution_count": 265,
   "id": "c950207b",
   "metadata": {},
   "outputs": [
    {
     "data": {
      "text/plain": [
       "'indTF = np.in1d(tf.iloc[:,3],finalTfList)\\ntff = tf\\ntf = tf.iloc[indTF,:]\\ninitTF = tf.iloc[0,1]'"
      ]
     },
     "execution_count": 265,
     "metadata": {},
     "output_type": "execute_result"
    }
   ],
   "source": [
    "'''indTF = np.in1d(tf.iloc[:,3],finalTfList)\n",
    "tff = tf\n",
    "tf = tf.iloc[indTF,:]\n",
    "initTF = tf.iloc[0,1]'''"
   ]
  },
  {
   "cell_type": "code",
   "execution_count": 266,
   "id": "0ebdbd7b",
   "metadata": {},
   "outputs": [
    {
     "data": {
      "text/plain": [
       "'tflist, tfflist = [], []\\ntflist.extend(tf.iloc[:,3])\\ntfflist.extend(tf.iloc[:,6])\\ntfFound = 0 '"
      ]
     },
     "execution_count": 266,
     "metadata": {},
     "output_type": "execute_result"
    }
   ],
   "source": [
    "'''tflist, tfflist = [], []\n",
    "tflist.extend(tf.iloc[:,3])\n",
    "tfflist.extend(tf.iloc[:,6])\n",
    "tfFound = 0 '''"
   ]
  },
  {
   "cell_type": "code",
   "execution_count": 267,
   "id": "96ac5346",
   "metadata": {},
   "outputs": [],
   "source": [
    "precomputed == 0\n",
    "if precomputed==0:\n",
    "    # read TF motif table to select the \"best\" motif per TF\n",
    "    indTF  =np.in1d(tf.iloc[:,6],finalTfList)\n",
    "    tff    =tf\n",
    "    tf     =tf.iloc[indTF,:]\n",
    "    initTF =tf.iloc[0,1]\n",
    "    tflist, tfflist =[],[]\n",
    "    tflist.append(tf.iloc[0,6])\n",
    "    tfflist.append(initTF)\n",
    "    tfFound=0\n",
    "    for i in range(tf.shape[0]):\n",
    "        newTF = tf.iloc[i, 1]\n",
    "        if tfFound==1 and initTF==newTF:\n",
    "            continue\n",
    "        else:\n",
    "            if initTF!=newTF:\n",
    "                if initTF != newTF and tfFound==0:\n",
    "                    tflist.append(tf.iloc[i, 6])\n",
    "                    tfflist.append(tf.iloc[i, 1])\n",
    "                tfFound=0\n",
    "                initTF =newTF\n",
    "            if tf.iloc[i,7]==True:\n",
    "                tflist.append(tf.iloc[i,6])\n",
    "                tfflist.append(tf.iloc[i, 1])\n",
    "                tfFound=1"
   ]
  },
  {
   "cell_type": "code",
   "execution_count": 294,
   "id": "dd16258b",
   "metadata": {},
   "outputs": [
    {
     "name": "stdout",
     "output_type": "stream",
     "text": [
      "['M08490_1.94d', 'M09315_1.94d', 'M06439_1.94d', 'M06439_1.94d', 'M06440_1.94d', 'M08464_1.94d', 'M05559_1.94d', 'M05562_1.94d', 'M01298_1.94d', 'M06442_1.94d']\n",
      "['AC023509.3', 'AC138696.1', 'AHR', 'AHRR', 'AIRE', 'ALX1', 'ALX3', 'ALX4', 'ANHX', 'AR']\n"
     ]
    }
   ],
   "source": [
    "print(tflist[0:10])\n",
    "print(tfflist[0:10])"
   ]
  },
  {
   "cell_type": "code",
   "execution_count": 301,
   "id": "e3506fdf",
   "metadata": {},
   "outputs": [
    {
     "data": {
      "text/plain": [
       "1149"
      ]
     },
     "execution_count": 301,
     "metadata": {},
     "output_type": "execute_result"
    }
   ],
   "source": [
    "len(tfflist)"
   ]
  },
  {
   "cell_type": "code",
   "execution_count": 300,
   "id": "2813fdfd",
   "metadata": {},
   "outputs": [
    {
     "name": "stderr",
     "output_type": "stream",
     "text": [
      "1149it [00:00, 5146.25it/s]"
     ]
    }
   ],
   "source": [
    "os.chdir(pathos)\n",
    "import re\n",
    "if precomputed==0:\n",
    "    # put pwms in the same file\n",
    "    os.chdir('./Regulatory_Prior_Network_Data/output/convPWMs')\n",
    "    finalMeme = 'MEME version 5.5.2\\n\\nALPHABET= ACGT\\n\\nstrands: + -\\n\\nBackground letter frequencies (from uniform background):\\nA 0.25000 C 0.25000 G 0.25000 T 0.25000 \\n\\n'\n",
    "    k=0\n",
    "    finalTFName=[]\n",
    "    for i,j in tqdm(enumerate(range(len(tflist)))):\n",
    "        try:\n",
    "            file = open(tflist[i] + '.txt.meme', 'r')\n",
    "            k    = k+1\n",
    "            finalTFName.append(tfflist[i])\n",
    "            data = file.read()\n",
    "            start = re.search(\"letter-probability\", data).start()\n",
    "            finalMeme = finalMeme +'MOTIF ' + tfflist[i] + data[start-1:]\n",
    "            \n",
    "            file.close()\n",
    "            \n",
    "        except:\n",
    "            print(\"TF not found\")\n",
    "    print(finalMeme)\n",
    "    # save file\n",
    "    os.chdir(pathos)\n",
    "    os.chdir('./Regulatory_Prior_Network_Data/output/convPWMs')\n",
    "    with open('allTFs.meme', 'w') as file:\n",
    "        file.write(finalMeme)\n",
    "\n",
    "    # save TFs\n",
    "    with open(\"tfNames.txt\", \"w\") as f:\n",
    "        for s in finalTFName:\n",
    "            f.write(str(s) +\"\\n\")\n"
   ]
  },
  {
   "cell_type": "code",
   "execution_count": 236,
   "id": "260b268a",
   "metadata": {},
   "outputs": [
    {
     "data": {
      "text/plain": [
       "'os.chdir(pathos)\\nos.chdir(\\'./Regulatory_Prior_Network_Data/output/convPWMs\\')\\n\\n\\nwith open(\\'allTFs.meme\\', \\'w\\') as file:\\n    file.write(finalMeme)\\n\\n    # save TFs\\nwith open(\"tfNames.txt\", \"w\") as f:\\n    for s in finalTFName:\\n        f.write(str(s) +\"\\n\")'"
      ]
     },
     "execution_count": 236,
     "metadata": {},
     "output_type": "execute_result"
    }
   ],
   "source": [
    "'''os.chdir(pathos)\n",
    "os.chdir('./Regulatory_Prior_Network_Data/output/convPWMs')\n",
    "\n",
    "\n",
    "with open('allTFs.meme', 'w') as file:\n",
    "    file.write(finalMeme)\n",
    "\n",
    "    # save TFs\n",
    "with open(\"tfNames.txt\", \"w\") as f:\n",
    "    for s in finalTFName:\n",
    "        f.write(str(s) +\"\\n\")'''\n"
   ]
  },
  {
   "cell_type": "code",
   "execution_count": 302,
   "id": "a698c2d0",
   "metadata": {},
   "outputs": [],
   "source": [
    "os.chdir(pathos)\n",
    "os.chdir('./Regulatory_Prior_Network_Data/output/convPWMs')\n",
    "tfNames=[]\n",
    "\n",
    "with open(\"tfNames.txt\", \"r\") as f:\n",
    "  for line in f:\n",
    "    tfNames.append(str(line.strip()))"
   ]
  },
  {
   "cell_type": "code",
   "execution_count": 303,
   "id": "f4099e6f",
   "metadata": {},
   "outputs": [
    {
     "data": {
      "text/plain": [
       "1149"
      ]
     },
     "execution_count": 303,
     "metadata": {},
     "output_type": "execute_result"
    }
   ],
   "source": [
    "len(tfNames)"
   ]
  },
  {
   "cell_type": "code",
   "execution_count": 304,
   "id": "cd5e01b3",
   "metadata": {},
   "outputs": [
    {
     "name": "stderr",
     "output_type": "stream",
     "text": [
      "38723it [00:00, 131251.01it/s]\n"
     ]
    }
   ],
   "source": [
    "os.chdir(pathos)\n",
    "geneNames  = []\n",
    "fasta_sequences = SeqIO.parse(open('./Regulatory_Prior_Network_Data/output/hg38_sequence_Tss1000_Tss1000.fasta'),'fasta')\n",
    "for fasta in tqdm(fasta_sequences):\n",
    "        name, sequence = fasta.id, str(fasta.seq)\n",
    "        geneNames.append(name)\n",
    "\n",
    "nTFs       = len(tfNames)\n"
   ]
  },
  {
   "cell_type": "code",
   "execution_count": 240,
   "id": "dc5ab2dc",
   "metadata": {},
   "outputs": [
    {
     "name": "stdout",
     "output_type": "stream",
     "text": [
      "38723\n"
     ]
    }
   ],
   "source": [
    "print(len(geneNames))\n",
    "os.chdir(pathos)\n"
   ]
  },
  {
   "cell_type": "code",
   "execution_count": 306,
   "id": "fb5f81f5",
   "metadata": {
    "scrolled": true
   },
   "outputs": [
    {
     "data": {
      "text/html": [
       "<div>\n",
       "<style scoped>\n",
       "    .dataframe tbody tr th:only-of-type {\n",
       "        vertical-align: middle;\n",
       "    }\n",
       "\n",
       "    .dataframe tbody tr th {\n",
       "        vertical-align: top;\n",
       "    }\n",
       "\n",
       "    .dataframe thead th {\n",
       "        text-align: right;\n",
       "    }\n",
       "</style>\n",
       "<table border=\"1\" class=\"dataframe\">\n",
       "  <thead>\n",
       "    <tr style=\"text-align: right;\">\n",
       "      <th></th>\n",
       "      <th>Ensembl ID</th>\n",
       "      <th>HGNC symbol</th>\n",
       "      <th>Motif evidence</th>\n",
       "      <th>Motif ID</th>\n",
       "      <th>Motif type</th>\n",
       "      <th>Motif source</th>\n",
       "      <th>CIS-BP ID</th>\n",
       "      <th>Best Motif(s)? (Figure 2A)</th>\n",
       "    </tr>\n",
       "  </thead>\n",
       "  <tbody>\n",
       "    <tr>\n",
       "      <th>0</th>\n",
       "      <td>ENSG00000267281</td>\n",
       "      <td>AC023509.3</td>\n",
       "      <td>Inferred - ATF7 (100% AA Identity, Homo sapiens)</td>\n",
       "      <td>ATF7_eDBD_HT-SELEX</td>\n",
       "      <td>HT-SELEX</td>\n",
       "      <td>Yin2017</td>\n",
       "      <td>M08490_1.94d</td>\n",
       "      <td>TRUE</td>\n",
       "    </tr>\n",
       "    <tr>\n",
       "      <th>1</th>\n",
       "      <td>ENSG00000267281</td>\n",
       "      <td>AC023509.3</td>\n",
       "      <td>Inferred - ATF7 (100% AA Identity, Homo sapiens)</td>\n",
       "      <td>ATF7_eDBD_Methyl-HT-SELEX</td>\n",
       "      <td>Methyl-HT-SELEX</td>\n",
       "      <td>Yin2017</td>\n",
       "      <td>M08491_1.94d</td>\n",
       "      <td>NaN</td>\n",
       "    </tr>\n",
       "    <tr>\n",
       "      <th>2</th>\n",
       "      <td>ENSG00000267281</td>\n",
       "      <td>AC023509.3</td>\n",
       "      <td>Inferred - Atf7 (98% AA Identity, Mus musculus)</td>\n",
       "      <td>3T3L1-Atf7_GSE56872</td>\n",
       "      <td>Misc</td>\n",
       "      <td>HOMER</td>\n",
       "      <td>M06975_1.94d</td>\n",
       "      <td>NaN</td>\n",
       "    </tr>\n",
       "    <tr>\n",
       "      <th>3</th>\n",
       "      <td>ENSG00000264668</td>\n",
       "      <td>AC138696.1</td>\n",
       "      <td>Inferred - ZFP41 (100% AA Identity, Homo sapiens)</td>\n",
       "      <td>ZFP41_FL_HT-SELEX</td>\n",
       "      <td>HT-SELEX</td>\n",
       "      <td>Yin2017</td>\n",
       "      <td>M09315_1.94d</td>\n",
       "      <td>TRUE</td>\n",
       "    </tr>\n",
       "    <tr>\n",
       "      <th>4</th>\n",
       "      <td>ENSG00000264668</td>\n",
       "      <td>AC138696.1</td>\n",
       "      <td>Inferred - ZFP41 (100% AA Identity, Homo sapiens)</td>\n",
       "      <td>ZFP41_FL_Methyl-HT-SELEX</td>\n",
       "      <td>Methyl-HT-SELEX</td>\n",
       "      <td>Yin2017</td>\n",
       "      <td>M09316_1.94d</td>\n",
       "      <td>NaN</td>\n",
       "    </tr>\n",
       "  </tbody>\n",
       "</table>\n",
       "</div>"
      ],
      "text/plain": [
       "        Ensembl ID HGNC symbol  \\\n",
       "0  ENSG00000267281  AC023509.3   \n",
       "1  ENSG00000267281  AC023509.3   \n",
       "2  ENSG00000267281  AC023509.3   \n",
       "3  ENSG00000264668  AC138696.1   \n",
       "4  ENSG00000264668  AC138696.1   \n",
       "\n",
       "                                      Motif evidence  \\\n",
       "0   Inferred - ATF7 (100% AA Identity, Homo sapiens)   \n",
       "1   Inferred - ATF7 (100% AA Identity, Homo sapiens)   \n",
       "2    Inferred - Atf7 (98% AA Identity, Mus musculus)   \n",
       "3  Inferred - ZFP41 (100% AA Identity, Homo sapiens)   \n",
       "4  Inferred - ZFP41 (100% AA Identity, Homo sapiens)   \n",
       "\n",
       "                    Motif ID       Motif type Motif source     CIS-BP ID  \\\n",
       "0         ATF7_eDBD_HT-SELEX         HT-SELEX      Yin2017  M08490_1.94d   \n",
       "1  ATF7_eDBD_Methyl-HT-SELEX  Methyl-HT-SELEX      Yin2017  M08491_1.94d   \n",
       "2        3T3L1-Atf7_GSE56872             Misc        HOMER  M06975_1.94d   \n",
       "3          ZFP41_FL_HT-SELEX         HT-SELEX      Yin2017  M09315_1.94d   \n",
       "4   ZFP41_FL_Methyl-HT-SELEX  Methyl-HT-SELEX      Yin2017  M09316_1.94d   \n",
       "\n",
       "  Best Motif(s)? (Figure 2A)  \n",
       "0                       TRUE  \n",
       "1                        NaN  \n",
       "2                        NaN  \n",
       "3                       TRUE  \n",
       "4                        NaN  "
      ]
     },
     "execution_count": 306,
     "metadata": {},
     "output_type": "execute_result"
    }
   ],
   "source": [
    "tf.head()"
   ]
  },
  {
   "cell_type": "code",
   "execution_count": 310,
   "id": "b4db5ba5",
   "metadata": {},
   "outputs": [
    {
     "data": {
      "text/plain": [
       "'AC023509.3'"
      ]
     },
     "execution_count": 310,
     "metadata": {},
     "output_type": "execute_result"
    }
   ],
   "source": [
    "tfNames[0]"
   ]
  },
  {
   "cell_type": "code",
   "execution_count": 351,
   "id": "f6a88a04",
   "metadata": {},
   "outputs": [],
   "source": [
    "def FIMO(tfi, geneNames, tfNames, pqval):\n",
    "    os.chdir(pathos)\n",
    "    os.chdir('./Regulatory_Prior_Network_Data/output/fimo_output/')\n",
    "    regMatQval = np.zeros((1,len(geneNames))) \n",
    "    regMatQ = pd.DataFrame(data = regMatQval, columns = geneNames, index = [tfNames[tfi]])\n",
    "    \n",
    "    bashCommand = '/Users/anwer/meme/bin/fimo --thresh 1e-5 --no-qvalue --verbosity 1 --max-stored-scores 100000000 --oc '+tfNames[tfi]+' --motif ' + tfNames[tfi] + ' /Users/anwer/Desktop/Gene_Regulatory_Network_ROSMAP/code/Regulatory_Prior_Network_Data/output/ConvPWMs/allTFs.meme  /Users/anwer/Desktop/Gene_Regulatory_Network_ROSMAP/code/Regulatory_Prior_Network_Data/output/hg38_sequence_Tss1000_Tss1000.fasta'\n",
    "    res = os.system(bashCommand)\n",
    "    if res != 0:\n",
    "        print('could not find fimo')\n",
    "    \n",
    "    else:\n",
    "        \n",
    "        os.chdir(pathos)\n",
    "        os.chdir('./Regulatory_Prior_Network_Data/output/fimo_output/' + tfNames[tfi])\n",
    "        \n",
    "    try:\n",
    "        tf = pd.read_csv('fimo.tsv',sep='\\t', comment='#')\n",
    "        tf.iloc[:,3] = 1000 - tf.iloc[:,3]\n",
    "        for geneName in geneNames:\n",
    "            jset = np.where(np.in1d(tf.iloc[:,2],geneName))\n",
    "            if jset[0].size != 0:\n",
    "                regMatQ[geneName].iloc[0] = tf.iloc[jset[0],7].min()\n",
    "                \n",
    "    except: \n",
    "        print('empty fimo result')\n",
    "    \n",
    "    return regMatQ"
   ]
  },
  {
   "cell_type": "code",
   "execution_count": null,
   "id": "1725a322",
   "metadata": {},
   "outputs": [
    {
     "name": "stderr",
     "output_type": "stream",
     "text": [
      "\n",
      "\n",
      "  0%|                                                                                                                                                                                        | 0/1148 [00:00<?, ?it/s]\u001b[A\u001b[A\n",
      "\n",
      "  0%|▏                                                                                                                                                                             | 1/1148 [00:22<7:15:46, 22.80s/it]\u001b[A\u001b[A\n",
      "\n",
      "  0%|▎                                                                                                                                                                             | 2/1148 [00:42<6:42:36, 21.08s/it]\u001b[A\u001b[A\n",
      "\n",
      "  0%|▍                                                                                                                                                                             | 3/1148 [01:02<6:28:08, 20.34s/it]\u001b[A\u001b[A\n",
      "\n",
      "  0%|▌                                                                                                                                                                             | 4/1148 [01:25<6:48:30, 21.43s/it]\u001b[A\u001b[AException ignored in: <function tqdm.__del__ at 0x7fd2812370a0>\n",
      "Traceback (most recent call last):\n",
      "  File \"/Users/anwer/miniconda/lib/python3.10/site-packages/tqdm/std.py\", line 1145, in __del__\n",
      "    self.close()\n",
      "  File \"/Users/anwer/miniconda/lib/python3.10/site-packages/tqdm/std.py\", line 1274, in close\n",
      "    if self.last_print_t < self.start_t + self.delay:\n",
      "AttributeError: 'tqdm' object has no attribute 'last_print_t'\n",
      "Exception ignored in: <function tqdm.__del__ at 0x7fd2812370a0>\n",
      "Traceback (most recent call last):\n",
      "  File \"/Users/anwer/miniconda/lib/python3.10/site-packages/tqdm/std.py\", line 1145, in __del__\n",
      "    self.close()\n",
      "  File \"/Users/anwer/miniconda/lib/python3.10/site-packages/tqdm/std.py\", line 1274, in close\n",
      "    if self.last_print_t < self.start_t + self.delay:\n",
      "AttributeError: 'tqdm' object has no attribute 'last_print_t'\n",
      "\n",
      "\n",
      "  0%|▊                                                                                                                                                                             | 5/1148 [01:46<6:47:35, 21.40s/it]\u001b[A\u001b[A\n",
      "\n",
      "  1%|▉                                                                                                                                                                             | 6/1148 [02:06<6:37:49, 20.90s/it]\u001b[A\u001b[A\n",
      "\n",
      "  1%|█                                                                                                                                                                             | 7/1148 [02:28<6:42:13, 21.15s/it]\u001b[A\u001b[A\n",
      "\n",
      "  1%|█▏                                                                                                                                                                            | 8/1148 [02:46<6:23:22, 20.18s/it]\u001b[A\u001b[A"
     ]
    },
    {
     "name": "stdout",
     "output_type": "stream",
     "text": [
      "empty fimo result\n"
     ]
    },
    {
     "name": "stderr",
     "output_type": "stream",
     "text": [
      "\n",
      "\n",
      "  1%|█▎                                                                                                                                                                            | 9/1148 [03:08<6:37:54, 20.96s/it]\u001b[A\u001b[A\n",
      "\n",
      "  1%|█▌                                                                                                                                                                           | 10/1148 [03:29<6:34:46, 20.81s/it]\u001b[A\u001b[A\n",
      "\n",
      "  1%|█▋                                                                                                                                                                           | 11/1148 [04:00<7:31:04, 23.80s/it]\u001b[A\u001b[A\n",
      "\n",
      "  1%|█▊                                                                                                                                                                           | 12/1148 [04:20<7:11:15, 22.78s/it]\u001b[A\u001b[A\n",
      "\n",
      "  1%|█▉                                                                                                                                                                           | 13/1148 [04:41<6:58:39, 22.13s/it]\u001b[A\u001b[A\n",
      "\n",
      "  1%|██                                                                                                                                                                           | 14/1148 [05:02<6:51:19, 21.76s/it]\u001b[A\u001b[A\n",
      "\n",
      "  1%|██▎                                                                                                                                                                          | 15/1148 [05:24<6:52:33, 21.85s/it]\u001b[A\u001b[A\n",
      "\n",
      "  1%|██▍                                                                                                                                                                          | 16/1148 [05:44<6:43:52, 21.41s/it]\u001b[A\u001b[A\n",
      "\n",
      "  1%|██▌                                                                                                                                                                          | 17/1148 [06:05<6:44:08, 21.44s/it]\u001b[A\u001b[A\n",
      "\n",
      "  2%|██▋                                                                                                                                                                          | 18/1148 [06:27<6:41:59, 21.34s/it]\u001b[A\u001b[A\n",
      "\n",
      "  2%|██▊                                                                                                                                                                          | 19/1148 [06:47<6:37:13, 21.11s/it]\u001b[A\u001b[A\n",
      "\n",
      "  2%|███                                                                                                                                                                          | 20/1148 [07:10<6:46:05, 21.60s/it]\u001b[A\u001b[A\n",
      "\n",
      "  2%|███▏                                                                                                                                                                         | 21/1148 [07:35<7:03:03, 22.52s/it]\u001b[A\u001b[A\n",
      "\n",
      "  2%|███▎                                                                                                                                                                         | 22/1148 [07:55<6:50:52, 21.89s/it]\u001b[A\u001b[A\n",
      "\n",
      "  2%|███▍                                                                                                                                                                         | 23/1148 [08:19<7:02:35, 22.54s/it]\u001b[A\u001b[A\n",
      "\n",
      "  2%|███▌                                                                                                                                                                         | 24/1148 [08:43<7:13:06, 23.12s/it]\u001b[A\u001b[A\n",
      "\n",
      "  2%|███▊                                                                                                                                                                         | 25/1148 [09:08<7:18:02, 23.40s/it]\u001b[A\u001b[A\n",
      "\n",
      "  2%|███▉                                                                                                                                                                         | 26/1148 [09:29<7:03:55, 22.67s/it]\u001b[A\u001b[A\n",
      "\n",
      "  2%|████                                                                                                                                                                         | 27/1148 [09:50<6:57:16, 22.33s/it]\u001b[A\u001b[A\n",
      "\n",
      "  2%|████▏                                                                                                                                                                        | 28/1148 [10:12<6:57:23, 22.36s/it]\u001b[A\u001b[A\n",
      "\n",
      "  3%|████▎                                                                                                                                                                        | 29/1148 [10:35<6:56:24, 22.33s/it]\u001b[A\u001b[A\n",
      "\n",
      "  3%|████▌                                                                                                                                                                        | 30/1148 [10:59<7:06:59, 22.92s/it]\u001b[A\u001b[A\n",
      "\n",
      "  3%|████▋                                                                                                                                                                        | 31/1148 [11:21<7:00:05, 22.57s/it]\u001b[A\u001b[A\n",
      "\n",
      "  3%|████▊                                                                                                                                                                        | 32/1148 [11:43<6:55:43, 22.35s/it]\u001b[A\u001b[A\n",
      "\n",
      "  3%|████▉                                                                                                                                                                        | 33/1148 [12:05<6:55:09, 22.34s/it]\u001b[A\u001b[A\n",
      "\n",
      "  3%|█████                                                                                                                                                                        | 34/1148 [12:27<6:50:39, 22.12s/it]\u001b[A\u001b[A\n",
      "\n",
      "  3%|█████▎                                                                                                                                                                       | 35/1148 [12:47<6:42:21, 21.69s/it]\u001b[A\u001b[A\n",
      "\n",
      "  3%|█████▍                                                                                                                                                                       | 36/1148 [13:11<6:56:14, 22.46s/it]\u001b[A\u001b[A\n",
      "\n",
      "  3%|█████▌                                                                                                                                                                       | 37/1148 [13:34<6:56:55, 22.52s/it]\u001b[A\u001b[A\n",
      "\n",
      "  3%|█████▋                                                                                                                                                                       | 38/1148 [13:58<7:06:06, 23.03s/it]\u001b[A\u001b[A\n",
      "\n",
      "  3%|█████▉                                                                                                                                                                       | 39/1148 [14:17<6:42:09, 21.76s/it]\u001b[A\u001b[A"
     ]
    },
    {
     "name": "stdout",
     "output_type": "stream",
     "text": [
      "empty fimo result\n"
     ]
    },
    {
     "name": "stderr",
     "output_type": "stream",
     "text": [
      "\n",
      "\n",
      "  3%|██████                                                                                                                                                                       | 40/1148 [14:38<6:34:37, 21.37s/it]\u001b[A\u001b[A\n",
      "\n",
      "  4%|██████▏                                                                                                                                                                      | 41/1148 [15:01<6:47:50, 22.11s/it]\u001b[A\u001b[A\n",
      "\n",
      "  4%|██████▎                                                                                                                                                                      | 42/1148 [15:24<6:48:37, 22.17s/it]\u001b[A\u001b[A\n",
      "\n",
      "  4%|██████▍                                                                                                                                                                      | 43/1148 [15:45<6:41:29, 21.80s/it]\u001b[A\u001b[A\n",
      "\n",
      "  4%|██████▋                                                                                                                                                                      | 44/1148 [16:07<6:43:29, 21.93s/it]\u001b[A\u001b[A\n",
      "\n",
      "  4%|██████▊                                                                                                                                                                      | 45/1148 [16:29<6:46:10, 22.09s/it]\u001b[A\u001b[A\n",
      "\n",
      "  4%|██████▉                                                                                                                                                                      | 46/1148 [16:56<7:07:58, 23.30s/it]\u001b[A\u001b[A\n",
      "\n",
      "  4%|███████                                                                                                                                                                      | 47/1148 [17:20<7:11:35, 23.52s/it]\u001b[A\u001b[A\n",
      "\n",
      "  4%|███████▏                                                                                                                                                                     | 48/1148 [17:41<7:00:25, 22.93s/it]\u001b[A\u001b[A\n",
      "\n",
      "  4%|███████▍                                                                                                                                                                     | 49/1148 [18:05<7:06:12, 23.27s/it]\u001b[A\u001b[A\n",
      "\n",
      "  4%|███████▌                                                                                                                                                                     | 50/1148 [18:27<6:58:00, 22.84s/it]\u001b[A\u001b[A\n",
      "\n",
      "  4%|███████▋                                                                                                                                                                     | 51/1148 [18:49<6:50:49, 22.47s/it]\u001b[A\u001b[A\n",
      "\n",
      "  5%|███████▊                                                                                                                                                                     | 52/1148 [19:10<6:43:32, 22.09s/it]\u001b[A\u001b[A\n",
      "\n",
      "  5%|███████▉                                                                                                                                                                     | 53/1148 [19:31<6:38:28, 21.83s/it]\u001b[A\u001b[A\n",
      "\n",
      "  5%|████████▏                                                                                                                                                                    | 54/1148 [19:57<7:02:57, 23.20s/it]\u001b[A\u001b[A\n",
      "\n",
      "  5%|████████▎                                                                                                                                                                    | 55/1148 [20:17<6:40:33, 21.99s/it]\u001b[A\u001b[A"
     ]
    },
    {
     "name": "stdout",
     "output_type": "stream",
     "text": [
      "empty fimo result\n"
     ]
    },
    {
     "name": "stderr",
     "output_type": "stream",
     "text": [
      "\n",
      "\n",
      "  5%|████████▍                                                                                                                                                                    | 56/1148 [20:41<6:51:07, 22.59s/it]\u001b[A\u001b[A\n",
      "\n",
      "  5%|████████▌                                                                                                                                                                    | 57/1148 [20:59<6:29:36, 21.43s/it]\u001b[A\u001b[A"
     ]
    },
    {
     "name": "stdout",
     "output_type": "stream",
     "text": [
      "empty fimo result\n"
     ]
    },
    {
     "name": "stderr",
     "output_type": "stream",
     "text": [
      "\n",
      "\n",
      "  5%|████████▋                                                                                                                                                                    | 58/1148 [21:21<6:29:25, 21.44s/it]\u001b[A\u001b[A\n",
      "\n",
      "  5%|████████▉                                                                                                                                                                    | 59/1148 [21:44<6:37:09, 21.88s/it]\u001b[A\u001b[A\n",
      "\n",
      "  5%|█████████                                                                                                                                                                    | 60/1148 [22:05<6:31:27, 21.59s/it]\u001b[A\u001b[A\n",
      "\n",
      "  5%|█████████▏                                                                                                                                                                   | 61/1148 [22:26<6:28:03, 21.42s/it]\u001b[A\u001b[A\n",
      "\n",
      "  5%|█████████▎                                                                                                                                                                   | 62/1148 [22:48<6:31:10, 21.61s/it]\u001b[A\u001b[A\n",
      "\n",
      "  5%|█████████▍                                                                                                                                                                   | 63/1148 [23:09<6:27:41, 21.44s/it]\u001b[A\u001b[A\n",
      "\n",
      "  6%|█████████▋                                                                                                                                                                   | 64/1148 [23:29<6:21:10, 21.10s/it]\u001b[A\u001b[A\n",
      "\n",
      "  6%|█████████▊                                                                                                                                                                   | 65/1148 [23:49<6:16:24, 20.85s/it]\u001b[A\u001b[A\n",
      "\n",
      "  6%|█████████▉                                                                                                                                                                   | 66/1148 [24:10<6:13:10, 20.69s/it]\u001b[A\u001b[A\n",
      "\n",
      "  6%|██████████                                                                                                                                                                   | 67/1148 [24:30<6:11:17, 20.61s/it]\u001b[A\u001b[A\n",
      "\n",
      "  6%|██████████▏                                                                                                                                                                  | 68/1148 [24:53<6:23:53, 21.33s/it]\u001b[A\u001b[A\n",
      "\n",
      "  6%|██████████▍                                                                                                                                                                  | 69/1148 [25:16<6:32:12, 21.81s/it]\u001b[A\u001b[A\n",
      "\n",
      "  6%|██████████▌                                                                                                                                                                  | 70/1148 [25:38<6:30:18, 21.72s/it]\u001b[A\u001b[A\n",
      "\n",
      "  6%|██████████▋                                                                                                                                                                  | 71/1148 [25:58<6:26:01, 21.51s/it]\u001b[A\u001b[A\n",
      "\n",
      "  6%|██████████▊                                                                                                                                                                  | 72/1148 [26:17<6:10:14, 20.65s/it]\u001b[A\u001b[A"
     ]
    },
    {
     "name": "stdout",
     "output_type": "stream",
     "text": [
      "empty fimo result\n"
     ]
    },
    {
     "name": "stderr",
     "output_type": "stream",
     "text": [
      "\n",
      "\n",
      "  6%|███████████                                                                                                                                                                  | 73/1148 [26:40<6:19:44, 21.19s/it]\u001b[A\u001b[A\n",
      "\n",
      "  6%|███████████▏                                                                                                                                                                 | 74/1148 [27:02<6:27:02, 21.62s/it]\u001b[A\u001b[A\n",
      "\n",
      "  7%|███████████▎                                                                                                                                                                 | 75/1148 [27:25<6:31:41, 21.90s/it]\u001b[A\u001b[A\n",
      "\n",
      "  7%|███████████▍                                                                                                                                                                 | 76/1148 [27:46<6:29:55, 21.82s/it]\u001b[A\u001b[A\n",
      "\n",
      "  7%|███████████▌                                                                                                                                                                 | 77/1148 [28:08<6:29:17, 21.81s/it]\u001b[A\u001b[A"
     ]
    }
   ],
   "source": [
    "for tfi in range(0,1):\n",
    "    \n",
    "    res = FIMO(tfi, geneNames, tfNames, pqval = 0 )\n",
    "   \n",
    "for tfi in tqdm(range(1,nTFs)):\n",
    "     res  = pd.concat([res, FIMO(tfi, geneNames, tfNames, pqval = 0 )])   \n",
    "os.chdir(pathos)\n",
    "    "
   ]
  },
  {
   "cell_type": "code",
   "execution_count": 321,
   "id": "c44aaf76",
   "metadata": {},
   "outputs": [
    {
     "name": "stdout",
     "output_type": "stream",
     "text": [
      "C1orf141\n",
      "0         Inferred - ATF7 (100% AA Identity, Homo sapiens)\n",
      "1         Inferred - ATF7 (100% AA Identity, Homo sapiens)\n",
      "2          Inferred - Atf7 (98% AA Identity, Mus musculus)\n",
      "3        Inferred - ZFP41 (100% AA Identity, Homo sapiens)\n",
      "4        Inferred - ZFP41 (100% AA Identity, Homo sapiens)\n",
      "                               ...                        \n",
      "26984                                               Direct\n",
      "26985    Inferred - ZSCAN5 (82% AA Identity, Homo sapiens)\n",
      "26986    Inferred - ZSCAN5 (82% AA Identity, Homo sapiens)\n",
      "26987                                               Direct\n",
      "26988                                               Direct\n",
      "Name: Motif evidence, Length: 22925, dtype: object\n"
     ]
    }
   ],
   "source": [
    "for geneName in geneNames:\n",
    "    print(geneName)\n",
    "    print(tf.iloc[:,2])\n",
    "    jset = np.where(np.in1d(tf.iloc[:,2],'ATF7'))\n",
    "    break"
   ]
  },
  {
   "cell_type": "code",
   "execution_count": 337,
   "id": "c98daa83",
   "metadata": {},
   "outputs": [
    {
     "name": "stdout",
     "output_type": "stream",
     "text": [
      "38723\n"
     ]
    }
   ],
   "source": [
    "print(len(geneNames))"
   ]
  },
  {
   "cell_type": "code",
   "execution_count": 323,
   "id": "5a6bb86f",
   "metadata": {},
   "outputs": [
    {
     "data": {
      "text/html": [
       "<div>\n",
       "<style scoped>\n",
       "    .dataframe tbody tr th:only-of-type {\n",
       "        vertical-align: middle;\n",
       "    }\n",
       "\n",
       "    .dataframe tbody tr th {\n",
       "        vertical-align: top;\n",
       "    }\n",
       "\n",
       "    .dataframe thead th {\n",
       "        text-align: right;\n",
       "    }\n",
       "</style>\n",
       "<table border=\"1\" class=\"dataframe\">\n",
       "  <thead>\n",
       "    <tr style=\"text-align: right;\">\n",
       "      <th></th>\n",
       "      <th>Ensembl ID</th>\n",
       "      <th>HGNC symbol</th>\n",
       "      <th>Motif evidence</th>\n",
       "      <th>Motif ID</th>\n",
       "      <th>Motif type</th>\n",
       "      <th>Motif source</th>\n",
       "      <th>CIS-BP ID</th>\n",
       "      <th>Best Motif(s)? (Figure 2A)</th>\n",
       "    </tr>\n",
       "  </thead>\n",
       "  <tbody>\n",
       "    <tr>\n",
       "      <th>0</th>\n",
       "      <td>ENSG00000267281</td>\n",
       "      <td>AC023509.3</td>\n",
       "      <td>Inferred - ATF7 (100% AA Identity, Homo sapiens)</td>\n",
       "      <td>ATF7_eDBD_HT-SELEX</td>\n",
       "      <td>HT-SELEX</td>\n",
       "      <td>Yin2017</td>\n",
       "      <td>M08490_1.94d</td>\n",
       "      <td>TRUE</td>\n",
       "    </tr>\n",
       "    <tr>\n",
       "      <th>1</th>\n",
       "      <td>ENSG00000267281</td>\n",
       "      <td>AC023509.3</td>\n",
       "      <td>Inferred - ATF7 (100% AA Identity, Homo sapiens)</td>\n",
       "      <td>ATF7_eDBD_Methyl-HT-SELEX</td>\n",
       "      <td>Methyl-HT-SELEX</td>\n",
       "      <td>Yin2017</td>\n",
       "      <td>M08491_1.94d</td>\n",
       "      <td>NaN</td>\n",
       "    </tr>\n",
       "    <tr>\n",
       "      <th>2</th>\n",
       "      <td>ENSG00000267281</td>\n",
       "      <td>AC023509.3</td>\n",
       "      <td>Inferred - Atf7 (98% AA Identity, Mus musculus)</td>\n",
       "      <td>3T3L1-Atf7_GSE56872</td>\n",
       "      <td>Misc</td>\n",
       "      <td>HOMER</td>\n",
       "      <td>M06975_1.94d</td>\n",
       "      <td>NaN</td>\n",
       "    </tr>\n",
       "    <tr>\n",
       "      <th>3</th>\n",
       "      <td>ENSG00000264668</td>\n",
       "      <td>AC138696.1</td>\n",
       "      <td>Inferred - ZFP41 (100% AA Identity, Homo sapiens)</td>\n",
       "      <td>ZFP41_FL_HT-SELEX</td>\n",
       "      <td>HT-SELEX</td>\n",
       "      <td>Yin2017</td>\n",
       "      <td>M09315_1.94d</td>\n",
       "      <td>TRUE</td>\n",
       "    </tr>\n",
       "    <tr>\n",
       "      <th>4</th>\n",
       "      <td>ENSG00000264668</td>\n",
       "      <td>AC138696.1</td>\n",
       "      <td>Inferred - ZFP41 (100% AA Identity, Homo sapiens)</td>\n",
       "      <td>ZFP41_FL_Methyl-HT-SELEX</td>\n",
       "      <td>Methyl-HT-SELEX</td>\n",
       "      <td>Yin2017</td>\n",
       "      <td>M09316_1.94d</td>\n",
       "      <td>NaN</td>\n",
       "    </tr>\n",
       "    <tr>\n",
       "      <th>...</th>\n",
       "      <td>...</td>\n",
       "      <td>...</td>\n",
       "      <td>...</td>\n",
       "      <td>...</td>\n",
       "      <td>...</td>\n",
       "      <td>...</td>\n",
       "      <td>...</td>\n",
       "      <td>...</td>\n",
       "    </tr>\n",
       "    <tr>\n",
       "      <th>26984</th>\n",
       "      <td>ENSG00000204532</td>\n",
       "      <td>ZSCAN5C</td>\n",
       "      <td>Direct</td>\n",
       "      <td>A6NGD5_1-5.RCADE</td>\n",
       "      <td>RCADE</td>\n",
       "      <td>Schmitges2016</td>\n",
       "      <td>M10321_1.94d</td>\n",
       "      <td>TRUE</td>\n",
       "    </tr>\n",
       "    <tr>\n",
       "      <th>26985</th>\n",
       "      <td>ENSG00000204532</td>\n",
       "      <td>ZSCAN5C</td>\n",
       "      <td>Inferred - ZSCAN5 (82% AA Identity, Homo sapiens)</td>\n",
       "      <td>ZSCAN5_eDBD_HT-SELEX</td>\n",
       "      <td>HT-SELEX</td>\n",
       "      <td>Yin2017</td>\n",
       "      <td>M09419_1.94d</td>\n",
       "      <td>NaN</td>\n",
       "    </tr>\n",
       "    <tr>\n",
       "      <th>26986</th>\n",
       "      <td>ENSG00000204532</td>\n",
       "      <td>ZSCAN5C</td>\n",
       "      <td>Inferred - ZSCAN5 (82% AA Identity, Homo sapiens)</td>\n",
       "      <td>ZSCAN5_eDBD_Methyl-HT-SELEX</td>\n",
       "      <td>Methyl-HT-SELEX</td>\n",
       "      <td>Yin2017</td>\n",
       "      <td>M09420_1.94d</td>\n",
       "      <td>NaN</td>\n",
       "    </tr>\n",
       "    <tr>\n",
       "      <th>26987</th>\n",
       "      <td>ENSG00000137185</td>\n",
       "      <td>ZSCAN9</td>\n",
       "      <td>Direct</td>\n",
       "      <td>ZSCAN9_eDBD_HT-SELEX</td>\n",
       "      <td>HT-SELEX</td>\n",
       "      <td>Yin2017</td>\n",
       "      <td>M09421_1.94d</td>\n",
       "      <td>TRUE</td>\n",
       "    </tr>\n",
       "    <tr>\n",
       "      <th>26988</th>\n",
       "      <td>ENSG00000137185</td>\n",
       "      <td>ZSCAN9</td>\n",
       "      <td>Direct</td>\n",
       "      <td>ZSCAN9_eDBD_Methyl-HT-SELEX</td>\n",
       "      <td>Methyl-HT-SELEX</td>\n",
       "      <td>Yin2017</td>\n",
       "      <td>M09422_1.94d</td>\n",
       "      <td>NaN</td>\n",
       "    </tr>\n",
       "  </tbody>\n",
       "</table>\n",
       "<p>22925 rows × 8 columns</p>\n",
       "</div>"
      ],
      "text/plain": [
       "            Ensembl ID HGNC symbol  \\\n",
       "0      ENSG00000267281  AC023509.3   \n",
       "1      ENSG00000267281  AC023509.3   \n",
       "2      ENSG00000267281  AC023509.3   \n",
       "3      ENSG00000264668  AC138696.1   \n",
       "4      ENSG00000264668  AC138696.1   \n",
       "...                ...         ...   \n",
       "26984  ENSG00000204532     ZSCAN5C   \n",
       "26985  ENSG00000204532     ZSCAN5C   \n",
       "26986  ENSG00000204532     ZSCAN5C   \n",
       "26987  ENSG00000137185      ZSCAN9   \n",
       "26988  ENSG00000137185      ZSCAN9   \n",
       "\n",
       "                                          Motif evidence  \\\n",
       "0       Inferred - ATF7 (100% AA Identity, Homo sapiens)   \n",
       "1       Inferred - ATF7 (100% AA Identity, Homo sapiens)   \n",
       "2        Inferred - Atf7 (98% AA Identity, Mus musculus)   \n",
       "3      Inferred - ZFP41 (100% AA Identity, Homo sapiens)   \n",
       "4      Inferred - ZFP41 (100% AA Identity, Homo sapiens)   \n",
       "...                                                  ...   \n",
       "26984                                             Direct   \n",
       "26985  Inferred - ZSCAN5 (82% AA Identity, Homo sapiens)   \n",
       "26986  Inferred - ZSCAN5 (82% AA Identity, Homo sapiens)   \n",
       "26987                                             Direct   \n",
       "26988                                             Direct   \n",
       "\n",
       "                          Motif ID       Motif type   Motif source  \\\n",
       "0               ATF7_eDBD_HT-SELEX         HT-SELEX        Yin2017   \n",
       "1        ATF7_eDBD_Methyl-HT-SELEX  Methyl-HT-SELEX        Yin2017   \n",
       "2              3T3L1-Atf7_GSE56872             Misc          HOMER   \n",
       "3                ZFP41_FL_HT-SELEX         HT-SELEX        Yin2017   \n",
       "4         ZFP41_FL_Methyl-HT-SELEX  Methyl-HT-SELEX        Yin2017   \n",
       "...                            ...              ...            ...   \n",
       "26984             A6NGD5_1-5.RCADE            RCADE  Schmitges2016   \n",
       "26985         ZSCAN5_eDBD_HT-SELEX         HT-SELEX        Yin2017   \n",
       "26986  ZSCAN5_eDBD_Methyl-HT-SELEX  Methyl-HT-SELEX        Yin2017   \n",
       "26987         ZSCAN9_eDBD_HT-SELEX         HT-SELEX        Yin2017   \n",
       "26988  ZSCAN9_eDBD_Methyl-HT-SELEX  Methyl-HT-SELEX        Yin2017   \n",
       "\n",
       "          CIS-BP ID Best Motif(s)? (Figure 2A)  \n",
       "0      M08490_1.94d                       TRUE  \n",
       "1      M08491_1.94d                        NaN  \n",
       "2      M06975_1.94d                        NaN  \n",
       "3      M09315_1.94d                       TRUE  \n",
       "4      M09316_1.94d                        NaN  \n",
       "...             ...                        ...  \n",
       "26984  M10321_1.94d                       TRUE  \n",
       "26985  M09419_1.94d                        NaN  \n",
       "26986  M09420_1.94d                        NaN  \n",
       "26987  M09421_1.94d                       TRUE  \n",
       "26988  M09422_1.94d                        NaN  \n",
       "\n",
       "[22925 rows x 8 columns]"
      ]
     },
     "execution_count": 323,
     "metadata": {},
     "output_type": "execute_result"
    }
   ],
   "source": [
    "tf"
   ]
  },
  {
   "cell_type": "code",
   "execution_count": 324,
   "id": "1d1e2d0b",
   "metadata": {},
   "outputs": [
    {
     "data": {
      "text/plain": [
       "array([[0., 0., 0., ..., 0., 0., 0.]])"
      ]
     },
     "execution_count": 324,
     "metadata": {},
     "output_type": "execute_result"
    }
   ],
   "source": [
    "np.zeros((1,len(geneNames))) "
   ]
  },
  {
   "cell_type": "code",
   "execution_count": null,
   "id": "3b5b7ca6",
   "metadata": {},
   "outputs": [],
   "source": []
  }
 ],
 "metadata": {
  "kernelspec": {
   "display_name": "Python 3 (ipykernel)",
   "language": "python",
   "name": "python3"
  },
  "language_info": {
   "codemirror_mode": {
    "name": "ipython",
    "version": 3
   },
   "file_extension": ".py",
   "mimetype": "text/x-python",
   "name": "python",
   "nbconvert_exporter": "python",
   "pygments_lexer": "ipython3",
   "version": "3.10.10"
  }
 },
 "nbformat": 4,
 "nbformat_minor": 5
}
